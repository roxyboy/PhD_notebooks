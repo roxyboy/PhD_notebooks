{
 "cells": [
  {
   "cell_type": "code",
   "execution_count": 1,
   "metadata": {},
   "outputs": [],
   "source": [
    "import numpy as np\n",
    "import xarray as xr\n",
    "import xrft\n",
    "import gsw\n",
    "import os.path as op\n",
    "from dask.array import fft\n",
    "from dask.diagnostics import ProgressBar\n",
    "from xmitgcm import open_mdsdataset\n",
    "from xgcm.grid import Grid\n",
    "import matplotlib.pyplot as plt\n",
    "import matplotlib.colors as clr\n",
    "%matplotlib inline"
   ]
  },
  {
   "cell_type": "code",
   "execution_count": 2,
   "metadata": {},
   "outputs": [],
   "source": [
    "ddir = '/swot/SUM05/takaya/MITgcm/channel/runs/'"
   ]
  },
  {
   "cell_type": "code",
   "execution_count": 3,
   "metadata": {},
   "outputs": [
    {
     "name": "stdout",
     "output_type": "stream",
     "text": [
      "2488320 3006720\n"
     ]
    }
   ],
   "source": [
    "ys, dy = (58,20)\n",
    "dt = 12e2\n",
    "ts = int((ys*360*86400)/8e2 + 9*360*86400/dt)\n",
    "te = int(ts + (dy*360*86400)/dt)\n",
    "print(ts,te)"
   ]
  },
  {
   "cell_type": "code",
   "execution_count": 27,
   "metadata": {},
   "outputs": [
    {
     "name": "stderr",
     "output_type": "stream",
     "text": [
      "/home/takaya/xmitgcm/xmitgcm/mds_store.py:721: UserWarning: Couldn't find available_diagnostics.log in /swot/SUM05/takaya/MITgcm/channel/runs/Phys-only_20km. Using default version.\n",
      "  \"in %s. Using default version.\" % data_dir)\n",
      "/home/takaya/xmitgcm/xmitgcm/utils.py:314: UserWarning: Not sure what to do with rlev = L\n",
      "  warnings.warn(\"Not sure what to do with rlev = \" + rlev)\n",
      "/home/takaya/xmitgcm/xmitgcm/mds_store.py:235: FutureWarning: iteration over an xarray.Dataset will change in xarray v0.11 to only include data variables, not coordinates. Iterate over the Dataset.variables property instead to preserve existing behavior in a forwards compatible manner.\n",
      "  for vname in ds:\n"
     ]
    },
    {
     "data": {
      "text/plain": [
       "<xarray.Dataset>\n",
       "Dimensions:  (XC: 50, XG: 50, YC: 100, YG: 100, Z: 40, Zl: 40, Zp1: 41, Zu: 40, time: 480)\n",
       "Coordinates:\n",
       "  * XC       (XC) >f4 10000.0 30000.0 50000.0 70000.0 90000.0 110000.0 ...\n",
       "  * YC       (YC) >f4 10000.0 30000.0 50000.0 70000.0 90000.0 110000.0 ...\n",
       "  * XG       (XG) >f4 0.0 20000.0 40000.0 60000.0 80000.0 100000.0 120000.0 ...\n",
       "  * YG       (YG) >f4 0.0 20000.0 40000.0 60000.0 80000.0 100000.0 120000.0 ...\n",
       "  * Z        (Z) >f4 -5.0 -15.0 -25.0 -36.0 -49.0 -64.0 -81.5 -102.0 -126.0 ...\n",
       "  * Zp1      (Zp1) >f4 0.0 -10.0 -20.0 -30.0 -42.0 -56.0 -72.0 -91.0 -113.0 ...\n",
       "  * Zu       (Zu) >f4 -10.0 -20.0 -30.0 -42.0 -56.0 -72.0 -91.0 -113.0 ...\n",
       "  * Zl       (Zl) >f4 0.0 -10.0 -20.0 -30.0 -42.0 -56.0 -72.0 -91.0 -113.0 ...\n",
       "    rA       (YC, XC) >f4 dask.array<shape=(100, 50), chunksize=(100, 50)>\n",
       "    dxG      (YG, XC) >f4 dask.array<shape=(100, 50), chunksize=(100, 50)>\n",
       "    dyG      (YC, XG) >f4 dask.array<shape=(100, 50), chunksize=(100, 50)>\n",
       "    Depth    (YC, XC) >f4 dask.array<shape=(100, 50), chunksize=(100, 50)>\n",
       "    rAz      (YG, XG) >f4 dask.array<shape=(100, 50), chunksize=(100, 50)>\n",
       "    dxC      (YC, XG) >f4 dask.array<shape=(100, 50), chunksize=(100, 50)>\n",
       "    dyC      (YG, XC) >f4 dask.array<shape=(100, 50), chunksize=(100, 50)>\n",
       "    rAw      (YC, XG) >f4 dask.array<shape=(100, 50), chunksize=(100, 50)>\n",
       "    rAs      (YG, XC) >f4 dask.array<shape=(100, 50), chunksize=(100, 50)>\n",
       "    drC      (Zp1) >f4 dask.array<shape=(41,), chunksize=(41,)>\n",
       "    drF      (Z) >f4 dask.array<shape=(40,), chunksize=(40,)>\n",
       "    PHrefC   (Z) >f4 dask.array<shape=(40,), chunksize=(40,)>\n",
       "    PHrefF   (Zp1) >f4 dask.array<shape=(41,), chunksize=(41,)>\n",
       "    hFacC    (Z, YC, XC) >f4 dask.array<shape=(40, 100, 50), chunksize=(40, 100, 50)>\n",
       "    hFacW    (Z, YC, XG) >f4 dask.array<shape=(40, 100, 50), chunksize=(40, 100, 50)>\n",
       "    hFacS    (Z, YG, XC) >f4 dask.array<shape=(40, 100, 50), chunksize=(40, 100, 50)>\n",
       "    iter     (time) int64 dask.array<shape=(480,), chunksize=(1,)>\n",
       "  * time     (time) float64 2.986e+09 2.987e+09 2.989e+09 2.99e+09 2.991e+09 ...\n",
       "Data variables:\n",
       "    UVEL     (time, Z, YC, XG) float32 dask.array<shape=(480, 40, 100, 50), chunksize=(1, 40, 100, 50)>\n",
       "    VVEL     (time, Z, YG, XC) float32 dask.array<shape=(480, 40, 100, 50), chunksize=(1, 40, 100, 50)>\n",
       "    WVEL     (time, Zl, YC, XC) float32 dask.array<shape=(480, 40, 100, 50), chunksize=(1, 40, 100, 50)>\n",
       "    PHIHYD   (time, Z, YC, XC) float32 dask.array<shape=(480, 40, 100, 50), chunksize=(1, 40, 100, 50)>"
      ]
     },
     "execution_count": 27,
     "metadata": {},
     "output_type": "execute_result"
    }
   ],
   "source": [
    "dsnap = open_mdsdataset(op.join(ddir,'Phys-only_20km'), grid_dir=op.join(ddir,'20km_grid'),\n",
    "                       iters=range(ts,te,1080), prefix=['MOMsnap'], delta_t=dt\n",
    "                       )\n",
    "dsnap"
   ]
  },
  {
   "cell_type": "code",
   "execution_count": 28,
   "metadata": {},
   "outputs": [
    {
     "data": {
      "text/plain": [
       "<xarray.DataArray (time: 480, Zl: 40, YC: 100, XC: 50)>\n",
       "dask.array<shape=(480, 40, 100, 50), dtype=float32, chunksize=(1, 1, 100, 50)>\n",
       "Coordinates:\n",
       "  * time     (time) float64 2.986e+09 2.987e+09 2.989e+09 2.99e+09 2.991e+09 ...\n",
       "  * Zl       (Zl) >f4 0.0 -10.0 -20.0 -30.0 -42.0 -56.0 -72.0 -91.0 -113.0 ...\n",
       "  * YC       (YC) >f4 10000.0 30000.0 50000.0 70000.0 90000.0 110000.0 ...\n",
       "  * XC       (XC) >f4 10000.0 30000.0 50000.0 70000.0 90000.0 110000.0 ..."
      ]
     },
     "execution_count": 28,
     "metadata": {},
     "output_type": "execute_result"
    }
   ],
   "source": [
    "grid = Grid(dsnap, periodic=['X'])\n",
    "phi = dsnap.PHIHYD\n",
    "b = (grid.diff(phi,'Z',boundary='fill')/grid.diff(phi.Z,'Z',boundary='fill'))\n",
    "b"
   ]
  },
  {
   "cell_type": "code",
   "execution_count": 29,
   "metadata": {},
   "outputs": [],
   "source": [
    "u = dsnap.UVEL\n",
    "v = dsnap.VVEL\n",
    "w = dsnap.WVEL"
   ]
  },
  {
   "cell_type": "code",
   "execution_count": 30,
   "metadata": {},
   "outputs": [
    {
     "name": "stderr",
     "output_type": "stream",
     "text": [
      "/home/takaya/xrft/xrft/xrft.py:272: FutureWarning: xarray.DataArray.__contains__ currently checks membership in DataArray.coords, but in xarray v0.11 will change to check membership in array values.\n",
      "  elif d in da:\n"
     ]
    },
    {
     "name": "stdout",
     "output_type": "stream",
     "text": [
      "[########################################] | 100% Completed | 23.6s\n",
      "[########################################] | 100% Completed |  2.3s\n",
      "[########################################] | 100% Completed |  1.9s\n",
      "[########################################] | 100% Completed |  5.0s\n"
     ]
    }
   ],
   "source": [
    "uk = xrft.dft(u, dim=['XG'], shift=False)\n",
    "vk = xrft.dft(v, dim=['XC'], shift=False)\n",
    "wk = xrft.dft(w, dim=['XC'], shift=False)\n",
    "bk = xrft.dft(b, dim=['XC'], shift=False)\n",
    "with ProgressBar():\n",
    "    ux = xr.DataArray(fft.ifft((2j*np.pi*uk*uk.freq_XG).data, axis=-1).real, dims=u.dims, coords=u.coords).compute()\n",
    "    vx = xr.DataArray(fft.ifft((2j*np.pi*vk*vk.freq_XC).data, axis=-1).real, dims=v.dims, coords=v.coords).compute()\n",
    "    wx = xr.DataArray(fft.ifft((2j*np.pi*wk*wk.freq_XC).data, axis=-1).real, dims=w.dims, coords=w.coords).compute()\n",
    "    bx = xr.DataArray(fft.ifft((2j*np.pi*bk*bk.freq_XC).data, axis=-1).real, dims=b.dims, coords=b.coords).compute()\n",
    "uy = grid.diff(u, 'Y', boundary='fill')/grid.diff(u.YC, 'Y', boundary='fill')\n",
    "vy = grid.diff(v, 'Y', boundary='fill')/grid.diff(v.YG, 'Y', boundary='fill')\n",
    "wy = grid.diff(w, 'Y', boundary='fill')/grid.diff(w.YC, 'Y', boundary='fill')\n",
    "by = grid.diff(b, 'Y', boundary='fill')/grid.diff(b.YC, 'Y', boundary='fill')\n",
    "bz = grid.diff(b, 'Z', boundary='fill')/grid.diff(b.Zl, 'Z', boundary='fill')"
   ]
  },
  {
   "cell_type": "code",
   "execution_count": 31,
   "metadata": {},
   "outputs": [],
   "source": [
    "qs1 = (grid.interp(ux,'X')*grid.interp(bx,'Z',boundary='fill') \n",
    "      + grid.interp(vx,'Y',boundary='fill')*grid.interp(grid.interp(by,'Y',boundary='fill'),'Z',boundary='fill')\n",
    "      + grid.interp(wx,'Z',boundary='fill')*bz\n",
    "      )\n",
    "qs2 = (grid.interp(grid.interp(uy,'X'),'Y',boundary='fill')*grid.interp(bx,'Z',boundary='fill')\n",
    "      + vy*grid.interp(grid.interp(by,'Y',boundary='fill'),'Z',boundary='fill')\n",
    "      + grid.interp(grid.interp(wy,'Y',boundary='fill'),'Z',boundary='fill')*bz\n",
    "      )"
   ]
  },
  {
   "cell_type": "code",
   "execution_count": 32,
   "metadata": {},
   "outputs": [
    {
     "data": {
      "text/plain": [
       "<xarray.DataArray (time: 480, Z: 40, YC: 100, XC: 50)>\n",
       "dask.array<shape=(480, 40, 100, 50), dtype=float64, chunksize=(1, 1, 1, 50)>\n",
       "Coordinates:\n",
       "  * time     (time) float64 2.986e+09 2.987e+09 2.989e+09 2.99e+09 2.991e+09 ...\n",
       "  * Z        (Z) >f4 -5.0 -15.0 -25.0 -36.0 -49.0 -64.0 -81.5 -102.0 -126.0 ...\n",
       "  * YC       (YC) >f4 10000.0 30000.0 50000.0 70000.0 90000.0 110000.0 ...\n",
       "  * XC       (XC) >f4 10000.0 30000.0 50000.0 70000.0 90000.0 110000.0 ..."
      ]
     },
     "execution_count": 32,
     "metadata": {},
     "output_type": "execute_result"
    }
   ],
   "source": [
    "Fs = -(qs1*grid.interp(bx,'Z',boundary='fill') \n",
    "      + qs2*grid.interp(grid.interp(by,'Y',boundary='fill'),'Z',boundary='fill')\n",
    "      )\n",
    "Fs"
   ]
  },
  {
   "cell_type": "code",
   "execution_count": 33,
   "metadata": {},
   "outputs": [
    {
     "name": "stdout",
     "output_type": "stream",
     "text": [
      "[########################################] | 100% Completed | 59.3s\n"
     ]
    },
    {
     "data": {
      "text/plain": [
       "<xarray.DataArray (day: 24, Z: 40)>\n",
       "array([[5.751024e-17, 4.022514e-22, 3.970907e-22, ..., 8.910955e-25,\n",
       "        2.639704e-25, 1.238100e-24],\n",
       "       [5.295659e-17, 3.867768e-22, 3.824664e-22, ..., 8.610103e-25,\n",
       "        2.529749e-25, 1.202354e-24],\n",
       "       [5.190768e-17, 4.111673e-22, 4.038671e-22, ..., 8.640673e-25,\n",
       "        2.620218e-25, 1.244908e-24],\n",
       "       ...,\n",
       "       [9.077432e-17, 4.400287e-22, 4.375842e-22, ..., 8.455311e-25,\n",
       "        2.406307e-25, 1.193269e-24],\n",
       "       [7.992003e-17, 4.322502e-22, 4.281634e-22, ..., 8.554011e-25,\n",
       "        2.409068e-25, 1.233086e-24],\n",
       "       [6.694275e-17, 4.181858e-22, 4.124276e-22, ..., 8.864188e-25,\n",
       "        2.478385e-25, 1.187763e-24]])\n",
       "Coordinates:\n",
       "  * Z        (Z) >f4 -5.0 -15.0 -25.0 -36.0 -49.0 -64.0 -81.5 -102.0 -126.0 ...\n",
       "  * day      (day) int64 0 1 2 3 4 5 6 7 8 9 10 11 12 13 14 15 16 17 18 19 ..."
      ]
     },
     "execution_count": 33,
     "metadata": {},
     "output_type": "execute_result"
    }
   ],
   "source": [
    "Fs.coords['day'] = ('time',np.tile(range(24),dy))\n",
    "with ProgressBar():\n",
    "    Fsd = np.abs(Fs).sel(YC=slice(6e5,14e5)).groupby('day').mean(['time','YC','XC']).compute()\n",
    "Fsd"
   ]
  },
  {
   "cell_type": "code",
   "execution_count": 35,
   "metadata": {},
   "outputs": [
    {
     "data": {
      "text/plain": [
       "<xarray.DataArray (time: 480, Z: 40, YG: 100, XG: 50)>\n",
       "dask.array<shape=(480, 40, 100, 50), dtype=float64, chunksize=(1, 40, 1, 50)>\n",
       "Coordinates:\n",
       "  * time     (time) float64 2.986e+09 2.987e+09 2.989e+09 2.99e+09 2.991e+09 ...\n",
       "  * Z        (Z) >f4 -5.0 -15.0 -25.0 -36.0 -49.0 -64.0 -81.5 -102.0 -126.0 ...\n",
       "  * YG       (YG) >f4 0.0 20000.0 40000.0 60000.0 80000.0 100000.0 120000.0 ...\n",
       "  * XG       (XG) >f4 0.0 20000.0 40000.0 60000.0 80000.0 100000.0 120000.0 ..."
      ]
     },
     "execution_count": 35,
     "metadata": {},
     "output_type": "execute_result"
    }
   ],
   "source": [
    "zeta = grid.interp(vx,'X')-uy\n",
    "zeta"
   ]
  },
  {
   "cell_type": "code",
   "execution_count": 36,
   "metadata": {},
   "outputs": [
    {
     "data": {
      "image/png": "[encoded data removed]",
      "text/plain": [
       "<Figure size 864x648 with 3 Axes>"
      ]
     },
     "metadata": {},
     "output_type": "display_data"
    }
   ],
   "source": [
    "f0 = -1.1e-4\n",
    "\n",
    "fig, (ax1,ax2) = plt.subplots(nrows=1, ncols=2, figsize=(12,9))\n",
    "im = ax1.pcolormesh(zeta.XG*1e-3, zeta.YG*1e-3, zeta[-24:][1,0]*f0**-1,\n",
    "                   vmax=1e0, vmin=-1e0, cmap='RdBu_r', rasterized=True)\n",
    "\n",
    "ax2.pcolormesh(zeta.XG*1e-3, zeta.YG*1e-3, zeta[-24:][17,0]*f0**-1,\n",
    "              vmax=1e0, vmin=-1e0, cmap='RdBu_r', rasterized=True)\n",
    "\n",
    "ax1.set_ylabel(r'Y [km]', fontsize=12)\n",
    "ax1.set_xlabel(r'X [km]', fontsize=12)\n",
    "# ax2.set_ylabel(r'Y [km]', fontsize=12)\n",
    "ax2.set_xlabel(r'X [km]', fontsize=12)\n",
    "ax1.set_title(r\"Jan 15\",fontsize=14)\n",
    "ax2.set_title(r\"Sep 15\",fontsize=14)\n",
    "fig.subplots_adjust(right=0.87)\n",
    "cbar_ax = fig.add_axes([0.9, 0.15, 0.015, 0.7])\n",
    "cbar = fig.colorbar(im, cax=cbar_ax)\n",
    "cbar.set_label(r\"$\\zeta/f_0$\", fontsize=12)\n",
    "plt.savefig(op.join(ddir,'Figures/zeta_20km_snap_Jan-Sep.pdf'))"
   ]
  },
  {
   "cell_type": "code",
   "execution_count": 37,
   "metadata": {},
   "outputs": [],
   "source": [
    "dsave = Fs.to_dataset(name='Fs')\n",
    "dsave['zeta'] = zeta\n",
    "dsave.to_netcdf(op.join(ddir,'zeta-Fs_20kmrun.nc'))"
   ]
  },
  {
   "cell_type": "code",
   "execution_count": 39,
   "metadata": {},
   "outputs": [
    {
     "data": {
      "text/plain": [
       "<xarray.DataArray (seas: 4, time: 120, YG: 41, XG: 50)>\n",
       "array([[[[ 0.038145, ..., -0.011076],\n",
       "         ...,\n",
       "         [ 0.051265, ...,  0.047152]],\n",
       "\n",
       "        ...,\n",
       "\n",
       "        [[ 0.022319, ...,  0.059683],\n",
       "         ...,\n",
       "         [ 0.088617, ...,  0.049514]]],\n",
       "\n",
       "\n",
       "       ...,\n",
       "\n",
       "\n",
       "       [[[ 0.003386, ..., -0.049309],\n",
       "         ...,\n",
       "         [-0.015685, ...,  0.001443]],\n",
       "\n",
       "        ...,\n",
       "\n",
       "        [[ 0.075657, ...,  0.051912],\n",
       "         ...,\n",
       "         [-0.016357, ...,  0.022734]]]])\n",
       "Coordinates:\n",
       "  * seas     (seas) int64 0 1 2 3\n",
       "  * time     (time) int64 0 1 2 3 4 5 6 7 8 9 10 11 12 13 14 15 16 17 18 19 ...\n",
       "  * YG       (YG) >f4 600000.0 620000.0 640000.0 660000.0 680000.0 700000.0 ...\n",
       "  * XG       (XG) >f4 0.0 20000.0 40000.0 60000.0 80000.0 100000.0 120000.0 ..."
      ]
     },
     "execution_count": 39,
     "metadata": {},
     "output_type": "execute_result"
    }
   ],
   "source": [
    "seas = ('time',np.tile(np.repeat(range(4),6),dy))\n",
    "zeta.coords['seas'] = seas\n",
    "grouped = (zeta[:,0].sel(YG=slice(6e5,14e5))*f0**-1).groupby('seas')\n",
    "da = xr.DataArray(np.zeros((4,6*dy,41,50)), dims=['seas','time','YG','XG'],\n",
    "                 coords={'seas':range(4),'time':range(6*dy),\n",
    "                         'YG':zeta.YG.sel(YG=slice(6e5,14e5)).data,'XG':zeta.XG.data}\n",
    "                 )\n",
    "i = 0\n",
    "for group in grouped:\n",
    "#     print(group)\n",
    "    da[i] = group[1].data\n",
    "    i += 1\n",
    "da"
   ]
  },
  {
   "cell_type": "code",
   "execution_count": 41,
   "metadata": {},
   "outputs": [
    {
     "name": "stderr",
     "output_type": "stream",
     "text": [
      "/home/takaya/miniconda3/envs/uptodate/lib/python3.6/site-packages/matplotlib/figure.py:2299: UserWarning: This figure includes Axes that are not compatible with tight_layout, so results might be incorrect.\n",
      "  warnings.warn(\"This figure includes Axes that are not compatible \"\n"
     ]
    },
    {
     "data": {
      "image/png": "[encoded data removed]",
      "text/plain": [
       "<Figure size 432x288 with 1 Axes>"
      ]
     },
     "metadata": {},
     "output_type": "display_data"
    }
   ],
   "source": [
    "fig, ax = plt.subplots(figsize=(6,4))\n",
    "fig.set_tight_layout(True)\n",
    "ax.hist(da[2].data.ravel(), color='black', alpha=1., bins=50, range=(-5,5), \n",
    "        log=True, density=True, label='JAS (winter)')\n",
    "ax.hist(da[0].data.ravel(), color='red', alpha=.5, bins=50, range=(-5,5), \n",
    "        log=True, density=True, label='JFM (summer)')\n",
    "ax.set_xlabel(r\"$\\zeta$/f$_0$\", fontsize=14)\n",
    "ax.legend(loc='upper right', fontsize=12)\n",
    "plt.xticks(fontsize=12)\n",
    "plt.yticks(fontsize=12)\n",
    "plt.savefig(op.join(ddir,'Figures/zeta_histogram_20km.pdf'))"
   ]
  },
  {
   "cell_type": "code",
   "execution_count": 6,
   "metadata": {},
   "outputs": [
    {
     "name": "stderr",
     "output_type": "stream",
     "text": [
      "/home/takaya/xmitgcm/xmitgcm/mds_store.py:721: UserWarning: Couldn't find available_diagnostics.log in /swot/SUM05/takaya/MITgcm/channel/runs/Phys-only_20km. Using default version.\n",
      "  \"in %s. Using default version.\" % data_dir)\n",
      "/home/takaya/xmitgcm/xmitgcm/utils.py:314: UserWarning: Not sure what to do with rlev = L\n",
      "  warnings.warn(\"Not sure what to do with rlev = \" + rlev)\n",
      "/home/takaya/xmitgcm/xmitgcm/mds_store.py:235: FutureWarning: iteration over an xarray.Dataset will change in xarray v0.11 to only include data variables, not coordinates. Iterate over the Dataset.variables property instead to preserve existing behavior in a forwards compatible manner.\n",
      "  for vname in ds:\n"
     ]
    },
    {
     "data": {
      "text/plain": [
       "<xarray.Dataset>\n",
       "Dimensions:   (XC: 50, XG: 50, YC: 100, YG: 100, Z: 40, Zl: 40, Zp1: 41, Zu: 40, time: 7200)\n",
       "Coordinates:\n",
       "  * XC        (XC) >f4 10000.0 30000.0 50000.0 70000.0 90000.0 110000.0 ...\n",
       "  * YC        (YC) >f4 10000.0 30000.0 50000.0 70000.0 90000.0 110000.0 ...\n",
       "  * XG        (XG) >f4 0.0 20000.0 40000.0 60000.0 80000.0 100000.0 120000.0 ...\n",
       "  * YG        (YG) >f4 0.0 20000.0 40000.0 60000.0 80000.0 100000.0 120000.0 ...\n",
       "  * Z         (Z) >f4 -5.0 -15.0 -25.0 -36.0 -49.0 -64.0 -81.5 -102.0 -126.0 ...\n",
       "  * Zp1       (Zp1) >f4 0.0 -10.0 -20.0 -30.0 -42.0 -56.0 -72.0 -91.0 -113.0 ...\n",
       "  * Zu        (Zu) >f4 -10.0 -20.0 -30.0 -42.0 -56.0 -72.0 -91.0 -113.0 ...\n",
       "  * Zl        (Zl) >f4 0.0 -10.0 -20.0 -30.0 -42.0 -56.0 -72.0 -91.0 -113.0 ...\n",
       "    rA        (YC, XC) >f4 dask.array<shape=(100, 50), chunksize=(100, 50)>\n",
       "    dxG       (YG, XC) >f4 dask.array<shape=(100, 50), chunksize=(100, 50)>\n",
       "    dyG       (YC, XG) >f4 dask.array<shape=(100, 50), chunksize=(100, 50)>\n",
       "    Depth     (YC, XC) >f4 dask.array<shape=(100, 50), chunksize=(100, 50)>\n",
       "    rAz       (YG, XG) >f4 dask.array<shape=(100, 50), chunksize=(100, 50)>\n",
       "    dxC       (YC, XG) >f4 dask.array<shape=(100, 50), chunksize=(100, 50)>\n",
       "    dyC       (YG, XC) >f4 dask.array<shape=(100, 50), chunksize=(100, 50)>\n",
       "    rAw       (YC, XG) >f4 dask.array<shape=(100, 50), chunksize=(100, 50)>\n",
       "    rAs       (YG, XC) >f4 dask.array<shape=(100, 50), chunksize=(100, 50)>\n",
       "    drC       (Zp1) >f4 dask.array<shape=(41,), chunksize=(41,)>\n",
       "    drF       (Z) >f4 dask.array<shape=(40,), chunksize=(40,)>\n",
       "    PHrefC    (Z) >f4 dask.array<shape=(40,), chunksize=(40,)>\n",
       "    PHrefF    (Zp1) >f4 dask.array<shape=(41,), chunksize=(41,)>\n",
       "    hFacC     (Z, YC, XC) >f4 dask.array<shape=(40, 100, 50), chunksize=(40, 100, 50)>\n",
       "    hFacW     (Z, YC, XG) >f4 dask.array<shape=(40, 100, 50), chunksize=(40, 100, 50)>\n",
       "    hFacS     (Z, YG, XC) >f4 dask.array<shape=(40, 100, 50), chunksize=(40, 100, 50)>\n",
       "    iter      (time) int64 dask.array<shape=(7200,), chunksize=(1,)>\n",
       "  * time      (time) float64 2.986e+09 2.986e+09 2.986e+09 2.986e+09 ...\n",
       "Data variables:\n",
       "    KPPhbl    (time, YC, XC) float32 dask.array<shape=(7200, 100, 50), chunksize=(1, 100, 50)>\n",
       "    MXLDEPTH  (time, YC, XC) float32 dask.array<shape=(7200, 100, 50), chunksize=(1, 100, 50)>\n",
       "    UVEL      (time, Z, YC, XG) float32 dask.array<shape=(7200, 40, 100, 50), chunksize=(1, 40, 100, 50)>\n",
       "    VVEL      (time, Z, YG, XC) float32 dask.array<shape=(7200, 40, 100, 50), chunksize=(1, 40, 100, 50)>\n",
       "    WVEL      (time, Zl, YC, XC) float32 dask.array<shape=(7200, 40, 100, 50), chunksize=(1, 40, 100, 50)>\n",
       "    THETA     (time, Z, YC, XC) float32 dask.array<shape=(7200, 40, 100, 50), chunksize=(1, 40, 100, 50)>\n",
       "    PHIHYD    (time, Z, YC, XC) float32 dask.array<shape=(7200, 40, 100, 50), chunksize=(1, 40, 100, 50)>"
      ]
     },
     "execution_count": 6,
     "metadata": {},
     "output_type": "execute_result"
    }
   ],
   "source": [
    "dsave = open_mdsdataset(op.join(ddir,'Phys-only_20km'), grid_dir=op.join(ddir,'20km_grid'),\n",
    "                       iters=range(ts+72,te+72,72), prefix=['MOMtave','KPPboundary'], delta_t=dt\n",
    "                       )\n",
    "dsave"
   ]
  },
  {
   "cell_type": "code",
   "execution_count": 7,
   "metadata": {},
   "outputs": [
    {
     "name": "stdout",
     "output_type": "stream",
     "text": [
      "[########################################] | 100% Completed | 11min  4.2s\n"
     ]
    },
    {
     "data": {
      "text/plain": [
       "<xarray.DataArray 'THETA' (days: 360, Z: 40)>\n",
       "array([[ 4.058547,  4.055637,  4.051739, ..., -0.136045, -0.15107 , -0.155022],\n",
       "       [ 4.067031,  4.064116,  4.060198, ..., -0.136042, -0.151064, -0.155017],\n",
       "       [ 4.075511,  4.072592,  4.068654, ..., -0.136038, -0.151059, -0.155012],\n",
       "       ...,\n",
       "       [ 4.032527,  4.029634,  4.025797, ..., -0.133446, -0.148396, -0.152332],\n",
       "       [ 4.041077,  4.038177,  4.034316, ..., -0.13344 , -0.148389, -0.152326],\n",
       "       [ 4.049617,  4.046711,  4.042825, ..., -0.133433, -0.148382, -0.152321]],\n",
       "      dtype=float32)\n",
       "Coordinates:\n",
       "  * Z        (Z) >f4 -5.0 -15.0 -25.0 -36.0 -49.0 -64.0 -81.5 -102.0 -126.0 ...\n",
       "    drF      (Z) >f4 10.0 10.0 10.0 12.0 14.0 16.0 19.0 22.0 26.0 30.0 36.0 ...\n",
       "    PHrefC   (Z) >f4 49.05 147.15 245.25 353.16 480.69 627.84 799.515 ...\n",
       "  * days     (days) int64 0 1 2 3 4 5 6 7 8 9 10 11 12 13 14 15 16 17 18 19 ..."
      ]
     },
     "execution_count": 7,
     "metadata": {},
     "output_type": "execute_result"
    }
   ],
   "source": [
    "dsave.coords['days'] = ('time',np.tile(range(360),dy))\n",
    "with ProgressBar():\n",
    "    Tday = dsave.THETA.sel(YC=slice(6e5,14e5)).groupby('days').mean(['time','YC','XC']).compute()\n",
    "Tday"
   ]
  },
  {
   "cell_type": "code",
   "execution_count": 8,
   "metadata": {},
   "outputs": [],
   "source": [
    "Tday.to_dataset(name='Tb').to_netcdf(op.join(ddir,'SSTb_20km.nc'))"
   ]
  },
  {
   "cell_type": "code",
   "execution_count": 7,
   "metadata": {},
   "outputs": [
    {
     "name": "stdout",
     "output_type": "stream",
     "text": [
      "[########################################] | 100% Completed | 20min 27.3s\n"
     ]
    }
   ],
   "source": [
    "f0 = -1.1e-4\n",
    "beta = 1.4e-11\n",
    "fC = f0 + beta*(dsave.YC-10e5).sel(YC=slice(5.5e5,14.5e5))\n",
    "fG = f0 + beta*(dsave.YG-10e5).sel(YG=slice(5.5e5,14.5e5))\n",
    "g = 9.81\n",
    "r0 = 1e3\n",
    "alpha = 2e-4\n",
    "\n",
    "with ProgressBar():\n",
    "    pt = dsave.THETA.sel(YC=slice(5e5,15e5)).load()"
   ]
  },
  {
   "cell_type": "code",
   "execution_count": 8,
   "metadata": {},
   "outputs": [
    {
     "data": {
      "text/plain": [
       "<xarray.DataArray (time: 7200, Zp1: 41, YC: 50, XC: 50)>\n",
       "array([[[[-0., ..., -0.],\n",
       "         ...,\n",
       "         [-0., ..., -0.]],\n",
       "\n",
       "        ...,\n",
       "\n",
       "        [[ 0., ...,  0.],\n",
       "         ...,\n",
       "         [ 0., ...,  0.]]],\n",
       "\n",
       "\n",
       "       ...,\n",
       "\n",
       "\n",
       "       [[[-0., ..., -0.],\n",
       "         ...,\n",
       "         [-0., ..., -0.]],\n",
       "\n",
       "        ...,\n",
       "\n",
       "        [[ 0., ...,  0.],\n",
       "         ...,\n",
       "         [ 0., ...,  0.]]]], dtype=float32)\n",
       "Coordinates:\n",
       "  * time     (time) float64 2.986e+09 2.986e+09 2.986e+09 2.986e+09 ...\n",
       "  * Zp1      (Zp1) >f4 0.0 -10.0 -20.0 -30.0 -42.0 -56.0 -72.0 -91.0 -113.0 ...\n",
       "  * YC       (YC) >f4 510000.0 530000.0 550000.0 570000.0 590000.0 610000.0 ...\n",
       "  * XC       (XC) >f4 10000.0 30000.0 50000.0 70000.0 90000.0 110000.0 ..."
      ]
     },
     "execution_count": 8,
     "metadata": {},
     "output_type": "execute_result"
    }
   ],
   "source": [
    "grid = Grid(dsave, periodic=['X'])\n",
    "N2 = alpha*g * (grid.diff(pt,'Z',boundary='extend',to='outer')\n",
    "                / grid.diff(pt.Z,'Z',boundary='fill',to='outer')\n",
    "               )\n",
    "N2"
   ]
  },
  {
   "cell_type": "code",
   "execution_count": 9,
   "metadata": {},
   "outputs": [
    {
     "data": {
      "text/plain": [
       "<xarray.DataArray (days: 360, Zp1: 41)>\n",
       "array([[0.000000e+00, 5.709041e-07, 7.647022e-07, ..., 2.861880e-07,\n",
       "        7.528736e-08, 0.000000e+00],\n",
       "       [0.000000e+00, 5.718443e-07, 7.687029e-07, ..., 2.861558e-07,\n",
       "        7.528850e-08, 0.000000e+00],\n",
       "       [0.000000e+00, 5.726679e-07, 7.726674e-07, ..., 2.861311e-07,\n",
       "        7.530354e-08, 0.000000e+00],\n",
       "       ...,\n",
       "       [0.000000e+00, 5.677389e-07, 7.527503e-07, ..., 2.847744e-07,\n",
       "        7.498129e-08, 0.000000e+00],\n",
       "       [0.000000e+00, 5.689761e-07, 7.575867e-07, ..., 2.847558e-07,\n",
       "        7.499795e-08, 0.000000e+00],\n",
       "       [0.000000e+00, 5.702216e-07, 7.624970e-07, ..., 2.847600e-07,\n",
       "        7.501625e-08, 0.000000e+00]], dtype=float32)\n",
       "Coordinates:\n",
       "  * Zp1      (Zp1) >f4 0.0 -10.0 -20.0 -30.0 -42.0 -56.0 -72.0 -91.0 -113.0 ...\n",
       "  * days     (days) int64 0 1 2 3 4 5 6 7 8 9 10 11 12 13 14 15 16 17 18 19 ..."
      ]
     },
     "execution_count": 9,
     "metadata": {},
     "output_type": "execute_result"
    }
   ],
   "source": [
    "N2.coords['days'] = ('time',np.tile(range(360),dy))\n",
    "with ProgressBar():\n",
    "    N2day = N2.sel(YC=slice(6e5,14e5)).groupby('days').mean(['time','YC','XC'])\n",
    "N2day"
   ]
  },
  {
   "cell_type": "code",
   "execution_count": 88,
   "metadata": {},
   "outputs": [
    {
     "data": {
      "text/plain": [
       "<xarray.DataArray 'Zp1' (Zp1: 19)>\n",
       "array([   0.,  -10.,  -20.,  -30.,  -42.,  -56.,  -72.,  -91., -113., -139.,\n",
       "       -169., -205., -247., -297., -357., -429., -514., -616., -719.],\n",
       "      dtype=float32)\n",
       "Coordinates:\n",
       "  * Zp1      (Zp1) >f4 0.0 -10.0 -20.0 -30.0 -42.0 -56.0 -72.0 -91.0 -113.0 ...\n",
       "Attributes:\n",
       "    standard_name:      depth_at_w_location\n",
       "    long_name:          vertical coordinate of cell interface\n",
       "    units:              m\n",
       "    positive:           down\n",
       "    axis:               Z\n",
       "    c_grid_axis_shift:  (-0.5, 0.5)"
      ]
     },
     "execution_count": 88,
     "metadata": {},
     "output_type": "execute_result"
    }
   ],
   "source": [
    "N2day.Zp1[:nZ]"
   ]
  },
  {
   "cell_type": "code",
   "execution_count": 10,
   "metadata": {},
   "outputs": [
    {
     "data": {
      "text/plain": [
       "<xarray.DataArray 'THETA' (time: 7200, YC: 50, XC: 50)>\n",
       "array([[[3, 3, ..., 3, 3],\n",
       "        [3, 3, ..., 3, 3],\n",
       "        ...,\n",
       "        [5, 5, ..., 4, 4],\n",
       "        [4, 3, ..., 4, 4]],\n",
       "\n",
       "       [[3, 3, ..., 3, 3],\n",
       "        [3, 3, ..., 4, 3],\n",
       "        ...,\n",
       "        [4, 5, ..., 3, 3],\n",
       "        [4, 4, ..., 4, 4]],\n",
       "\n",
       "       ...,\n",
       "\n",
       "       [[3, 3, ..., 4, 4],\n",
       "        [3, 3, ..., 3, 3],\n",
       "        ...,\n",
       "        [4, 3, ..., 3, 4],\n",
       "        [4, 3, ..., 4, 4]],\n",
       "\n",
       "       [[3, 3, ..., 3, 4],\n",
       "        [3, 3, ..., 3, 3],\n",
       "        ...,\n",
       "        [4, 4, ..., 4, 4],\n",
       "        [4, 3, ..., 3, 4]]])\n",
       "Coordinates:\n",
       "  * XC       (XC) >f4 10000.0 30000.0 50000.0 70000.0 90000.0 110000.0 ...\n",
       "  * YC       (YC) >f4 510000.0 530000.0 550000.0 570000.0 590000.0 610000.0 ...\n",
       "    rA       (YC, XC) >f4 400000000.0 400000000.0 400000000.0 400000000.0 ...\n",
       "    Depth    (YC, XC) >f4 2985.0 2985.0 2985.0 2985.0 2985.0 2985.0 2985.0 ...\n",
       "    iter     (time) int64 2488392 2488464 2488536 2488608 2488680 2488752 ...\n",
       "  * time     (time) float64 2.986e+09 2.986e+09 2.986e+09 2.986e+09 ..."
      ]
     },
     "execution_count": 10,
     "metadata": {},
     "output_type": "execute_result"
    }
   ],
   "source": [
    "nZ = 18\n",
    "nMLDN2 = np.argmax(N2[:,:nZ],axis=1)\n",
    "nMLDT = np.argmin(np.abs(np.abs(-pt+pt[:,0])-0.2), axis=1)\n",
    "nMLDT"
   ]
  },
  {
   "cell_type": "code",
   "execution_count": 11,
   "metadata": {},
   "outputs": [
    {
     "data": {
      "text/plain": [
       "<xarray.DataArray (time: 7200, YC: 50, XC: 50)>\n",
       "array([[[-30., -30., ..., -30., -30.],\n",
       "        [-30., -30., ..., -30., -30.],\n",
       "        ...,\n",
       "        [-56., -56., ..., -42., -42.],\n",
       "        [-42., -30., ..., -42., -42.]],\n",
       "\n",
       "       [[-30., -30., ..., -30., -30.],\n",
       "        [-30., -30., ..., -42., -30.],\n",
       "        ...,\n",
       "        [-42., -56., ..., -30., -30.],\n",
       "        [-42., -42., ..., -42., -42.]],\n",
       "\n",
       "       ...,\n",
       "\n",
       "       [[-30., -30., ..., -42., -42.],\n",
       "        [-30., -30., ..., -30., -30.],\n",
       "        ...,\n",
       "        [-42., -30., ..., -30., -42.],\n",
       "        [-42., -30., ..., -42., -42.]],\n",
       "\n",
       "       [[-30., -30., ..., -30., -42.],\n",
       "        [-30., -30., ..., -30., -30.],\n",
       "        ...,\n",
       "        [-42., -42., ..., -42., -42.],\n",
       "        [-42., -30., ..., -30., -42.]]])\n",
       "Coordinates:\n",
       "  * XC       (XC) >f4 10000.0 30000.0 50000.0 70000.0 90000.0 110000.0 ...\n",
       "  * YC       (YC) >f4 510000.0 530000.0 550000.0 570000.0 590000.0 610000.0 ...\n",
       "    rA       (YC, XC) >f4 400000000.0 400000000.0 400000000.0 400000000.0 ...\n",
       "    Depth    (YC, XC) >f4 2985.0 2985.0 2985.0 2985.0 2985.0 2985.0 2985.0 ...\n",
       "    iter     (time) int64 2488392 2488464 2488536 2488608 2488680 2488752 ...\n",
       "  * time     (time) float64 2.986e+09 2.986e+09 2.986e+09 2.986e+09 ...\n",
       "    days     (time) int64 0 1 2 3 4 5 6 7 8 9 10 11 12 13 14 15 16 17 18 19 ..."
      ]
     },
     "execution_count": 11,
     "metadata": {},
     "output_type": "execute_result"
    }
   ],
   "source": [
    "zz = xr.DataArray(dsave.Zp1.data[np.newaxis,:,np.newaxis,np.newaxis]\n",
    "                 * np.ones((7200,50,50))[:,np.newaxis,:,:],\n",
    "                 dims=['time','Zp1','YC','XC'])\n",
    "MLDN2 = zz.isel(Zp1=nMLDN2)\n",
    "MLDN2.coords['days'] = ('time',np.tile(range(360),dy))\n",
    "MLDT = zz.isel(Zp1=nMLDT)\n",
    "MLDT.coords['days'] = ('time',np.tile(range(360),dy))\n",
    "MLDT"
   ]
  },
  {
   "cell_type": "code",
   "execution_count": 13,
   "metadata": {},
   "outputs": [
    {
     "data": {
      "text/plain": [
       "<xarray.DataArray (days: 360)>\n",
       "array([-53.01875 , -51.5843  , -50.21035 , ..., -58.713025, -56.7114  ,\n",
       "       -54.841475])\n",
       "Coordinates:\n",
       "  * days     (days) int64 0 1 2 3 4 5 6 7 8 9 10 11 12 13 14 15 16 17 18 19 ..."
      ]
     },
     "execution_count": 13,
     "metadata": {},
     "output_type": "execute_result"
    }
   ],
   "source": [
    "with ProgressBar():\n",
    "    MLDN2day = MLDN2.sel(YC=slice(6e5,14e5)).groupby('days').mean(['time','YC','XC']).compute()\n",
    "    MLDTday = MLDT.sel(YC=slice(6e5,14e5)).groupby('days').mean(['time','YC','XC']).compute()\n",
    "MLDTday"
   ]
  },
  {
   "cell_type": "code",
   "execution_count": 14,
   "metadata": {},
   "outputs": [
    {
     "data": {
      "text/plain": [
       "<xarray.DataArray 'hbl99' (day: 360)>\n",
       "array([44.107736, 43.60997 , 43.143437, ..., 46.079025, 45.358856, 44.750078])\n",
       "Coordinates:\n",
       "  * day      (day) int64 0 1 2 3 4 5 6 7 8 9 10 11 12 13 14 15 16 17 18 19 ..."
      ]
     },
     "execution_count": 14,
     "metadata": {},
     "output_type": "execute_result"
    }
   ],
   "source": [
    "with ProgressBar():\n",
    "#     KPPMLDday = xr.open_dataset(op.join(ddir,'KPPMLD_20km.nc')).mld.sel(YC=slice(6e5,14e5)).groupby('day').mean(['time','YC','XC']).compute()\n",
    "    MXLDday = xr.open_dataset(op.join(ddir,'KPPhbl_99percentile_20km.nc')).hbl99.sel(YC=slice(6e5,14e5)).groupby('day').mean(['time','YC']).compute()\n",
    "MXLDday"
   ]
  },
  {
   "cell_type": "code",
   "execution_count": 18,
   "metadata": {},
   "outputs": [
    {
     "name": "stderr",
     "output_type": "stream",
     "text": [
      "/home/takaya/miniconda3/envs/uptodate/lib/python3.6/site-packages/matplotlib/figure.py:2299: UserWarning: This figure includes Axes that are not compatible with tight_layout, so results might be incorrect.\n",
      "  warnings.warn(\"This figure includes Axes that are not compatible \"\n"
     ]
    },
    {
     "data": {
      "image/png": "[encoded data removed]",
      "text/plain": [
       "<Figure size 432x432 with 2 Axes>"
      ]
     },
     "metadata": {},
     "output_type": "display_data"
    }
   ],
   "source": [
    "month = ['J','F','M','A','M','J','J','A','S','O','N','D']\n",
    "fig, ax = plt.subplots(figsize=(6,6))\n",
    "fig.set_tight_layout(True)\n",
    "im = ax.contourf(range(360), N2day.Zp1, N2day.roll(days=-180).T,\n",
    "                levels=1e-5*np.linspace(.001,2,55), extend='both',\n",
    "#                   vmin=1e-8, vmax=1e-5, \n",
    "                cmap='magma')\n",
    "ax.plot(range(360), MLDTday.roll(days=-180), color='grey', lw=2)\n",
    "# ax.plot(range(360), MLDN2day.roll(days=-180), color='w', lw=3, ls='--')\n",
    "ax.plot(range(360), -MXLDday.roll(day=-180), color='grey', lw=3, ls=':')\n",
    "# ax.plot(range(360), -KPPMLDday.roll(day=-180), color='w', lw=3, ls='-.')\n",
    "ax.set_ylim([-8e2,0.])\n",
    "ax.set_xlim([0.,359])\n",
    "ax.set_xticks(np.linspace(14,344,12))\n",
    "ax.set_xticklabels(np.roll(np.array(month),-6), fontsize=12)\n",
    "cbar = fig.colorbar(im, ax=ax)\n",
    "cbar.set_label(r\"N$^2$\", fontsize=12)\n",
    "plt.savefig(op.join(ddir,'Figures/N2-MXLD_20km.pdf'))"
   ]
  },
  {
   "cell_type": "code",
   "execution_count": 8,
   "metadata": {},
   "outputs": [
    {
     "name": "stdout",
     "output_type": "stream",
     "text": [
      "[########################################] | 100% Completed |  7min 23.1s\n"
     ]
    },
    {
     "data": {
      "text/plain": [
       "<xarray.DataArray 'THETA' (months: 12, Z: 40)>\n",
       "array([[ 4.172609,  4.169888,  4.166197, ..., -0.135838, -0.150927, -0.154946],\n",
       "       [ 4.286386,  4.284827,  4.28312 , ..., -0.135982, -0.150903, -0.154892],\n",
       "       [ 4.226049,  4.225442,  4.224909, ..., -0.135772, -0.150732, -0.154733],\n",
       "       ...,\n",
       "       [ 3.643191,  3.642942,  3.642776, ..., -0.133746, -0.14886 , -0.153024],\n",
       "       [ 3.722206,  3.721008,  3.720069, ..., -0.133602, -0.148668, -0.152636],\n",
       "       [ 3.922532,  3.919978,  3.916969, ..., -0.133521, -0.148501, -0.152433]],\n",
       "      dtype=float32)\n",
       "Coordinates:\n",
       "  * Z        (Z) >f4 -5.0 -15.0 -25.0 -36.0 -49.0 -64.0 -81.5 -102.0 -126.0 ...\n",
       "    drF      (Z) >f4 10.0 10.0 10.0 12.0 14.0 16.0 19.0 22.0 26.0 30.0 36.0 ...\n",
       "    PHrefC   (Z) >f4 49.05 147.15 245.25 353.16 480.69 627.84 799.515 ...\n",
       "  * months   (months) int64 0 1 2 3 4 5 6 7 8 9 10 11"
      ]
     },
     "execution_count": 8,
     "metadata": {},
     "output_type": "execute_result"
    }
   ],
   "source": [
    "theta = dsave.THETA\n",
    "theta.coords['months'] = ('time',np.tile(np.repeat(range(12),30),dy))\n",
    "with ProgressBar():\n",
    "    theta_mon = theta.sel(YC=slice(6e5,14e5)).groupby('months').mean(['time','YC','XC']).compute()\n",
    "theta_mon"
   ]
  },
  {
   "cell_type": "code",
   "execution_count": 9,
   "metadata": {},
   "outputs": [
    {
     "data": {
      "text/plain": [
       "[Text(0,0,'J'),\n",
       " Text(0,0,'F'),\n",
       " Text(0,0,'M'),\n",
       " Text(0,0,'A'),\n",
       " Text(0,0,'M'),\n",
       " Text(0,0,'J'),\n",
       " Text(0,0,'J'),\n",
       " Text(0,0,'A'),\n",
       " Text(0,0,'S'),\n",
       " Text(0,0,'O'),\n",
       " Text(0,0,'N'),\n",
       " Text(0,0,'D')]"
      ]
     },
     "execution_count": 9,
     "metadata": {},
     "output_type": "execute_result"
    },
    {
     "data": {
      "image/png": "[encoded data removed]",
      "text/plain": [
       "<Figure size 432x288 with 1 Axes>"
      ]
     },
     "metadata": {},
     "output_type": "display_data"
    }
   ],
   "source": [
    "fig,ax = plt.subplots()\n",
    "ax.plot(range(1,13), theta_mon[:,0])\n",
    "ax.set_xticks(range(1,13))\n",
    "ax.set_xticklabels(['J','F','M','A','M','J','J','A','S','O','N','D'])"
   ]
  },
  {
   "cell_type": "code",
   "execution_count": 10,
   "metadata": {},
   "outputs": [],
   "source": [
    "u1D = dsave.UVEL\n",
    "v1D = dsave.VVEL"
   ]
  },
  {
   "cell_type": "code",
   "execution_count": 8,
   "metadata": {},
   "outputs": [
    {
     "name": "stdout",
     "output_type": "stream",
     "text": [
      "[########################################] | 100% Completed |  6min 24.2s\n"
     ]
    },
    {
     "data": {
      "text/plain": [
       "<xarray.Dataset>\n",
       "Dimensions:  (XC: 50, XG: 50, YC: 100, YG: 100, Z: 40, Zl: 40, Zp1: 41, Zu: 40, time: 480)\n",
       "Coordinates:\n",
       "  * XC       (XC) >f4 10000.0 30000.0 50000.0 70000.0 90000.0 110000.0 ...\n",
       "  * YC       (YC) >f4 10000.0 30000.0 50000.0 70000.0 90000.0 110000.0 ...\n",
       "  * XG       (XG) >f4 0.0 20000.0 40000.0 60000.0 80000.0 100000.0 120000.0 ...\n",
       "  * YG       (YG) >f4 0.0 20000.0 40000.0 60000.0 80000.0 100000.0 120000.0 ...\n",
       "  * Z        (Z) >f4 -5.0 -15.0 -25.0 -36.0 -49.0 -64.0 -81.5 -102.0 -126.0 ...\n",
       "  * Zp1      (Zp1) >f4 0.0 -10.0 -20.0 -30.0 -42.0 -56.0 -72.0 -91.0 -113.0 ...\n",
       "  * Zu       (Zu) >f4 -10.0 -20.0 -30.0 -42.0 -56.0 -72.0 -91.0 -113.0 ...\n",
       "  * Zl       (Zl) >f4 0.0 -10.0 -20.0 -30.0 -42.0 -56.0 -72.0 -91.0 -113.0 ...\n",
       "    rA       (YC, XC) >f4 400000000.0 400000000.0 400000000.0 400000000.0 ...\n",
       "    dxG      (YG, XC) >f4 20000.0 20000.0 20000.0 20000.0 20000.0 20000.0 ...\n",
       "    dyG      (YC, XG) >f4 20000.0 20000.0 20000.0 20000.0 20000.0 20000.0 ...\n",
       "    Depth    (YC, XC) >f4 0.0 0.0 0.0 0.0 0.0 0.0 0.0 0.0 0.0 0.0 0.0 0.0 ...\n",
       "    rAz      (YG, XG) >f4 400000000.0 400000000.0 400000000.0 400000000.0 ...\n",
       "    dxC      (YC, XG) >f4 20000.0 20000.0 20000.0 20000.0 20000.0 20000.0 ...\n",
       "    dyC      (YG, XC) >f4 20000.0 20000.0 20000.0 20000.0 20000.0 20000.0 ...\n",
       "    rAw      (YC, XG) >f4 400000000.0 400000000.0 400000000.0 400000000.0 ...\n",
       "    rAs      (YG, XC) >f4 400000000.0 400000000.0 400000000.0 400000000.0 ...\n",
       "    drC      (Zp1) >f4 5.0 10.0 10.0 11.0 13.0 15.0 17.5 20.5 24.0 28.0 33.0 ...\n",
       "    drF      (Z) >f4 10.0 10.0 10.0 12.0 14.0 16.0 19.0 22.0 26.0 30.0 36.0 ...\n",
       "    PHrefC   (Z) >f4 49.05 147.15 245.25 353.16 480.69 627.84 799.515 ...\n",
       "    PHrefF   (Zp1) >f4 0.0 98.1 196.2 294.3 412.02 549.36 706.32 892.71 ...\n",
       "    hFacC    (Z, YC, XC) >f4 0.0 0.0 0.0 0.0 0.0 0.0 0.0 0.0 0.0 0.0 0.0 0.0 ...\n",
       "    hFacW    (Z, YC, XG) >f4 0.0 0.0 0.0 0.0 0.0 0.0 0.0 0.0 0.0 0.0 0.0 0.0 ...\n",
       "    hFacS    (Z, YG, XC) >f4 0.0 0.0 0.0 0.0 0.0 0.0 0.0 0.0 0.0 0.0 0.0 0.0 ...\n",
       "    iter     (time) int64 2488320 2489400 2490480 2491560 2492640 2493720 ...\n",
       "  * time     (time) float64 2.986e+09 2.987e+09 2.989e+09 2.99e+09 2.991e+09 ...\n",
       "    seas     (time) int64 0 0 0 0 0 0 1 1 1 1 1 1 2 2 2 2 2 2 3 3 3 3 3 3 0 ...\n",
       "Data variables:\n",
       "    UVEL     (time, Z, YC, XG) float32 0.0 0.0 0.0 0.0 0.0 0.0 0.0 0.0 0.0 ...\n",
       "    VVEL     (time, Z, YG, XC) float32 0.0 0.0 0.0 0.0 0.0 0.0 0.0 0.0 0.0 ...\n",
       "    WVEL     (time, Zl, YC, XC) float32 0.0 0.0 0.0 0.0 0.0 0.0 0.0 0.0 0.0 ...\n",
       "    PHIHYD   (time, Z, YC, XC) float32 0.0 0.0 0.0 0.0 0.0 0.0 0.0 0.0 0.0 ..."
      ]
     },
     "execution_count": 8,
     "metadata": {},
     "output_type": "execute_result"
    }
   ],
   "source": [
    "dsnap.coords['seas'] = ('time',np.tile(np.repeat(range(4),6),dy))\n",
    "dsave.coords['seas'] = ('time',np.tile(np.repeat(range(4),90),dy))\n",
    "dseas = dsave.groupby('seas').mean(['time','XC','XG'])\n",
    "dsano = dsnap.groupby('seas') - dseas\n",
    "with ProgressBar():\n",
    "    dsano.load()\n",
    "dsano"
   ]
  },
  {
   "cell_type": "code",
   "execution_count": 9,
   "metadata": {},
   "outputs": [],
   "source": [
    "up = dsano.UVEL\n",
    "vp = dsano.VVEL\n",
    "wp = dsano.WVEL\n",
    "phip = dsano.PHIHYD"
   ]
  },
  {
   "cell_type": "code",
   "execution_count": 10,
   "metadata": {},
   "outputs": [
    {
     "data": {
      "text/plain": [
       "<xarray.DataArray (time: 480, Zl: 40, YC: 100, XC: 50)>\n",
       "array([[[[-0.000000e+00, ..., -0.000000e+00],\n",
       "         ...,\n",
       "         [ 3.651875e-09, ...,  3.738343e-09]],\n",
       "\n",
       "        ...,\n",
       "\n",
       "        [[-0.000000e+00, ..., -0.000000e+00],\n",
       "         ...,\n",
       "         [ 1.573558e-12, ..., -9.257247e-11]]],\n",
       "\n",
       "\n",
       "       ...,\n",
       "\n",
       "\n",
       "       [[[-0.000000e+00, ..., -0.000000e+00],\n",
       "         ...,\n",
       "         [-5.227444e-09, ..., -5.170507e-09]],\n",
       "\n",
       "        ...,\n",
       "\n",
       "        [[-0.000000e+00, ..., -0.000000e+00],\n",
       "         ...,\n",
       "         [-2.869152e-11, ..., -8.928063e-12]]]], dtype=float32)\n",
       "Coordinates:\n",
       "  * XC       (XC) >f4 10000.0 30000.0 50000.0 70000.0 90000.0 110000.0 ...\n",
       "  * YC       (YC) >f4 10000.0 30000.0 50000.0 70000.0 90000.0 110000.0 ...\n",
       "  * Zl       (Zl) >f4 0.0 -10.0 -20.0 -30.0 -42.0 -56.0 -72.0 -91.0 -113.0 ...\n",
       "    rA       (YC, XC) >f4 400000000.0 400000000.0 400000000.0 400000000.0 ...\n",
       "    Depth    (YC, XC) >f4 0.0 0.0 0.0 0.0 0.0 0.0 0.0 0.0 0.0 0.0 0.0 0.0 ...\n",
       "    iter     (time) int64 2488320 2489400 2490480 2491560 2492640 2493720 ...\n",
       "  * time     (time) float64 2.986e+09 2.987e+09 2.989e+09 2.99e+09 2.991e+09 ...\n",
       "    seas     (time) int64 0 0 0 0 0 0 1 1 1 1 1 1 2 2 2 2 2 2 3 3 3 3 3 3 0 ..."
      ]
     },
     "execution_count": 10,
     "metadata": {},
     "output_type": "execute_result"
    }
   ],
   "source": [
    "grid = Grid(dsnap, periodic=['X'])\n",
    "bp = grid.diff(phip,'Z',boundary='fill')/grid.diff(phip.Z,'Z',boundary='fill')\n",
    "# wpphip = grid.interp(wp,'Z',boundary='fill')*phip\n",
    "# wpphip_z = grid.diff(wpphip,'Z',boundary='fill')/grid.diff(wpphip.Z,'Z',boundary='fill')\n",
    "wpbp = wp*bp\n",
    "# wpphip_z\n",
    "wpbp"
   ]
  },
  {
   "cell_type": "code",
   "execution_count": 11,
   "metadata": {},
   "outputs": [],
   "source": [
    "wpbp.coords['seas'] = ('time',np.tile(np.repeat(range(4),6),dy))\n",
    "wpbp.coords['days'] = ('time',np.tile(range(24),dy))\n",
    "wpbp.to_dataset(name='wpbp').to_netcdf(op.join(ddir,'APEconversion_20km.nc'))"
   ]
  },
  {
   "cell_type": "code",
   "execution_count": 17,
   "metadata": {},
   "outputs": [
    {
     "data": {
      "text/plain": [
       "<xarray.DataArray 'wpbp' (days: 24, Zl: 40)>\n",
       "array([[-4.879377e-10,  4.319233e-10,  7.785458e-10, ...,  3.867451e-10,\n",
       "         1.908764e-10,  9.985195e-11],\n",
       "       [-6.167477e-10,  3.777636e-10,  6.748421e-10, ...,  3.720008e-10,\n",
       "         1.818765e-10,  9.668205e-11],\n",
       "       [-1.562463e-09,  4.244594e-10,  7.717481e-10, ...,  3.831086e-10,\n",
       "         1.881052e-10,  1.028213e-10],\n",
       "       ...,\n",
       "       [ 2.794379e-10,  9.276243e-10,  1.747867e-09, ...,  3.652191e-10,\n",
       "         1.806369e-10,  9.523243e-11],\n",
       "       [-2.077086e-10,  7.304122e-10,  1.359712e-09, ...,  3.674465e-10,\n",
       "         1.868114e-10,  1.050825e-10],\n",
       "       [-7.391135e-10,  5.253695e-10,  9.549396e-10, ...,  3.486413e-10,\n",
       "         1.701086e-10,  8.876732e-11]], dtype=float32)\n",
       "Coordinates:\n",
       "  * Zl       (Zl) float32 0.0 -10.0 -20.0 -30.0 -42.0 -56.0 -72.0 -91.0 ...\n",
       "  * days     (days) int64 0 1 2 3 4 5 6 7 8 9 10 11 12 13 14 15 16 17 18 19 ..."
      ]
     },
     "execution_count": 17,
     "metadata": {},
     "output_type": "execute_result"
    }
   ],
   "source": [
    "with ProgressBar():\n",
    "    wpbpd = xr.open_dataset(op.join(ddir,'APEconversion_20km.nc')\n",
    "                          ).wpbp.sel(YC=slice(6e5,14e5)).groupby('days').mean(['time','YC','XC']).compute()\n",
    "wpbpd"
   ]
  },
  {
   "cell_type": "code",
   "execution_count": 23,
   "metadata": {},
   "outputs": [
    {
     "name": "stderr",
     "output_type": "stream",
     "text": [
      "/home/takaya/miniconda3/envs/uptodate/lib/python3.6/site-packages/matplotlib/figure.py:2299: UserWarning: This figure includes Axes that are not compatible with tight_layout, so results might be incorrect.\n",
      "  warnings.warn(\"This figure includes Axes that are not compatible \"\n"
     ]
    },
    {
     "data": {
      "image/png": "[encoded data removed]",
      "text/plain": [
       "<Figure size 648x288 with 4 Axes>"
      ]
     },
     "metadata": {},
     "output_type": "display_data"
    }
   ],
   "source": [
    "nys, nyn = (6e5,14e5)\n",
    "month = ['J','F','M','A','M','J','J','A','S','O','N','D']\n",
    "\n",
    "fig, (ax1,ax2) = plt.subplots(nrows=1, ncols=2, figsize=(9,4))\n",
    "fig.set_tight_layout(True)\n",
    "im1 = ax1.contourf(np.linspace(0,345,24), wpbpd.Zl, wpbpd.T.roll(days=-12), \n",
    "                  levels=1e-8*np.linspace(-2,2.,21), \n",
    "                   extend='both', cmap='RdBu_r')\n",
    "ax1.contourf(np.linspace(14,359,24), wpbpd.Zl, wpbpd.T.roll(days=-13), \n",
    "            levels=1e-8*np.linspace(-2,2.,21), \n",
    "            extend='both', cmap='RdBu_r')\n",
    "im2 = ax2.contourf(np.linspace(0,345,24), Fsd.Z, Fsd.T.roll(day=-12), \n",
    "                  levels=1e-20*np.linspace(-2,2,21), \n",
    "                  cmap='RdBu_r', extend='both')\n",
    "ax2.contourf(np.linspace(14,359,24), Fsd.Z, Fsd.T.roll(day=-13), \n",
    "            levels=1e-20*np.linspace(-2,2,21), \n",
    "            cmap='RdBu_r', extend='both')\n",
    "ax1.plot(range(360), -MXLDday.roll(day=-180), \n",
    "        ls=':', lw=3, color='k')\n",
    "ax2.plot(range(360), -MXLDday.roll(day=-180), \n",
    "        ls=':', lw=3, color='k')\n",
    "ax1.set_ylim([-5e2,0])\n",
    "ax1.set_xlim([0.,359.])\n",
    "ax2.set_ylim([-5e2,0])\n",
    "ax2.set_xlim([0.,359.])\n",
    "ax1.set_title(r\"w'b'\", fontsize=15)\n",
    "ax2.set_title(r\"|$F_s$|\", fontsize=15)\n",
    "ax1.set_xticks(np.linspace(14,344,12))\n",
    "ax1.set_xticklabels(np.roll(np.array(month),-6), fontsize=12)\n",
    "ax2.set_xticks(np.linspace(14,344,12))\n",
    "ax2.set_xticklabels(np.roll(np.array(month),-6), fontsize=12)\n",
    "ax1.set_yticklabels(np.array([-500,-400,-300,-200,-100,0]), fontsize=12)\n",
    "ax2.set_yticklabels(np.array([-500,-400,-300,-200,-100,0]), fontsize=12)\n",
    "ax1.set_ylabel(r\"Depth [m]\", fontsize=13)\n",
    "# ax2.set_xlabel(r\"Month\", fontsize=13)\n",
    "# fig.subplots_adjust(right=0.88)\n",
    "# cbar_ax = fig.add_axes([0.9, 0.15, 0.015, 0.7])\n",
    "# cbar = fig.colorbar(im, cax=cbar_ax)\n",
    "cbar1 = fig.colorbar(im1, ax=ax1)\n",
    "cbar2 = fig.colorbar(im2, ax=ax2)\n",
    "cbar1.set_label(r\"[m$^{2}$ s$^{-3}$]\", fontsize=12)\n",
    "cbar2.set_label(r\"[s$^{-5}$]\", fontsize=12)\n",
    "plt.savefig(op.join(ddir,'Figures/wb-Fs_20km.pdf'))"
   ]
  },
  {
   "cell_type": "code",
   "execution_count": 5,
   "metadata": {},
   "outputs": [
    {
     "name": "stderr",
     "output_type": "stream",
     "text": [
      "/home/takaya/xmitgcm/xmitgcm/mds_store.py:721: UserWarning: Couldn't find available_diagnostics.log in /swot/SUM05/takaya/MITgcm/channel/runs/Phys-only_20km. Using default version.\n",
      "  \"in %s. Using default version.\" % data_dir)\n",
      "/home/takaya/xmitgcm/xmitgcm/utils.py:314: UserWarning: Not sure what to do with rlev = L\n",
      "  warnings.warn(\"Not sure what to do with rlev = \" + rlev)\n",
      "/home/takaya/xmitgcm/xmitgcm/mds_store.py:235: FutureWarning: iteration over an xarray.Dataset will change in xarray v0.11 to only include data variables, not coordinates. Iterate over the Dataset.variables property instead to preserve existing behavior in a forwards compatible manner.\n",
      "  for vname in ds:\n"
     ]
    },
    {
     "data": {
      "text/plain": [
       "<xarray.Dataset>\n",
       "Dimensions:   (XC: 50, XG: 50, YC: 100, YG: 100, Z: 40, Zl: 40, Zp1: 41, Zu: 40, time: 3600)\n",
       "Coordinates:\n",
       "  * XC        (XC) >f4 10000.0 30000.0 50000.0 70000.0 90000.0 110000.0 ...\n",
       "  * YC        (YC) >f4 10000.0 30000.0 50000.0 70000.0 90000.0 110000.0 ...\n",
       "  * XG        (XG) >f4 0.0 20000.0 40000.0 60000.0 80000.0 100000.0 120000.0 ...\n",
       "  * YG        (YG) >f4 0.0 20000.0 40000.0 60000.0 80000.0 100000.0 120000.0 ...\n",
       "  * Z         (Z) >f4 -5.0 -15.0 -25.0 -36.0 -49.0 -64.0 -81.5 -102.0 -126.0 ...\n",
       "  * Zp1       (Zp1) >f4 0.0 -10.0 -20.0 -30.0 -42.0 -56.0 -72.0 -91.0 -113.0 ...\n",
       "  * Zu        (Zu) >f4 -10.0 -20.0 -30.0 -42.0 -56.0 -72.0 -91.0 -113.0 ...\n",
       "  * Zl        (Zl) >f4 0.0 -10.0 -20.0 -30.0 -42.0 -56.0 -72.0 -91.0 -113.0 ...\n",
       "    rA        (YC, XC) >f4 dask.array<shape=(100, 50), chunksize=(100, 50)>\n",
       "    dxG       (YG, XC) >f4 dask.array<shape=(100, 50), chunksize=(100, 50)>\n",
       "    dyG       (YC, XG) >f4 dask.array<shape=(100, 50), chunksize=(100, 50)>\n",
       "    Depth     (YC, XC) >f4 dask.array<shape=(100, 50), chunksize=(100, 50)>\n",
       "    rAz       (YG, XG) >f4 dask.array<shape=(100, 50), chunksize=(100, 50)>\n",
       "    dxC       (YC, XG) >f4 dask.array<shape=(100, 50), chunksize=(100, 50)>\n",
       "    dyC       (YG, XC) >f4 dask.array<shape=(100, 50), chunksize=(100, 50)>\n",
       "    rAw       (YC, XG) >f4 dask.array<shape=(100, 50), chunksize=(100, 50)>\n",
       "    rAs       (YG, XC) >f4 dask.array<shape=(100, 50), chunksize=(100, 50)>\n",
       "    drC       (Zp1) >f4 dask.array<shape=(41,), chunksize=(41,)>\n",
       "    drF       (Z) >f4 dask.array<shape=(40,), chunksize=(40,)>\n",
       "    PHrefC    (Z) >f4 dask.array<shape=(40,), chunksize=(40,)>\n",
       "    PHrefF    (Zp1) >f4 dask.array<shape=(41,), chunksize=(41,)>\n",
       "    hFacC     (Z, YC, XC) >f4 dask.array<shape=(40, 100, 50), chunksize=(40, 100, 50)>\n",
       "    hFacW     (Z, YC, XG) >f4 dask.array<shape=(40, 100, 50), chunksize=(40, 100, 50)>\n",
       "    hFacS     (Z, YG, XC) >f4 dask.array<shape=(40, 100, 50), chunksize=(40, 100, 50)>\n",
       "    iter      (time) int64 dask.array<shape=(3600,), chunksize=(1,)>\n",
       "  * time      (time) float64 2.986e+09 2.986e+09 2.986e+09 2.986e+09 ...\n",
       "Data variables:\n",
       "    KPPhbl    (time, YC, XC) float32 dask.array<shape=(3600, 100, 50), chunksize=(1, 100, 50)>\n",
       "    MXLDEPTH  (time, YC, XC) float32 dask.array<shape=(3600, 100, 50), chunksize=(1, 100, 50)>"
      ]
     },
     "execution_count": 5,
     "metadata": {},
     "output_type": "execute_result"
    }
   ],
   "source": [
    "# dsKPP = open_mdsdataset(op.join(ddir,'Phys-only_20km'), grid_dir=op.join(ddir,'20km_grid'),\n",
    "#                        iters=range(ts+72,te+72,72), prefix=['KPPboundary'], delta_t=dt\n",
    "#                        )\n",
    "# dsKPP"
   ]
  },
  {
   "cell_type": "code",
   "execution_count": 17,
   "metadata": {},
   "outputs": [
    {
     "data": {
      "text/plain": [
       "<xarray.DataArray (month: 12, YC: 100)>\n",
       "array([[  0.      , 846.670634, 714.554756, ...,  30.      ,  30.      ,\n",
       "         30.      ],\n",
       "       [  0.      , 824.613972, 703.51526 , ...,  30.      ,  30.      ,\n",
       "         30.      ],\n",
       "       [  0.      , 807.871706, 686.389166, ...,  30.      ,  30.      ,\n",
       "         30.      ],\n",
       "       ...,\n",
       "       [  0.      , 830.498927, 770.851675, ...,  30.      ,  30.      ,\n",
       "         30.      ],\n",
       "       [  0.      , 827.580594, 754.23196 , ...,  30.      ,  30.      ,\n",
       "         30.      ],\n",
       "       [  0.      , 854.556244, 750.495598, ...,  30.      ,  30.      ,\n",
       "         30.      ]])\n",
       "Coordinates:\n",
       "  * YC       (YC) >f4 10000.0 30000.0 50000.0 70000.0 90000.0 110000.0 ...\n",
       "  * month    (month) int64 0 1 2 3 4 5 6 7 8 9 10 11"
      ]
     },
     "execution_count": 17,
     "metadata": {},
     "output_type": "execute_result"
    }
   ],
   "source": [
    "# hbl = dsave.KPPhbl\n",
    "# MLD = dsave.MXLDEPTH\n",
    "# hbl99 = xr.DataArray(np.percentile(hbl, 99, axis=-1), dims=['time','YC'],\n",
    "#                     coords={'time':dsave.time.data,'YC':dsave.YC.data})\n",
    "# month = np.tile(np.repeat(range(12),30),dy)\n",
    "# day = np.tile(range(360),dy)\n",
    "# MLD.coords['month'] = ('time',month)\n",
    "# MLD.coords['day'] = ('time',day)\n",
    "# MLD.to_dataset(name='mld').to_netcdf(op.join(ddir,'KPPMLD_20km.nc'))\n",
    "\n",
    "hbl99.coords['month'] = ('time',month)\n",
    "hbl99.coords['day'] = ('time',day)\n",
    "hbl99.to_dataset(name='hbl99').to_netcdf(op.join(ddir,'KPPhbl_99percentile_20km.nc'))\n",
    "with ProgressBar():\n",
    "    hbl99_mon = hbl99.groupby('month').mean('time').compute()\n",
    "    hbl99_day = hbl99.groupby('day').mean('time').compute()\n",
    "hbl99_mon"
   ]
  },
  {
   "cell_type": "code",
   "execution_count": 18,
   "metadata": {},
   "outputs": [
    {
     "data": {
      "text/plain": [
       "[Text(0,0,'J'),\n",
       " Text(0,0,'F'),\n",
       " Text(0,0,'M'),\n",
       " Text(0,0,'A'),\n",
       " Text(0,0,'M'),\n",
       " Text(0,0,'J'),\n",
       " Text(0,0,'J'),\n",
       " Text(0,0,'A'),\n",
       " Text(0,0,'S'),\n",
       " Text(0,0,'O'),\n",
       " Text(0,0,'N'),\n",
       " Text(0,0,'D')]"
      ]
     },
     "execution_count": 18,
     "metadata": {},
     "output_type": "execute_result"
    },
    {
     "data": {
      "image/png": "[encoded data removed]",
      "text/plain": [
       "<Figure size 432x288 with 1 Axes>"
      ]
     },
     "metadata": {},
     "output_type": "display_data"
    }
   ],
   "source": [
    "fig, ax = plt.subplots()\n",
    "ax.plot(range(360), -hbl99_day.sel(YC=slice(6e5,14e5)).mean('YC'), color='k')\n",
    "ax.set_xticks(range(15,360,30))\n",
    "ax.set_xticklabels(['J','F','M','A','M','J','J','A','S','O','N','D'])"
   ]
  },
  {
   "cell_type": "code",
   "execution_count": 19,
   "metadata": {},
   "outputs": [
    {
     "name": "stdout",
     "output_type": "stream",
     "text": [
      "[###                                     ] | 9% Completed |  0.1s"
     ]
    },
    {
     "name": "stderr",
     "output_type": "stream",
     "text": [
      "/home/takaya/xrft/xrft/xrft.py:272: FutureWarning: xarray.DataArray.__contains__ currently checks membership in DataArray.coords, but in xarray v0.11 will change to check membership in array values.\n",
      "  elif d in da:\n"
     ]
    },
    {
     "name": "stdout",
     "output_type": "stream",
     "text": [
      "[########################################] | 100% Completed |  2.2s\n",
      "[###                                     ] | 9% Completed |  0.1s"
     ]
    },
    {
     "name": "stderr",
     "output_type": "stream",
     "text": [
      "/home/takaya/xrft/xrft/xrft.py:272: FutureWarning: xarray.DataArray.__contains__ currently checks membership in DataArray.coords, but in xarray v0.11 will change to check membership in array values.\n",
      "  elif d in da:\n"
     ]
    },
    {
     "name": "stdout",
     "output_type": "stream",
     "text": [
      "[########################################] | 100% Completed |  2.0s\n"
     ]
    },
    {
     "data": {
      "text/plain": [
       "<xarray.DataArray (time: 480, Z: 20, YC: 40, freq_XC: 50)>\n",
       "array([[[[1.534273e-01, ..., 9.618150e-03],\n",
       "         ...,\n",
       "         [1.599345e-01, ..., 5.105389e-02]],\n",
       "\n",
       "        ...,\n",
       "\n",
       "        [[1.377247e-05, ..., 5.628532e-04],\n",
       "         ...,\n",
       "         [2.290380e-03, ..., 7.422658e-04]]],\n",
       "\n",
       "\n",
       "       ...,\n",
       "\n",
       "\n",
       "       [[[2.087897e-03, ..., 6.267798e-03],\n",
       "         ...,\n",
       "         [2.792234e-01, ..., 3.624369e-01]],\n",
       "\n",
       "        ...,\n",
       "\n",
       "        [[2.236168e-07, ..., 1.546346e-04],\n",
       "         ...,\n",
       "         [5.338524e-04, ..., 2.526881e-03]]]])\n",
       "Coordinates:\n",
       "  * time             (time) float64 2.986e+09 2.987e+09 2.989e+09 2.99e+09 ...\n",
       "  * Z                (Z) >f4 -5.0 -25.0 -49.0 -81.5 -126.0 -187.0 -272.0 ...\n",
       "  * YC               (YC) >f4 610000.0 630000.0 650000.0 670000.0 690000.0 ...\n",
       "  * freq_XC          (freq_XC) float64 -2.5e-05 -2.4e-05 -2.3e-05 -2.2e-05 ...\n",
       "    freq_XC_spacing  float64 1e-06"
      ]
     },
     "execution_count": 19,
     "metadata": {},
     "output_type": "execute_result"
    }
   ],
   "source": [
    "with ProgressBar():\n",
    "    uk2 = xrft.power_spectrum(grid.interp(up,'X').sel(YC=slice(6e5,1.4e6)\n",
    "                                                     )[:,::2].chunk(chunks={'XC':100}),\n",
    "                             dim=['XC'], detrend='constant').compute()\n",
    "    vk2 = xrft.power_spectrum(grid.interp(vp,'Y',boundary='fill').sel(YC=slice(6e5,1.4e6)\n",
    "                                                                     )[:,::2].chunk(chunks={'XC':100}),\n",
    "                             dim=['XC'], detrend='constant').compute()\n",
    "\n",
    "ekek = (uk2 + vk2)\n",
    "ekek"
   ]
  },
  {
   "cell_type": "code",
   "execution_count": 21,
   "metadata": {},
   "outputs": [
    {
     "data": {
      "text/plain": [
       "<xarray.DataArray (seas: 4, Z: 20, freq_XC: 50)>\n",
       "array([[[0.117527, 0.134124, ..., 0.176531, 0.134124],\n",
       "        [0.11495 , 0.133009, ..., 0.169922, 0.133009],\n",
       "        ...,\n",
       "        [0.000885, 0.001079, ..., 0.001806, 0.001079],\n",
       "        [0.00131 , 0.001579, ..., 0.003122, 0.001579]],\n",
       "\n",
       "       [[0.094686, 0.106526, ..., 0.14437 , 0.106526],\n",
       "        [0.089754, 0.10067 , ..., 0.136534, 0.10067 ],\n",
       "        ...,\n",
       "        [0.000635, 0.00081 , ..., 0.001302, 0.00081 ],\n",
       "        [0.000918, 0.001175, ..., 0.002087, 0.001175]],\n",
       "\n",
       "       [[0.177558, 0.199   , ..., 0.282858, 0.199   ],\n",
       "        [0.16956 , 0.189073, ..., 0.269105, 0.189073],\n",
       "        ...,\n",
       "        [0.000886, 0.001174, ..., 0.00183 , 0.001174],\n",
       "        [0.001304, 0.00168 , ..., 0.003077, 0.00168 ]],\n",
       "\n",
       "       [[0.147231, 0.156986, ..., 0.225961, 0.156986],\n",
       "        [0.139637, 0.148079, ..., 0.21265 , 0.148079],\n",
       "        ...,\n",
       "        [0.000654, 0.000818, ..., 0.001353, 0.000818],\n",
       "        [0.000955, 0.00119 , ..., 0.00218 , 0.00119 ]]])\n",
       "Coordinates:\n",
       "  * Z                (Z) >f4 -5.0 -25.0 -49.0 -81.5 -126.0 -187.0 -272.0 ...\n",
       "  * freq_XC          (freq_XC) float64 -2.5e-05 -2.4e-05 -2.3e-05 -2.2e-05 ...\n",
       "    freq_XC_spacing  float64 1e-06\n",
       "  * seas             (seas) int64 0 1 2 3"
      ]
     },
     "execution_count": 21,
     "metadata": {},
     "output_type": "execute_result"
    }
   ],
   "source": [
    "ekek.coords['seas'] = ('time',np.tile(np.repeat(range(4),6),dy))\n",
    "ekek.to_dataset(name='eke').to_netcdf(op.join(ddir,'EKEk_20kmrun.nc'))\n",
    "ekek_seas = ekek.groupby('seas').mean(['time','YC'])\n",
    "ekek_seas"
   ]
  },
  {
   "cell_type": "code",
   "execution_count": 22,
   "metadata": {},
   "outputs": [
    {
     "data": {
      "image/png": "[encoded data removed]",
      "text/plain": [
       "<Figure size 432x288 with 1 Axes>"
      ]
     },
     "metadata": {},
     "output_type": "display_data"
    }
   ],
   "source": [
    "fig, ax = plt.subplots()\n",
    "ax.plot(ekek_seas.freq_XC[26:]*1e3, ekek_seas[0,0,26:], 'r')\n",
    "ax.plot(ekek_seas.freq_XC[26:]*1e3, ekek_seas[2,0,26:],'b')\n",
    "ax.set_xscale('log')\n",
    "ax.set_yscale('log')"
   ]
  },
  {
   "cell_type": "code",
   "execution_count": 23,
   "metadata": {},
   "outputs": [
    {
     "ename": "KeyboardInterrupt",
     "evalue": "",
     "output_type": "error",
     "traceback": [
      "\u001b[0;31m---------------------------------------------------------------------------\u001b[0m",
      "\u001b[0;31mTypeError\u001b[0m                                 Traceback (most recent call last)",
      "\u001b[0;32m~/xmitgcm/xmitgcm/mds_store.py\u001b[0m in \u001b[0;36mopen_mdsdataset\u001b[0;34m(data_dir, grid_dir, iters, prefix, read_grid, delta_t, ref_date, calendar, geometry, grid_vars_to_coords, swap_dims, endian, chunks, ignore_unknown_vars, default_dtype, nx, ny, nz, llc_method)\u001b[0m\n\u001b[1;32m    129\u001b[0m         \u001b[0;32mtry\u001b[0m\u001b[0;34m:\u001b[0m\u001b[0;34m\u001b[0m\u001b[0m\n\u001b[0;32m--> 130\u001b[0;31m             \u001b[0miternum\u001b[0m \u001b[0;34m=\u001b[0m \u001b[0mint\u001b[0m\u001b[0;34m(\u001b[0m\u001b[0miters\u001b[0m\u001b[0;34m)\u001b[0m\u001b[0;34m\u001b[0m\u001b[0m\n\u001b[0m\u001b[1;32m    131\u001b[0m         \u001b[0;31m# if not we probably have some kind of list\u001b[0m\u001b[0;34m\u001b[0m\u001b[0;34m\u001b[0m\u001b[0m\n",
      "\u001b[0;31mTypeError\u001b[0m: int() argument must be a string, a bytes-like object or a number, not 'range'",
      "\nDuring handling of the above exception, another exception occurred:\n",
      "\u001b[0;31mKeyboardInterrupt\u001b[0m                         Traceback (most recent call last)",
      "\u001b[0;32m<ipython-input-23-27c668029c48>\u001b[0m in \u001b[0;36m<module>\u001b[0;34m()\u001b[0m\n\u001b[1;32m      2\u001b[0m                       \u001b[0mgrid_dir\u001b[0m\u001b[0;34m=\u001b[0m\u001b[0mop\u001b[0m\u001b[0;34m.\u001b[0m\u001b[0mjoin\u001b[0m\u001b[0;34m(\u001b[0m\u001b[0mddir\u001b[0m\u001b[0;34m,\u001b[0m\u001b[0;34m'20km_grid'\u001b[0m\u001b[0;34m)\u001b[0m\u001b[0;34m,\u001b[0m\u001b[0;34m\u001b[0m\u001b[0m\n\u001b[1;32m      3\u001b[0m                       \u001b[0miters\u001b[0m\u001b[0;34m=\u001b[0m\u001b[0mrange\u001b[0m\u001b[0;34m(\u001b[0m\u001b[0mts\u001b[0m\u001b[0;34m+\u001b[0m\u001b[0;36m72\u001b[0m\u001b[0;34m,\u001b[0m\u001b[0mte\u001b[0m\u001b[0;34m+\u001b[0m\u001b[0;36m72\u001b[0m\u001b[0;34m,\u001b[0m\u001b[0;36m72\u001b[0m\u001b[0;34m)\u001b[0m\u001b[0;34m,\u001b[0m\u001b[0;34m\u001b[0m\u001b[0m\n\u001b[0;32m----> 4\u001b[0;31m                       \u001b[0mprefix\u001b[0m\u001b[0;34m=\u001b[0m\u001b[0;34m[\u001b[0m\u001b[0;34m'SF01D'\u001b[0m\u001b[0;34m]\u001b[0m\u001b[0;34m,\u001b[0m \u001b[0mdelta_t\u001b[0m\u001b[0;34m=\u001b[0m\u001b[0mdt\u001b[0m\u001b[0;34m\u001b[0m\u001b[0m\n\u001b[0m\u001b[1;32m      5\u001b[0m                       )\n\u001b[1;32m      6\u001b[0m \u001b[0mdsSF\u001b[0m\u001b[0;34m\u001b[0m\u001b[0m\n",
      "\u001b[0;32m~/xmitgcm/xmitgcm/mds_store.py\u001b[0m in \u001b[0;36mopen_mdsdataset\u001b[0;34m(data_dir, grid_dir, iters, prefix, read_grid, delta_t, ref_date, calendar, geometry, grid_vars_to_coords, swap_dims, endian, chunks, ignore_unknown_vars, default_dtype, nx, ny, nz, llc_method)\u001b[0m\n\u001b[1;32m    140\u001b[0m                 \u001b[0;32mfor\u001b[0m \u001b[0miternum\u001b[0m \u001b[0;32min\u001b[0m \u001b[0miters\u001b[0m\u001b[0;34m:\u001b[0m\u001b[0;34m\u001b[0m\u001b[0m\n\u001b[1;32m    141\u001b[0m                     these_prefixes = _get_all_matching_prefixes(\n\u001b[0;32m--> 142\u001b[0;31m                         \u001b[0mdata_dir\u001b[0m\u001b[0;34m,\u001b[0m \u001b[0miternum\u001b[0m\u001b[0;34m,\u001b[0m \u001b[0mprefix\u001b[0m\u001b[0;34m\u001b[0m\u001b[0m\n\u001b[0m\u001b[1;32m    143\u001b[0m                     )\n\u001b[1;32m    144\u001b[0m                     \u001b[0;31m# don't care about order\u001b[0m\u001b[0;34m\u001b[0m\u001b[0;34m\u001b[0m\u001b[0m\n",
      "\u001b[0;32m~/xmitgcm/xmitgcm/mds_store.py\u001b[0m in \u001b[0;36m_get_all_matching_prefixes\u001b[0;34m(data_dir, iternum, file_prefixes, ignore_pickup)\u001b[0m\n\u001b[1;32m    779\u001b[0m         \u001b[0;32mreturn\u001b[0m \u001b[0;34m[\u001b[0m\u001b[0;34m]\u001b[0m\u001b[0;34m\u001b[0m\u001b[0m\n\u001b[1;32m    780\u001b[0m     \u001b[0mprefixes\u001b[0m \u001b[0;34m=\u001b[0m \u001b[0mset\u001b[0m\u001b[0;34m(\u001b[0m\u001b[0;34m)\u001b[0m\u001b[0;34m\u001b[0m\u001b[0m\n\u001b[0;32m--> 781\u001b[0;31m     \u001b[0mall_datafiles\u001b[0m \u001b[0;34m=\u001b[0m \u001b[0mglob\u001b[0m\u001b[0;34m(\u001b[0m\u001b[0mos\u001b[0m\u001b[0;34m.\u001b[0m\u001b[0mpath\u001b[0m\u001b[0;34m.\u001b[0m\u001b[0mjoin\u001b[0m\u001b[0;34m(\u001b[0m\u001b[0mdata_dir\u001b[0m\u001b[0;34m,\u001b[0m \u001b[0;34m'*.%010d.data'\u001b[0m \u001b[0;34m%\u001b[0m \u001b[0miternum\u001b[0m\u001b[0;34m)\u001b[0m\u001b[0;34m)\u001b[0m\u001b[0;34m\u001b[0m\u001b[0m\n\u001b[0m\u001b[1;32m    782\u001b[0m     \u001b[0;32mfor\u001b[0m \u001b[0mf\u001b[0m \u001b[0;32min\u001b[0m \u001b[0mall_datafiles\u001b[0m\u001b[0;34m:\u001b[0m\u001b[0;34m\u001b[0m\u001b[0m\n\u001b[1;32m    783\u001b[0m         \u001b[0miternum\u001b[0m \u001b[0;34m=\u001b[0m \u001b[0mint\u001b[0m\u001b[0;34m(\u001b[0m\u001b[0mf\u001b[0m\u001b[0;34m[\u001b[0m\u001b[0;34m-\u001b[0m\u001b[0;36m15\u001b[0m\u001b[0;34m:\u001b[0m\u001b[0;34m-\u001b[0m\u001b[0;36m5\u001b[0m\u001b[0;34m]\u001b[0m\u001b[0;34m)\u001b[0m\u001b[0;34m\u001b[0m\u001b[0m\n",
      "\u001b[0;32m~/miniconda3/envs/uptodate/lib/python3.6/glob.py\u001b[0m in \u001b[0;36mglob\u001b[0;34m(pathname, recursive)\u001b[0m\n\u001b[1;32m     18\u001b[0m     \u001b[0mzero\u001b[0m \u001b[0;32mor\u001b[0m \u001b[0mmore\u001b[0m \u001b[0mdirectories\u001b[0m \u001b[0;32mand\u001b[0m \u001b[0msubdirectories\u001b[0m\u001b[0;34m.\u001b[0m\u001b[0;34m\u001b[0m\u001b[0m\n\u001b[1;32m     19\u001b[0m     \"\"\"\n\u001b[0;32m---> 20\u001b[0;31m     \u001b[0;32mreturn\u001b[0m \u001b[0mlist\u001b[0m\u001b[0;34m(\u001b[0m\u001b[0miglob\u001b[0m\u001b[0;34m(\u001b[0m\u001b[0mpathname\u001b[0m\u001b[0;34m,\u001b[0m \u001b[0mrecursive\u001b[0m\u001b[0;34m=\u001b[0m\u001b[0mrecursive\u001b[0m\u001b[0;34m)\u001b[0m\u001b[0;34m)\u001b[0m\u001b[0;34m\u001b[0m\u001b[0m\n\u001b[0m\u001b[1;32m     21\u001b[0m \u001b[0;34m\u001b[0m\u001b[0m\n\u001b[1;32m     22\u001b[0m \u001b[0;32mdef\u001b[0m \u001b[0miglob\u001b[0m\u001b[0;34m(\u001b[0m\u001b[0mpathname\u001b[0m\u001b[0;34m,\u001b[0m \u001b[0;34m*\u001b[0m\u001b[0;34m,\u001b[0m \u001b[0mrecursive\u001b[0m\u001b[0;34m=\u001b[0m\u001b[0;32mFalse\u001b[0m\u001b[0;34m)\u001b[0m\u001b[0;34m:\u001b[0m\u001b[0;34m\u001b[0m\u001b[0m\n",
      "\u001b[0;32m~/miniconda3/envs/uptodate/lib/python3.6/glob.py\u001b[0m in \u001b[0;36m_iglob\u001b[0;34m(pathname, recursive, dironly)\u001b[0m\n\u001b[1;32m     70\u001b[0m         \u001b[0mglob_in_dir\u001b[0m \u001b[0;34m=\u001b[0m \u001b[0m_glob0\u001b[0m\u001b[0;34m\u001b[0m\u001b[0m\n\u001b[1;32m     71\u001b[0m     \u001b[0;32mfor\u001b[0m \u001b[0mdirname\u001b[0m \u001b[0;32min\u001b[0m \u001b[0mdirs\u001b[0m\u001b[0;34m:\u001b[0m\u001b[0;34m\u001b[0m\u001b[0m\n\u001b[0;32m---> 72\u001b[0;31m         \u001b[0;32mfor\u001b[0m \u001b[0mname\u001b[0m \u001b[0;32min\u001b[0m \u001b[0mglob_in_dir\u001b[0m\u001b[0;34m(\u001b[0m\u001b[0mdirname\u001b[0m\u001b[0;34m,\u001b[0m \u001b[0mbasename\u001b[0m\u001b[0;34m,\u001b[0m \u001b[0mdironly\u001b[0m\u001b[0;34m)\u001b[0m\u001b[0;34m:\u001b[0m\u001b[0;34m\u001b[0m\u001b[0m\n\u001b[0m\u001b[1;32m     73\u001b[0m             \u001b[0;32myield\u001b[0m \u001b[0mos\u001b[0m\u001b[0;34m.\u001b[0m\u001b[0mpath\u001b[0m\u001b[0;34m.\u001b[0m\u001b[0mjoin\u001b[0m\u001b[0;34m(\u001b[0m\u001b[0mdirname\u001b[0m\u001b[0;34m,\u001b[0m \u001b[0mname\u001b[0m\u001b[0;34m)\u001b[0m\u001b[0;34m\u001b[0m\u001b[0m\n\u001b[1;32m     74\u001b[0m \u001b[0;34m\u001b[0m\u001b[0m\n",
      "\u001b[0;32m~/miniconda3/envs/uptodate/lib/python3.6/glob.py\u001b[0m in \u001b[0;36m_glob1\u001b[0;34m(dirname, pattern, dironly)\u001b[0m\n\u001b[1;32m     81\u001b[0m     \u001b[0;32mif\u001b[0m \u001b[0;32mnot\u001b[0m \u001b[0m_ishidden\u001b[0m\u001b[0;34m(\u001b[0m\u001b[0mpattern\u001b[0m\u001b[0;34m)\u001b[0m\u001b[0;34m:\u001b[0m\u001b[0;34m\u001b[0m\u001b[0m\n\u001b[1;32m     82\u001b[0m         \u001b[0mnames\u001b[0m \u001b[0;34m=\u001b[0m \u001b[0;34m(\u001b[0m\u001b[0mx\u001b[0m \u001b[0;32mfor\u001b[0m \u001b[0mx\u001b[0m \u001b[0;32min\u001b[0m \u001b[0mnames\u001b[0m \u001b[0;32mif\u001b[0m \u001b[0;32mnot\u001b[0m \u001b[0m_ishidden\u001b[0m\u001b[0;34m(\u001b[0m\u001b[0mx\u001b[0m\u001b[0;34m)\u001b[0m\u001b[0;34m)\u001b[0m\u001b[0;34m\u001b[0m\u001b[0m\n\u001b[0;32m---> 83\u001b[0;31m     \u001b[0;32mreturn\u001b[0m \u001b[0mfnmatch\u001b[0m\u001b[0;34m.\u001b[0m\u001b[0mfilter\u001b[0m\u001b[0;34m(\u001b[0m\u001b[0mnames\u001b[0m\u001b[0;34m,\u001b[0m \u001b[0mpattern\u001b[0m\u001b[0;34m)\u001b[0m\u001b[0;34m\u001b[0m\u001b[0m\n\u001b[0m\u001b[1;32m     84\u001b[0m \u001b[0;34m\u001b[0m\u001b[0m\n\u001b[1;32m     85\u001b[0m \u001b[0;32mdef\u001b[0m \u001b[0m_glob0\u001b[0m\u001b[0;34m(\u001b[0m\u001b[0mdirname\u001b[0m\u001b[0;34m,\u001b[0m \u001b[0mbasename\u001b[0m\u001b[0;34m,\u001b[0m \u001b[0mdironly\u001b[0m\u001b[0;34m)\u001b[0m\u001b[0;34m:\u001b[0m\u001b[0;34m\u001b[0m\u001b[0m\n",
      "\u001b[0;32m~/miniconda3/envs/uptodate/lib/python3.6/fnmatch.py\u001b[0m in \u001b[0;36mfilter\u001b[0;34m(names, pat)\u001b[0m\n\u001b[1;32m     54\u001b[0m         \u001b[0;31m# normcase on posix is NOP. Optimize it away from the loop.\u001b[0m\u001b[0;34m\u001b[0m\u001b[0;34m\u001b[0m\u001b[0m\n\u001b[1;32m     55\u001b[0m         \u001b[0;32mfor\u001b[0m \u001b[0mname\u001b[0m \u001b[0;32min\u001b[0m \u001b[0mnames\u001b[0m\u001b[0;34m:\u001b[0m\u001b[0;34m\u001b[0m\u001b[0m\n\u001b[0;32m---> 56\u001b[0;31m             \u001b[0;32mif\u001b[0m \u001b[0mmatch\u001b[0m\u001b[0;34m(\u001b[0m\u001b[0mname\u001b[0m\u001b[0;34m)\u001b[0m\u001b[0;34m:\u001b[0m\u001b[0;34m\u001b[0m\u001b[0m\n\u001b[0m\u001b[1;32m     57\u001b[0m                 \u001b[0mresult\u001b[0m\u001b[0;34m.\u001b[0m\u001b[0mappend\u001b[0m\u001b[0;34m(\u001b[0m\u001b[0mname\u001b[0m\u001b[0;34m)\u001b[0m\u001b[0;34m\u001b[0m\u001b[0m\n\u001b[1;32m     58\u001b[0m     \u001b[0;32melse\u001b[0m\u001b[0;34m:\u001b[0m\u001b[0;34m\u001b[0m\u001b[0m\n",
      "\u001b[0;31mKeyboardInterrupt\u001b[0m: "
     ]
    }
   ],
   "source": [
    "dsSF = open_mdsdataset(op.join(ddir,'Phys-only_20km'),\n",
    "                      grid_dir=op.join(ddir,'20km_grid'),\n",
    "                      iters=range(ts+72,te+72,72),\n",
    "                      prefix=['SF01D'], delta_t=dt\n",
    "                      )\n",
    "dsSF"
   ]
  },
  {
   "cell_type": "code",
   "execution_count": 26,
   "metadata": {},
   "outputs": [
    {
     "data": {
      "text/plain": [
       "[<matplotlib.lines.Line2D at 0x7fa6a4173208>]"
      ]
     },
     "execution_count": 26,
     "metadata": {},
     "output_type": "execute_result"
    },
    {
     "data": {
      "image/png": "[encoded data removed]",
      "text/plain": [
       "<Figure size 432x288 with 1 Axes>"
      ]
     },
     "metadata": {},
     "output_type": "display_data"
    }
   ],
   "source": [
    "tau = dsSF.oceTAUX\n",
    "tau.coords['days'] = ('time', np.tile(range(360),dy))\n",
    "tau[:,49].groupby('days').mean(['time','XG']).plot()"
   ]
  },
  {
   "cell_type": "markdown",
   "metadata": {},
   "source": [
    "# Energy Transfer\n",
    "## Spectral"
   ]
  },
  {
   "cell_type": "code",
   "execution_count": 25,
   "metadata": {},
   "outputs": [
    {
     "name": "stderr",
     "output_type": "stream",
     "text": [
      "/home/takaya/xmitgcm/xmitgcm/mds_store.py:721: UserWarning: Couldn't find available_diagnostics.log in /swot/SUM05/takaya/MITgcm/channel/runs/MOMadv_20km. Using default version.\n",
      "  \"in %s. Using default version.\" % data_dir)\n",
      "/home/takaya/xmitgcm/xmitgcm/utils.py:314: UserWarning: Not sure what to do with rlev = L\n",
      "  warnings.warn(\"Not sure what to do with rlev = \" + rlev)\n",
      "/home/takaya/xmitgcm/xmitgcm/mds_store.py:235: FutureWarning: iteration over an xarray.Dataset will change in xarray v0.11 to only include data variables, not coordinates. Iterate over the Dataset.variables property instead to preserve existing behavior in a forwards compatible manner.\n",
      "  for vname in ds:\n"
     ]
    },
    {
     "data": {
      "text/plain": [
       "<xarray.Dataset>\n",
       "Dimensions:   (XC: 50, XG: 50, YC: 100, YG: 100, Z: 40, Zl: 40, Zp1: 41, Zu: 40, time: 240)\n",
       "Coordinates:\n",
       "  * XC        (XC) >f4 10000.0 30000.0 50000.0 70000.0 90000.0 110000.0 ...\n",
       "  * YC        (YC) >f4 10000.0 30000.0 50000.0 70000.0 90000.0 110000.0 ...\n",
       "  * XG        (XG) >f4 0.0 20000.0 40000.0 60000.0 80000.0 100000.0 120000.0 ...\n",
       "  * YG        (YG) >f4 0.0 20000.0 40000.0 60000.0 80000.0 100000.0 120000.0 ...\n",
       "  * Z         (Z) >f4 -5.0 -15.0 -25.0 -36.0 -49.0 -64.0 -81.5 -102.0 -126.0 ...\n",
       "  * Zp1       (Zp1) >f4 0.0 -10.0 -20.0 -30.0 -42.0 -56.0 -72.0 -91.0 -113.0 ...\n",
       "  * Zu        (Zu) >f4 -10.0 -20.0 -30.0 -42.0 -56.0 -72.0 -91.0 -113.0 ...\n",
       "  * Zl        (Zl) >f4 0.0 -10.0 -20.0 -30.0 -42.0 -56.0 -72.0 -91.0 -113.0 ...\n",
       "    rA        (YC, XC) >f4 dask.array<shape=(100, 50), chunksize=(100, 50)>\n",
       "    dxG       (YG, XC) >f4 dask.array<shape=(100, 50), chunksize=(100, 50)>\n",
       "    dyG       (YC, XG) >f4 dask.array<shape=(100, 50), chunksize=(100, 50)>\n",
       "    Depth     (YC, XC) >f4 dask.array<shape=(100, 50), chunksize=(100, 50)>\n",
       "    rAz       (YG, XG) >f4 dask.array<shape=(100, 50), chunksize=(100, 50)>\n",
       "    dxC       (YC, XG) >f4 dask.array<shape=(100, 50), chunksize=(100, 50)>\n",
       "    dyC       (YG, XC) >f4 dask.array<shape=(100, 50), chunksize=(100, 50)>\n",
       "    rAw       (YC, XG) >f4 dask.array<shape=(100, 50), chunksize=(100, 50)>\n",
       "    rAs       (YG, XC) >f4 dask.array<shape=(100, 50), chunksize=(100, 50)>\n",
       "    drC       (Zp1) >f4 dask.array<shape=(41,), chunksize=(41,)>\n",
       "    drF       (Z) >f4 dask.array<shape=(40,), chunksize=(40,)>\n",
       "    PHrefC    (Z) >f4 dask.array<shape=(40,), chunksize=(40,)>\n",
       "    PHrefF    (Zp1) >f4 dask.array<shape=(41,), chunksize=(41,)>\n",
       "    hFacC     (Z, YC, XC) >f4 dask.array<shape=(40, 100, 50), chunksize=(40, 100, 50)>\n",
       "    hFacW     (Z, YC, XG) >f4 dask.array<shape=(40, 100, 50), chunksize=(40, 100, 50)>\n",
       "    hFacS     (Z, YG, XC) >f4 dask.array<shape=(40, 100, 50), chunksize=(40, 100, 50)>\n",
       "    iter      (time) int64 dask.array<shape=(240,), chunksize=(1,)>\n",
       "  * time      (time) float64 2.986e+09 2.987e+09 2.989e+09 2.99e+09 ...\n",
       "Data variables:\n",
       "    Um_Advec  (time, Z, YC, XG) float32 dask.array<shape=(240, 40, 100, 50), chunksize=(1, 40, 100, 50)>\n",
       "    Vm_Advec  (time, Z, YG, XC) float32 dask.array<shape=(240, 40, 100, 50), chunksize=(1, 40, 100, 50)>"
      ]
     },
     "execution_count": 25,
     "metadata": {},
     "output_type": "execute_result"
    }
   ],
   "source": [
    "dsadv = open_mdsdataset(op.join(ddir,'MOMadv_20km'), grid_dir=op.join(ddir,'20km_grid'),\n",
    "                       iters=range(ts,te,1080), prefix=['UVadvsnap'], delta_t=dt\n",
    "                       )\n",
    "dsadv"
   ]
  },
  {
   "cell_type": "code",
   "execution_count": 26,
   "metadata": {},
   "outputs": [
    {
     "data": {
      "text/plain": [
       "OrderedDict([('standard_name', 'Um_Advec'),\n",
       "             ('long_name', 'U momentum tendency from Advection terms'),\n",
       "             ('units', 'm/s^2'),\n",
       "             ('mate', 'Vm_Advec')])"
      ]
     },
     "execution_count": 26,
     "metadata": {},
     "output_type": "execute_result"
    }
   ],
   "source": [
    "dsadv.Um_Advec.attrs"
   ]
  },
  {
   "cell_type": "code",
   "execution_count": 27,
   "metadata": {},
   "outputs": [
    {
     "name": "stderr",
     "output_type": "stream",
     "text": [
      "/home/takaya/xrft/xrft/xrft.py:272: FutureWarning: xarray.DataArray.__contains__ currently checks membership in DataArray.coords, but in xarray v0.11 will change to check membership in array values.\n",
      "  elif d in da:\n",
      "/home/takaya/xrft/xrft/xrft.py:272: FutureWarning: xarray.DataArray.__contains__ currently checks membership in DataArray.coords, but in xarray v0.11 will change to check membership in array values.\n",
      "  elif d in da:\n"
     ]
    },
    {
     "name": "stdout",
     "output_type": "stream",
     "text": [
      "[########################################] | 100% Completed |  6.8s\n"
     ]
    },
    {
     "name": "stderr",
     "output_type": "stream",
     "text": [
      "/home/takaya/xrft/xrft/xrft.py:272: FutureWarning: xarray.DataArray.__contains__ currently checks membership in DataArray.coords, but in xarray v0.11 will change to check membership in array values.\n",
      "  elif d in da:\n",
      "/home/takaya/xrft/xrft/xrft.py:272: FutureWarning: xarray.DataArray.__contains__ currently checks membership in DataArray.coords, but in xarray v0.11 will change to check membership in array values.\n",
      "  elif d in da:\n"
     ]
    },
    {
     "name": "stdout",
     "output_type": "stream",
     "text": [
      "[########################################] | 100% Completed |  2.8s\n"
     ]
    },
    {
     "data": {
      "text/plain": [
       "<xarray.DataArray (time: 120, Z: 40, YC: 40, freq_XC: 50)>\n",
       "array([[[[ 1.084202e-16, ...,  5.803220e-09],\n",
       "         ...,\n",
       "         [ 1.219727e-16, ...,  2.173615e-09]],\n",
       "\n",
       "        ...,\n",
       "\n",
       "        [[-1.242456e-26, ...,  4.183124e-11],\n",
       "         ...,\n",
       "         [ 8.300923e-18, ..., -7.164558e-11]]],\n",
       "\n",
       "\n",
       "       ...,\n",
       "\n",
       "\n",
       "       [[[-1.517883e-16, ...,  1.124930e-08],\n",
       "         ...,\n",
       "         [-2.602085e-16, ...,  6.191827e-09]],\n",
       "\n",
       "        ...,\n",
       "\n",
       "        [[ 8.809143e-18, ...,  1.967097e-11],\n",
       "         ...,\n",
       "         [ 3.049319e-18, ...,  1.176491e-10]]]])\n",
       "Coordinates:\n",
       "  * time             (time) float64 2.986e+09 2.989e+09 2.991e+09 2.994e+09 ...\n",
       "  * Z                (Z) >f4 -5.0 -15.0 -25.0 -36.0 -49.0 -64.0 -81.5 -102.0 ...\n",
       "  * YC               (YC) >f4 610000.0 630000.0 650000.0 670000.0 690000.0 ...\n",
       "  * freq_XC          (freq_XC) float64 -2.5e-05 -2.4e-05 -2.3e-05 -2.2e-05 ...\n",
       "    freq_XC_spacing  float64 1e-06"
      ]
     },
     "execution_count": 27,
     "metadata": {},
     "output_type": "execute_result"
    }
   ],
   "source": [
    "with ProgressBar():\n",
    "    uuadv = xrft.cross_spectrum(grid.interp(u,'X').sel(YC=slice(6e5,14e5)), \n",
    "                                grid.interp(dsadv.Um_Advec,'X').sel(YC=slice(6e5,14e5)),\n",
    "                                dim=['XC'], detrend='constant').compute()\n",
    "    vvadv = xrft.cross_spectrum(grid.interp(v,'Y',boundary='fill').sel(YC=slice(6e5,14e5)), \n",
    "                                grid.interp(dsadv.Vm_Advec,'Y',boundary='fill').sel(YC=slice(6e5,14e5)),\n",
    "                                dim=['XC'], detrend='constant').compute()\n",
    "uuadv"
   ]
  },
  {
   "cell_type": "code",
   "execution_count": 28,
   "metadata": {},
   "outputs": [
    {
     "data": {
      "text/plain": [
       "<xarray.DataArray (time: 120, Z: 40, YC: 40, freq_XC: 50)>\n",
       "array([[[[-5.255424e-07, ...,  5.243099e-07],\n",
       "         ...,\n",
       "         [-1.674782e-06, ...,  4.487669e-07]],\n",
       "\n",
       "        ...,\n",
       "\n",
       "        [[-2.596279e-09, ...,  3.994823e-09],\n",
       "         ...,\n",
       "         [ 7.291239e-09, ...,  7.158277e-09]]],\n",
       "\n",
       "\n",
       "       ...,\n",
       "\n",
       "\n",
       "       [[[-4.956787e-07, ...,  1.320461e-06],\n",
       "         ...,\n",
       "         [ 4.762089e-07, ...,  5.526663e-06]],\n",
       "\n",
       "        ...,\n",
       "\n",
       "        [[-1.789007e-09, ..., -1.901399e-09],\n",
       "         ...,\n",
       "         [-3.528089e-10, ..., -1.015463e-08]]]])\n",
       "Coordinates:\n",
       "  * time             (time) float64 2.986e+09 2.989e+09 2.991e+09 2.994e+09 ...\n",
       "  * Z                (Z) >f4 -5.0 -15.0 -25.0 -36.0 -49.0 -64.0 -81.5 -102.0 ...\n",
       "  * YC               (YC) >f4 610000.0 630000.0 650000.0 670000.0 690000.0 ...\n",
       "  * freq_XC          (freq_XC) float64 -2.5e-05 -2.4e-05 -2.3e-05 -2.2e-05 ...\n",
       "    freq_XC_spacing  float64 1e-06"
      ]
     },
     "execution_count": 28,
     "metadata": {},
     "output_type": "execute_result"
    }
   ],
   "source": [
    "spectran = uuadv + vvadv\n",
    "spectran"
   ]
  },
  {
   "cell_type": "code",
   "execution_count": 76,
   "metadata": {},
   "outputs": [
    {
     "data": {
      "text/plain": [
       "<xarray.DataArray (time: 240, Z: 40, YC: 40, freq_XC: 24)>\n",
       "array([[[[ 2.241813e-08, ...,  0.000000e+00],\n",
       "         ...,\n",
       "         [ 6.189096e-08, ...,  0.000000e+00]],\n",
       "\n",
       "        ...,\n",
       "\n",
       "        [[-2.201424e-09, ...,  0.000000e+00],\n",
       "         ...,\n",
       "         [-6.999537e-09, ...,  0.000000e+00]]],\n",
       "\n",
       "\n",
       "       ...,\n",
       "\n",
       "\n",
       "       [[[-1.212532e-07, ...,  0.000000e+00],\n",
       "         ...,\n",
       "         [-4.525893e-08, ...,  0.000000e+00]],\n",
       "\n",
       "        ...,\n",
       "\n",
       "        [[ 2.908647e-09, ...,  0.000000e+00],\n",
       "         ...,\n",
       "         [ 3.026046e-09, ...,  0.000000e+00]]]])\n",
       "Coordinates:\n",
       "  * time             (time) float64 2.115e+09 2.116e+09 2.118e+09 2.119e+09 ...\n",
       "  * Z                (Z) >f4 -5.0 -15.0 -25.0 -36.0 -49.0 -64.0 -81.5 -102.0 ...\n",
       "  * YC               (YC) >f4 610000.0 630000.0 650000.0 670000.0 690000.0 ...\n",
       "  * freq_XC          (freq_XC) float64 1e-06 2e-06 3e-06 4e-06 5e-06 6e-06 ...\n",
       "    freq_XC_spacing  float64 1e-06"
      ]
     },
     "execution_count": 76,
     "metadata": {},
     "output_type": "execute_result"
    }
   ],
   "source": [
    "specKEflux = (-(spectran*spectran.freq_XC)[:,:,:,26:].cumsum(axis=-1) \n",
    "              + (spectran*spectran.freq_XC)[:,:,:,26:].sum(axis=-1).data[:,:,:,np.newaxis])\n",
    "specKEflux"
   ]
  },
  {
   "cell_type": "code",
   "execution_count": 77,
   "metadata": {},
   "outputs": [
    {
     "data": {
      "text/plain": [
       "<xarray.DataArray (seas: 4, Z: 40, freq_XC: 24)>\n",
       "array([[[-1.083374e-08, -1.258382e-08, ...,  3.877646e-11,  0.000000e+00],\n",
       "        [-1.159763e-08, -1.337991e-08, ...,  3.932403e-11,  0.000000e+00],\n",
       "        ...,\n",
       "        [-5.780700e-10, -7.086897e-10, ...,  1.600652e-13,  0.000000e+00],\n",
       "        [ 2.625612e-09,  2.196217e-09, ...,  2.644390e-13,  0.000000e+00]],\n",
       "\n",
       "       [[ 2.461402e-09, -3.467581e-10, ...,  2.731046e-11,  0.000000e+00],\n",
       "        [ 1.005634e-09, -1.725774e-09, ...,  2.736903e-11,  0.000000e+00],\n",
       "        ...,\n",
       "        [-1.653042e-10, -1.643432e-10, ...,  4.502104e-14,  0.000000e+00],\n",
       "        [ 2.804301e-09,  2.508927e-09, ...,  8.181696e-14,  0.000000e+00]],\n",
       "\n",
       "       [[ 8.223284e-09,  3.489053e-09, ...,  4.690604e-11,  0.000000e+00],\n",
       "        [ 6.107603e-09,  1.542980e-09, ...,  4.736887e-11,  0.000000e+00],\n",
       "        ...,\n",
       "        [-1.906117e-10, -4.496029e-10, ...,  2.398673e-13,  0.000000e+00],\n",
       "        [ 3.139586e-09,  2.569302e-09, ...,  4.147081e-13,  0.000000e+00]],\n",
       "\n",
       "       [[-9.597063e-10, -3.073502e-09, ...,  4.689439e-11,  0.000000e+00],\n",
       "        [-2.184618e-09, -4.254319e-09, ...,  4.802632e-11,  0.000000e+00],\n",
       "        ...,\n",
       "        [ 9.530670e-12, -4.997556e-11, ...,  1.534712e-13,  0.000000e+00],\n",
       "        [ 3.318864e-09,  2.952454e-09, ...,  2.225278e-13,  0.000000e+00]]])\n",
       "Coordinates:\n",
       "  * Z                (Z) >f4 -5.0 -15.0 -25.0 -36.0 -49.0 -64.0 -81.5 -102.0 ...\n",
       "  * freq_XC          (freq_XC) float64 1e-06 2e-06 3e-06 4e-06 5e-06 6e-06 ...\n",
       "    freq_XC_spacing  float64 1e-06\n",
       "  * seas             (seas) int64 0 1 2 3"
      ]
     },
     "execution_count": 77,
     "metadata": {},
     "output_type": "execute_result"
    }
   ],
   "source": [
    "specKEflux.coords['seas'] = ('time',np.tile(np.repeat(range(4),6),10))\n",
    "specKE_seas = specKEflux.sel(YC=slice(6e5,14e5)).groupby('seas').mean(['time','YC']).compute()\n",
    "specKE_clim = specKEflux.sel(YC=slice(6e5,14e5)).mean(['time','YC']).compute()\n",
    "specKE_seas"
   ]
  },
  {
   "cell_type": "code",
   "execution_count": 79,
   "metadata": {},
   "outputs": [
    {
     "name": "stderr",
     "output_type": "stream",
     "text": [
      "/home/takaya/miniconda3/envs/uptodate/lib/python3.6/site-packages/matplotlib/figure.py:2299: UserWarning: This figure includes Axes that are not compatible with tight_layout, so results might be incorrect.\n",
      "  warnings.warn(\"This figure includes Axes that are not compatible \"\n"
     ]
    },
    {
     "data": {
      "image/png": "[encoded data removed]",
      "text/plain": [
       "<Figure size 504x360 with 1 Axes>"
      ]
     },
     "metadata": {},
     "output_type": "display_data"
    }
   ],
   "source": [
    "fig, ax = plt.subplots(figsize=(7,5))\n",
    "fig.set_tight_layout(True)\n",
    "ax.plot(specKE_seas.freq_XC*1e3, specKE_seas[0,0], 'r', label=r'JFM')\n",
    "ax.plot(specKE_seas.freq_XC*1e3, specKE_seas[2,0],'b', label=r'JAS')\n",
    "ax.plot(specKE_seas.freq_XC*1e3, specKE_seas[1,0], color='brown', label=r'AMJ')\n",
    "ax.plot(specKE_seas.freq_XC*1e3, specKE_seas[3,0],'g', label=r'OND')\n",
    "ax.plot(specKE_clim.freq_XC*1e3, specKE_clim[0],'k', label=r'climatology')\n",
    "ax.set_xscale('log')\n",
    "# ax.set_yscale('symlog', linthreshy=1e-8)\n",
    "ax.set_xlabel(r'k [cpkm]',fontsize=12)\n",
    "ax.set_ylabel(r'[m$^2$ s$^{-3}$]',fontsize=12)\n",
    "ax.legend(loc='lower right',fontsize=12)\n",
    "ax.set_title(r\"$\\int_{\\kappa>k}\\ [\\hat{u}\\hat{({\\bf u}\\cdot \\nabla u)}^*+\\hat{v}\\hat{({\\bf u}\\cdot \\nabla v)}^*]\\ d\\kappa$\",\n",
    "            fontsize=14)\n",
    "ax.grid(True)"
   ]
  },
  {
   "cell_type": "markdown",
   "metadata": {},
   "source": [
    "## Structure Functional"
   ]
  },
  {
   "cell_type": "code",
   "execution_count": 84,
   "metadata": {},
   "outputs": [],
   "source": [
    "Ttave = dsave.THETA\n",
    "Ttave.coords['seas'] = ('time',np.repeat(np.tile(range(4),90),10))\n",
    "Ttave_seas = Ttave.groupby('seas').mean(['time','XC'])\n",
    "g = 9.81\n",
    "alpha = 2e-4\n",
    "with ProgressBar():\n",
    "    N2 = grid.interp(alpha*g * grid.diff(Ttave_seas,'Z',boundary='fill')\n",
    "                    / grid.diff(Ttave_seas.Z,'Z',boundary='fill'),\n",
    "                    'Z',boundary='fill').compute()"
   ]
  },
  {
   "cell_type": "code",
   "execution_count": 85,
   "metadata": {},
   "outputs": [
    {
     "data": {
      "text/plain": [
       "<matplotlib.collections.QuadMesh at 0x7f94846a0eb8>"
      ]
     },
     "execution_count": 85,
     "metadata": {},
     "output_type": "execute_result"
    },
    {
     "data": {
      "image/png": "[encoded data removed]",
      "text/plain": [
       "<Figure size 432x288 with 2 Axes>"
      ]
     },
     "metadata": {},
     "output_type": "display_data"
    }
   ],
   "source": [
    "N2.mean('seas').plot(vmax=1e-5, vmin=0., cmap='magma')"
   ]
  },
  {
   "cell_type": "code",
   "execution_count": 100,
   "metadata": {},
   "outputs": [
    {
     "name": "stdout",
     "output_type": "stream",
     "text": [
      "[ 20.  60. 100. 140. 180. 220. 260. 300. 340. 380. 420. 460.]\n",
      "20.0 km\n",
      "60.0 km\n",
      "100.0 km\n",
      "140.0 km\n",
      "180.0 km\n",
      "220.0 km\n",
      "260.0 km\n",
      "300.0 km\n",
      "340.0 km\n",
      "380.0 km\n",
      "420.0 km\n",
      "460.0 km\n",
      "[[[ 5.49277456e-06  5.57914836e-06  5.63693402e-06 ... -2.05710464e-07\n",
      "   -2.19610300e-07 -1.82413757e-07]\n",
      "  [ 2.37815315e-04  2.39406450e-04  2.39745903e-04 ...  2.40436248e-06\n",
      "    2.47174080e-06  2.90491607e-06]\n",
      "  [ 8.99708481e-04  9.03123408e-04  9.02345928e-04 ...  2.26300454e-05\n",
      "    2.33542632e-05  2.35091356e-05]\n",
      "  ...\n",
      "  [-2.54988972e-05 -1.66908994e-05 -1.38692785e-05 ... -3.47555397e-05\n",
      "   -3.54553413e-05 -3.59656915e-05]\n",
      "  [-4.48270672e-04 -4.38858115e-04 -4.33734531e-04 ... -5.21966613e-05\n",
      "   -5.30356810e-05 -5.30023499e-05]\n",
      "  [-6.66681270e-04 -6.60018006e-04 -6.55133859e-04 ... -6.61773447e-05\n",
      "   -6.72347160e-05 -6.64843828e-05]]\n",
      "\n",
      " [[-1.56348528e-06 -1.53642429e-06 -1.48877541e-06 ...  1.27083197e-07\n",
      "    1.21356038e-07  1.60536104e-07]\n",
      "  [ 1.24712649e-04  1.23590056e-04  1.21471399e-04 ...  8.14439954e-06\n",
      "    8.36266463e-06  8.49586377e-06]\n",
      "  [ 7.69286649e-04  7.67415448e-04  7.61591829e-04 ...  3.94855924e-05\n",
      "    4.05665523e-05  4.01763755e-05]\n",
      "  ...\n",
      "  [ 8.02475726e-04  8.13566498e-04  8.18452623e-04 ...  5.05918106e-05\n",
      "    5.02396397e-05  5.35020481e-05]\n",
      "  [ 8.15476349e-04  8.30950157e-04  8.38357024e-04 ...  5.89167830e-05\n",
      "    5.85429552e-05  5.92943252e-05]\n",
      "  [ 9.69643879e-04  9.85225779e-04  9.92982299e-04 ...  6.37822814e-05\n",
      "    6.37132689e-05  6.13538723e-05]]\n",
      "\n",
      " [[-5.00363421e-06 -5.10469999e-06 -5.15392367e-06 ... -3.62688496e-07\n",
      "   -3.80804693e-07 -2.97804917e-07]\n",
      "  [ 9.99469485e-05  9.95306254e-05  9.92766290e-05 ...  9.69967459e-07\n",
      "    9.78472826e-07  1.97955546e-06]\n",
      "  [ 6.52640243e-04  6.52631512e-04  6.52050134e-04 ...  2.50119865e-05\n",
      "    2.57705160e-05  2.66452789e-05]\n",
      "  ...\n",
      "  [ 3.30877258e-04  3.26138921e-04  3.21026338e-04 ... -1.20546692e-05\n",
      "   -1.25230436e-05 -1.26300665e-05]\n",
      "  [ 1.13594775e-04  1.06795320e-04  1.03843879e-04 ... -2.66458192e-05\n",
      "   -2.75634702e-05 -2.64984337e-05]\n",
      "  [-2.51602032e-04 -2.63219234e-04 -2.69025477e-04 ... -3.19021783e-05\n",
      "   -3.31527517e-05 -3.00355005e-05]]\n",
      "\n",
      " [[-5.74935711e-06 -5.70090560e-06 -5.63376807e-06 ...  2.14886064e-08\n",
      "    1.10492184e-08  3.24896661e-08]\n",
      "  [ 5.67774405e-05  5.59799082e-05  5.44360591e-05 ...  8.29141027e-06\n",
      "    8.51025470e-06  8.72870805e-06]\n",
      "  [ 5.40119654e-04  5.39449451e-04  5.35934756e-04 ...  3.66723580e-05\n",
      "    3.76855460e-05  3.73213297e-05]\n",
      "  ...\n",
      "  [-2.37278204e-04 -2.46635376e-04 -2.59970344e-04 ... -3.49811380e-05\n",
      "   -3.50567752e-05 -3.77601646e-05]\n",
      "  [-4.81495750e-04 -4.97365370e-04 -5.17654698e-04 ... -4.51227461e-05\n",
      "   -4.51384840e-05 -4.71899511e-05]\n",
      "  [-5.37420972e-04 -5.55094506e-04 -5.76896884e-04 ... -4.91788232e-05\n",
      "   -4.92312065e-05 -4.93439220e-05]]] [[[ 7.22585755e-05 -1.91929773e-03 -3.22967331e-04 ... -2.60682236e-06\n",
      "   -1.87120327e-06 -1.05310994e-06]\n",
      "  [ 3.81200039e-03 -1.69714522e-02 -2.88484851e-03 ... -3.66598251e-05\n",
      "   -2.41977359e-05 -1.20737523e-05]\n",
      "  [ 1.61676388e-02 -2.20829453e-02 -3.81902792e-03 ... -6.72863534e-05\n",
      "   -4.25882608e-05 -1.95415341e-05]\n",
      "  ...\n",
      "  [-2.65182159e-03 -6.50163414e-03 -1.04604533e-03 ...  3.09620082e-05\n",
      "    1.79856088e-05  6.92260983e-06]\n",
      "  [ 3.69291194e-02 -1.90317091e-02 -3.15314811e-03 ...  4.53868688e-06\n",
      "    2.58914156e-07 -9.85714451e-07]\n",
      "  [ 7.49452487e-02 -2.56112348e-02 -4.31365846e-03 ... -2.97184961e-05\n",
      "   -2.20027996e-05 -1.18488388e-05]]\n",
      "\n",
      " [[ 2.83072732e-04 -2.17890413e-03 -3.59486352e-04 ... -2.80323388e-06\n",
      "   -1.88239198e-06 -1.02036472e-06]\n",
      "  [ 8.69497377e-03 -2.08501332e-02 -3.43116000e-03 ... -4.26089391e-05\n",
      "   -2.76461233e-05 -1.37881843e-05]\n",
      "  [ 3.27987336e-02 -3.48264314e-02 -5.77986380e-03 ... -8.16598113e-05\n",
      "   -5.11470607e-05 -2.37066470e-05]\n",
      "  ...\n",
      "  [ 1.89800225e-02  6.30265288e-03  1.12101319e-03 ...  2.45985702e-05\n",
      "    1.35609935e-05  5.50244704e-06]\n",
      "  [ 2.24368833e-02 -5.74259134e-03 -8.83251429e-04 ...  2.46336331e-05\n",
      "    1.28498978e-05  3.92034099e-06]\n",
      "  [ 2.35139523e-02 -1.17778461e-02 -1.93577260e-03 ...  1.44035585e-05\n",
      "    6.52963854e-06  3.64879043e-07]]\n",
      "\n",
      " [[-2.00550974e-04 -1.68912299e-03 -2.74892198e-04 ... -2.74739341e-06\n",
      "   -1.88887930e-06 -1.05078539e-06]\n",
      "  [-6.40372920e-04 -1.58179086e-02 -2.63698492e-03 ... -3.61104721e-05\n",
      "   -2.33002938e-05 -1.19439046e-05]\n",
      "  [-7.06471363e-03 -1.71479080e-02 -2.89410539e-03 ... -6.04517300e-05\n",
      "   -3.69163135e-05 -1.72150048e-05]\n",
      "  ...\n",
      "  [ 3.79502065e-02  5.50707150e-03  1.02173351e-03 ...  2.82728306e-05\n",
      "    1.71155079e-05  6.03249509e-06]\n",
      "  [ 7.43046775e-02 -4.33029840e-03 -6.40252838e-04 ...  2.35677235e-05\n",
      "    1.40762850e-05  5.34713899e-06]\n",
      "  [ 7.51128271e-02 -7.05172354e-03 -1.10267382e-03 ...  1.38143223e-05\n",
      "    8.12336020e-06  2.83039503e-06]]\n",
      "\n",
      " [[-1.49082218e-04 -1.38384744e-03 -2.36490421e-04 ... -2.02376009e-06\n",
      "   -1.42497561e-06 -8.36328581e-07]\n",
      "  [-3.37000308e-03 -1.35110263e-02 -2.32189847e-03 ... -2.95632672e-05\n",
      "   -1.94950480e-05 -1.04212177e-05]\n",
      "  [-1.29787987e-02 -8.63537192e-03 -1.52805878e-03 ... -5.80997548e-05\n",
      "   -3.72336581e-05 -1.78768623e-05]\n",
      "  ...\n",
      "  [-3.83473188e-03  1.95893422e-02  3.28086037e-03 ...  3.68569999e-05\n",
      "    2.07933135e-05  6.62329421e-06]\n",
      "  [ 4.56941407e-03  8.20592884e-03  1.34991214e-03 ...  1.57672293e-05\n",
      "    8.68034385e-06  1.50590051e-06]\n",
      "  [ 1.21219680e-02  3.66532127e-03  6.15606667e-04 ... -5.46299361e-06\n",
      "   -3.52917618e-06 -2.81717371e-06]]]\n"
     ]
    }
   ],
   "source": [
    "N = bp.shape\n",
    "rg = np.arange(1,int(.5*N[-1]),2)\n",
    "res = 2e1\n",
    "print(res*rg)\n",
    "us = np.zeros((4, len(rg), len(dsnap.Z)))\n",
    "vs = np.zeros((4, len(rg), len(dsnap.Z)))\n",
    "ws = np.zeros((4, len(rg), len(dsnap.Z)))\n",
    "bs = np.zeros((4, len(rg), len(dsnap.Z)))\n",
    "N2mean = N2.sel(YC=slice(6e5,14e5)).mean('YC').compute()\n",
    "\n",
    "for i in range(len(rg)):\n",
    "    print(res*rg[i], 'km')\n",
    "    du = grid.interp(up - up.shift(XG=int(rg[i])), 'X')\n",
    "    dv = grid.interp(vp - vp.shift(XC=int(rg[i])), 'Y', boundary='fill')\n",
    "    dw = grid.interp(wp - wp.shift(XC=int(rg[i])), 'Z', boundary='fill')\n",
    "    db = bp - bp.shift(XC=int(rg[i]))\n",
    "    du.coords['seas'] = up.seas\n",
    "    dv.coords['seas'] = vp.seas\n",
    "    dw.coords['seas'] = wp.seas\n",
    "    db.coords['seas'] = bp.seas\n",
    "\n",
    "    us[:,i] = (du**3).sel(YC=slice(6e5,14e5))[:,:,::2,::2].groupby('seas').mean(['time','YC','XC']).compute()\n",
    "    vs[:,i] = (du*dv**2).sel(YC=slice(6e5,14e5))[:,:,::2,::2].groupby('seas').mean(['time','YC','XC']).compute()\n",
    "    ws[:,i] = (du*dw**2).sel(YC=slice(6e5,14e5))[:,:,::2,::2].groupby('seas').mean(['time','YC','XC']).compute()\n",
    "    bs[:,i] = ((du*db**2).sel(YC=slice(6e5,14e5))[:,:,::2,::2].groupby('seas').mean(['time','YC','XC'])\n",
    "             * N2mean**-1).compute()\n",
    "\n",
    "V = us + vs\n",
    "Sl = us\n",
    "St = vs + ws + bs\n",
    "print(us,bs)"
   ]
  },
  {
   "cell_type": "code",
   "execution_count": 115,
   "metadata": {},
   "outputs": [
    {
     "data": {
      "text/plain": [
       "[Text(1,0,'10$^{-13}$'), Text(1,0,'10$^{-12}$')]"
      ]
     },
     "execution_count": 115,
     "metadata": {},
     "output_type": "execute_result"
    },
    {
     "name": "stderr",
     "output_type": "stream",
     "text": [
      "/home/takaya/miniconda3/envs/uptodate/lib/python3.6/site-packages/matplotlib/figure.py:2299: UserWarning: This figure includes Axes that are not compatible with tight_layout, so results might be incorrect.\n",
      "  warnings.warn(\"This figure includes Axes that are not compatible \"\n"
     ]
    },
    {
     "data": {
      "image/png": "[encoded data removed]",
      "text/plain": [
       "<Figure size 1224x360 with 5 Axes>"
      ]
     },
     "metadata": {},
     "output_type": "display_data"
    }
   ],
   "source": [
    "nz = 0 \n",
    "fig, (ax1,ax2) = plt.subplots(nrows=1,ncols=2,figsize=(17,5))\n",
    "fig.set_tight_layout(True)\n",
    "ax3 = ax1.twinx()\n",
    "ax4 = ax2.twinx()\n",
    "ax5 = ax2.twinx()\n",
    "ax5.spines[\"right\"].set_position((\"axes\", 1.2))\n",
    "\n",
    "ax3.plot(5*rg, np.abs((V+bs).mean(axis=0)[:,1]/(2*5*rg)) ,'r-.', \n",
    "        label=r\"|$(\\overline{(\\delta u')^3} + \\overline{\\delta u'(\\delta v')^2} + \\frac{\\overline{\\delta u'(\\delta b')^2}}{N^2})/(2x)$|\"\n",
    "        )\n",
    "for i in range(len(rg)):\n",
    "    if us.mean(axis=0)[i,nz] > 0.:\n",
    "        ax1.scatter(5*rg[i], V.mean(axis=0)[i,nz]/(2*5*rg[i]), marker='+', c='g', s=60.)\n",
    "    else:\n",
    "        ax1.scatter(5*rg[i], np.abs(V.mean(axis=0)[i,nz]/(2*5*rg[i])), marker='o', c='g', s=50.)\n",
    "    if bs.mean(axis=0)[i,nz] > 0.:\n",
    "        ax3.scatter(5*rg[i], bs.mean(axis=0)[i,nz]/(2*5*rg[i]), marker='+', c='r', s=60.)\n",
    "    else:\n",
    "        ax3.scatter(5*rg[i], np.abs(bs.mean(axis=0)[i,nz]/(2*5*rg[i])), marker='o', c='r', s=50.)\n",
    "ax1.set_xscale('log')\n",
    "ax1.set_yscale('log')\n",
    "ax3.set_yscale('log')\n",
    "ax1.set_xlim([3,5e2])\n",
    "ax1.set_ylim([1e-6,1e-3])\n",
    "ax3.set_ylim([1e-6,1e-3])\n",
    "# ax2.set_xlim([1,1e3])\n",
    "ax1.tick_params(axis='y', colors='g')\n",
    "ax1.set_ylabel(r\"$(\\overline{(\\delta u')^3} + \\overline{\\delta u'(\\delta v')^2})/(2x)$\", fontsize=14, color='g')\n",
    "ax3.tick_params(axis='y', colors='r')\n",
    "ax3.set_ylabel(r\"$\\overline{\\delta u'(\\delta b')^2}/(2N^2x)$\", fontsize=14, color='r')\n",
    "ax1.set_xlabel(r\"x [km]\", fontsize=14)\n",
    "ax3.legend(loc='lower left', fontsize=13)\n",
    "ax1.set_xticks([10,100])\n",
    "ax1.set_yticks([1e-6,1e-5])\n",
    "ax1.set_yticks([1e-6,1e-5,1e-4])\n",
    "ax1.set_yticklabels([r\"10$^{-6}$\",r\"10$^{-5}$\",r\"10$^{-4}$\"],{'fontsize':12})\n",
    "ax3.set_yticks([1e-6,1e-5,1e-4])\n",
    "ax3.set_yticklabels([r\"10$^{-6}$\",r\"10$^{-5}$\",r\"10$^{-4}$\"],{'fontsize':12})\n",
    "\n",
    "ax4.plot(5*rg, np.abs((Sl+St).mean(axis=0)[:,1]) ,'r-.', \n",
    "        label=r\"|$S_3^L + S_3^T$|\"\n",
    "        )\n",
    "ax5.plot(5*rg, np.abs((ws).mean(axis=0)[:,1]) ,'y:')\n",
    "for i in range(len(rg)):\n",
    "    if Sl.mean(axis=0)[i,nz] > 0.:\n",
    "        ax2.scatter(5*rg[i], Sl.mean(axis=0)[i,nz], marker='+', c='g', s=60.)\n",
    "    else:\n",
    "        ax2.scatter(5*rg[i], np.abs(Sl.mean(axis=0)[i,nz]), marker='o', c='g', s=50.)\n",
    "    if bs.mean(axis=0)[i,nz] > 0.:\n",
    "        ax4.scatter(5*rg[i], St.mean(axis=0)[i,nz], marker='+', c='r', s=60.)\n",
    "    else:\n",
    "        ax4.scatter(5*rg[i], np.abs(St.mean(axis=0)[i,nz]), marker='o', c='r', s=50.)\n",
    "ax2.set_xscale('log')\n",
    "ax2.set_yscale('log')\n",
    "ax4.set_yscale('log')\n",
    "ax5.set_yscale('log')\n",
    "ax2.set_xlim([3,5e2])\n",
    "ax2.set_ylim([1e-5,5e-3])\n",
    "ax4.set_ylim([1e-3,2e-1])\n",
    "# ax2.set_xlim([1,1e3])\n",
    "ax2.tick_params(axis='y', colors='g')\n",
    "ax2.set_ylabel(r\"$S_3^L$\", fontsize=14, color='g')\n",
    "ax4.tick_params(axis='y', colors='r')\n",
    "ax4.set_ylabel(r\"$S_3^T$\", fontsize=14, color='r')\n",
    "ax5.tick_params(axis='y', colors='y')\n",
    "ax5.set_ylabel(r\"|$\\overline{\\delta u'(\\delta w')^2}$|\", fontsize=14, color='y')\n",
    "ax2.set_xlabel(r\"x [km]\", fontsize=14)\n",
    "ax4.legend(loc='upper left', fontsize=13)\n",
    "ax2.set_xticks([10,100])\n",
    "ax2.set_yticks([1e-5,1e-4,1e-3])\n",
    "ax2.set_xticklabels([r\"10$^1$\",r\"10$^2$\"],{'fontsize':12})\n",
    "ax2.set_yticklabels([r\"10$^{-5}$\",r\"10$^{-4}$\",r\"10$^{-3}$\"],{'fontsize':12})\n",
    "ax4.set_yticks([1e-3,1e-2,1e-1])\n",
    "ax4.set_yticklabels([r\"10$^{-3}$\",r\"10$^{-2}$\",r\"10$^{-1}$\"],{'fontsize':12})\n",
    "ax5.set_yticks([1e-13,1e-12])\n",
    "ax5.set_yticklabels([r\"10$^{-13}$\",r\"10$^{-12}$\"],{'fontsize':12})\n",
    "\n",
    "# plt.savefig(op.join(ddir,'Figures/KE-PEflux.pdf'))"
   ]
  },
  {
   "cell_type": "code",
   "execution_count": 120,
   "metadata": {},
   "outputs": [
    {
     "data": {
      "text/plain": [
       "2115158400.0"
      ]
     },
     "execution_count": 120,
     "metadata": {},
     "output_type": "execute_result"
    }
   ],
   "source": [
    "2.115072000000E+09 + 86400"
   ]
  },
  {
   "cell_type": "code",
   "execution_count": 117,
   "metadata": {},
   "outputs": [
    {
     "data": {
      "text/plain": [
       "68.00277777777778"
      ]
     },
     "execution_count": 117,
     "metadata": {},
     "output_type": "execute_result"
    }
   ],
   "source": [
    "2.115158400000E+09/(360*86400)"
   ]
  },
  {
   "cell_type": "code",
   "execution_count": null,
   "metadata": {},
   "outputs": [],
   "source": []
  }
 ],
 "metadata": {
  "kernelspec": {
   "display_name": "Python 3 (uptodate)",
   "language": "python",
   "name": "uptodate"
  },
  "language_info": {
   "codemirror_mode": {
    "name": "ipython",
    "version": 3
   },
   "file_extension": ".py",
   "mimetype": "text/x-python",
   "name": "python",
   "nbconvert_exporter": "python",
   "pygments_lexer": "ipython3",
   "version": "3.6.4"
  }
 },
 "nbformat": 4,
 "nbformat_minor": 2
}
