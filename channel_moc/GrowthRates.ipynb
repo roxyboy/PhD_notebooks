{
 "cells": [
  {
   "cell_type": "code",
   "execution_count": 1,
   "metadata": {},
   "outputs": [],
   "source": [
    "import numpy as np\n",
    "import xarray as xr\n",
    "from oceanmodes import instability_analysis_from_N2_profile as insta\n",
    "from oceanmodes import neutral_modes_from_N2_profile as neu\n",
    "from scipy.interpolate import PchipInterpolator as pchip\n",
    "import gsw\n",
    "import os.path as op\n",
    "from dask.diagnostics import ProgressBar\n",
    "from xmitgcm import open_mdsdataset\n",
    "from xgcm.grid import Grid\n",
    "import matplotlib.colors as clr\n",
    "import matplotlib.pyplot as plt\n",
    "%matplotlib inline"
   ]
  },
  {
   "cell_type": "code",
   "execution_count": 2,
   "metadata": {},
   "outputs": [],
   "source": [
    "ddir = '/swot/SUM05/takaya/MITgcm/channel/runs/'"
   ]
  },
  {
   "cell_type": "code",
   "execution_count": 3,
   "metadata": {},
   "outputs": [
    {
     "name": "stdout",
     "output_type": "stream",
     "text": [
      "3628800 6013440\n"
     ]
    }
   ],
   "source": [
    "ys, dy = (35,23)\n",
    "dt = 3e2\n",
    "df = 288\n",
    "ts = int((ys*360*86400)/dt)\n",
    "te = int(ts + dy*360*86400/dt)\n",
    "print(ts,te)"
   ]
  },
  {
   "cell_type": "code",
   "execution_count": 4,
   "metadata": {},
   "outputs": [
    {
     "name": "stderr",
     "output_type": "stream",
     "text": [
      "/home/takaya/xmitgcm/xmitgcm/utils.py:314: UserWarning: Not sure what to do with rlev = L\n",
      "  warnings.warn(\"Not sure what to do with rlev = \" + rlev)\n",
      "/home/takaya/xmitgcm/xmitgcm/mds_store.py:235: FutureWarning: iteration over an xarray.Dataset will change in xarray v0.11 to only include data variables, not coordinates. Iterate over the Dataset.variables property instead to preserve existing behavior in a forwards compatible manner.\n",
      "  for vname in ds:\n"
     ]
    },
    {
     "data": {
      "text/plain": [
       "<xarray.Dataset>\n",
       "Dimensions:  (XC: 200, XG: 200, YC: 400, YG: 400, Z: 76, Zl: 76, Zp1: 77, Zu: 76, time: 8280)\n",
       "Coordinates:\n",
       "  * XC       (XC) >f4 2500.0 7500.0 12500.0 17500.0 22500.0 27500.0 32500.0 ...\n",
       "  * YC       (YC) >f4 2500.0 7500.0 12500.0 17500.0 22500.0 27500.0 32500.0 ...\n",
       "  * XG       (XG) >f4 0.0 5000.0 10000.0 15000.0 20000.0 25000.0 30000.0 ...\n",
       "  * YG       (YG) >f4 0.0 5000.0 10000.0 15000.0 20000.0 25000.0 30000.0 ...\n",
       "  * Z        (Z) >f4 -0.5 -1.57 -2.79 -4.185 -5.78 -7.595 -9.66 -12.01 ...\n",
       "  * Zp1      (Zp1) >f4 0.0 -1.0 -2.14 -3.44 -4.93 -6.63 -8.56 -10.76 -13.26 ...\n",
       "  * Zu       (Zu) >f4 -1.0 -2.14 -3.44 -4.93 -6.63 -8.56 -10.76 -13.26 -16.1 ...\n",
       "  * Zl       (Zl) >f4 0.0 -1.0 -2.14 -3.44 -4.93 -6.63 -8.56 -10.76 -13.26 ...\n",
       "    rA       (YC, XC) >f4 dask.array<shape=(400, 200), chunksize=(400, 200)>\n",
       "    dxG      (YG, XC) >f4 dask.array<shape=(400, 200), chunksize=(400, 200)>\n",
       "    dyG      (YC, XG) >f4 dask.array<shape=(400, 200), chunksize=(400, 200)>\n",
       "    Depth    (YC, XC) >f4 dask.array<shape=(400, 200), chunksize=(400, 200)>\n",
       "    rAz      (YG, XG) >f4 dask.array<shape=(400, 200), chunksize=(400, 200)>\n",
       "    dxC      (YC, XG) >f4 dask.array<shape=(400, 200), chunksize=(400, 200)>\n",
       "    dyC      (YG, XC) >f4 dask.array<shape=(400, 200), chunksize=(400, 200)>\n",
       "    rAw      (YC, XG) >f4 dask.array<shape=(400, 200), chunksize=(400, 200)>\n",
       "    rAs      (YG, XC) >f4 dask.array<shape=(400, 200), chunksize=(400, 200)>\n",
       "    drC      (Zp1) >f4 dask.array<shape=(77,), chunksize=(77,)>\n",
       "    drF      (Z) >f4 dask.array<shape=(76,), chunksize=(76,)>\n",
       "    PHrefC   (Z) >f4 dask.array<shape=(76,), chunksize=(76,)>\n",
       "    PHrefF   (Zp1) >f4 dask.array<shape=(77,), chunksize=(77,)>\n",
       "    hFacC    (Z, YC, XC) >f4 dask.array<shape=(76, 400, 200), chunksize=(76, 400, 200)>\n",
       "    hFacW    (Z, YC, XG) >f4 dask.array<shape=(76, 400, 200), chunksize=(76, 400, 200)>\n",
       "    hFacS    (Z, YG, XC) >f4 dask.array<shape=(76, 400, 200), chunksize=(76, 400, 200)>\n",
       "    iter     (time) int64 dask.array<shape=(8280,), chunksize=(1,)>\n",
       "  * time     (time) float64 1.089e+09 1.089e+09 1.089e+09 1.089e+09 ...\n",
       "Data variables:\n",
       "    UVEL     (time, Z, YC, XG) float32 dask.array<shape=(8280, 76, 400, 200), chunksize=(1, 76, 400, 200)>\n",
       "    VVEL     (time, Z, YG, XC) float32 dask.array<shape=(8280, 76, 400, 200), chunksize=(1, 76, 400, 200)>\n",
       "    WVEL     (time, Zl, YC, XC) float32 dask.array<shape=(8280, 76, 400, 200), chunksize=(1, 76, 400, 200)>\n",
       "    PHIHYD   (time, Z, YC, XC) float32 dask.array<shape=(8280, 76, 400, 200), chunksize=(1, 76, 400, 200)>\n",
       "    THETA    (time, Z, YC, XC) float32 dask.array<shape=(8280, 76, 400, 200), chunksize=(1, 76, 400, 200)>"
      ]
     },
     "execution_count": 4,
     "metadata": {},
     "output_type": "execute_result"
    }
   ],
   "source": [
    "ds1 = open_mdsdataset(op.join(ddir,'MOM-KPP_05km'), grid_dir=op.join(ddir,'5km_grid'),\n",
    "                     iters=range(ts,te,df), prefix=['MOMtave'], delta_t=dt\n",
    "                     )\n",
    "ds1"
   ]
  },
  {
   "cell_type": "code",
   "execution_count": 5,
   "metadata": {},
   "outputs": [
    {
     "data": {
      "text/plain": [
       "<xgcm.Grid>\n",
       "T Axis (not periodic):\n",
       "  * center   time (8280)\n",
       "Z Axis (not periodic):\n",
       "  * center   Z (76) --> left\n",
       "  * left     Zl (76) --> center\n",
       "  * outer    Zp1 (77) --> center\n",
       "  * right    Zu (76) --> center\n",
       "X Axis (periodic):\n",
       "  * center   XC (200) --> left\n",
       "  * left     XG (200) --> center\n",
       "Y Axis (not periodic):\n",
       "  * center   YC (400) --> left\n",
       "  * left     YG (400) --> center"
      ]
     },
     "execution_count": 5,
     "metadata": {},
     "output_type": "execute_result"
    }
   ],
   "source": [
    "grid = Grid(ds1, periodic=['X'])\n",
    "grid"
   ]
  },
  {
   "cell_type": "markdown",
   "metadata": {},
   "source": [
    "## $$N^2 = -\\frac{g}{\\rho_0}\\frac{\\partial\\rho}{\\partial z} = \\alpha g\\frac{\\partial\\theta}{\\partial z}$$"
   ]
  },
  {
   "cell_type": "code",
   "execution_count": 6,
   "metadata": {},
   "outputs": [
    {
     "name": "stdout",
     "output_type": "stream",
     "text": [
      "[########################################] | 100% Completed | 20min 19.1s\n"
     ]
    },
    {
     "data": {
      "text/plain": [
       "<xarray.DataArray (seas: 4, Zl: 76, YC: 400)>\n",
       "array([[[-0.000000e+00, -2.944260e-03, ..., -3.113911e-02, -3.121319e-02],\n",
       "        [-0.000000e+00, -2.177350e-06, ...,  3.731507e-04,  3.639709e-04],\n",
       "        ...,\n",
       "        [-0.000000e+00,  1.007608e-08, ...,  5.018076e-06,  5.028059e-06],\n",
       "        [-0.000000e+00,  3.679822e-09, ...,  1.015483e-06,  9.700071e-07]],\n",
       "\n",
       "       [[-0.000000e+00, -2.934080e-03, ..., -3.098386e-02, -3.113265e-02],\n",
       "        [-0.000000e+00, -2.219319e-06, ...,  3.703974e-04,  3.670871e-04],\n",
       "        ...,\n",
       "        [-0.000000e+00,  1.002800e-08, ...,  5.016810e-06,  5.026221e-06],\n",
       "        [-0.000000e+00,  3.643686e-09, ...,  1.011224e-06,  9.658858e-07]],\n",
       "\n",
       "       [[-0.000000e+00, -2.911963e-03, ..., -3.090395e-02, -3.107493e-02],\n",
       "        [-0.000000e+00, -2.236915e-06, ...,  4.350451e-04,  4.385329e-04],\n",
       "        ...,\n",
       "        [-0.000000e+00,  9.951448e-09, ...,  5.024214e-06,  5.032146e-06],\n",
       "        [-0.000000e+00,  3.579695e-09, ...,  1.015596e-06,  9.702865e-07]],\n",
       "\n",
       "       [[-0.000000e+00, -2.867185e-03, ..., -3.105611e-02, -3.115423e-02],\n",
       "        [-0.000000e+00, -2.192432e-06, ...,  4.552810e-04,  4.511943e-04],\n",
       "        ...,\n",
       "        [-0.000000e+00,  9.833943e-09, ...,  5.033649e-06,  5.041399e-06],\n",
       "        [-0.000000e+00,  3.543560e-09, ...,  1.018386e-06,  9.733538e-07]]],\n",
       "      dtype=float32)\n",
       "Coordinates:\n",
       "  * seas     (seas) int64 0 1 2 3\n",
       "  * Zl       (Zl) >f4 0.0 -1.0 -2.14 -3.44 -4.93 -6.63 -8.56 -10.76 -13.26 ...\n",
       "  * YC       (YC) >f4 2500.0 7500.0 12500.0 17500.0 22500.0 27500.0 32500.0 ..."
      ]
     },
     "execution_count": 6,
     "metadata": {},
     "output_type": "execute_result"
    }
   ],
   "source": [
    "seas = np.tile(np.repeat(range(4),90),dy)\n",
    "temp = ds1.THETA\n",
    "temp.coords['seas'] = ('time',seas)\n",
    "temp_seas = temp.groupby('seas').mean(['time','XC'])\n",
    "alpha = 2e-4\n",
    "g = 9.81\n",
    "f0 = -1.1e-4\n",
    "beta = 1.4e-11\n",
    "with ProgressBar():\n",
    "    N2_seas = alpha*g * (grid.diff(temp_seas,'Z',boundary='fill')\n",
    "                        / grid.diff(temp_seas.Z,'Z',boundary='fill')\n",
    "                        ).compute()\n",
    "N2_seas"
   ]
  },
  {
   "cell_type": "code",
   "execution_count": 35,
   "metadata": {},
   "outputs": [],
   "source": [
    "# dsave = temp.to_dataset(name='Ttave')\n",
    "# dsave.to_netcdf(op.join(ddir,'Ttave_5km_20-29yr.nc'))\n",
    "Tclim = xr.open_dataset(op.join(ddir,'Climatological-theta_05km.nc')).THETA_clim"
   ]
  },
  {
   "cell_type": "code",
   "execution_count": 12,
   "metadata": {},
   "outputs": [
    {
     "data": {
      "text/plain": [
       "<a list of 6 text.Text objects>"
      ]
     },
     "execution_count": 12,
     "metadata": {},
     "output_type": "execute_result"
    },
    {
     "data": {
      "image/png": "[encoded data removed]",
      "text/plain": [
       "<Figure size 504x360 with 2 Axes>"
      ]
     },
     "metadata": {},
     "output_type": "display_data"
    }
   ],
   "source": [
    "fig, ax = plt.subplots(figsize=(7,5))\n",
    "(N2_seas.mean('seas')*np.abs(f0 + beta*ds1.YC)**-1).plot(ax=ax, vmin=5e-4,vmax=5e1,norm=clr.LogNorm())\n",
    "im = Tclim.plot.contour(ax=ax, levels=np.linspace(0,8,11), cmap='RdBu_r')\n",
    "plt.clabel(im, fontsize=14)"
   ]
  },
  {
   "cell_type": "code",
   "execution_count": 7,
   "metadata": {},
   "outputs": [
    {
     "name": "stderr",
     "output_type": "stream",
     "text": [
      "/home/takaya/xmitgcm/xmitgcm/utils.py:314: UserWarning: Not sure what to do with rlev = L\n",
      "  warnings.warn(\"Not sure what to do with rlev = \" + rlev)\n",
      "/home/takaya/xmitgcm/xmitgcm/utils.py:314: UserWarning: Not sure what to do with rlev = X\n",
      "  warnings.warn(\"Not sure what to do with rlev = \" + rlev)\n",
      "/home/takaya/xmitgcm/xmitgcm/mds_store.py:235: FutureWarning: iteration over an xarray.Dataset will change in xarray v0.11 to only include data variables, not coordinates. Iterate over the Dataset.variables property instead to preserve existing behavior in a forwards compatible manner.\n",
      "  for vname in ds:\n"
     ]
    },
    {
     "data": {
      "text/plain": [
       "<xarray.Dataset>\n",
       "Dimensions:  (XC: 200, XG: 200, YC: 400, YG: 400, Z: 76, Zl: 76, Zp1: 77, Zu: 76, time: 120)\n",
       "Coordinates:\n",
       "  * XC       (XC) >f4 2500.0 7500.0 12500.0 17500.0 22500.0 27500.0 32500.0 ...\n",
       "  * YC       (YC) >f4 2500.0 7500.0 12500.0 17500.0 22500.0 27500.0 32500.0 ...\n",
       "  * XG       (XG) >f4 0.0 5000.0 10000.0 15000.0 20000.0 25000.0 30000.0 ...\n",
       "  * YG       (YG) >f4 0.0 5000.0 10000.0 15000.0 20000.0 25000.0 30000.0 ...\n",
       "  * Z        (Z) >f4 -0.5 -1.57 -2.79 -4.185 -5.78 -7.595 -9.66 -12.01 ...\n",
       "  * Zp1      (Zp1) >f4 0.0 -1.0 -2.14 -3.44 -4.93 -6.63 -8.56 -10.76 -13.26 ...\n",
       "  * Zu       (Zu) >f4 -1.0 -2.14 -3.44 -4.93 -6.63 -8.56 -10.76 -13.26 -16.1 ...\n",
       "  * Zl       (Zl) >f4 0.0 -1.0 -2.14 -3.44 -4.93 -6.63 -8.56 -10.76 -13.26 ...\n",
       "    rA       (YC, XC) >f4 dask.array<shape=(400, 200), chunksize=(400, 200)>\n",
       "    dxG      (YG, XC) >f4 dask.array<shape=(400, 200), chunksize=(400, 200)>\n",
       "    dyG      (YC, XG) >f4 dask.array<shape=(400, 200), chunksize=(400, 200)>\n",
       "    Depth    (YC, XC) >f4 dask.array<shape=(400, 200), chunksize=(400, 200)>\n",
       "    rAz      (YG, XG) >f4 dask.array<shape=(400, 200), chunksize=(400, 200)>\n",
       "    dxC      (YC, XG) >f4 dask.array<shape=(400, 200), chunksize=(400, 200)>\n",
       "    dyC      (YG, XC) >f4 dask.array<shape=(400, 200), chunksize=(400, 200)>\n",
       "    rAw      (YC, XG) >f4 dask.array<shape=(400, 200), chunksize=(400, 200)>\n",
       "    rAs      (YG, XC) >f4 dask.array<shape=(400, 200), chunksize=(400, 200)>\n",
       "    drC      (Zp1) >f4 dask.array<shape=(77,), chunksize=(77,)>\n",
       "    drF      (Z) >f4 dask.array<shape=(76,), chunksize=(76,)>\n",
       "    PHrefC   (Z) >f4 dask.array<shape=(76,), chunksize=(76,)>\n",
       "    PHrefF   (Zp1) >f4 dask.array<shape=(77,), chunksize=(77,)>\n",
       "    hFacC    (Z, YC, XC) >f4 dask.array<shape=(76, 400, 200), chunksize=(76, 400, 200)>\n",
       "    hFacW    (Z, YC, XG) >f4 dask.array<shape=(76, 400, 200), chunksize=(76, 400, 200)>\n",
       "    hFacS    (Z, YG, XC) >f4 dask.array<shape=(76, 400, 200), chunksize=(76, 400, 200)>\n",
       "    iter     (time) int64 dask.array<shape=(120,), chunksize=(1,)>\n",
       "  * time     (time) float64 6.247e+08 6.273e+08 6.299e+08 6.324e+08 6.35e+08 ...\n",
       "Data variables:\n",
       "    UVEL     (time, Z, YC, XG) float32 dask.array<shape=(120, 76, 400, 200), chunksize=(1, 76, 400, 200)>\n",
       "    VVEL     (time, Z, YG, XC) float32 dask.array<shape=(120, 76, 400, 200), chunksize=(1, 76, 400, 200)>\n",
       "    WVEL     (time, Zl, YC, XC) float32 dask.array<shape=(120, 76, 400, 200), chunksize=(1, 76, 400, 200)>\n",
       "    PHIHYD   (time, Z, YC, XC) float32 dask.array<shape=(120, 76, 400, 200), chunksize=(1, 76, 400, 200)>"
      ]
     },
     "execution_count": 7,
     "metadata": {},
     "output_type": "execute_result"
    }
   ],
   "source": [
    "# ds2 = open_mdsdataset(op.join(ddir,'deepML-2mon_5kmMOM'), grid_dir=op.join(ddir,'5km_grid'), \n",
    "#                      iters=range(ts-dF+8640,te,8640), prefix=['MOMtave'], delta_t=dt\n",
    "#                      )\n",
    "# ds2"
   ]
  },
  {
   "cell_type": "code",
   "execution_count": 7,
   "metadata": {},
   "outputs": [
    {
     "name": "stdout",
     "output_type": "stream",
     "text": [
      "[################################        ] | 80% Completed | 33min 53.1s\n"
     ]
    },
    {
     "ename": "KeyboardInterrupt",
     "evalue": "",
     "output_type": "error",
     "traceback": [
      "\u001b[0;31m---------------------------------------------------------------------------\u001b[0m",
      "\u001b[0;31mKeyboardInterrupt\u001b[0m                         Traceback (most recent call last)",
      "\u001b[0;32m<ipython-input-7-0bf15b08bd5a>\u001b[0m in \u001b[0;36m<module>\u001b[0;34m()\u001b[0m\n\u001b[1;32m      2\u001b[0m \u001b[0mphi\u001b[0m\u001b[0;34m.\u001b[0m\u001b[0mcoords\u001b[0m\u001b[0;34m[\u001b[0m\u001b[0;34m'seas'\u001b[0m\u001b[0;34m]\u001b[0m \u001b[0;34m=\u001b[0m \u001b[0;34m(\u001b[0m\u001b[0;34m'time'\u001b[0m\u001b[0;34m,\u001b[0m\u001b[0mnp\u001b[0m\u001b[0;34m.\u001b[0m\u001b[0mtile\u001b[0m\u001b[0;34m(\u001b[0m\u001b[0mnp\u001b[0m\u001b[0;34m.\u001b[0m\u001b[0mrepeat\u001b[0m\u001b[0;34m(\u001b[0m\u001b[0mrange\u001b[0m\u001b[0;34m(\u001b[0m\u001b[0;36m4\u001b[0m\u001b[0;34m)\u001b[0m\u001b[0;34m,\u001b[0m\u001b[0;36m90\u001b[0m\u001b[0;34m)\u001b[0m\u001b[0;34m,\u001b[0m\u001b[0mdy\u001b[0m\u001b[0;34m)\u001b[0m\u001b[0;34m)\u001b[0m\u001b[0;34m\u001b[0m\u001b[0m\n\u001b[1;32m      3\u001b[0m \u001b[0;32mwith\u001b[0m \u001b[0mProgressBar\u001b[0m\u001b[0;34m(\u001b[0m\u001b[0;34m)\u001b[0m\u001b[0;34m:\u001b[0m\u001b[0;34m\u001b[0m\u001b[0m\n\u001b[0;32m----> 4\u001b[0;31m     \u001b[0mphi_seas\u001b[0m \u001b[0;34m=\u001b[0m \u001b[0mphi\u001b[0m\u001b[0;34m.\u001b[0m\u001b[0mgroupby\u001b[0m\u001b[0;34m(\u001b[0m\u001b[0;34m'seas'\u001b[0m\u001b[0;34m)\u001b[0m\u001b[0;34m.\u001b[0m\u001b[0mmean\u001b[0m\u001b[0;34m(\u001b[0m\u001b[0;34m[\u001b[0m\u001b[0;34m'time'\u001b[0m\u001b[0;34m,\u001b[0m\u001b[0;34m'XC'\u001b[0m\u001b[0;34m]\u001b[0m\u001b[0;34m)\u001b[0m\u001b[0;34m.\u001b[0m\u001b[0mcompute\u001b[0m\u001b[0;34m(\u001b[0m\u001b[0;34m)\u001b[0m\u001b[0;34m\u001b[0m\u001b[0m\n\u001b[0m\u001b[1;32m      5\u001b[0m \u001b[0mphi_seas\u001b[0m\u001b[0;34m\u001b[0m\u001b[0m\n",
      "\u001b[0;32m~/miniconda3/envs/uptodate/lib/python3.6/site-packages/xarray/core/dataarray.py\u001b[0m in \u001b[0;36mcompute\u001b[0;34m(self, **kwargs)\u001b[0m\n\u001b[1;32m    657\u001b[0m         \"\"\"\n\u001b[1;32m    658\u001b[0m         \u001b[0mnew\u001b[0m \u001b[0;34m=\u001b[0m \u001b[0mself\u001b[0m\u001b[0;34m.\u001b[0m\u001b[0mcopy\u001b[0m\u001b[0;34m(\u001b[0m\u001b[0mdeep\u001b[0m\u001b[0;34m=\u001b[0m\u001b[0;32mFalse\u001b[0m\u001b[0;34m)\u001b[0m\u001b[0;34m\u001b[0m\u001b[0m\n\u001b[0;32m--> 659\u001b[0;31m         \u001b[0;32mreturn\u001b[0m \u001b[0mnew\u001b[0m\u001b[0;34m.\u001b[0m\u001b[0mload\u001b[0m\u001b[0;34m(\u001b[0m\u001b[0;34m**\u001b[0m\u001b[0mkwargs\u001b[0m\u001b[0;34m)\u001b[0m\u001b[0;34m\u001b[0m\u001b[0m\n\u001b[0m\u001b[1;32m    660\u001b[0m \u001b[0;34m\u001b[0m\u001b[0m\n\u001b[1;32m    661\u001b[0m     \u001b[0;32mdef\u001b[0m \u001b[0mpersist\u001b[0m\u001b[0;34m(\u001b[0m\u001b[0mself\u001b[0m\u001b[0;34m,\u001b[0m \u001b[0;34m**\u001b[0m\u001b[0mkwargs\u001b[0m\u001b[0;34m)\u001b[0m\u001b[0;34m:\u001b[0m\u001b[0;34m\u001b[0m\u001b[0m\n",
      "\u001b[0;32m~/miniconda3/envs/uptodate/lib/python3.6/site-packages/xarray/core/dataarray.py\u001b[0m in \u001b[0;36mload\u001b[0;34m(self, **kwargs)\u001b[0m\n\u001b[1;32m    631\u001b[0m         \u001b[0mdask\u001b[0m\u001b[0;34m.\u001b[0m\u001b[0marray\u001b[0m\u001b[0;34m.\u001b[0m\u001b[0mcompute\u001b[0m\u001b[0;34m\u001b[0m\u001b[0m\n\u001b[1;32m    632\u001b[0m         \"\"\"\n\u001b[0;32m--> 633\u001b[0;31m         \u001b[0mds\u001b[0m \u001b[0;34m=\u001b[0m \u001b[0mself\u001b[0m\u001b[0;34m.\u001b[0m\u001b[0m_to_temp_dataset\u001b[0m\u001b[0;34m(\u001b[0m\u001b[0;34m)\u001b[0m\u001b[0;34m.\u001b[0m\u001b[0mload\u001b[0m\u001b[0;34m(\u001b[0m\u001b[0;34m**\u001b[0m\u001b[0mkwargs\u001b[0m\u001b[0;34m)\u001b[0m\u001b[0;34m\u001b[0m\u001b[0m\n\u001b[0m\u001b[1;32m    634\u001b[0m         \u001b[0mnew\u001b[0m \u001b[0;34m=\u001b[0m \u001b[0mself\u001b[0m\u001b[0;34m.\u001b[0m\u001b[0m_from_temp_dataset\u001b[0m\u001b[0;34m(\u001b[0m\u001b[0mds\u001b[0m\u001b[0;34m)\u001b[0m\u001b[0;34m\u001b[0m\u001b[0m\n\u001b[1;32m    635\u001b[0m         \u001b[0mself\u001b[0m\u001b[0;34m.\u001b[0m\u001b[0m_variable\u001b[0m \u001b[0;34m=\u001b[0m \u001b[0mnew\u001b[0m\u001b[0;34m.\u001b[0m\u001b[0m_variable\u001b[0m\u001b[0;34m\u001b[0m\u001b[0m\n",
      "\u001b[0;32m~/miniconda3/envs/uptodate/lib/python3.6/site-packages/xarray/core/dataset.py\u001b[0m in \u001b[0;36mload\u001b[0;34m(self, **kwargs)\u001b[0m\n\u001b[1;32m    489\u001b[0m \u001b[0;34m\u001b[0m\u001b[0m\n\u001b[1;32m    490\u001b[0m             \u001b[0;31m# evaluate all the dask arrays simultaneously\u001b[0m\u001b[0;34m\u001b[0m\u001b[0;34m\u001b[0m\u001b[0m\n\u001b[0;32m--> 491\u001b[0;31m             \u001b[0mevaluated_data\u001b[0m \u001b[0;34m=\u001b[0m \u001b[0mda\u001b[0m\u001b[0;34m.\u001b[0m\u001b[0mcompute\u001b[0m\u001b[0;34m(\u001b[0m\u001b[0;34m*\u001b[0m\u001b[0mlazy_data\u001b[0m\u001b[0;34m.\u001b[0m\u001b[0mvalues\u001b[0m\u001b[0;34m(\u001b[0m\u001b[0;34m)\u001b[0m\u001b[0;34m,\u001b[0m \u001b[0;34m**\u001b[0m\u001b[0mkwargs\u001b[0m\u001b[0;34m)\u001b[0m\u001b[0;34m\u001b[0m\u001b[0m\n\u001b[0m\u001b[1;32m    492\u001b[0m \u001b[0;34m\u001b[0m\u001b[0m\n\u001b[1;32m    493\u001b[0m             \u001b[0;32mfor\u001b[0m \u001b[0mk\u001b[0m\u001b[0;34m,\u001b[0m \u001b[0mdata\u001b[0m \u001b[0;32min\u001b[0m \u001b[0mzip\u001b[0m\u001b[0;34m(\u001b[0m\u001b[0mlazy_data\u001b[0m\u001b[0;34m,\u001b[0m \u001b[0mevaluated_data\u001b[0m\u001b[0;34m)\u001b[0m\u001b[0;34m:\u001b[0m\u001b[0;34m\u001b[0m\u001b[0m\n",
      "\u001b[0;32m~/miniconda3/envs/uptodate/lib/python3.6/site-packages/dask/base.py\u001b[0m in \u001b[0;36mcompute\u001b[0;34m(*args, **kwargs)\u001b[0m\n\u001b[1;32m    393\u001b[0m     \u001b[0mkeys\u001b[0m \u001b[0;34m=\u001b[0m \u001b[0;34m[\u001b[0m\u001b[0mx\u001b[0m\u001b[0;34m.\u001b[0m\u001b[0m__dask_keys__\u001b[0m\u001b[0;34m(\u001b[0m\u001b[0;34m)\u001b[0m \u001b[0;32mfor\u001b[0m \u001b[0mx\u001b[0m \u001b[0;32min\u001b[0m \u001b[0mcollections\u001b[0m\u001b[0;34m]\u001b[0m\u001b[0;34m\u001b[0m\u001b[0m\n\u001b[1;32m    394\u001b[0m     \u001b[0mpostcomputes\u001b[0m \u001b[0;34m=\u001b[0m \u001b[0;34m[\u001b[0m\u001b[0mx\u001b[0m\u001b[0;34m.\u001b[0m\u001b[0m__dask_postcompute__\u001b[0m\u001b[0;34m(\u001b[0m\u001b[0;34m)\u001b[0m \u001b[0;32mfor\u001b[0m \u001b[0mx\u001b[0m \u001b[0;32min\u001b[0m \u001b[0mcollections\u001b[0m\u001b[0;34m]\u001b[0m\u001b[0;34m\u001b[0m\u001b[0m\n\u001b[0;32m--> 395\u001b[0;31m     \u001b[0mresults\u001b[0m \u001b[0;34m=\u001b[0m \u001b[0mschedule\u001b[0m\u001b[0;34m(\u001b[0m\u001b[0mdsk\u001b[0m\u001b[0;34m,\u001b[0m \u001b[0mkeys\u001b[0m\u001b[0;34m,\u001b[0m \u001b[0;34m**\u001b[0m\u001b[0mkwargs\u001b[0m\u001b[0;34m)\u001b[0m\u001b[0;34m\u001b[0m\u001b[0m\n\u001b[0m\u001b[1;32m    396\u001b[0m     \u001b[0;32mreturn\u001b[0m \u001b[0mrepack\u001b[0m\u001b[0;34m(\u001b[0m\u001b[0;34m[\u001b[0m\u001b[0mf\u001b[0m\u001b[0;34m(\u001b[0m\u001b[0mr\u001b[0m\u001b[0;34m,\u001b[0m \u001b[0;34m*\u001b[0m\u001b[0ma\u001b[0m\u001b[0;34m)\u001b[0m \u001b[0;32mfor\u001b[0m \u001b[0mr\u001b[0m\u001b[0;34m,\u001b[0m \u001b[0;34m(\u001b[0m\u001b[0mf\u001b[0m\u001b[0;34m,\u001b[0m \u001b[0ma\u001b[0m\u001b[0;34m)\u001b[0m \u001b[0;32min\u001b[0m \u001b[0mzip\u001b[0m\u001b[0;34m(\u001b[0m\u001b[0mresults\u001b[0m\u001b[0;34m,\u001b[0m \u001b[0mpostcomputes\u001b[0m\u001b[0;34m)\u001b[0m\u001b[0;34m]\u001b[0m\u001b[0;34m)\u001b[0m\u001b[0;34m\u001b[0m\u001b[0m\n\u001b[1;32m    397\u001b[0m \u001b[0;34m\u001b[0m\u001b[0m\n",
      "\u001b[0;32m~/miniconda3/envs/uptodate/lib/python3.6/site-packages/dask/threaded.py\u001b[0m in \u001b[0;36mget\u001b[0;34m(dsk, result, cache, num_workers, **kwargs)\u001b[0m\n\u001b[1;32m     73\u001b[0m     results = get_async(pool.apply_async, len(pool._pool), dsk, result,\n\u001b[1;32m     74\u001b[0m                         \u001b[0mcache\u001b[0m\u001b[0;34m=\u001b[0m\u001b[0mcache\u001b[0m\u001b[0;34m,\u001b[0m \u001b[0mget_id\u001b[0m\u001b[0;34m=\u001b[0m\u001b[0m_thread_get_id\u001b[0m\u001b[0;34m,\u001b[0m\u001b[0;34m\u001b[0m\u001b[0m\n\u001b[0;32m---> 75\u001b[0;31m                         pack_exception=pack_exception, **kwargs)\n\u001b[0m\u001b[1;32m     76\u001b[0m \u001b[0;34m\u001b[0m\u001b[0m\n\u001b[1;32m     77\u001b[0m     \u001b[0;31m# Cleanup pools associated to dead threads\u001b[0m\u001b[0;34m\u001b[0m\u001b[0;34m\u001b[0m\u001b[0m\n",
      "\u001b[0;32m~/miniconda3/envs/uptodate/lib/python3.6/site-packages/dask/local.py\u001b[0m in \u001b[0;36mget_async\u001b[0;34m(apply_async, num_workers, dsk, result, cache, get_id, rerun_exceptions_locally, pack_exception, raise_exception, callbacks, dumps, loads, **kwargs)\u001b[0m\n\u001b[1;32m    490\u001b[0m             \u001b[0;31m# Main loop, wait on tasks to finish, insert new ones\u001b[0m\u001b[0;34m\u001b[0m\u001b[0;34m\u001b[0m\u001b[0m\n\u001b[1;32m    491\u001b[0m             \u001b[0;32mwhile\u001b[0m \u001b[0mstate\u001b[0m\u001b[0;34m[\u001b[0m\u001b[0;34m'waiting'\u001b[0m\u001b[0;34m]\u001b[0m \u001b[0;32mor\u001b[0m \u001b[0mstate\u001b[0m\u001b[0;34m[\u001b[0m\u001b[0;34m'ready'\u001b[0m\u001b[0;34m]\u001b[0m \u001b[0;32mor\u001b[0m \u001b[0mstate\u001b[0m\u001b[0;34m[\u001b[0m\u001b[0;34m'running'\u001b[0m\u001b[0;34m]\u001b[0m\u001b[0;34m:\u001b[0m\u001b[0;34m\u001b[0m\u001b[0m\n\u001b[0;32m--> 492\u001b[0;31m                 \u001b[0mkey\u001b[0m\u001b[0;34m,\u001b[0m \u001b[0mres_info\u001b[0m\u001b[0;34m,\u001b[0m \u001b[0mfailed\u001b[0m \u001b[0;34m=\u001b[0m \u001b[0mqueue_get\u001b[0m\u001b[0;34m(\u001b[0m\u001b[0mqueue\u001b[0m\u001b[0;34m)\u001b[0m\u001b[0;34m\u001b[0m\u001b[0m\n\u001b[0m\u001b[1;32m    493\u001b[0m                 \u001b[0;32mif\u001b[0m \u001b[0mfailed\u001b[0m\u001b[0;34m:\u001b[0m\u001b[0;34m\u001b[0m\u001b[0m\n\u001b[1;32m    494\u001b[0m                     \u001b[0mexc\u001b[0m\u001b[0;34m,\u001b[0m \u001b[0mtb\u001b[0m \u001b[0;34m=\u001b[0m \u001b[0mloads\u001b[0m\u001b[0;34m(\u001b[0m\u001b[0mres_info\u001b[0m\u001b[0;34m)\u001b[0m\u001b[0;34m\u001b[0m\u001b[0m\n",
      "\u001b[0;32m~/miniconda3/envs/uptodate/lib/python3.6/site-packages/dask/local.py\u001b[0m in \u001b[0;36mqueue_get\u001b[0;34m(q)\u001b[0m\n\u001b[1;32m    139\u001b[0m \u001b[0;32melse\u001b[0m\u001b[0;34m:\u001b[0m\u001b[0;34m\u001b[0m\u001b[0m\n\u001b[1;32m    140\u001b[0m     \u001b[0;32mdef\u001b[0m \u001b[0mqueue_get\u001b[0m\u001b[0;34m(\u001b[0m\u001b[0mq\u001b[0m\u001b[0;34m)\u001b[0m\u001b[0;34m:\u001b[0m\u001b[0;34m\u001b[0m\u001b[0m\n\u001b[0;32m--> 141\u001b[0;31m         \u001b[0;32mreturn\u001b[0m \u001b[0mq\u001b[0m\u001b[0;34m.\u001b[0m\u001b[0mget\u001b[0m\u001b[0;34m(\u001b[0m\u001b[0;34m)\u001b[0m\u001b[0;34m\u001b[0m\u001b[0m\n\u001b[0m\u001b[1;32m    142\u001b[0m \u001b[0;34m\u001b[0m\u001b[0m\n\u001b[1;32m    143\u001b[0m \u001b[0;34m\u001b[0m\u001b[0m\n",
      "\u001b[0;32m~/miniconda3/envs/uptodate/lib/python3.6/queue.py\u001b[0m in \u001b[0;36mget\u001b[0;34m(self, block, timeout)\u001b[0m\n\u001b[1;32m    162\u001b[0m             \u001b[0;32melif\u001b[0m \u001b[0mtimeout\u001b[0m \u001b[0;32mis\u001b[0m \u001b[0;32mNone\u001b[0m\u001b[0;34m:\u001b[0m\u001b[0;34m\u001b[0m\u001b[0m\n\u001b[1;32m    163\u001b[0m                 \u001b[0;32mwhile\u001b[0m \u001b[0;32mnot\u001b[0m \u001b[0mself\u001b[0m\u001b[0;34m.\u001b[0m\u001b[0m_qsize\u001b[0m\u001b[0;34m(\u001b[0m\u001b[0;34m)\u001b[0m\u001b[0;34m:\u001b[0m\u001b[0;34m\u001b[0m\u001b[0m\n\u001b[0;32m--> 164\u001b[0;31m                     \u001b[0mself\u001b[0m\u001b[0;34m.\u001b[0m\u001b[0mnot_empty\u001b[0m\u001b[0;34m.\u001b[0m\u001b[0mwait\u001b[0m\u001b[0;34m(\u001b[0m\u001b[0;34m)\u001b[0m\u001b[0;34m\u001b[0m\u001b[0m\n\u001b[0m\u001b[1;32m    165\u001b[0m             \u001b[0;32melif\u001b[0m \u001b[0mtimeout\u001b[0m \u001b[0;34m<\u001b[0m \u001b[0;36m0\u001b[0m\u001b[0;34m:\u001b[0m\u001b[0;34m\u001b[0m\u001b[0m\n\u001b[1;32m    166\u001b[0m                 \u001b[0;32mraise\u001b[0m \u001b[0mValueError\u001b[0m\u001b[0;34m(\u001b[0m\u001b[0;34m\"'timeout' must be a non-negative number\"\u001b[0m\u001b[0;34m)\u001b[0m\u001b[0;34m\u001b[0m\u001b[0m\n",
      "\u001b[0;32m~/miniconda3/envs/uptodate/lib/python3.6/threading.py\u001b[0m in \u001b[0;36mwait\u001b[0;34m(self, timeout)\u001b[0m\n\u001b[1;32m    293\u001b[0m         \u001b[0;32mtry\u001b[0m\u001b[0;34m:\u001b[0m    \u001b[0;31m# restore state no matter what (e.g., KeyboardInterrupt)\u001b[0m\u001b[0;34m\u001b[0m\u001b[0m\n\u001b[1;32m    294\u001b[0m             \u001b[0;32mif\u001b[0m \u001b[0mtimeout\u001b[0m \u001b[0;32mis\u001b[0m \u001b[0;32mNone\u001b[0m\u001b[0;34m:\u001b[0m\u001b[0;34m\u001b[0m\u001b[0m\n\u001b[0;32m--> 295\u001b[0;31m                 \u001b[0mwaiter\u001b[0m\u001b[0;34m.\u001b[0m\u001b[0macquire\u001b[0m\u001b[0;34m(\u001b[0m\u001b[0;34m)\u001b[0m\u001b[0;34m\u001b[0m\u001b[0m\n\u001b[0m\u001b[1;32m    296\u001b[0m                 \u001b[0mgotit\u001b[0m \u001b[0;34m=\u001b[0m \u001b[0;32mTrue\u001b[0m\u001b[0;34m\u001b[0m\u001b[0m\n\u001b[1;32m    297\u001b[0m             \u001b[0;32melse\u001b[0m\u001b[0;34m:\u001b[0m\u001b[0;34m\u001b[0m\u001b[0m\n",
      "\u001b[0;31mKeyboardInterrupt\u001b[0m: "
     ]
    }
   ],
   "source": [
    "phi = ds1.PHIHYD\n",
    "phi.coords['seas'] = ('time',np.tile(np.repeat(range(4),90),dy))\n",
    "with ProgressBar():\n",
    "    phi_seas = phi.groupby('seas').mean(['time','XC']).compute()\n",
    "phi_seas"
   ]
  },
  {
   "cell_type": "code",
   "execution_count": null,
   "metadata": {},
   "outputs": [],
   "source": [
    "f = f0 + beta*(ds1.YC-ds1.YC.mean())\n",
    "ug = -grid.diff(phi_seas,'Y',boundary='fill')/grid.diff(phi_seas.YC,'Y',boundary='fill')\n",
    "# vg = grid.diff(phi_seas,'X')/grid.diff(phi_seas.XC,'X')\n",
    "ug = grid.interp(ug,'Y',boundary='fill') * f**-1\n",
    "# vg = grid.interp(vg,'X') * f**-1"
   ]
  },
  {
   "cell_type": "code",
   "execution_count": null,
   "metadata": {},
   "outputs": [],
   "source": [
    "MLD = xr.open_dataset(op.join(ddir,'KPPMLD_05km.nc')).mld\n",
    "with ProgressBar():\n",
    "    MLD_seas = MLD.groupby('seas').mean(['time','XC']).compute()\n",
    "MLD_seas"
   ]
  },
  {
   "cell_type": "code",
   "execution_count": null,
   "metadata": {},
   "outputs": [],
   "source": [
    "colors = ['red','brown','blue','green']\n",
    "seasons = ['JFM','AMJ','JAS','OND']\n",
    "\n",
    "fig, (ax1,ax2) = plt.subplots(figsize=(8,5), nrows=1, ncols=2)\n",
    "fig.set_tight_layout(True)\n",
    "for i in range(len(N2_seas.seas)):\n",
    "    ax1.plot(N2_seas[i,1:45].sel(YC=12.5e5,method='nearest'), ds1.Zl[1:45], color=colors[i], lw=2, label=seasons[i])\n",
    "    ax1.plot(np.linspace(1e-8,3e-5,5), -np.ones(5)*MLD_seas.sel(YC=12.5e5,method='nearest').data[i], \n",
    "             color=colors[i], ls='--')\n",
    "    ax2.plot(ug[i,:45].sel(YC=12.5e5,method='nearest'), ds1.Z[:45], color=colors[i], lw=2, label=seasons[i])\n",
    "ax1.set_xlim([2e-8,2.4e-5])\n",
    "ax1.set_xscale('log')\n",
    "ax1.set_xlabel(r'$N^2$ [s$^{-2}$]',fontsize=14)\n",
    "ax1.set_ylabel(r'Depth [m]',fontsize=14)\n",
    "ax1.legend(loc='lower left', fontsize=12)\n",
    "plt.savefig(op.join(ddir,'Figures/Background_Ug-N2.pdf'))"
   ]
  },
  {
   "cell_type": "code",
   "execution_count": 19,
   "metadata": {},
   "outputs": [
    {
     "data": {
      "text/plain": [
       "array([1.000e-06, 1.500e-06, 2.000e-06, 2.500e-06, 3.000e-06, 3.500e-06,\n",
       "       4.000e-06, 4.500e-06, 5.000e-06, 5.500e-06, 6.000e-06, 6.500e-06,\n",
       "       7.000e-06, 7.500e-06, 8.000e-06, 8.500e-06, 9.000e-06, 9.500e-06,\n",
       "       1.000e-05, 1.050e-05, 1.100e-05, 1.150e-05, 1.200e-05, 1.250e-05,\n",
       "       1.300e-05, 1.350e-05, 1.400e-05, 1.450e-05, 1.500e-05, 1.550e-05,\n",
       "       1.600e-05, 1.650e-05, 1.700e-05, 1.750e-05, 1.800e-05, 1.850e-05,\n",
       "       1.900e-05, 1.950e-05, 2.000e-05, 2.050e-05, 2.100e-05, 2.150e-05,\n",
       "       2.200e-05, 2.250e-05, 2.300e-05, 2.350e-05, 2.400e-05, 2.450e-05,\n",
       "       2.500e-05, 2.550e-05, 2.600e-05, 2.650e-05, 2.700e-05, 2.750e-05,\n",
       "       2.800e-05, 2.850e-05, 2.900e-05, 2.950e-05, 3.000e-05, 3.050e-05,\n",
       "       3.100e-05, 3.150e-05, 3.200e-05, 3.250e-05, 3.300e-05, 3.350e-05,\n",
       "       3.400e-05, 3.450e-05, 3.500e-05, 3.550e-05, 3.600e-05, 3.650e-05,\n",
       "       3.700e-05, 3.750e-05, 3.800e-05, 3.850e-05, 3.900e-05, 3.950e-05,\n",
       "       4.000e-05, 4.050e-05, 4.100e-05, 4.150e-05, 4.200e-05, 4.250e-05,\n",
       "       4.300e-05, 4.350e-05, 4.400e-05, 4.450e-05, 4.500e-05, 4.550e-05,\n",
       "       4.600e-05, 4.650e-05, 4.700e-05, 4.750e-05, 4.800e-05, 4.850e-05,\n",
       "       4.900e-05, 4.950e-05, 5.000e-05, 5.050e-05, 5.100e-05, 5.150e-05,\n",
       "       5.200e-05, 5.250e-05, 5.300e-05, 5.350e-05, 5.400e-05, 5.450e-05,\n",
       "       5.500e-05, 5.550e-05, 5.600e-05, 5.650e-05, 5.700e-05, 5.750e-05,\n",
       "       5.800e-05, 5.850e-05, 5.900e-05, 5.950e-05, 6.000e-05, 6.050e-05,\n",
       "       6.100e-05, 6.150e-05, 6.200e-05, 6.250e-05, 6.300e-05, 6.350e-05,\n",
       "       6.400e-05, 6.450e-05, 6.500e-05, 6.550e-05, 6.600e-05, 6.650e-05,\n",
       "       6.700e-05, 6.750e-05, 6.800e-05, 6.850e-05, 6.900e-05, 6.950e-05,\n",
       "       7.000e-05, 7.050e-05, 7.100e-05, 7.150e-05, 7.200e-05, 7.250e-05,\n",
       "       7.300e-05, 7.350e-05, 7.400e-05, 7.450e-05, 7.500e-05, 7.550e-05,\n",
       "       7.600e-05, 7.650e-05, 7.700e-05, 7.750e-05, 7.800e-05, 7.850e-05,\n",
       "       7.900e-05, 7.950e-05, 8.000e-05, 8.050e-05, 8.100e-05, 8.150e-05,\n",
       "       8.200e-05, 8.250e-05, 8.300e-05, 8.350e-05, 8.400e-05, 8.450e-05,\n",
       "       8.500e-05, 8.550e-05, 8.600e-05, 8.650e-05, 8.700e-05, 8.750e-05,\n",
       "       8.800e-05, 8.850e-05, 8.900e-05, 8.950e-05, 9.000e-05, 9.050e-05,\n",
       "       9.100e-05, 9.150e-05, 9.200e-05, 9.250e-05, 9.300e-05, 9.350e-05,\n",
       "       9.400e-05, 9.450e-05, 9.500e-05, 9.550e-05, 9.600e-05, 9.650e-05,\n",
       "       9.700e-05, 9.750e-05, 9.800e-05, 9.850e-05, 9.900e-05, 9.950e-05,\n",
       "       1.000e-04, 1.005e-04, 1.010e-04, 1.015e-04, 1.020e-04, 1.025e-04,\n",
       "       1.030e-04, 1.035e-04, 1.040e-04, 1.045e-04, 1.050e-04, 1.055e-04,\n",
       "       1.060e-04, 1.065e-04, 1.070e-04, 1.075e-04, 1.080e-04, 1.085e-04,\n",
       "       1.090e-04, 1.095e-04, 1.100e-04, 1.105e-04, 1.110e-04, 1.115e-04,\n",
       "       1.120e-04, 1.125e-04, 1.130e-04, 1.135e-04, 1.140e-04, 1.145e-04,\n",
       "       1.150e-04, 1.155e-04, 1.160e-04, 1.165e-04, 1.170e-04, 1.175e-04,\n",
       "       1.180e-04, 1.185e-04, 1.190e-04, 1.195e-04, 1.200e-04, 1.205e-04,\n",
       "       1.210e-04, 1.215e-04, 1.220e-04, 1.225e-04, 1.230e-04, 1.235e-04,\n",
       "       1.240e-04, 1.245e-04, 1.250e-04, 1.255e-04, 1.260e-04, 1.265e-04,\n",
       "       1.270e-04, 1.275e-04, 1.280e-04, 1.285e-04, 1.290e-04, 1.295e-04,\n",
       "       1.300e-04, 1.305e-04, 1.310e-04, 1.315e-04, 1.320e-04, 1.325e-04,\n",
       "       1.330e-04, 1.335e-04, 1.340e-04, 1.345e-04, 1.350e-04, 1.355e-04,\n",
       "       1.360e-04, 1.365e-04, 1.370e-04, 1.375e-04, 1.380e-04, 1.385e-04,\n",
       "       1.390e-04, 1.395e-04, 1.400e-04, 1.405e-04, 1.410e-04, 1.415e-04,\n",
       "       1.420e-04, 1.425e-04, 1.430e-04, 1.435e-04, 1.440e-04, 1.445e-04,\n",
       "       1.450e-04, 1.455e-04, 1.460e-04, 1.465e-04, 1.470e-04, 1.475e-04,\n",
       "       1.480e-04, 1.485e-04, 1.490e-04, 1.495e-04, 1.500e-04, 1.505e-04,\n",
       "       1.510e-04, 1.515e-04, 1.520e-04, 1.525e-04, 1.530e-04, 1.535e-04,\n",
       "       1.540e-04, 1.545e-04, 1.550e-04, 1.555e-04, 1.560e-04, 1.565e-04,\n",
       "       1.570e-04, 1.575e-04, 1.580e-04, 1.585e-04, 1.590e-04, 1.595e-04,\n",
       "       1.600e-04, 1.605e-04, 1.610e-04, 1.615e-04, 1.620e-04, 1.625e-04,\n",
       "       1.630e-04, 1.635e-04, 1.640e-04, 1.645e-04, 1.650e-04, 1.655e-04,\n",
       "       1.660e-04, 1.665e-04, 1.670e-04, 1.675e-04, 1.680e-04, 1.685e-04,\n",
       "       1.690e-04, 1.695e-04, 1.700e-04, 1.705e-04, 1.710e-04, 1.715e-04,\n",
       "       1.720e-04, 1.725e-04, 1.730e-04, 1.735e-04, 1.740e-04, 1.745e-04,\n",
       "       1.750e-04, 1.755e-04, 1.760e-04, 1.765e-04, 1.770e-04, 1.775e-04,\n",
       "       1.780e-04, 1.785e-04, 1.790e-04, 1.795e-04, 1.800e-04, 1.805e-04,\n",
       "       1.810e-04, 1.815e-04, 1.820e-04, 1.825e-04, 1.830e-04, 1.835e-04,\n",
       "       1.840e-04, 1.845e-04, 1.850e-04, 1.855e-04, 1.860e-04, 1.865e-04,\n",
       "       1.870e-04, 1.875e-04, 1.880e-04, 1.885e-04, 1.890e-04, 1.895e-04,\n",
       "       1.900e-04, 1.905e-04, 1.910e-04, 1.915e-04, 1.920e-04, 1.925e-04,\n",
       "       1.930e-04, 1.935e-04, 1.940e-04, 1.945e-04, 1.950e-04, 1.955e-04,\n",
       "       1.960e-04, 1.965e-04, 1.970e-04, 1.975e-04, 1.980e-04, 1.985e-04,\n",
       "       1.990e-04, 1.995e-04, 2.000e-04, 2.005e-04, 2.010e-04, 2.015e-04,\n",
       "       2.020e-04, 2.025e-04, 2.030e-04, 2.035e-04, 2.040e-04, 2.045e-04,\n",
       "       2.050e-04, 2.055e-04, 2.060e-04, 2.065e-04, 2.070e-04, 2.075e-04,\n",
       "       2.080e-04, 2.085e-04, 2.090e-04, 2.095e-04, 2.100e-04, 2.105e-04,\n",
       "       2.110e-04, 2.115e-04, 2.120e-04, 2.125e-04, 2.130e-04, 2.135e-04,\n",
       "       2.140e-04, 2.145e-04, 2.150e-04, 2.155e-04, 2.160e-04, 2.165e-04,\n",
       "       2.170e-04, 2.175e-04, 2.180e-04, 2.185e-04, 2.190e-04, 2.195e-04,\n",
       "       2.200e-04, 2.205e-04, 2.210e-04, 2.215e-04, 2.220e-04, 2.225e-04,\n",
       "       2.230e-04, 2.235e-04, 2.240e-04, 2.245e-04, 2.250e-04, 2.255e-04,\n",
       "       2.260e-04, 2.265e-04, 2.270e-04, 2.275e-04, 2.280e-04, 2.285e-04,\n",
       "       2.290e-04, 2.295e-04, 2.300e-04, 2.305e-04, 2.310e-04, 2.315e-04,\n",
       "       2.320e-04, 2.325e-04, 2.330e-04, 2.335e-04, 2.340e-04, 2.345e-04,\n",
       "       2.350e-04, 2.355e-04, 2.360e-04, 2.365e-04, 2.370e-04, 2.375e-04,\n",
       "       2.380e-04, 2.385e-04, 2.390e-04, 2.395e-04, 2.400e-04, 2.405e-04,\n",
       "       2.410e-04, 2.415e-04, 2.420e-04, 2.425e-04, 2.430e-04, 2.435e-04,\n",
       "       2.440e-04, 2.445e-04, 2.450e-04, 2.455e-04, 2.460e-04, 2.465e-04,\n",
       "       2.470e-04, 2.475e-04, 2.480e-04, 2.485e-04, 2.490e-04, 2.495e-04,\n",
       "       2.500e-04, 2.505e-04, 2.510e-04, 2.515e-04, 2.520e-04, 2.525e-04,\n",
       "       2.530e-04, 2.535e-04, 2.540e-04, 2.545e-04, 2.550e-04, 2.555e-04,\n",
       "       2.560e-04, 2.565e-04, 2.570e-04, 2.575e-04, 2.580e-04, 2.585e-04,\n",
       "       2.590e-04, 2.595e-04, 2.600e-04, 2.605e-04, 2.610e-04, 2.615e-04,\n",
       "       2.620e-04, 2.625e-04, 2.630e-04, 2.635e-04, 2.640e-04, 2.645e-04,\n",
       "       2.650e-04, 2.655e-04, 2.660e-04, 2.665e-04, 2.670e-04, 2.675e-04,\n",
       "       2.680e-04, 2.685e-04, 2.690e-04, 2.695e-04, 2.700e-04, 2.705e-04,\n",
       "       2.710e-04, 2.715e-04, 2.720e-04, 2.725e-04, 2.730e-04, 2.735e-04,\n",
       "       2.740e-04, 2.745e-04, 2.750e-04, 2.755e-04, 2.760e-04, 2.765e-04,\n",
       "       2.770e-04, 2.775e-04, 2.780e-04, 2.785e-04, 2.790e-04, 2.795e-04,\n",
       "       2.800e-04, 2.805e-04, 2.810e-04, 2.815e-04, 2.820e-04, 2.825e-04,\n",
       "       2.830e-04, 2.835e-04, 2.840e-04, 2.845e-04, 2.850e-04, 2.855e-04,\n",
       "       2.860e-04, 2.865e-04, 2.870e-04, 2.875e-04, 2.880e-04, 2.885e-04,\n",
       "       2.890e-04, 2.895e-04, 2.900e-04, 2.905e-04, 2.910e-04, 2.915e-04,\n",
       "       2.920e-04, 2.925e-04, 2.930e-04, 2.935e-04, 2.940e-04, 2.945e-04,\n",
       "       2.950e-04, 2.955e-04, 2.960e-04, 2.965e-04, 2.970e-04, 2.975e-04,\n",
       "       2.980e-04, 2.985e-04, 2.990e-04, 2.995e-04, 3.000e-04, 3.005e-04,\n",
       "       3.010e-04, 3.015e-04, 3.020e-04, 3.025e-04, 3.030e-04, 3.035e-04,\n",
       "       3.040e-04, 3.045e-04, 3.050e-04, 3.055e-04, 3.060e-04, 3.065e-04,\n",
       "       3.070e-04, 3.075e-04, 3.080e-04, 3.085e-04, 3.090e-04, 3.095e-04,\n",
       "       3.100e-04, 3.105e-04, 3.110e-04, 3.115e-04, 3.120e-04, 3.125e-04,\n",
       "       3.130e-04, 3.135e-04, 3.140e-04, 3.145e-04, 3.150e-04, 3.155e-04,\n",
       "       3.160e-04, 3.165e-04, 3.170e-04, 3.175e-04, 3.180e-04, 3.185e-04,\n",
       "       3.190e-04, 3.195e-04, 3.200e-04, 3.205e-04, 3.210e-04, 3.215e-04,\n",
       "       3.220e-04, 3.225e-04, 3.230e-04, 3.235e-04, 3.240e-04, 3.245e-04,\n",
       "       3.250e-04, 3.255e-04, 3.260e-04, 3.265e-04, 3.270e-04, 3.275e-04,\n",
       "       3.280e-04, 3.285e-04, 3.290e-04, 3.295e-04, 3.300e-04, 3.305e-04,\n",
       "       3.310e-04, 3.315e-04, 3.320e-04, 3.325e-04, 3.330e-04, 3.335e-04,\n",
       "       3.340e-04, 3.345e-04, 3.350e-04, 3.355e-04, 3.360e-04, 3.365e-04,\n",
       "       3.370e-04, 3.375e-04, 3.380e-04, 3.385e-04, 3.390e-04, 3.395e-04,\n",
       "       3.400e-04, 3.405e-04, 3.410e-04, 3.415e-04, 3.420e-04, 3.425e-04,\n",
       "       3.430e-04, 3.435e-04, 3.440e-04, 3.445e-04, 3.450e-04, 3.455e-04,\n",
       "       3.460e-04, 3.465e-04, 3.470e-04, 3.475e-04, 3.480e-04, 3.485e-04,\n",
       "       3.490e-04, 3.495e-04, 3.500e-04, 3.505e-04, 3.510e-04, 3.515e-04,\n",
       "       3.520e-04, 3.525e-04, 3.530e-04, 3.535e-04, 3.540e-04, 3.545e-04,\n",
       "       3.550e-04, 3.555e-04, 3.560e-04, 3.565e-04, 3.570e-04, 3.575e-04,\n",
       "       3.580e-04, 3.585e-04, 3.590e-04, 3.595e-04, 3.600e-04, 3.605e-04,\n",
       "       3.610e-04, 3.615e-04, 3.620e-04, 3.625e-04, 3.630e-04, 3.635e-04,\n",
       "       3.640e-04, 3.645e-04, 3.650e-04, 3.655e-04, 3.660e-04, 3.665e-04,\n",
       "       3.670e-04, 3.675e-04, 3.680e-04, 3.685e-04, 3.690e-04, 3.695e-04,\n",
       "       3.700e-04, 3.705e-04, 3.710e-04, 3.715e-04, 3.720e-04, 3.725e-04,\n",
       "       3.730e-04, 3.735e-04, 3.740e-04, 3.745e-04, 3.750e-04, 3.755e-04,\n",
       "       3.760e-04, 3.765e-04, 3.770e-04, 3.775e-04, 3.780e-04, 3.785e-04,\n",
       "       3.790e-04, 3.795e-04, 3.800e-04, 3.805e-04, 3.810e-04, 3.815e-04,\n",
       "       3.820e-04, 3.825e-04, 3.830e-04, 3.835e-04, 3.840e-04, 3.845e-04,\n",
       "       3.850e-04, 3.855e-04, 3.860e-04, 3.865e-04, 3.870e-04, 3.875e-04,\n",
       "       3.880e-04, 3.885e-04, 3.890e-04, 3.895e-04, 3.900e-04, 3.905e-04,\n",
       "       3.910e-04, 3.915e-04, 3.920e-04, 3.925e-04, 3.930e-04, 3.935e-04,\n",
       "       3.940e-04, 3.945e-04, 3.950e-04, 3.955e-04, 3.960e-04, 3.965e-04,\n",
       "       3.970e-04, 3.975e-04, 3.980e-04, 3.985e-04, 3.990e-04, 3.995e-04,\n",
       "       4.000e-04, 4.005e-04, 4.010e-04, 4.015e-04, 4.020e-04, 4.025e-04,\n",
       "       4.030e-04, 4.035e-04, 4.040e-04, 4.045e-04, 4.050e-04, 4.055e-04,\n",
       "       4.060e-04, 4.065e-04, 4.070e-04, 4.075e-04, 4.080e-04, 4.085e-04,\n",
       "       4.090e-04, 4.095e-04, 4.100e-04, 4.105e-04, 4.110e-04, 4.115e-04,\n",
       "       4.120e-04, 4.125e-04, 4.130e-04, 4.135e-04, 4.140e-04, 4.145e-04,\n",
       "       4.150e-04, 4.155e-04, 4.160e-04, 4.165e-04, 4.170e-04, 4.175e-04,\n",
       "       4.180e-04, 4.185e-04, 4.190e-04, 4.195e-04, 4.200e-04, 4.205e-04,\n",
       "       4.210e-04, 4.215e-04, 4.220e-04, 4.225e-04, 4.230e-04, 4.235e-04,\n",
       "       4.240e-04, 4.245e-04, 4.250e-04, 4.255e-04, 4.260e-04, 4.265e-04,\n",
       "       4.270e-04, 4.275e-04, 4.280e-04, 4.285e-04, 4.290e-04, 4.295e-04,\n",
       "       4.300e-04, 4.305e-04, 4.310e-04, 4.315e-04, 4.320e-04, 4.325e-04,\n",
       "       4.330e-04, 4.335e-04, 4.340e-04, 4.345e-04, 4.350e-04, 4.355e-04,\n",
       "       4.360e-04, 4.365e-04, 4.370e-04, 4.375e-04, 4.380e-04, 4.385e-04,\n",
       "       4.390e-04, 4.395e-04, 4.400e-04, 4.405e-04, 4.410e-04, 4.415e-04,\n",
       "       4.420e-04, 4.425e-04, 4.430e-04, 4.435e-04, 4.440e-04, 4.445e-04,\n",
       "       4.450e-04, 4.455e-04, 4.460e-04, 4.465e-04, 4.470e-04, 4.475e-04,\n",
       "       4.480e-04, 4.485e-04, 4.490e-04, 4.495e-04, 4.500e-04, 4.505e-04,\n",
       "       4.510e-04, 4.515e-04, 4.520e-04, 4.525e-04, 4.530e-04, 4.535e-04,\n",
       "       4.540e-04, 4.545e-04, 4.550e-04, 4.555e-04, 4.560e-04, 4.565e-04,\n",
       "       4.570e-04, 4.575e-04, 4.580e-04, 4.585e-04, 4.590e-04, 4.595e-04,\n",
       "       4.600e-04, 4.605e-04, 4.610e-04, 4.615e-04, 4.620e-04, 4.625e-04,\n",
       "       4.630e-04, 4.635e-04, 4.640e-04, 4.645e-04, 4.650e-04, 4.655e-04,\n",
       "       4.660e-04, 4.665e-04, 4.670e-04, 4.675e-04, 4.680e-04, 4.685e-04,\n",
       "       4.690e-04, 4.695e-04, 4.700e-04, 4.705e-04, 4.710e-04, 4.715e-04,\n",
       "       4.720e-04, 4.725e-04, 4.730e-04, 4.735e-04, 4.740e-04, 4.745e-04,\n",
       "       4.750e-04, 4.755e-04, 4.760e-04, 4.765e-04, 4.770e-04, 4.775e-04,\n",
       "       4.780e-04, 4.785e-04, 4.790e-04, 4.795e-04, 4.800e-04, 4.805e-04,\n",
       "       4.810e-04, 4.815e-04, 4.820e-04, 4.825e-04, 4.830e-04, 4.835e-04,\n",
       "       4.840e-04, 4.845e-04, 4.850e-04, 4.855e-04, 4.860e-04, 4.865e-04,\n",
       "       4.870e-04, 4.875e-04, 4.880e-04, 4.885e-04, 4.890e-04, 4.895e-04,\n",
       "       4.900e-04, 4.905e-04, 4.910e-04, 4.915e-04, 4.920e-04, 4.925e-04,\n",
       "       4.930e-04, 4.935e-04, 4.940e-04, 4.945e-04, 4.950e-04, 4.955e-04,\n",
       "       4.960e-04, 4.965e-04, 4.970e-04, 4.975e-04, 4.980e-04, 4.985e-04,\n",
       "       4.990e-04, 4.995e-04])"
      ]
     },
     "execution_count": 19,
     "metadata": {},
     "output_type": "execute_result"
    }
   ],
   "source": [
    "# kx = np.fft.fftshift(np.fft.fftfreq(len(ds1.XC),np.diff(ds1.XC)[0]))\n",
    "# ky = np.fft.fftshift(np.fft.fftfreq(len(ds1.YC),np.diff(ds1.YC)[0]))\n",
    "kx = np.arange(1e-6,5e-4,5e-7)\n",
    "kx"
   ]
  },
  {
   "cell_type": "code",
   "execution_count": 380,
   "metadata": {},
   "outputs": [
    {
     "name": "stdout",
     "output_type": "stream",
     "text": [
      "(4, 40, 200) (40,) (4, 40, 200) (40,)\n"
     ]
    }
   ],
   "source": [
    "print(N2.shape, ds1.Zl.shape, ug.shape, ds1.Z.shape)"
   ]
  },
  {
   "cell_type": "code",
   "execution_count": 458,
   "metadata": {},
   "outputs": [
    {
     "data": {
      "text/plain": [
       "<xarray.DataArray (seas: 4, Z: 76, YC: 400)>\n",
       "dask.array<shape=(4, 76, 400), dtype=float32, chunksize=(1, 76, 1)>\n",
       "Coordinates:\n",
       "  * seas     (seas) int64 0 1 2 3\n",
       "  * Z        (Z) >f4 -0.5 -1.57 -2.79 -4.185 -5.78 -7.595 -9.66 -12.01 ...\n",
       "  * YC       (YC) >f4 2500.0 7500.0 12500.0 17500.0 22500.0 27500.0 32500.0 ..."
      ]
     },
     "execution_count": 458,
     "metadata": {},
     "output_type": "execute_result"
    }
   ],
   "source": [
    "ug"
   ]
  },
  {
   "cell_type": "code",
   "execution_count": 20,
   "metadata": {},
   "outputs": [],
   "source": [
    "nznew = 200\n",
    "zNew = np.linspace(ds1.Zl[0], ds1.Zl[-1], nznew)\n",
    "f = pchip(np.abs(ds1.Zl), N2_seas, axis=1)\n",
    "N2intp = xr.DataArray(f(np.abs(zNew)), dims=['seas','znew','YC'],\n",
    "                     coords={'seas':N2_seas.seas.data,'znew':zNew,'YC':N2_seas.YC}\n",
    "                     )\n",
    "zUew = np.linspace(ds1.Z[0], ds1.Z[-1], nznew)\n",
    "f = pchip(np.abs(ds1.Z), ug, axis=1)\n",
    "ugintp = xr.DataArray(f(np.abs(zUew)), dims=['seas','znew','YC'],\n",
    "                     coords={'seas':range(4),'znew':zNew,'YC':ug.YC}\n",
    "                     )"
   ]
  },
  {
   "cell_type": "code",
   "execution_count": 466,
   "metadata": {},
   "outputs": [
    {
     "data": {
      "text/plain": [
       "((4, 200, 21), 3000.0)"
      ]
     },
     "execution_count": 466,
     "metadata": {},
     "output_type": "execute_result"
    }
   ],
   "source": [
    "N2intp.sel(YC=slice(12e5,13.05e5)).shape,np.abs(ds1.Zp1.data[-1])"
   ]
  },
  {
   "cell_type": "code",
   "execution_count": 21,
   "metadata": {},
   "outputs": [
    {
     "name": "stderr",
     "output_type": "stream",
     "text": [
      "/home/takaya/oceanmodes/oceanmodes/baroclinic.py:202: RuntimeWarning: invalid value encountered in power\n",
      "  Rd = (-w)**-0.5 / np.absolute(f0)\n"
     ]
    },
    {
     "data": {
      "text/plain": [
       "array([1.01390163e-05, 1.01067369e-05, 1.01030062e-05, 1.01266121e-05])"
      ]
     },
     "execution_count": 21,
     "metadata": {},
     "output_type": "execute_result"
    }
   ],
   "source": [
    "kd = np.zeros(4)\n",
    "kwargs = {'num_eigen': 2, 'init_vector': None, 'num_Lanczos': nznew*10, 'iteration': nznew*100, 'tolerance': 0}\n",
    "for i in range(len(N2_seas.seas)):\n",
    "    zf, Rd, neuphi = neu(np.abs(zNew[1:]), N2intp.sel(YC=12.5e5,method='nearest')[i,1:], \n",
    "                        np.abs(f0), np.abs(ds1.Zp1.data[-1]),\n",
    "                        **kwargs\n",
    "                        )\n",
    "    kd[i] = (2*np.pi*Rd[1])**-1\n",
    "kd"
   ]
  },
  {
   "cell_type": "code",
   "execution_count": null,
   "metadata": {},
   "outputs": [],
   "source": [
    "num = 2\n",
    "omega = np.zeros((len(ug.seas),len(kx), 21), dtype=np.complex128)\n",
    "# psi = np.zeros((len(ug.seas),len(kx), 11), dtype=np.complex128)\n",
    "for i in range(len(ug.seas)):\n",
    "    for j in range(21):\n",
    "        zpsi, gr, psi = insta(np.abs(zNew[1:]), N2intp.sel(YC=slice(12e5,13.05e5))[i,1:,j], \n",
    "                             np.abs(f0), beta, 2*np.pi*kx, np.zeros(1),\n",
    "                             np.abs(zUew), ugintp.sel(YC=slice(12e5,13.05e5))[i,:,j], np.zeros_like(zUew),\n",
    "                             np.zeros(2), np.zeros(2), sort='LI', num=num\n",
    "                             )\n",
    "        omega[i,:,j] = gr[0,0]"
   ]
  },
  {
   "cell_type": "code",
   "execution_count": 210,
   "metadata": {},
   "outputs": [
    {
     "data": {
      "text/plain": [
       "array([[3.74574588e-15, 1.61673874e-15, 5.44774455e-16, 6.89885400e-16,\n",
       "        9.90041720e-16, 1.37027582e-15, 5.30315088e-15, 8.01759290e-15,\n",
       "        3.10506335e-15, 9.68249948e-15, 6.29023384e-15, 1.21234035e-14,\n",
       "        1.67403333e-14, 1.69100335e-14, 2.35194869e-14, 7.01648121e-14,\n",
       "        3.08147658e-14, 5.19075298e-14, 4.75434393e-14, 6.40687115e-14,\n",
       "        1.46186176e-13, 5.18486133e-14, 5.14848376e-14, 6.81379892e-14,\n",
       "        6.83223639e-14, 7.43040605e-14, 3.69143717e-14, 7.61638300e-14,\n",
       "        2.60152949e-13, 2.29724811e-14, 2.17648959e-14, 2.25981767e-14,\n",
       "        2.37744591e-14, 8.74259985e-15, 2.20011788e-14, 1.96245575e-14,\n",
       "        1.82734309e-14, 1.33500741e-14, 1.81708346e-14, 2.13721785e-14,\n",
       "        3.04874382e-14, 2.28473524e-14, 1.81076943e-14, 3.14529519e-14,\n",
       "        3.06305598e-14, 1.43257674e-14, 3.02355039e-14, 3.55510721e-14,\n",
       "        2.45392743e-14, 4.86502518e-14, 3.05754957e-14, 2.94290286e-14,\n",
       "        4.23844499e-14, 2.23818751e-14, 2.30561342e-14, 4.51214627e-14,\n",
       "        4.67954890e-14, 2.16537632e-14, 2.77095878e-14, 2.21295825e-14,\n",
       "        2.32220380e-14, 2.47930091e-14, 5.69715410e-14, 2.50647554e-14,\n",
       "        5.04154922e-14, 3.82371962e-14, 3.48311219e-14, 2.72115938e-04,\n",
       "        4.10300640e-14, 2.22693668e-04, 2.33126360e-04, 2.94507748e-14,\n",
       "        2.67922767e-05, 1.45947983e-13, 6.25438761e-14, 1.01271037e-13,\n",
       "        7.28110926e-14, 1.45189914e-13, 1.41565846e-13, 8.02113389e-14,\n",
       "        7.27861088e-14, 8.28197702e-14, 6.86674575e-14, 9.04445907e-14,\n",
       "        4.32992936e-14, 4.46642351e-14, 6.32512030e-14, 6.32187206e-14,\n",
       "        7.81420082e-14, 6.06185975e-14, 4.69918736e-14, 8.43090505e-14,\n",
       "        9.81342989e-14, 6.94462233e-14, 4.73404696e-14, 4.99719959e-14,\n",
       "        5.88888143e-14, 6.20702780e-14, 5.37889412e-14, 6.61341537e-14],\n",
       "       [6.04431139e-15, 1.80391319e-15, 5.57288620e-16, 5.01954885e-16,\n",
       "        1.14245613e-15, 1.36575808e-15, 2.58482110e-15, 1.49811809e-14,\n",
       "        4.33051122e-15, 9.53868834e-15, 2.30254897e-14, 1.64912400e-14,\n",
       "        1.23486845e-14, 1.77048308e-14, 7.45628422e-14, 1.90831975e-14,\n",
       "        6.65985661e-14, 6.70090837e-14, 5.70002558e-14, 9.90722053e-14,\n",
       "        1.69720752e-14, 2.24516906e-13, 6.84390000e-14, 1.12803874e-13,\n",
       "        8.19567529e-14, 1.02413885e-13, 1.70073052e-13, 3.62241834e-14,\n",
       "        4.41740059e-14, 2.25846688e-14, 2.78984512e-14, 1.64307072e-14,\n",
       "        1.76126558e-14, 2.17941077e-14, 1.78091863e-14, 1.65001857e-14,\n",
       "        3.62389863e-14, 4.40853574e-14, 2.75404552e-14, 4.23971541e-14,\n",
       "        1.99860167e-14, 3.04243907e-14, 2.16290756e-14, 3.78432989e-14,\n",
       "        1.47350622e-13, 1.07496599e-13, 1.36703514e-13, 4.05423985e-14,\n",
       "        5.07822329e-14, 5.75078230e-14, 8.41505424e-14, 7.23716506e-14,\n",
       "        6.36566571e-14, 5.75454778e-14, 5.10996960e-14, 6.08073787e-14,\n",
       "        4.08600517e-14, 5.73550267e-14, 4.43440344e-14, 5.80146750e-14,\n",
       "        8.87795839e-14, 6.92307009e-14, 5.50826544e-14, 2.64271169e-14,\n",
       "        5.52985833e-14, 7.27295480e-14, 3.68493499e-14, 3.47253731e-14,\n",
       "        5.38334516e-14, 6.22449392e-14, 4.17315936e-14, 3.12937803e-14,\n",
       "        4.17284683e-14, 3.74216902e-14, 4.85055497e-14, 4.43142934e-14,\n",
       "        5.78739092e-14, 4.62236625e-14, 2.89715420e-14, 3.26542897e-14,\n",
       "        4.51220688e-14, 4.14362382e-14, 2.95973335e-14, 2.22647603e-14,\n",
       "        3.96107989e-14, 4.56386104e-14, 1.72462093e-14, 5.63935573e-14,\n",
       "        3.17128419e-14, 3.31999018e-14, 3.73426574e-14, 3.40183428e-14,\n",
       "        4.13322617e-14, 3.32158459e-14, 5.48677304e-14, 4.95711155e-14,\n",
       "        6.57131035e-14, 3.77309861e-14, 4.25659193e-14, 4.34320463e-14],\n",
       "       [1.44182795e-14, 2.33805292e-15, 3.52390653e-16, 6.36120878e-16,\n",
       "        9.63441679e-16, 1.22304565e-15, 6.36739231e-15, 1.58679828e-14,\n",
       "        2.23139431e-15, 1.16083763e-14, 4.48885859e-15, 3.14060028e-14,\n",
       "        2.97194299e-14, 3.65785781e-14, 1.38100506e-14, 7.34304595e-14,\n",
       "        9.77449710e-14, 1.03420557e-13, 1.35024893e-14, 1.05261999e-13,\n",
       "        8.91000382e-14, 8.26303640e-14, 9.35417184e-14, 9.16869235e-14,\n",
       "        1.24690502e-14, 2.23878713e-13, 6.85199756e-14, 9.75736532e-14,\n",
       "        3.68933964e-14, 3.02504064e-14, 2.46279649e-14, 2.41903114e-14,\n",
       "        5.89277115e-14, 3.02132042e-14, 3.19451410e-14, 4.50654834e-14,\n",
       "        2.23859745e-14, 2.54535030e-14, 2.14370455e-14, 2.40166293e-14,\n",
       "        1.70338068e-14, 2.85633345e-14, 1.66121666e-14, 2.18939223e-14,\n",
       "        2.30599950e-14, 2.10429927e-14, 2.97212422e-14, 1.25846187e-14,\n",
       "        2.49586235e-14, 2.00755925e-14, 1.88086257e-14, 2.16161162e-14,\n",
       "        2.90776046e-14, 1.68182696e-14, 1.90776079e-14, 3.90821548e-14,\n",
       "        1.29093764e-14, 2.54120769e-14, 2.99018439e-14, 1.45039091e-14,\n",
       "        2.32223745e-14, 2.16600986e-14, 1.84351582e-14, 2.70019417e-14,\n",
       "        2.81676044e-14, 3.39817895e-14, 1.50609913e-14, 2.50347786e-14,\n",
       "        3.02019346e-14, 2.48673136e-14, 2.73880762e-14, 2.29842770e-14,\n",
       "        1.87952547e-14, 3.28084734e-14, 2.93360635e-14, 2.45474525e-14,\n",
       "        3.73484126e-14, 3.25425034e-14, 1.84904910e-14, 2.33926085e-14,\n",
       "        2.98965757e-14, 4.46720533e-14, 3.42371521e-14, 3.59759237e-14,\n",
       "        2.78106168e-14, 3.24556393e-14, 2.66438190e-14, 3.45651711e-14,\n",
       "        2.41274969e-14, 2.93071240e-14, 3.00477549e-14, 3.01151236e-14,\n",
       "        2.37628403e-14, 3.76440210e-14, 4.15510920e-14, 3.46343743e-14,\n",
       "        3.96634424e-14, 3.08930809e-14, 1.48171081e-14, 2.52911190e-14],\n",
       "       [4.98037639e-15, 3.05550616e-15, 4.88700065e-16, 6.50169244e-16,\n",
       "        1.00035313e-15, 1.48005537e-15, 4.01498139e-15, 6.85818627e-15,\n",
       "        3.30821399e-15, 1.62654723e-14, 4.57208468e-15, 6.19379132e-14,\n",
       "        1.95704424e-14, 1.87671990e-14, 1.01106061e-13, 5.74018152e-14,\n",
       "        4.78576295e-14, 1.05515122e-13, 9.40842344e-14, 9.07741015e-14,\n",
       "        4.35570065e-14, 5.68655787e-14, 6.85898915e-14, 5.67621751e-14,\n",
       "        5.36063990e-14, 6.93272148e-14, 5.39918614e-14, 4.95083637e-14,\n",
       "        5.31936747e-14, 5.70725516e-14, 4.58838768e-14, 4.09501513e-14,\n",
       "        5.46476859e-14, 4.67155895e-14, 9.68569094e-14, 4.23078597e-14,\n",
       "        5.33842209e-14, 4.47167257e-14, 6.43043866e-14, 4.65882475e-14,\n",
       "        6.33536921e-14, 6.28777116e-14, 7.77670177e-14, 5.22935030e-14,\n",
       "        5.40461471e-14, 8.14221619e-14, 1.04783047e-13, 1.00853489e-13,\n",
       "        7.87955056e-14, 7.18346340e-14, 1.08789409e-13, 7.91700922e-14,\n",
       "        8.24414284e-14, 6.96419796e-14, 6.30197211e-14, 4.34459074e-14,\n",
       "        1.25862966e-13, 6.42965889e-14, 1.46087310e-13, 1.41944121e-13,\n",
       "        1.26435008e-13, 2.61165485e-14, 2.58296919e-14, 3.30308295e-14,\n",
       "        4.70717414e-14, 3.19782698e-14, 3.22032559e-14, 3.30466504e-14,\n",
       "        3.96349282e-14, 3.94965359e-14, 2.06959985e-14, 3.09779791e-14,\n",
       "        2.59439496e-14, 4.75291112e-14, 4.13916482e-14, 3.99364392e-14,\n",
       "        5.32536818e-14, 2.91894797e-14, 2.53122351e-14, 5.51481156e-14,\n",
       "        4.06888356e-14, 2.88331069e-14, 4.85340844e-14, 4.71330668e-14,\n",
       "        4.52605893e-14, 4.83658809e-14, 4.39229780e-14, 5.74416987e-14,\n",
       "        5.83472386e-14, 2.87382278e-14, 6.18434466e-14, 5.26668781e-14,\n",
       "        6.77026694e-14, 4.08859219e-14, 4.82219692e-14, 4.04784997e-14,\n",
       "        3.87838613e-14, 4.57387394e-14, 7.42562489e-14, 1.25334211e-12]])"
      ]
     },
     "execution_count": 210,
     "metadata": {},
     "output_type": "execute_result"
    }
   ],
   "source": [
    "omega.imag.std(axis=-1)*86400"
   ]
  },
  {
   "cell_type": "code",
   "execution_count": 11,
   "metadata": {},
   "outputs": [
    {
     "name": "stderr",
     "output_type": "stream",
     "text": [
      "/home/takaya/xmitgcm/xmitgcm/utils.py:314: UserWarning: Not sure what to do with rlev = L\n",
      "  warnings.warn(\"Not sure what to do with rlev = \" + rlev)\n",
      "/home/takaya/xmitgcm/xmitgcm/utils.py:314: UserWarning: Not sure what to do with rlev = X\n",
      "  warnings.warn(\"Not sure what to do with rlev = \" + rlev)\n",
      "/home/takaya/xmitgcm/xmitgcm/mds_store.py:235: FutureWarning: iteration over an xarray.Dataset will change in xarray v0.11 to only include data variables, not coordinates. Iterate over the Dataset.variables property instead to preserve existing behavior in a forwards compatible manner.\n",
      "  for vname in ds:\n"
     ]
    }
   ],
   "source": [
    "# ds3 = open_mdsdataset(op.join(ddir,'deepML-2mon_5kmKPP'), grid_dir=op.join(ddir,'5km_grid'),\n",
    "#                      iters=range(ts,te,288),\n",
    "#                      prefix=['KPPboundary'],\n",
    "#                      delta_t=3e2\n",
    "#                      )\n",
    "\n",
    "# MLD = ds3.MXLDEPTH"
   ]
  },
  {
   "cell_type": "code",
   "execution_count": 12,
   "metadata": {},
   "outputs": [
    {
     "data": {
      "text/plain": [
       "<xarray.DataArray 'MXLDEPTH' (seas: 4, YC: 400)>\n",
       "dask.array<shape=(4, 400), dtype=float32, chunksize=(1, 400)>\n",
       "Coordinates:\n",
       "  * YC       (YC) >f4 2500.0 7500.0 12500.0 17500.0 22500.0 27500.0 32500.0 ...\n",
       "  * seas     (seas) int64 0 1 2 3"
      ]
     },
     "execution_count": 12,
     "metadata": {},
     "output_type": "execute_result"
    }
   ],
   "source": [
    "# MLD.coords['seas'] = ('time',np.tile(np.repeat(range(4),90),10))\n",
    "# MLD_seas = MLD.groupby('seas').mean(['time','XC'])\n",
    "# MLD_seas"
   ]
  },
  {
   "cell_type": "markdown",
   "metadata": {},
   "source": [
    "$$\\sigma_{Eady} = \\frac{U}{R_d} [...]^{1/2} = \\frac{fU}{NH}[...]^{1/2} \\sim f\\sqrt{\\frac{1}{H}\\int\\Big(\\frac{(\\partial u/\\partial z)^2}{N^2}\\Big) dz}\\ [...]^{1/2}$$\n",
    "\n",
    "Now, the $\\mu$ inside the square brackets is defined as\n",
    "\n",
    "$$\\mu = \\frac{NH}{f} \\kappa_x = \\pi R_d \\cdot 2\\pi k = \\frac{\\lambda_d}{2}\\cdot 2\\pi k = \\pi \\lambda_d k$$"
   ]
  },
  {
   "cell_type": "code",
   "execution_count": 473,
   "metadata": {},
   "outputs": [
    {
     "data": {
      "text/plain": [
       "<xarray.DataArray (seas: 4, Zl: 76)>\n",
       "dask.array<shape=(4, 76), dtype=float32, chunksize=(1, 1)>\n",
       "Coordinates:\n",
       "  * seas     (seas) int64 0 1 2 3\n",
       "  * Zl       (Zl) >f4 0.0 -1.0 -2.14 -3.44 -4.93 -6.63 -8.56 -10.76 -13.26 ...\n",
       "    YC       >f4 1252500.0"
      ]
     },
     "execution_count": 473,
     "metadata": {},
     "output_type": "execute_result"
    }
   ],
   "source": [
    "N2_seas.sel(YC=12.5e5,method='nearest')"
   ]
  },
  {
   "cell_type": "code",
   "execution_count": 487,
   "metadata": {},
   "outputs": [
    {
     "name": "stdout",
     "output_type": "stream",
     "text": [
      "[-1.90683305e-02  8.41999054e-07  4.40937612e-07  3.10510217e-07\n",
      "  2.49872215e-07  2.18038380e-07  2.01155544e-07  1.96267365e-07\n",
      "  2.02528284e-07  2.23605298e-07  2.70544859e-07  3.85840622e-07\n",
      "  8.92375226e-07  5.95333449e-06  1.16725214e-05  1.56545866e-05\n",
      "  1.70903313e-05  1.65801448e-05  1.54829013e-05  1.40209195e-05\n",
      "  1.25250608e-05  1.07729584e-05  9.00924806e-06  7.52322012e-06\n",
      "  6.43078602e-06  5.62931427e-06  5.02521107e-06  4.57730812e-06\n",
      "  4.24011478e-06  3.98785869e-06]\n",
      "[-1.6449371e-02 -8.3412988e-07 -3.2054248e-07 -1.5290784e-07\n",
      " -6.8626868e-08 -2.0102828e-08  1.4044644e-08  3.7820282e-08\n",
      "  5.8515955e-08  7.6700019e-08  9.6838100e-08  1.2369169e-07\n",
      "  1.8625163e-07  4.4092408e-07  6.4371648e-07  9.1266151e-07\n",
      "  1.1207493e-06  1.2355729e-06  1.2874033e-06  1.3587721e-06\n",
      "  1.4831417e-06  1.5962507e-06  1.6887416e-06  1.7881279e-06\n",
      "  1.8991427e-06  2.0560044e-06  2.2861220e-06  2.5608060e-06\n",
      "  2.8287752e-06  3.1006243e-06]\n"
     ]
    }
   ],
   "source": [
    "print(N2_seas.sel(YC=12.5e5,method='nearest')[0,:30].values)\n",
    "print(N2_seas.sel(YC=12.5e5,method='nearest')[2,:30].values)"
   ]
  },
  {
   "cell_type": "code",
   "execution_count": 21,
   "metadata": {},
   "outputs": [
    {
     "name": "stdout",
     "output_type": "stream",
     "text": [
      "33 6\n",
      "312.09 225.80202\n"
     ]
    },
    {
     "name": "stderr",
     "output_type": "stream",
     "text": [
      "/home/takaya/miniconda3/envs/uptodate/lib/python3.6/site-packages/dask/local.py:271: RuntimeWarning: divide by zero encountered in true_divide\n",
      "  return func(*args2)\n",
      "/home/takaya/miniconda3/envs/uptodate/lib/python3.6/site-packages/ipykernel_launcher.py:48: RuntimeWarning: invalid value encountered in sqrt\n"
     ]
    },
    {
     "name": "stdout",
     "output_type": "stream",
     "text": [
      "8942.1875\n",
      "[3.62080654e-08 5.43049540e-08 7.23932706e-08 9.04701594e-08\n",
      " 1.08532766e-07 1.26578237e-07 1.44603722e-07 1.62606371e-07\n",
      " 1.80583339e-07 1.98531782e-07 2.16448860e-07 2.34331736e-07\n",
      " 2.52177577e-07 2.69983553e-07 2.87746839e-07 3.05464616e-07\n",
      " 3.23134068e-07 3.40752383e-07 3.58316758e-07 3.75824391e-07\n",
      " 3.93272489e-07 4.10658265e-07 4.27978935e-07 4.45231725e-07\n",
      " 4.62413865e-07 4.79522593e-07 4.96555153e-07 5.13508797e-07\n",
      " 5.30380783e-07 5.47168377e-07 5.63868852e-07 5.80479488e-07\n",
      " 5.96997573e-07 6.13420402e-07 6.29745278e-07 6.45969511e-07\n",
      " 6.62090420e-07 6.78105328e-07 6.94011570e-07 7.09806484e-07\n",
      " 7.25487420e-07 7.41051730e-07 7.56496778e-07 7.71819930e-07\n",
      " 7.87018564e-07 8.02090061e-07 8.17031808e-07 8.31841201e-07\n",
      " 8.46515640e-07 8.61052530e-07 8.75449283e-07 8.89703313e-07\n",
      " 9.03812043e-07 9.17772895e-07 9.31583299e-07 9.45240685e-07\n",
      " 9.58742488e-07 9.72086145e-07 9.85269092e-07 9.98288769e-07\n",
      " 1.01114262e-06 1.02382807e-06 1.03634257e-06 1.04868356e-06\n",
      " 1.06084846e-06 1.07283471e-06 1.08463974e-06 1.09626096e-06\n",
      " 1.10769580e-06 1.11894165e-06 1.12999593e-06 1.14085601e-06\n",
      " 1.15151929e-06 1.16198314e-06 1.17224490e-06 1.18230192e-06\n",
      " 1.19215152e-06 1.20179102e-06 1.21121771e-06 1.22042885e-06\n",
      " 1.22942170e-06 1.23819348e-06 1.24674138e-06 1.25506258e-06\n",
      " 1.26315421e-06 1.27101340e-06 1.27863720e-06 1.28602266e-06\n",
      " 1.29316679e-06 1.30006652e-06 1.30671878e-06 1.31312042e-06\n",
      " 1.31926827e-06 1.32515908e-06 1.33078955e-06 1.33615631e-06\n",
      " 1.34125595e-06 1.34608497e-06 1.35063979e-06 1.35491678e-06\n",
      " 1.35891219e-06 1.36262221e-06 1.36604292e-06 1.36917031e-06\n",
      " 1.37200026e-06 1.37452853e-06 1.37675077e-06 1.37866249e-06\n",
      " 1.38025908e-06 1.38153578e-06 1.38248766e-06 1.38310965e-06\n",
      " 1.38339648e-06 1.38334272e-06 1.38294272e-06 1.38219063e-06\n",
      " 1.38108036e-06 1.37960559e-06 1.37775973e-06 1.37553592e-06\n",
      " 1.37292699e-06 1.36992547e-06 1.36652351e-06 1.36271292e-06\n",
      " 1.35848509e-06 1.35383100e-06 1.34874114e-06 1.34320551e-06\n",
      " 1.33721354e-06 1.33075411e-06 1.32381540e-06 1.31638492e-06\n",
      " 1.30844941e-06 1.29999473e-06 1.29100586e-06 1.28146674e-06\n",
      " 1.27136019e-06 1.26066778e-06 1.24936973e-06 1.23744470e-06\n",
      " 1.22486965e-06 1.21161963e-06 1.19766753e-06 1.18298381e-06\n",
      " 1.16753616e-06 1.15128913e-06 1.13420366e-06 1.11623654e-06\n",
      " 1.09733973e-06 1.07745957e-06 1.05653577e-06 1.03450020e-06\n",
      " 1.01127534e-06 9.86772322e-07 9.60888426e-07 9.33503767e-07\n",
      " 9.04476933e-07 8.73639048e-07 8.40785531e-07 8.05664364e-07\n",
      " 7.67958831e-07 7.27261197e-07 6.83030664e-07 6.34522334e-07\n",
      " 5.80658072e-07 5.19767705e-07 4.48992979e-07 3.62580613e-07\n",
      " 2.44460281e-07            nan            nan            nan\n",
      "            nan            nan            nan            nan\n",
      "            nan            nan            nan            nan\n",
      "            nan            nan            nan            nan\n",
      "            nan            nan            nan            nan\n",
      "            nan            nan            nan            nan\n",
      "            nan            nan            nan            nan\n",
      "            nan            nan            nan            nan\n",
      "            nan            nan            nan            nan\n",
      "            nan            nan            nan            nan\n",
      "            nan            nan            nan            nan\n",
      "            nan            nan            nan            nan\n",
      "            nan            nan            nan            nan\n",
      "            nan            nan            nan            nan\n",
      "            nan            nan            nan            nan\n",
      "            nan            nan            nan            nan\n",
      "            nan            nan            nan            nan\n",
      "            nan            nan            nan            nan\n",
      "            nan            nan            nan            nan\n",
      "            nan            nan            nan            nan\n",
      "            nan            nan            nan            nan\n",
      "            nan            nan            nan            nan\n",
      "            nan            nan            nan            nan\n",
      "            nan            nan            nan            nan\n",
      "            nan            nan            nan            nan\n",
      "            nan            nan            nan            nan\n",
      "            nan            nan            nan            nan\n",
      "            nan            nan            nan            nan\n",
      "            nan            nan            nan            nan\n",
      "            nan            nan            nan            nan\n",
      "            nan            nan            nan            nan\n",
      "            nan            nan            nan            nan\n",
      "            nan            nan            nan            nan\n",
      "            nan            nan            nan            nan\n",
      "            nan            nan            nan            nan\n",
      "            nan            nan            nan            nan\n",
      "            nan            nan            nan            nan\n",
      "            nan            nan            nan            nan\n",
      "            nan            nan            nan            nan\n",
      "            nan            nan            nan            nan\n",
      "            nan            nan            nan            nan\n",
      "            nan            nan            nan            nan\n",
      "            nan            nan            nan            nan\n",
      "            nan            nan            nan            nan\n",
      "            nan            nan            nan            nan\n",
      "            nan            nan            nan            nan\n",
      "            nan            nan            nan            nan\n",
      "            nan            nan            nan            nan\n",
      "            nan            nan            nan            nan\n",
      "            nan            nan            nan            nan\n",
      "            nan            nan            nan            nan\n",
      "            nan            nan            nan            nan\n",
      "            nan            nan            nan            nan\n",
      "            nan            nan            nan            nan\n",
      "            nan            nan            nan            nan\n",
      "            nan            nan            nan            nan\n",
      "            nan            nan            nan            nan\n",
      "            nan            nan            nan            nan\n",
      "            nan            nan            nan            nan\n",
      "            nan            nan            nan            nan\n",
      "            nan            nan            nan            nan\n",
      "            nan            nan            nan            nan\n",
      "            nan            nan            nan            nan\n",
      "            nan            nan            nan            nan\n",
      "            nan            nan            nan            nan\n",
      "            nan            nan            nan            nan\n",
      "            nan            nan            nan            nan\n",
      "            nan            nan            nan            nan\n",
      "            nan            nan            nan            nan\n",
      "            nan            nan            nan            nan\n",
      "            nan            nan            nan            nan\n",
      "            nan            nan            nan            nan\n",
      "            nan            nan            nan            nan\n",
      "            nan            nan            nan            nan\n",
      "            nan            nan            nan            nan\n",
      "            nan            nan            nan            nan\n",
      "            nan            nan            nan            nan\n",
      "            nan            nan            nan            nan\n",
      "            nan            nan            nan            nan\n",
      "            nan            nan            nan            nan\n",
      "            nan            nan            nan            nan\n",
      "            nan            nan            nan            nan\n",
      "            nan            nan            nan            nan\n",
      "            nan            nan            nan            nan\n",
      "            nan            nan            nan            nan\n",
      "            nan            nan            nan            nan\n",
      "            nan            nan            nan            nan\n",
      "            nan            nan            nan            nan\n",
      "            nan            nan            nan            nan\n",
      "            nan            nan            nan            nan\n",
      "            nan            nan            nan            nan\n",
      "            nan            nan            nan            nan\n",
      "            nan            nan            nan            nan\n",
      "            nan            nan            nan            nan\n",
      "            nan            nan            nan            nan\n",
      "            nan            nan            nan            nan\n",
      "            nan            nan            nan            nan\n",
      "            nan            nan            nan            nan\n",
      "            nan            nan            nan            nan\n",
      "            nan            nan            nan            nan\n",
      "            nan            nan            nan            nan\n",
      "            nan            nan            nan            nan\n",
      "            nan            nan            nan            nan\n",
      "            nan            nan            nan            nan\n",
      "            nan            nan            nan            nan\n",
      "            nan            nan            nan            nan\n",
      "            nan            nan            nan            nan\n",
      "            nan            nan            nan            nan\n",
      "            nan            nan            nan            nan\n",
      "            nan            nan            nan            nan\n",
      "            nan            nan            nan            nan\n",
      "            nan            nan            nan            nan\n",
      "            nan            nan            nan            nan\n",
      "            nan            nan            nan            nan\n",
      "            nan            nan            nan            nan\n",
      "            nan            nan            nan            nan\n",
      "            nan            nan            nan            nan\n",
      "            nan            nan            nan            nan\n",
      "            nan            nan            nan            nan\n",
      "            nan            nan            nan            nan\n",
      "            nan            nan            nan            nan\n",
      "            nan            nan            nan            nan\n",
      "            nan            nan            nan            nan\n",
      "            nan            nan            nan            nan\n",
      "            nan            nan            nan            nan\n",
      "            nan            nan            nan            nan\n",
      "            nan            nan            nan            nan\n",
      "            nan            nan            nan            nan\n",
      "            nan            nan            nan            nan\n",
      "            nan            nan            nan            nan\n",
      "            nan            nan            nan            nan\n",
      "            nan            nan            nan            nan\n",
      "            nan            nan            nan            nan\n",
      "            nan            nan            nan            nan\n",
      "            nan            nan            nan            nan\n",
      "            nan            nan            nan            nan\n",
      "            nan            nan            nan            nan\n",
      "            nan            nan            nan            nan\n",
      "            nan            nan            nan            nan\n",
      "            nan            nan            nan            nan\n",
      "            nan            nan            nan            nan\n",
      "            nan            nan            nan            nan\n",
      "            nan            nan            nan            nan\n",
      "            nan            nan            nan            nan\n",
      "            nan            nan            nan            nan\n",
      "            nan            nan            nan            nan\n",
      "            nan            nan            nan            nan\n",
      "            nan            nan            nan            nan\n",
      "            nan            nan            nan            nan\n",
      "            nan            nan            nan            nan\n",
      "            nan            nan            nan            nan\n",
      "            nan            nan            nan            nan\n",
      "            nan            nan            nan            nan\n",
      "            nan            nan            nan            nan\n",
      "            nan            nan            nan            nan\n",
      "            nan            nan            nan            nan\n",
      "            nan            nan            nan            nan\n",
      "            nan            nan            nan            nan\n",
      "            nan            nan            nan            nan\n",
      "            nan            nan            nan            nan\n",
      "            nan            nan            nan            nan\n",
      "            nan            nan            nan            nan\n",
      "            nan            nan            nan            nan\n",
      "            nan            nan            nan            nan\n",
      "            nan            nan            nan            nan\n",
      "            nan            nan            nan            nan\n",
      "            nan            nan            nan            nan\n",
      "            nan            nan            nan            nan\n",
      "            nan            nan            nan            nan\n",
      "            nan            nan            nan            nan\n",
      "            nan            nan            nan            nan\n",
      "            nan            nan            nan            nan\n",
      "            nan            nan            nan            nan\n",
      "            nan            nan            nan            nan\n",
      "            nan            nan            nan            nan\n",
      "            nan            nan            nan            nan\n",
      "            nan            nan            nan            nan\n",
      "            nan            nan            nan            nan\n",
      "            nan            nan            nan            nan\n",
      "            nan            nan            nan            nan\n",
      "            nan            nan            nan            nan\n",
      "            nan            nan            nan            nan\n",
      "            nan            nan            nan            nan\n",
      "            nan            nan            nan            nan\n",
      "            nan            nan            nan            nan\n",
      "            nan            nan            nan            nan\n",
      "            nan            nan            nan            nan\n",
      "            nan            nan            nan            nan\n",
      "            nan            nan            nan            nan\n",
      "            nan            nan            nan            nan\n",
      "            nan            nan            nan            nan\n",
      "            nan            nan            nan            nan\n",
      "            nan            nan            nan            nan\n",
      "            nan            nan            nan            nan\n",
      "            nan            nan            nan            nan\n",
      "            nan            nan            nan            nan\n",
      "            nan            nan            nan            nan\n",
      "            nan            nan            nan            nan\n",
      "            nan            nan            nan            nan\n",
      "            nan            nan            nan            nan\n",
      "            nan            nan            nan            nan\n",
      "            nan            nan            nan            nan\n",
      "            nan            nan            nan            nan\n",
      "            nan            nan            nan            nan\n",
      "            nan            nan            nan            nan\n",
      "            nan            nan            nan            nan\n",
      "            nan            nan            nan            nan\n",
      "            nan            nan]\n"
     ]
    }
   ],
   "source": [
    "# N2ml = np.zeros(4)\n",
    "# Ldml = np.zeros(4)\n",
    "# Ri_1ml = np.zeros(4)\n",
    "# for i in range(4):\n",
    "#     nz = np.argmin(np.abs(MLD_seas.isel(YC=125)[i] + N2.Zl))\n",
    "#     k=0\n",
    "#     while k < 10:\n",
    "#         if N2.isel(YC=125)[i,k] >= 0.:\n",
    "#             break\n",
    "#         k += 1\n",
    "#     print(nz.values,k)\n",
    "#     N2ml[i] = (N2[i].isel(YC=125)\n",
    "#               * np.abs(grid.diff(ds1.Z,'Z',boundary='fill'))\n",
    "#               )[k:int(nz)].sum('Zl') * MLD_seas.isel(YC=125)[i]**-1 \n",
    "#     Ldml[i] = 2*(MLD_seas.isel(YC=125)[i]*np.sqrt(N2ml[i])*np.abs(f0+beta*250*1e3)**-1)\n",
    "#     Ri_1ml[i] = (((grid.diff(ug[i],'Z',boundary='fill') / grid.diff(ug.Z,'Z',boundary='fill'))**2\n",
    "#                  / N2[i] * np.abs(grid.diff(ds1.Z,'Z',boundary='fill'))\n",
    "#                  ).isel(YC=125)[k:int(nz)]\n",
    "#                 ).sum('Zl') * MLD_seas.isel(YC=125)[i]**-1\n",
    "                \n",
    "# print(N2ml, Ldml, Ri_1ml)\n",
    "k = 1\n",
    "while k < 76:\n",
    "    if N2_seas.sel(YC=12.5e5,method='nearest')[0,k] < N2_seas.sel(YC=12.5e5,method='nearest')[2,k]:\n",
    "        nz = k\n",
    "        break\n",
    "    k += 1\n",
    "# nz = np.argmin(np.abs(MLD_seas.sel(YC=12.5e5,method='nearest')[0] + N2.Zl)).values\n",
    "k=0\n",
    "while k < 10:\n",
    "    if N2_seas.sel(YC=12.5e5,method='nearest')[2,k] >= 0.:\n",
    "        break\n",
    "    k += 1\n",
    "print(nz,k)\n",
    "print(np.abs(N2_seas.Zl.data[nz]), MLD_seas.sel(YC=12.5e5,method='nearest')[0].values)\n",
    "N2mlw = (N2_seas[2].sel(YC=12.5e5,method='nearest')\n",
    "        * np.abs(grid.diff(ds1.Z,'Z',boundary='fill'))\n",
    "        )[(k-1):int(nz+1)].sum('Zl') * np.abs(N2_seas.Zl.data[nz])**-1\n",
    "Ldmlw = 2 * (np.abs(N2_seas.Zl.data[nz]) * np.sqrt(N2mlw)\n",
    "             * np.abs(f0+beta*250*1e3)**-1\n",
    "            )\n",
    "Ri_1mlw = (((grid.diff(ug[2],'Z',boundary='fill') / grid.diff(ug.Z,'Z',boundary='fill'))**2\n",
    "           / N2_seas[2] * np.abs(grid.diff(ds1.Z,'Z',boundary='fill'))\n",
    "           ).sel(YC=12.5e5,method='nearest')[(k-1):int(nz+1)]\n",
    "          ).sum('Zl') * np.abs(N2_seas.Zl.data[nz])**-1\n",
    "\n",
    "mu = np.pi*Ldmlw.values * kx\n",
    "sigmladyw = np.abs(f0)*np.sqrt(Ri_1mlw.values) * np.sqrt((np.tanh(.5*mu)**-1 - .5*mu)*(.5*mu - np.tanh(.5*mu)))\n",
    "print(Ldmlw.values)\n",
    "print(sigmladyw)"
   ]
  },
  {
   "cell_type": "code",
   "execution_count": 23,
   "metadata": {},
   "outputs": [
    {
     "name": "stderr",
     "output_type": "stream",
     "text": [
      "/home/takaya/miniconda3/envs/uptodate/lib/python3.6/site-packages/dask/local.py:271: RuntimeWarning: divide by zero encountered in true_divide\n",
      "  return func(*args2)\n"
     ]
    },
    {
     "name": "stdout",
     "output_type": "stream",
     "text": [
      "[3.51314884e-06 3.23181121e-06 3.08004928e-06 3.28386204e-06] [105596.59574268 101280.21949227  98873.62918408 102092.56012037] [0.00025255 0.0002348  0.00030463 0.00018245]\n"
     ]
    },
    {
     "name": "stderr",
     "output_type": "stream",
     "text": [
      "/home/takaya/miniconda3/envs/uptodate/lib/python3.6/site-packages/ipykernel_launcher.py:22: RuntimeWarning: invalid value encountered in sqrt\n"
     ]
    },
    {
     "data": {
      "text/plain": [
       "array([[1.55797153e-07, 2.29867729e-07, 2.99396669e-07, ...,\n",
       "                   nan,            nan,            nan],\n",
       "       [1.50141079e-07, 2.21526822e-07, 2.88540783e-07, ...,\n",
       "                   nan,            nan,            nan],\n",
       "       [1.69867159e-07, 2.50689305e-07, 3.26632842e-07, ...,\n",
       "                   nan,            nan,            nan],\n",
       "       [1.32617112e-07, 1.95657410e-07, 2.54820280e-07, ...,\n",
       "                   nan,            nan,            nan]])"
      ]
     },
     "execution_count": 23,
     "metadata": {},
     "output_type": "execute_result"
    }
   ],
   "source": [
    "N2h = np.zeros(4)\n",
    "Ldh = np.zeros(4)\n",
    "Ri_1h = np.zeros(4)\n",
    "for i in range(4):\n",
    "    k=0\n",
    "    while k < 10:\n",
    "        if N2_seas.sel(YC=12.5e5,method='nearest')[i,k] >= 0.:\n",
    "            break\n",
    "        k += 1\n",
    "    N2h[i] = (N2_seas[i].sel(YC=12.5e5,method='nearest')\n",
    "              * np.abs(grid.diff(ds1.Z,'Z',boundary='fill'))\n",
    "              )[k:].sum('Zl') * np.abs(ds1.Zp1[-1])**-1 \n",
    "    Ldh[i] = 2*(np.abs(ds1.Zp1.data[-1])*np.sqrt(N2h[i])*np.abs(f0+beta*250*1e3)**-1)\n",
    "    Ri_1h[i] = (((grid.diff(ug[i],'Z',boundary='fill') / grid.diff(ug.Z,'Z',boundary='fill'))**2\n",
    "                / N2_seas[i] * ds1.drC.data[:-1,np.newaxis]\n",
    "                ).sel(YC=12.5e5,method='nearest')\n",
    "               )[k:].sum('Zl') * np.abs(ds1.Zp1[-1])**-1\n",
    "    \n",
    "print(N2h, Ldh, Ri_1h)\n",
    "\n",
    "mu = np.pi*(kd**-1)[:,np.newaxis] * kx\n",
    "sigmady = np.abs(f0)*np.sqrt(Ri_1h)[:,np.newaxis] * np.sqrt((np.tanh(.5*mu)**-1 - .5*mu)*(.5*mu - np.tanh(.5*mu)))\n",
    "sigmady"
   ]
  },
  {
   "cell_type": "code",
   "execution_count": 514,
   "metadata": {},
   "outputs": [
    {
     "data": {
      "text/plain": [
       "0.11173690290888771"
      ]
     },
     "execution_count": 514,
     "metadata": {},
     "output_type": "execute_result"
    }
   ],
   "source": [
    "Ldmlw.values**-1*1e3"
   ]
  },
  {
   "cell_type": "code",
   "execution_count": 51,
   "metadata": {},
   "outputs": [
    {
     "name": "stderr",
     "output_type": "stream",
     "text": [
      "/home/takaya/miniconda3/envs/uptodate/lib/python3.6/site-packages/matplotlib/figure.py:2022: UserWarning: This figure includes Axes that are not compatible with tight_layout, so results might be incorrect.\n",
      "  warnings.warn(\"This figure includes Axes that are not compatible \"\n"
     ]
    },
    {
     "data": {
      "image/png": "[encoded data removed]",
      "text/plain": [
       "<matplotlib.figure.Figure at 0x7f1a440cf160>"
      ]
     },
     "metadata": {},
     "output_type": "display_data"
    }
   ],
   "source": [
    "fig, ax = plt.subplots(figsize=(8,5))\n",
    "fig.set_tight_layout(True)\n",
    "for i in range(4):\n",
    "    ax.plot(kx*1e3, omega[i].imag.mean(axis=-1)*86400, \n",
    "           color=colors[i], lw=3, label=r'%3s (1250km)' % seasons[i])\n",
    "    ax.fill_between(kx*1e3, (omega[i].imag.mean(axis=-1)-omega[i].imag.std(axis=-1))*86400,\n",
    "                   (omega[i].imag.mean(axis=-1)+omega[i].imag.std(axis=-1))*86400,\n",
    "                   color=colors[i], alpha=0.4)\n",
    "    if i==0 or i==2:\n",
    "        ax.plot(kx*1e3, sigmady[i]*86400, color=colors[i], ls=':',\n",
    "               label=r'$\\sigma^{%3s}_{Eady}$' % seasons[i])\n",
    "        ax.plot(kd[i]*np.ones(5)*1e3, np.linspace(0.,0.1,5), \n",
    "               color=colors[i], ls='-.', label=r'$\\lambda^{-1}_{%3s}$' % seasons[i])\n",
    "#         ax.plot(Ldml[i]**-1*np.ones(5)*1e3, np.linspace(0.,0.08,5), \n",
    "#                color=colors[i], ls='-.', label=r'${\\lambda^{ML}_{%3s}}^{-1}$' % seasons[i])\n",
    "ax.plot(kx*1e3, sigmladyw*86400, color=colors[2], ls='--',\n",
    "        label=r'$\\sigma_{ML\\ Eady}^{%3s}$' % seasons[2])\n",
    "ax.plot((2*np.diff(ds1.XC)[0])**-1*np.ones(5)*1e3, np.linspace(0.,0.1,5), \n",
    "        'k-', label=r'(2$\\Delta x$)$^{-1}$')\n",
    "ax.set_ylim([0.,0.1])\n",
    "ax.set_xlim([1e-3,5e-1])\n",
    "ax.set_xscale('log')\n",
    "ax.set_xlabel(r\"$k$ [cpkm]\", fontsize=14)\n",
    "ax.set_ylabel(r\"$\\sigma$ [cpd]\", fontsize=14)\n",
    "# ax.legend(loc='upper left', fontsize=12)\n",
    "plt.xticks(fontsize=12)\n",
    "plt.yticks(fontsize=12)\n",
    "plt.savefig(op.join(ddir,'Figures/Growthrate_dx5km_y125.pdf'))"
   ]
  },
  {
   "cell_type": "code",
   "execution_count": 34,
   "metadata": {},
   "outputs": [
    {
     "data": {
      "text/plain": [
       "<xarray.Dataset>\n",
       "Dimensions:     (YC: 21, kx: 998, seas: 4)\n",
       "Coordinates:\n",
       "  * seas        (seas) <U3 'JFM' 'AMJ' 'JAS' 'OND'\n",
       "  * kx          (kx) float64 1e-06 1.5e-06 2e-06 2.5e-06 3e-06 3.5e-06 4e-06 ...\n",
       "  * YC          (YC) >f4 1202500.0 1207500.0 1212500.0 1217500.0 1222500.0 ...\n",
       "Data variables:\n",
       "    sigma       (seas, kx, YC) float64 1.441e-08 1.384e-08 1.33e-08 ...\n",
       "    inv_wvln    (seas) float64 1.004e-05 1.005e-05 1.012e-05 1.003e-05\n",
       "    sigmady     (seas, kx) float64 1.558e-07 2.299e-07 2.994e-07 3.629e-07 ...\n",
       "    sigmlady_w  (kx) float64 3.621e-08 5.43e-08 7.239e-08 9.047e-08 ..."
      ]
     },
     "execution_count": 34,
     "metadata": {},
     "output_type": "execute_result"
    }
   ],
   "source": [
    "dsave = xr.DataArray(omega.imag, dims=['seas','kx','YC'],\n",
    "                    coords={'seas':np.array(['JFM','AMJ','JAS','OND']),\n",
    "                           'kx':kx,'YC':N2_seas.YC.sel(YC=slice(12e5,13.05e5))}\n",
    "                    ).to_dataset(name='sigma')\n",
    "dsave['inv_wvln'] = xr.DataArray(kd, dims=['seas'], coords={'seas':np.array(['JFM','AMJ','JAS','OND'])})\n",
    "dsave['sigmady'] = xr.DataArray(sigmady, dims=['seas','kx'],\n",
    "                               coords={'seas':np.array(['JFM','AMJ','JAS','OND']),'kx':kx})\n",
    "dsave['sigmlady_w'] = xr.DataArray(sigmladyw, dims=['kx'], coords={'kx':kx})\n",
    "dsave.to_netcdf(op.join(ddir,'Growthrate_dx5km_y125.nc'))\n",
    "dsave"
   ]
  },
  {
   "cell_type": "code",
   "execution_count": 48,
   "metadata": {},
   "outputs": [
    {
     "data": {
      "text/plain": [
       "<xarray.DataArray 'sigma' (seas: 4, kx: 100, YC: 11)>\n",
       "array([[[1.368644e-08, 1.368644e-08, ..., 1.368644e-08, 1.368644e-08],\n",
       "        [2.683422e-08, 2.683422e-08, ..., 2.683422e-08, 2.683422e-08],\n",
       "        ...,\n",
       "        [1.872026e-07, 1.872026e-07, ..., 1.872026e-07, 1.872026e-07],\n",
       "        [1.917571e-07, 1.917571e-07, ..., 1.917571e-07, 1.917571e-07]],\n",
       "\n",
       "       [[1.369222e-08, 1.369222e-08, ..., 1.369222e-08, 1.369222e-08],\n",
       "        [2.782192e-08, 2.782192e-08, ..., 2.782192e-08, 2.782192e-08],\n",
       "        ...,\n",
       "        [5.838391e-07, 5.838391e-07, ..., 5.838391e-07, 5.838391e-07],\n",
       "        [5.901509e-07, 5.901509e-07, ..., 5.901509e-07, 5.901509e-07]],\n",
       "\n",
       "       [[1.480137e-08, 1.480137e-08, ..., 1.480137e-08, 1.480137e-08],\n",
       "        [2.912057e-08, 2.912057e-08, ..., 2.912057e-08, 2.912057e-08],\n",
       "        ...,\n",
       "        [9.610422e-07, 9.610422e-07, ..., 9.610422e-07, 9.610422e-07],\n",
       "        [9.645792e-07, 9.645792e-07, ..., 9.645792e-07, 9.645792e-07]],\n",
       "\n",
       "       [[1.307369e-08, 1.307369e-08, ..., 1.307369e-08, 1.307369e-08],\n",
       "        [2.726174e-08, 2.726174e-08, ..., 2.726174e-08, 2.726174e-08],\n",
       "        ...,\n",
       "        [7.674176e-08, 7.674176e-08, ..., 7.674176e-08, 7.674176e-08],\n",
       "        [7.672659e-08, 7.672659e-08, ..., 7.672659e-08, 7.672659e-08]]])\n",
       "Coordinates:\n",
       "  * seas     (seas) object 'JFM' 'AMJ' 'JAS' 'OND'\n",
       "  * kx       (kx) float64 1e-06 2e-06 3e-06 4e-06 5e-06 6e-06 7e-06 8e-06 ...\n",
       "  * YC       (YC) float32 1205000.0 1215000.0 1225000.0 1235000.0 1245000.0 ..."
      ]
     },
     "execution_count": 48,
     "metadata": {},
     "output_type": "execute_result"
    }
   ],
   "source": [
    "ds10 = xr.open_dataset(op.join(ddir,'Growthrate_dx10km_y125.nc'))\n",
    "sigma10 = ds10.sigma\n",
    "invwv10 = ds10.inv_wvln\n",
    "sigmady10 = ds10.sigmady\n",
    "sigmlady10 = ds10.sigmlady_w\n",
    "sigma10"
   ]
  },
  {
   "cell_type": "code",
   "execution_count": 50,
   "metadata": {},
   "outputs": [
    {
     "name": "stderr",
     "output_type": "stream",
     "text": [
      "/home/takaya/miniconda3/envs/uptodate/lib/python3.6/site-packages/matplotlib/figure.py:2022: UserWarning: This figure includes Axes that are not compatible with tight_layout, so results might be incorrect.\n",
      "  warnings.warn(\"This figure includes Axes that are not compatible \"\n"
     ]
    },
    {
     "data": {
      "image/png": "[encoded data removed]",
      "text/plain": [
       "<matplotlib.figure.Figure at 0x7f1a44211198>"
      ]
     },
     "metadata": {},
     "output_type": "display_data"
    }
   ],
   "source": [
    "fig, ax = plt.subplots(figsize=(8,5))\n",
    "fig.set_tight_layout(True)\n",
    "for i in range(4):\n",
    "    ax.plot(sigma10.kx*1e3, sigma10[i].mean(axis=-1)*86400, \n",
    "           color=colors[i], lw=3, label=r'%3s (1250km)' % seasons[i])\n",
    "    ax.fill_between(sigma10.kx*1e3, (sigma10[i].mean(axis=-1)-sigma10[i].std(axis=-1))*86400,\n",
    "                   (sigma10[i].mean(axis=-1)+sigma10[i].std(axis=-1))*86400,\n",
    "                   color=colors[i], alpha=0.4)\n",
    "    if i==0 or i==2:\n",
    "        ax.plot(sigma10.kx*1e3, sigmady10[i]*86400, color=colors[i], ls=':',\n",
    "               label=r'$\\sigma^{%3s}_{Eady}$' % seasons[i])\n",
    "        ax.plot(invwv10[i].values*np.ones(5)*1e3, np.linspace(0.,0.1,5), \n",
    "               color=colors[i], ls='-.', label=r'$\\lambda^{-1}_{%3s}$' % seasons[i])\n",
    "#         ax.plot(Ldml[i]**-1*np.ones(5)*1e3, np.linspace(0.,0.08,5), \n",
    "#                color=colors[i], ls='-.', label=r'${\\lambda^{ML}_{%3s}}^{-1}$' % seasons[i])\n",
    "ax.plot(sigma10.kx*1e3, sigmlady10*86400, color=colors[2], ls='--',\n",
    "        label=r'$\\sigma_{ML\\ Eady}^{%3s}$' % seasons[2])\n",
    "ax.plot((2*1e4)**-1*np.ones(5)*1e3, np.linspace(0.,0.1,5), \n",
    "        'k-', label=r'(2$\\Delta x$)$^{-1}$')\n",
    "ax.set_ylim([0.,0.1])\n",
    "ax.set_xlim([1e-3,5e-1])\n",
    "ax.set_xscale('log')\n",
    "ax.set_xlabel(r\"$k$ [cpkm]\", fontsize=14)\n",
    "ax.set_ylabel(r\"$\\sigma$ [cpd]\", fontsize=14)\n",
    "ax.legend(loc='upper right', fontsize=12)\n",
    "plt.xticks(fontsize=12)\n",
    "plt.yticks(fontsize=12)\n",
    "plt.savefig(op.join(ddir,'Figures/Growthrate_dx10km_y125.pdf'))"
   ]
  },
  {
   "cell_type": "code",
   "execution_count": null,
   "metadata": {},
   "outputs": [],
   "source": []
  }
 ],
 "metadata": {
  "kernelspec": {
   "display_name": "Python 3 (uptodate)",
   "language": "python",
   "name": "uptodate"
  },
  "language_info": {
   "codemirror_mode": {
    "name": "ipython",
    "version": 3
   },
   "file_extension": ".py",
   "mimetype": "text/x-python",
   "name": "python",
   "nbconvert_exporter": "python",
   "pygments_lexer": "ipython3",
   "version": "3.6.7"
  }
 },
 "nbformat": 4,
 "nbformat_minor": 2
}
