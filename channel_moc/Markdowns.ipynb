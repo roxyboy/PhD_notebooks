{
 "cells": [
  {
   "cell_type": "markdown",
   "metadata": {},
   "source": [
    "# $A^2(t) = \\langle (\\boldsymbol{x}(t) - \\boldsymbol{x}(0))^2 \\rangle = v_0^2t^2$"
   ]
  },
  {
   "cell_type": "markdown",
   "metadata": {},
   "source": [
    "# $D^2(t) = \\langle (r(t) - r(0))^2 \\rangle = C_R t^3$"
   ]
  },
  {
   "cell_type": "markdown",
   "metadata": {},
   "source": [
    "### If $\\sqrt{A^2} \\propto t$ and/or $D^2 \\propto t$, the float motions are correlated."
   ]
  },
  {
   "cell_type": "markdown",
   "metadata": {},
   "source": [
    "# $R(t,\\tau) = \\langle r(t) r(t+\\tau) \\rangle$"
   ]
  },
  {
   "cell_type": "markdown",
   "metadata": {},
   "source": [
    "# $S_l \\sim S_t \\sim (\\epsilon r)^{2/3}$"
   ]
  },
  {
   "cell_type": "markdown",
   "metadata": {},
   "source": [
    "# $S_l \\sim \\frac{3}{2}\\epsilon r, \\ \\ \\ S_t \\sim \\frac{1}{2}\\epsilon r$"
   ]
  },
  {
   "cell_type": "markdown",
   "metadata": {},
   "source": [
    "# $S_l = S_t \\sim \\frac{1}{8} \\eta r^3$"
   ]
  },
  {
   "cell_type": "markdown",
   "metadata": {},
   "source": [
    "# $S_l = -\\frac{4}{5} \\epsilon r$"
   ]
  },
  {
   "cell_type": "markdown",
   "metadata": {},
   "source": [
    "# $\\frac{S_l}{r} \\sim -\\frac{4}{5}\\epsilon$\n",
    "# $\\frac{S_l}{r^3}=\\frac{S_t}{r^3} \\sim \\frac{1}{8}\\eta$"
   ]
  },
  {
   "cell_type": "code",
   "execution_count": null,
   "metadata": {},
   "outputs": [],
   "source": []
  }
 ],
 "metadata": {
  "kernelspec": {
   "display_name": "Python 3 (uptodate)",
   "language": "python",
   "name": "uptodate"
  },
  "language_info": {
   "codemirror_mode": {
    "name": "ipython",
    "version": 3
   },
   "file_extension": ".py",
   "mimetype": "text/x-python",
   "name": "python",
   "nbconvert_exporter": "python",
   "pygments_lexer": "ipython3",
   "version": "3.6.4"
  }
 },
 "nbformat": 4,
 "nbformat_minor": 2
}
