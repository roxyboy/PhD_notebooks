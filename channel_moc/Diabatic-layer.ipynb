{
 "cells": [
  {
   "cell_type": "code",
   "execution_count": 1,
   "metadata": {},
   "outputs": [],
   "source": [
    "import numpy as np\n",
    "import xarray as xr\n",
    "import os.path as op\n",
    "from dask.diagnostics import ProgressBar\n",
    "from xmitgcm import open_mdsdataset\n",
    "import matplotlib.pyplot as plt\n",
    "%matplotlib inline"
   ]
  },
  {
   "cell_type": "code",
   "execution_count": 2,
   "metadata": {},
   "outputs": [],
   "source": [
    "ddir = '/swot/SUM05/takaya/MITgcm/channel/runs/'"
   ]
  },
  {
   "cell_type": "code",
   "execution_count": 8,
   "metadata": {},
   "outputs": [
    {
     "name": "stdout",
     "output_type": "stream",
     "text": [
      "2592288 3110688\n"
     ]
    }
   ],
   "source": [
    "ys, dy = (25,5)\n",
    "dt = 3e2\n",
    "df = int(2*144)\n",
    "ts = int(360*86400*ys/dt+df)\n",
    "te = int(360*86400*(ys+dy)/dt+df)\n",
    "print(ts,te)"
   ]
  },
  {
   "cell_type": "code",
   "execution_count": 9,
   "metadata": {},
   "outputs": [
    {
     "name": "stderr",
     "output_type": "stream",
     "text": [
      "/home/takaya/xmitgcm/xmitgcm/utils.py:314: UserWarning: Not sure what to do with rlev = L\n",
      "  warnings.warn(\"Not sure what to do with rlev = \" + rlev)\n",
      "/home/takaya/xmitgcm/xmitgcm/mds_store.py:235: FutureWarning: iteration over an xarray.Dataset will change in xarray v0.11 to only include data variables, not coordinates. Iterate over the Dataset.variables property instead to preserve existing behavior in a forwards compatible manner.\n",
      "  for vname in ds:\n"
     ]
    }
   ],
   "source": [
    "ds = open_mdsdataset(op.join(ddir,'deepML-2mon_5kmLayers'), grid_dir=op.join(ddir,'5km_grid'),\n",
    "                     iters=range(ts,te,df), prefix=['LAYERS-transport'],\n",
    "                     delta_t=dt\n",
    "                    )"
   ]
  },
  {
   "cell_type": "code",
   "execution_count": 6,
   "metadata": {},
   "outputs": [
    {
     "data": {
      "text/plain": [
       "<xarray.Dataset>\n",
       "Dimensions:              (XC: 100, XG: 100, YC: 200, YG: 200, Z: 40, Zl: 40, Zp1: 41, Zu: 40, layer_1TH_bounds: 43, layer_1TH_center: 42, layer_1TH_interface: 41, time: 1800)\n",
       "Coordinates:\n",
       "  * XC                   (XC) >f4 5000.0 15000.0 25000.0 35000.0 45000.0 ...\n",
       "  * YC                   (YC) >f4 5000.0 15000.0 25000.0 35000.0 45000.0 ...\n",
       "  * XG                   (XG) >f4 0.0 10000.0 20000.0 30000.0 40000.0 ...\n",
       "  * YG                   (YG) >f4 0.0 10000.0 20000.0 30000.0 40000.0 ...\n",
       "  * Z                    (Z) >f4 -5.0 -15.0 -25.0 -36.0 -49.0 -64.0 -81.5 ...\n",
       "  * Zp1                  (Zp1) >f4 0.0 -10.0 -20.0 -30.0 -42.0 -56.0 -72.0 ...\n",
       "  * Zu                   (Zu) >f4 -10.0 -20.0 -30.0 -42.0 -56.0 -72.0 -91.0 ...\n",
       "  * Zl                   (Zl) >f4 0.0 -10.0 -20.0 -30.0 -42.0 -56.0 -72.0 ...\n",
       "    rA                   (YC, XC) >f4 dask.array<shape=(200, 100), chunksize=(200, 100)>\n",
       "    dxG                  (YG, XC) >f4 dask.array<shape=(200, 100), chunksize=(200, 100)>\n",
       "    dyG                  (YC, XG) >f4 dask.array<shape=(200, 100), chunksize=(200, 100)>\n",
       "    Depth                (YC, XC) >f4 dask.array<shape=(200, 100), chunksize=(200, 100)>\n",
       "    rAz                  (YG, XG) >f4 dask.array<shape=(200, 100), chunksize=(200, 100)>\n",
       "    dxC                  (YC, XG) >f4 dask.array<shape=(200, 100), chunksize=(200, 100)>\n",
       "    dyC                  (YG, XC) >f4 dask.array<shape=(200, 100), chunksize=(200, 100)>\n",
       "    rAw                  (YC, XG) >f4 dask.array<shape=(200, 100), chunksize=(200, 100)>\n",
       "    rAs                  (YG, XC) >f4 dask.array<shape=(200, 100), chunksize=(200, 100)>\n",
       "    drC                  (Zp1) float64 dask.array<shape=(41,), chunksize=(41,)>\n",
       "    drF                  (Z) >f4 dask.array<shape=(40,), chunksize=(40,)>\n",
       "    PHrefC               (Z) >f4 dask.array<shape=(40,), chunksize=(40,)>\n",
       "    PHrefF               (Zp1) >f4 dask.array<shape=(41,), chunksize=(41,)>\n",
       "    hFacC                (Z, YC, XC) >f4 dask.array<shape=(40, 200, 100), chunksize=(40, 200, 100)>\n",
       "    hFacW                (Z, YC, XG) >f4 dask.array<shape=(40, 200, 100), chunksize=(40, 200, 100)>\n",
       "    hFacS                (Z, YG, XC) >f4 dask.array<shape=(40, 200, 100), chunksize=(40, 200, 100)>\n",
       "  * layer_1TH_bounds     (layer_1TH_bounds) >f4 -0.2 0.0 0.2 0.4 0.6 0.8 1.0 ...\n",
       "  * layer_1TH_center     (layer_1TH_center) float32 -0.1 0.1 0.3 0.5 ...\n",
       "  * layer_1TH_interface  (layer_1TH_interface) >f4 0.0 0.2 0.4 0.6 0.8 1.0 ...\n",
       "    iter                 (time) int64 dask.array<shape=(1800,), chunksize=(1,)>\n",
       "  * time                 (time) float64 8.087e+09 8.087e+09 8.087e+09 ...\n",
       "Data variables:\n",
       "    LaUH1TH              (time, layer_1TH_center, YC, XG) float32 dask.array<shape=(1800, 42, 200, 100), chunksize=(1, 42, 200, 100)>\n",
       "    LaHw1TH              (time, layer_1TH_center, YC, XG) float32 dask.array<shape=(1800, 42, 200, 100), chunksize=(1, 42, 200, 100)>\n",
       "    LaPw1TH              (time, layer_1TH_center, YC, XG) float32 dask.array<shape=(1800, 42, 200, 100), chunksize=(1, 42, 200, 100)>\n",
       "    LaVH1TH              (time, layer_1TH_center, YG, XC) float32 dask.array<shape=(1800, 42, 200, 100), chunksize=(1, 42, 200, 100)>\n",
       "    LaHs1TH              (time, layer_1TH_center, YG, XC) float32 dask.array<shape=(1800, 42, 200, 100), chunksize=(1, 42, 200, 100)>\n",
       "    LaPs1TH              (time, layer_1TH_center, YG, XC) float32 dask.array<shape=(1800, 42, 200, 100), chunksize=(1, 42, 200, 100)>"
      ]
     },
     "execution_count": 6,
     "metadata": {},
     "output_type": "execute_result"
    }
   ],
   "source": [
    "ds"
   ]
  },
  {
   "cell_type": "code",
   "execution_count": 7,
   "metadata": {},
   "outputs": [
    {
     "data": {
      "text/plain": [
       "<xarray.DataArray 'LaPs1TH' (time: 1800, layer_1TH_center: 42, YG: 200, XC: 100)>\n",
       "dask.array<shape=(1800, 42, 200, 100), dtype=float32, chunksize=(1, 42, 200, 100)>\n",
       "Coordinates:\n",
       "  * XC                (XC) >f4 5000.0 15000.0 25000.0 35000.0 45000.0 ...\n",
       "  * YG                (YG) >f4 0.0 10000.0 20000.0 30000.0 40000.0 50000.0 ...\n",
       "    dxG               (YG, XC) >f4 dask.array<shape=(200, 100), chunksize=(200, 100)>\n",
       "    dyC               (YG, XC) >f4 dask.array<shape=(200, 100), chunksize=(200, 100)>\n",
       "    rAs               (YG, XC) >f4 dask.array<shape=(200, 100), chunksize=(200, 100)>\n",
       "  * layer_1TH_center  (layer_1TH_center) float32 -0.1 0.1 0.3 0.5 0.70000005 ...\n",
       "    iter              (time) int64 dask.array<shape=(1800,), chunksize=(1,)>\n",
       "  * time              (time) float64 8.087e+09 8.087e+09 8.087e+09 8.087e+09 ...\n",
       "Attributes:\n",
       "    standard_name:  LaPs1TH\n",
       "    long_name:      Layer Probability at V points [-]\n",
       "    units:          1\n",
       "    mate:           LaPw1TH"
      ]
     },
     "execution_count": 7,
     "metadata": {},
     "output_type": "execute_result"
    }
   ],
   "source": [
    "Pw = ds.LaPw1TH\n",
    "Pw.attrs = ds.LaPw1TH.attrs\n",
    "Ps = ds.LaPs1TH\n",
    "Ps.attrs = ds.LaPs1TH.attrs\n",
    "Ps"
   ]
  },
  {
   "cell_type": "code",
   "execution_count": 8,
   "metadata": {},
   "outputs": [
    {
     "data": {
      "text/plain": [
       "<matplotlib.collections.QuadMesh at 0x7f9e182fceb8>"
      ]
     },
     "execution_count": 8,
     "metadata": {},
     "output_type": "execute_result"
    },
    {
     "data": {
      "image/png": "[encoded data removed]",
      "text/plain": [
       "<matplotlib.figure.Figure at 0x7f9e18ae1278>"
      ]
     },
     "metadata": {},
     "output_type": "display_data"
    }
   ],
   "source": [
    "Ps.mean(['time','XC']).plot()"
   ]
  },
  {
   "cell_type": "code",
   "execution_count": null,
   "metadata": {},
   "outputs": [],
   "source": []
  }
 ],
 "metadata": {
  "kernelspec": {
   "display_name": "Python 3 (uptodate)",
   "language": "python",
   "name": "uptodate"
  },
  "language_info": {
   "codemirror_mode": {
    "name": "ipython",
    "version": 3
   },
   "file_extension": ".py",
   "mimetype": "text/x-python",
   "name": "python",
   "nbconvert_exporter": "python",
   "pygments_lexer": "ipython3",
   "version": "3.6.4"
  }
 },
 "nbformat": 4,
 "nbformat_minor": 2
}
