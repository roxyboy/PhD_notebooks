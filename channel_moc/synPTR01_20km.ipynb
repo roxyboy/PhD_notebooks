{
 "cells": [
  {
   "cell_type": "code",
   "execution_count": 1,
   "metadata": {},
   "outputs": [],
   "source": [
    "import pandas as pd\n",
    "import numpy as np\n",
    "import os.path as op\n",
    "from xgcm.grid import Grid\n",
    "from dask.diagnostics import ProgressBar\n",
    "from xmitgcm import open_mdsdataset\n",
    "from matplotlib import colors\n",
    "from scipy.interpolate import PchipInterpolator as pchip\n",
    "import matplotlib.pyplot as plt\n",
    "%matplotlib inline"
   ]
  },
  {
   "cell_type": "code",
   "execution_count": 2,
   "metadata": {},
   "outputs": [],
   "source": [
    "ddir = '/swot/SUM02/takaya/channelMOC-Darwin/'"
   ]
  },
  {
   "cell_type": "code",
   "execution_count": 3,
   "metadata": {},
   "outputs": [
    {
     "name": "stdout",
     "output_type": "stream",
     "text": [
      "2773440 6229440\n"
     ]
    }
   ],
   "source": [
    "# synth BIO\n",
    "# ys, dy = (48,10)\n",
    "ys, dy = (58,400)\n",
    "dt = 36e2\n",
    "ts = int(360*86400*ys/8e2 + 20e0*360*86400/12e2)\n",
    "# ts = int(360*86400*ys/8e2)\n",
    "te = int(ts+360*86400*dy/dt)\n",
    "print(ts,te)"
   ]
  },
  {
   "cell_type": "code",
   "execution_count": 4,
   "metadata": {},
   "outputs": [
    {
     "ename": "KeyError",
     "evalue": "'ETAN'",
     "output_type": "error",
     "traceback": [
      "\u001b[0;31m---------------------------------------------------------------------------\u001b[0m",
      "\u001b[0;31mTypeError\u001b[0m                                 Traceback (most recent call last)",
      "\u001b[0;32m~/xmitgcm/xmitgcm/mds_store.py\u001b[0m in \u001b[0;36mopen_mdsdataset\u001b[0;34m(data_dir, grid_dir, iters, prefix, read_grid, delta_t, ref_date, calendar, geometry, grid_vars_to_coords, swap_dims, endian, chunks, ignore_unknown_vars, default_dtype, nx, ny, nz, llc_method)\u001b[0m\n\u001b[1;32m    129\u001b[0m         \u001b[0;32mtry\u001b[0m\u001b[0;34m:\u001b[0m\u001b[0;34m\u001b[0m\u001b[0m\n\u001b[0;32m--> 130\u001b[0;31m             \u001b[0miternum\u001b[0m \u001b[0;34m=\u001b[0m \u001b[0mint\u001b[0m\u001b[0;34m(\u001b[0m\u001b[0miters\u001b[0m\u001b[0;34m)\u001b[0m\u001b[0;34m\u001b[0m\u001b[0m\n\u001b[0m\u001b[1;32m    131\u001b[0m         \u001b[0;31m# if not we probably have some kind of list\u001b[0m\u001b[0;34m\u001b[0m\u001b[0;34m\u001b[0m\u001b[0m\n",
      "\u001b[0;31mTypeError\u001b[0m: int() argument must be a string, a bytes-like object or a number, not 'range'",
      "\nDuring handling of the above exception, another exception occurred:\n",
      "\u001b[0;31mKeyError\u001b[0m                                  Traceback (most recent call last)",
      "\u001b[0;32m<ipython-input-4-e7c52c7f9065>\u001b[0m in \u001b[0;36m<module>\u001b[0;34m()\u001b[0m\n\u001b[1;32m      2\u001b[0m                      \u001b[0mgrid_dir\u001b[0m\u001b[0;34m=\u001b[0m\u001b[0mop\u001b[0m\u001b[0;34m.\u001b[0m\u001b[0mjoin\u001b[0m\u001b[0;34m(\u001b[0m\u001b[0mddir\u001b[0m\u001b[0;34m,\u001b[0m\u001b[0;34m'../../../SUM05/takaya/MITgcm/channel/runs/20km_grid'\u001b[0m\u001b[0;34m)\u001b[0m\u001b[0;34m,\u001b[0m\u001b[0;34m\u001b[0m\u001b[0m\n\u001b[1;32m      3\u001b[0m                      \u001b[0miters\u001b[0m\u001b[0;34m=\u001b[0m\u001b[0mrange\u001b[0m\u001b[0;34m(\u001b[0m\u001b[0mint\u001b[0m\u001b[0;34m(\u001b[0m\u001b[0mte\u001b[0m\u001b[0;34m+\u001b[0m\u001b[0;36m720\u001b[0m\u001b[0;34m-\u001b[0m\u001b[0;36m12\u001b[0m\u001b[0;34m*\u001b[0m\u001b[0;36m720\u001b[0m\u001b[0;34m)\u001b[0m\u001b[0;34m,\u001b[0m\u001b[0mint\u001b[0m\u001b[0;34m(\u001b[0m\u001b[0mte\u001b[0m\u001b[0;34m+\u001b[0m\u001b[0;36m720\u001b[0m\u001b[0;34m)\u001b[0m\u001b[0;34m,\u001b[0m\u001b[0;36m720\u001b[0m\u001b[0;34m)\u001b[0m\u001b[0;34m,\u001b[0m\u001b[0;34m\u001b[0m\u001b[0m\n\u001b[0;32m----> 4\u001b[0;31m                      \u001b[0mprefix\u001b[0m\u001b[0;34m=\u001b[0m\u001b[0;34m[\u001b[0m\u001b[0;34m'PTRtave01'\u001b[0m\u001b[0;34m]\u001b[0m\u001b[0;34m,\u001b[0m \u001b[0mdelta_t\u001b[0m\u001b[0;34m=\u001b[0m\u001b[0mdt\u001b[0m\u001b[0;34m\u001b[0m\u001b[0m\n\u001b[0m\u001b[1;32m      5\u001b[0m                     )\n\u001b[1;32m      6\u001b[0m \u001b[0mds\u001b[0m\u001b[0;34m\u001b[0m\u001b[0m\n",
      "\u001b[0;32m~/xmitgcm/xmitgcm/mds_store.py\u001b[0m in \u001b[0;36mopen_mdsdataset\u001b[0;34m(data_dir, grid_dir, iters, prefix, read_grid, delta_t, ref_date, calendar, geometry, grid_vars_to_coords, swap_dims, endian, chunks, ignore_unknown_vars, default_dtype, nx, ny, nz, llc_method)\u001b[0m\n\u001b[1;32m    165\u001b[0m                 datasets = [open_mdsdataset(\n\u001b[1;32m    166\u001b[0m                         data_dir, iters=iternum, read_grid=False, **kwargs)\n\u001b[0;32m--> 167\u001b[0;31m                     for iternum in iters]\n\u001b[0m\u001b[1;32m    168\u001b[0m                 \u001b[0;31m# now add the grid\u001b[0m\u001b[0;34m\u001b[0m\u001b[0;34m\u001b[0m\u001b[0m\n\u001b[1;32m    169\u001b[0m                 \u001b[0;32mif\u001b[0m \u001b[0mread_grid\u001b[0m\u001b[0;34m:\u001b[0m\u001b[0;34m\u001b[0m\u001b[0m\n",
      "\u001b[0;32m~/xmitgcm/xmitgcm/mds_store.py\u001b[0m in \u001b[0;36m<listcomp>\u001b[0;34m(.0)\u001b[0m\n\u001b[1;32m    165\u001b[0m                 datasets = [open_mdsdataset(\n\u001b[1;32m    166\u001b[0m                         data_dir, iters=iternum, read_grid=False, **kwargs)\n\u001b[0;32m--> 167\u001b[0;31m                     for iternum in iters]\n\u001b[0m\u001b[1;32m    168\u001b[0m                 \u001b[0;31m# now add the grid\u001b[0m\u001b[0;34m\u001b[0m\u001b[0;34m\u001b[0m\u001b[0m\n\u001b[1;32m    169\u001b[0m                 \u001b[0;32mif\u001b[0m \u001b[0mread_grid\u001b[0m\u001b[0;34m:\u001b[0m\u001b[0;34m\u001b[0m\u001b[0m\n",
      "\u001b[0;32m~/xmitgcm/xmitgcm/mds_store.py\u001b[0m in \u001b[0;36mopen_mdsdataset\u001b[0;34m(data_dir, grid_dir, iters, prefix, read_grid, delta_t, ref_date, calendar, geometry, grid_vars_to_coords, swap_dims, endian, chunks, ignore_unknown_vars, default_dtype, nx, ny, nz, llc_method)\u001b[0m\n\u001b[1;32m    188\u001b[0m                           \u001b[0mignore_unknown_vars\u001b[0m\u001b[0;34m=\u001b[0m\u001b[0mignore_unknown_vars\u001b[0m\u001b[0;34m,\u001b[0m\u001b[0;34m\u001b[0m\u001b[0m\n\u001b[1;32m    189\u001b[0m                           \u001b[0mdefault_dtype\u001b[0m\u001b[0;34m=\u001b[0m\u001b[0mdefault_dtype\u001b[0m\u001b[0;34m,\u001b[0m\u001b[0;34m\u001b[0m\u001b[0m\n\u001b[0;32m--> 190\u001b[0;31m                           nx=nx, ny=ny, nz=nz, llc_method=llc_method)\n\u001b[0m\u001b[1;32m    191\u001b[0m     \u001b[0mds\u001b[0m \u001b[0;34m=\u001b[0m \u001b[0mxr\u001b[0m\u001b[0;34m.\u001b[0m\u001b[0mDataset\u001b[0m\u001b[0;34m.\u001b[0m\u001b[0mload_store\u001b[0m\u001b[0;34m(\u001b[0m\u001b[0mstore\u001b[0m\u001b[0;34m)\u001b[0m\u001b[0;34m\u001b[0m\u001b[0m\n\u001b[1;32m    192\u001b[0m \u001b[0;34m\u001b[0m\u001b[0m\n",
      "\u001b[0;32m~/xmitgcm/xmitgcm/mds_store.py\u001b[0m in \u001b[0;36m__init__\u001b[0;34m(self, data_dir, grid_dir, iternum, delta_t, read_grid, file_prefixes, ref_date, calendar, geometry, endian, ignore_unknown_vars, default_dtype, nx, ny, nz, llc_method)\u001b[0m\n\u001b[1;32m    435\u001b[0m                                                            self.layers)\n\u001b[1;32m    436\u001b[0m         self._all_data_variables = _get_all_data_variables(self.data_dir,\n\u001b[0;32m--> 437\u001b[0;31m                                                            self.layers)\n\u001b[0m\u001b[1;32m    438\u001b[0m \u001b[0;34m\u001b[0m\u001b[0m\n\u001b[1;32m    439\u001b[0m         \u001b[0;31m# The rest of the data has to be read from disk.\u001b[0m\u001b[0;34m\u001b[0m\u001b[0;34m\u001b[0m\u001b[0m\n",
      "\u001b[0;32m~/xmitgcm/xmitgcm/mds_store.py\u001b[0m in \u001b[0;36m_get_all_data_variables\u001b[0;34m(data_dir, layers)\u001b[0m\n\u001b[1;32m    737\u001b[0m     \u001b[0;31m# now fill in aliases\u001b[0m\u001b[0;34m\u001b[0m\u001b[0;34m\u001b[0m\u001b[0m\n\u001b[1;32m    738\u001b[0m     \u001b[0;32mfor\u001b[0m \u001b[0malias\u001b[0m\u001b[0;34m,\u001b[0m \u001b[0moriginal\u001b[0m \u001b[0;32min\u001b[0m \u001b[0maliases\u001b[0m\u001b[0;34m.\u001b[0m\u001b[0mitems\u001b[0m\u001b[0;34m(\u001b[0m\u001b[0;34m)\u001b[0m\u001b[0;34m:\u001b[0m\u001b[0;34m\u001b[0m\u001b[0m\n\u001b[0;32m--> 739\u001b[0;31m         \u001b[0mmetadata\u001b[0m\u001b[0;34m[\u001b[0m\u001b[0malias\u001b[0m\u001b[0;34m]\u001b[0m \u001b[0;34m=\u001b[0m \u001b[0mmetadata\u001b[0m\u001b[0;34m[\u001b[0m\u001b[0moriginal\u001b[0m\u001b[0;34m]\u001b[0m\u001b[0;34m\u001b[0m\u001b[0m\n\u001b[0m\u001b[1;32m    740\u001b[0m \u001b[0;34m\u001b[0m\u001b[0m\n\u001b[1;32m    741\u001b[0m     \u001b[0;32mreturn\u001b[0m \u001b[0mmetadata\u001b[0m\u001b[0;34m\u001b[0m\u001b[0m\n",
      "\u001b[0;31mKeyError\u001b[0m: 'ETAN'"
     ]
    }
   ],
   "source": [
    "ds = open_mdsdataset(op.join(ddir,'PTR01_20km'), \n",
    "                     grid_dir=op.join(ddir,'../../../SUM05/takaya/MITgcm/channel/runs/20km_grid'),\n",
    "                     iters=range(int(te+720-12*720),int(te+720),720),\n",
    "                     prefix=['PTRtave01'], delta_t=dt\n",
    "                    )\n",
    "ds"
   ]
  },
  {
   "cell_type": "code",
   "execution_count": null,
   "metadata": {},
   "outputs": [],
   "source": []
  }
 ],
 "metadata": {
  "kernelspec": {
   "display_name": "Python 3 (uptodate)",
   "language": "python",
   "name": "uptodate"
  },
  "language_info": {
   "codemirror_mode": {
    "name": "ipython",
    "version": 3
   },
   "file_extension": ".py",
   "mimetype": "text/x-python",
   "name": "python",
   "nbconvert_exporter": "python",
   "pygments_lexer": "ipython3",
   "version": "3.6.4"
  }
 },
 "nbformat": 4,
 "nbformat_minor": 2
}
