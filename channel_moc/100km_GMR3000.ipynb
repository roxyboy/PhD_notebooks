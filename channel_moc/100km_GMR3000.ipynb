{
 "cells": [
  {
   "cell_type": "code",
   "execution_count": 77,
   "metadata": {},
   "outputs": [],
   "source": [
    "import numpy as np\n",
    "import xarray as xr\n",
    "import os.path as op\n",
    "import dask.array as dsar\n",
    "from dask.diagnostics import ProgressBar\n",
    "from scipy.io import loadmat\n",
    "from scipy.interpolate import PchipInterpolator as pchip\n",
    "from xmitgcm import open_mdsdataset\n",
    "from xgcm.grid import Grid\n",
    "import xrft\n",
    "from matplotlib.colors import SymLogNorm\n",
    "from matplotlib import colors\n",
    "import matplotlib.pyplot as plt\n",
    "%matplotlib inline"
   ]
  },
  {
   "cell_type": "code",
   "execution_count": 2,
   "metadata": {},
   "outputs": [],
   "source": [
    "bdir = '/swot/SUM02/takaya/channelMOC-Darwin/'\n",
    "pdir = '/swot/SUM05/takaya/MITgcm/channel/runs/'"
   ]
  },
  {
   "cell_type": "code",
   "execution_count": 3,
   "metadata": {},
   "outputs": [
    {
     "ename": "FileNotFoundError",
     "evalue": "[Errno 2] No such file or directory: b'/swot/SUM02/takaya/channelMOC-Darwin/monitor.0000000000.t001.nc'",
     "output_type": "error",
     "traceback": [
      "\u001b[0;31m---------------------------------------------------------------------------\u001b[0m",
      "\u001b[0;31mKeyError\u001b[0m                                  Traceback (most recent call last)",
      "\u001b[0;32m~/miniconda3/envs/uptodate/lib/python3.6/site-packages/xarray/backends/file_manager.py\u001b[0m in \u001b[0;36macquire\u001b[0;34m(self, needs_lock)\u001b[0m\n\u001b[1;32m    165\u001b[0m             \u001b[0;32mtry\u001b[0m\u001b[0;34m:\u001b[0m\u001b[0;34m\u001b[0m\u001b[0;34m\u001b[0m\u001b[0m\n\u001b[0;32m--> 166\u001b[0;31m                 \u001b[0mfile\u001b[0m \u001b[0;34m=\u001b[0m \u001b[0mself\u001b[0m\u001b[0;34m.\u001b[0m\u001b[0m_cache\u001b[0m\u001b[0;34m[\u001b[0m\u001b[0mself\u001b[0m\u001b[0;34m.\u001b[0m\u001b[0m_key\u001b[0m\u001b[0;34m]\u001b[0m\u001b[0;34m\u001b[0m\u001b[0;34m\u001b[0m\u001b[0m\n\u001b[0m\u001b[1;32m    167\u001b[0m             \u001b[0;32mexcept\u001b[0m \u001b[0mKeyError\u001b[0m\u001b[0;34m:\u001b[0m\u001b[0;34m\u001b[0m\u001b[0;34m\u001b[0m\u001b[0m\n",
      "\u001b[0;32m~/miniconda3/envs/uptodate/lib/python3.6/site-packages/xarray/backends/lru_cache.py\u001b[0m in \u001b[0;36m__getitem__\u001b[0;34m(self, key)\u001b[0m\n\u001b[1;32m     42\u001b[0m         \u001b[0;32mwith\u001b[0m \u001b[0mself\u001b[0m\u001b[0;34m.\u001b[0m\u001b[0m_lock\u001b[0m\u001b[0;34m:\u001b[0m\u001b[0;34m\u001b[0m\u001b[0;34m\u001b[0m\u001b[0m\n\u001b[0;32m---> 43\u001b[0;31m             \u001b[0mvalue\u001b[0m \u001b[0;34m=\u001b[0m \u001b[0mself\u001b[0m\u001b[0;34m.\u001b[0m\u001b[0m_cache\u001b[0m\u001b[0;34m[\u001b[0m\u001b[0mkey\u001b[0m\u001b[0;34m]\u001b[0m\u001b[0;34m\u001b[0m\u001b[0;34m\u001b[0m\u001b[0m\n\u001b[0m\u001b[1;32m     44\u001b[0m             \u001b[0mmove_to_end\u001b[0m\u001b[0;34m(\u001b[0m\u001b[0mself\u001b[0m\u001b[0;34m.\u001b[0m\u001b[0m_cache\u001b[0m\u001b[0;34m,\u001b[0m \u001b[0mkey\u001b[0m\u001b[0;34m)\u001b[0m\u001b[0;34m\u001b[0m\u001b[0;34m\u001b[0m\u001b[0m\n",
      "\u001b[0;31mKeyError\u001b[0m: [<function _open_netcdf4_group at 0x7fcb7a5152f0>, ('/swot/SUM02/takaya/channelMOC-Darwin/monitor.0000000000.t001.nc', CombinedLock([<SerializableLock: 1cca0dbf-6c82-4f9f-b7ec-46a7d2d51288>, <SerializableLock: 374498d4-63e8-4a56-8564-1d442aeb5066>])), 'r', (('clobber', True), ('diskless', False), ('format', 'NETCDF4'), ('group', None), ('persist', False))]",
      "\nDuring handling of the above exception, another exception occurred:\n",
      "\u001b[0;31mFileNotFoundError\u001b[0m                         Traceback (most recent call last)",
      "\u001b[0;32m<ipython-input-3-4a73a20fe6e6>\u001b[0m in \u001b[0;36m<module>\u001b[0;34m()\u001b[0m\n\u001b[0;32m----> 1\u001b[0;31m \u001b[0mmon\u001b[0m \u001b[0;34m=\u001b[0m \u001b[0mxr\u001b[0m\u001b[0;34m.\u001b[0m\u001b[0mopen_dataset\u001b[0m\u001b[0;34m(\u001b[0m\u001b[0mop\u001b[0m\u001b[0;34m.\u001b[0m\u001b[0mjoin\u001b[0m\u001b[0;34m(\u001b[0m\u001b[0mbdir\u001b[0m\u001b[0;34m,\u001b[0m\u001b[0;34m'monitor.0000000000.t001.nc'\u001b[0m\u001b[0;34m)\u001b[0m\u001b[0;34m)\u001b[0m\u001b[0;34m\u001b[0m\u001b[0;34m\u001b[0m\u001b[0m\n\u001b[0m\u001b[1;32m      2\u001b[0m \u001b[0mmon\u001b[0m\u001b[0;34m\u001b[0m\u001b[0;34m\u001b[0m\u001b[0m\n",
      "\u001b[0;32m~/miniconda3/envs/uptodate/lib/python3.6/site-packages/xarray/backends/api.py\u001b[0m in \u001b[0;36mopen_dataset\u001b[0;34m(filename_or_obj, group, decode_cf, mask_and_scale, decode_times, autoclose, concat_characters, decode_coords, engine, chunks, lock, cache, drop_variables, backend_kwargs)\u001b[0m\n\u001b[1;32m    319\u001b[0m         \u001b[0;32mif\u001b[0m \u001b[0mengine\u001b[0m \u001b[0;34m==\u001b[0m \u001b[0;34m'netcdf4'\u001b[0m\u001b[0;34m:\u001b[0m\u001b[0;34m\u001b[0m\u001b[0;34m\u001b[0m\u001b[0m\n\u001b[1;32m    320\u001b[0m             store = backends.NetCDF4DataStore.open(\n\u001b[0;32m--> 321\u001b[0;31m                 filename_or_obj, group=group, lock=lock, **backend_kwargs)\n\u001b[0m\u001b[1;32m    322\u001b[0m         \u001b[0;32melif\u001b[0m \u001b[0mengine\u001b[0m \u001b[0;34m==\u001b[0m \u001b[0;34m'scipy'\u001b[0m\u001b[0;34m:\u001b[0m\u001b[0;34m\u001b[0m\u001b[0;34m\u001b[0m\u001b[0m\n\u001b[1;32m    323\u001b[0m             \u001b[0mstore\u001b[0m \u001b[0;34m=\u001b[0m \u001b[0mbackends\u001b[0m\u001b[0;34m.\u001b[0m\u001b[0mScipyDataStore\u001b[0m\u001b[0;34m(\u001b[0m\u001b[0mfilename_or_obj\u001b[0m\u001b[0;34m,\u001b[0m \u001b[0;34m**\u001b[0m\u001b[0mbackend_kwargs\u001b[0m\u001b[0;34m)\u001b[0m\u001b[0;34m\u001b[0m\u001b[0;34m\u001b[0m\u001b[0m\n",
      "\u001b[0;32m~/miniconda3/envs/uptodate/lib/python3.6/site-packages/xarray/backends/netCDF4_.py\u001b[0m in \u001b[0;36mopen\u001b[0;34m(cls, filename, mode, format, group, clobber, diskless, persist, lock, lock_maker, autoclose)\u001b[0m\n\u001b[1;32m    353\u001b[0m             kwargs=dict(group=group, clobber=clobber, diskless=diskless,\n\u001b[1;32m    354\u001b[0m                         persist=persist, format=format))\n\u001b[0;32m--> 355\u001b[0;31m         \u001b[0;32mreturn\u001b[0m \u001b[0mcls\u001b[0m\u001b[0;34m(\u001b[0m\u001b[0mmanager\u001b[0m\u001b[0;34m,\u001b[0m \u001b[0mlock\u001b[0m\u001b[0;34m=\u001b[0m\u001b[0mlock\u001b[0m\u001b[0;34m,\u001b[0m \u001b[0mautoclose\u001b[0m\u001b[0;34m=\u001b[0m\u001b[0mautoclose\u001b[0m\u001b[0;34m)\u001b[0m\u001b[0;34m\u001b[0m\u001b[0;34m\u001b[0m\u001b[0m\n\u001b[0m\u001b[1;32m    356\u001b[0m \u001b[0;34m\u001b[0m\u001b[0m\n\u001b[1;32m    357\u001b[0m     \u001b[0;34m@\u001b[0m\u001b[0mproperty\u001b[0m\u001b[0;34m\u001b[0m\u001b[0;34m\u001b[0m\u001b[0m\n",
      "\u001b[0;32m~/miniconda3/envs/uptodate/lib/python3.6/site-packages/xarray/backends/netCDF4_.py\u001b[0m in \u001b[0;36m__init__\u001b[0;34m(self, manager, lock, autoclose)\u001b[0m\n\u001b[1;32m    312\u001b[0m \u001b[0;34m\u001b[0m\u001b[0m\n\u001b[1;32m    313\u001b[0m         \u001b[0mself\u001b[0m\u001b[0;34m.\u001b[0m\u001b[0m_manager\u001b[0m \u001b[0;34m=\u001b[0m \u001b[0mmanager\u001b[0m\u001b[0;34m\u001b[0m\u001b[0;34m\u001b[0m\u001b[0m\n\u001b[0;32m--> 314\u001b[0;31m         \u001b[0mself\u001b[0m\u001b[0;34m.\u001b[0m\u001b[0mformat\u001b[0m \u001b[0;34m=\u001b[0m \u001b[0mself\u001b[0m\u001b[0;34m.\u001b[0m\u001b[0mds\u001b[0m\u001b[0;34m.\u001b[0m\u001b[0mdata_model\u001b[0m\u001b[0;34m\u001b[0m\u001b[0;34m\u001b[0m\u001b[0m\n\u001b[0m\u001b[1;32m    315\u001b[0m         \u001b[0mself\u001b[0m\u001b[0;34m.\u001b[0m\u001b[0m_filename\u001b[0m \u001b[0;34m=\u001b[0m \u001b[0mself\u001b[0m\u001b[0;34m.\u001b[0m\u001b[0mds\u001b[0m\u001b[0;34m.\u001b[0m\u001b[0mfilepath\u001b[0m\u001b[0;34m(\u001b[0m\u001b[0;34m)\u001b[0m\u001b[0;34m\u001b[0m\u001b[0;34m\u001b[0m\u001b[0m\n\u001b[1;32m    316\u001b[0m         \u001b[0mself\u001b[0m\u001b[0;34m.\u001b[0m\u001b[0mis_remote\u001b[0m \u001b[0;34m=\u001b[0m \u001b[0mis_remote_uri\u001b[0m\u001b[0;34m(\u001b[0m\u001b[0mself\u001b[0m\u001b[0;34m.\u001b[0m\u001b[0m_filename\u001b[0m\u001b[0;34m)\u001b[0m\u001b[0;34m\u001b[0m\u001b[0;34m\u001b[0m\u001b[0m\n",
      "\u001b[0;32m~/miniconda3/envs/uptodate/lib/python3.6/site-packages/xarray/backends/netCDF4_.py\u001b[0m in \u001b[0;36mds\u001b[0;34m(self)\u001b[0m\n\u001b[1;32m    357\u001b[0m     \u001b[0;34m@\u001b[0m\u001b[0mproperty\u001b[0m\u001b[0;34m\u001b[0m\u001b[0;34m\u001b[0m\u001b[0m\n\u001b[1;32m    358\u001b[0m     \u001b[0;32mdef\u001b[0m \u001b[0mds\u001b[0m\u001b[0;34m(\u001b[0m\u001b[0mself\u001b[0m\u001b[0;34m)\u001b[0m\u001b[0;34m:\u001b[0m\u001b[0;34m\u001b[0m\u001b[0;34m\u001b[0m\u001b[0m\n\u001b[0;32m--> 359\u001b[0;31m         \u001b[0;32mreturn\u001b[0m \u001b[0mself\u001b[0m\u001b[0;34m.\u001b[0m\u001b[0m_manager\u001b[0m\u001b[0;34m.\u001b[0m\u001b[0macquire\u001b[0m\u001b[0;34m(\u001b[0m\u001b[0;34m)\u001b[0m\u001b[0;34m.\u001b[0m\u001b[0mvalue\u001b[0m\u001b[0;34m\u001b[0m\u001b[0;34m\u001b[0m\u001b[0m\n\u001b[0m\u001b[1;32m    360\u001b[0m \u001b[0;34m\u001b[0m\u001b[0m\n\u001b[1;32m    361\u001b[0m     \u001b[0;32mdef\u001b[0m \u001b[0mopen_store_variable\u001b[0m\u001b[0;34m(\u001b[0m\u001b[0mself\u001b[0m\u001b[0;34m,\u001b[0m \u001b[0mname\u001b[0m\u001b[0;34m,\u001b[0m \u001b[0mvar\u001b[0m\u001b[0;34m)\u001b[0m\u001b[0;34m:\u001b[0m\u001b[0;34m\u001b[0m\u001b[0;34m\u001b[0m\u001b[0m\n",
      "\u001b[0;32m~/miniconda3/envs/uptodate/lib/python3.6/site-packages/xarray/backends/file_manager.py\u001b[0m in \u001b[0;36macquire\u001b[0;34m(self, needs_lock)\u001b[0m\n\u001b[1;32m    170\u001b[0m                     \u001b[0mkwargs\u001b[0m \u001b[0;34m=\u001b[0m \u001b[0mkwargs\u001b[0m\u001b[0;34m.\u001b[0m\u001b[0mcopy\u001b[0m\u001b[0;34m(\u001b[0m\u001b[0;34m)\u001b[0m\u001b[0;34m\u001b[0m\u001b[0;34m\u001b[0m\u001b[0m\n\u001b[1;32m    171\u001b[0m                     \u001b[0mkwargs\u001b[0m\u001b[0;34m[\u001b[0m\u001b[0;34m'mode'\u001b[0m\u001b[0;34m]\u001b[0m \u001b[0;34m=\u001b[0m \u001b[0mself\u001b[0m\u001b[0;34m.\u001b[0m\u001b[0m_mode\u001b[0m\u001b[0;34m\u001b[0m\u001b[0;34m\u001b[0m\u001b[0m\n\u001b[0;32m--> 172\u001b[0;31m                 \u001b[0mfile\u001b[0m \u001b[0;34m=\u001b[0m \u001b[0mself\u001b[0m\u001b[0;34m.\u001b[0m\u001b[0m_opener\u001b[0m\u001b[0;34m(\u001b[0m\u001b[0;34m*\u001b[0m\u001b[0mself\u001b[0m\u001b[0;34m.\u001b[0m\u001b[0m_args\u001b[0m\u001b[0;34m,\u001b[0m \u001b[0;34m**\u001b[0m\u001b[0mkwargs\u001b[0m\u001b[0;34m)\u001b[0m\u001b[0;34m\u001b[0m\u001b[0;34m\u001b[0m\u001b[0m\n\u001b[0m\u001b[1;32m    173\u001b[0m                 \u001b[0;32mif\u001b[0m \u001b[0mself\u001b[0m\u001b[0;34m.\u001b[0m\u001b[0m_mode\u001b[0m \u001b[0;34m==\u001b[0m \u001b[0;34m'w'\u001b[0m\u001b[0;34m:\u001b[0m\u001b[0;34m\u001b[0m\u001b[0;34m\u001b[0m\u001b[0m\n\u001b[1;32m    174\u001b[0m                     \u001b[0;31m# ensure file doesn't get overriden when opened again\u001b[0m\u001b[0;34m\u001b[0m\u001b[0;34m\u001b[0m\u001b[0;34m\u001b[0m\u001b[0m\n",
      "\u001b[0;32m~/miniconda3/envs/uptodate/lib/python3.6/site-packages/xarray/backends/netCDF4_.py\u001b[0m in \u001b[0;36m_open_netcdf4_group\u001b[0;34m(filename, lock, mode, group, **kwargs)\u001b[0m\n\u001b[1;32m    245\u001b[0m     \u001b[0;32mimport\u001b[0m \u001b[0mnetCDF4\u001b[0m \u001b[0;32mas\u001b[0m \u001b[0mnc4\u001b[0m\u001b[0;34m\u001b[0m\u001b[0;34m\u001b[0m\u001b[0m\n\u001b[1;32m    246\u001b[0m \u001b[0;34m\u001b[0m\u001b[0m\n\u001b[0;32m--> 247\u001b[0;31m     \u001b[0mds\u001b[0m \u001b[0;34m=\u001b[0m \u001b[0mnc4\u001b[0m\u001b[0;34m.\u001b[0m\u001b[0mDataset\u001b[0m\u001b[0;34m(\u001b[0m\u001b[0mfilename\u001b[0m\u001b[0;34m,\u001b[0m \u001b[0mmode\u001b[0m\u001b[0;34m=\u001b[0m\u001b[0mmode\u001b[0m\u001b[0;34m,\u001b[0m \u001b[0;34m**\u001b[0m\u001b[0mkwargs\u001b[0m\u001b[0;34m)\u001b[0m\u001b[0;34m\u001b[0m\u001b[0;34m\u001b[0m\u001b[0m\n\u001b[0m\u001b[1;32m    248\u001b[0m \u001b[0;34m\u001b[0m\u001b[0m\n\u001b[1;32m    249\u001b[0m     \u001b[0;32mwith\u001b[0m \u001b[0mclose_on_error\u001b[0m\u001b[0;34m(\u001b[0m\u001b[0mds\u001b[0m\u001b[0;34m)\u001b[0m\u001b[0;34m:\u001b[0m\u001b[0;34m\u001b[0m\u001b[0;34m\u001b[0m\u001b[0m\n",
      "\u001b[0;32mnetCDF4/_netCDF4.pyx\u001b[0m in \u001b[0;36mnetCDF4._netCDF4.Dataset.__init__\u001b[0;34m()\u001b[0m\n",
      "\u001b[0;32mnetCDF4/_netCDF4.pyx\u001b[0m in \u001b[0;36mnetCDF4._netCDF4._ensure_nc_success\u001b[0;34m()\u001b[0m\n",
      "\u001b[0;31mFileNotFoundError\u001b[0m: [Errno 2] No such file or directory: b'/swot/SUM02/takaya/channelMOC-Darwin/monitor.0000000000.t001.nc'"
     ]
    }
   ],
   "source": [
    "mon = xr.open_dataset(op.join(bdir,'monitor.0000000000.t001.nc'))\n",
    "mon"
   ]
  },
  {
   "cell_type": "code",
   "execution_count": 98,
   "metadata": {},
   "outputs": [
    {
     "data": {
      "text/plain": [
       "[<matplotlib.lines.Line2D at 0x7fd879c70668>]"
      ]
     },
     "execution_count": 98,
     "metadata": {},
     "output_type": "execute_result"
    },
    {
     "data": {
      "image/png": "[encoded data removed]",
      "text/plain": [
       "<Figure size 432x288 with 1 Axes>"
      ]
     },
     "metadata": {},
     "output_type": "display_data"
    }
   ],
   "source": [
    "mon.advcfl_uvel_max.plot()"
   ]
  },
  {
   "cell_type": "code",
   "execution_count": 131,
   "metadata": {},
   "outputs": [
    {
     "name": "stdout",
     "output_type": "stream",
     "text": [
      "0 4276800\n"
     ]
    }
   ],
   "source": [
    "dt = 4.8e3\n",
    "ys,dy = (0,660) # 330 yrs of spin up\n",
    "ts = int(ys*360*86400/dt)\n",
    "te = int(ts+dy*360*86400/dt)\n",
    "print(ts,te)"
   ]
  },
  {
   "cell_type": "code",
   "execution_count": 132,
   "metadata": {},
   "outputs": [
    {
     "name": "stderr",
     "output_type": "stream",
     "text": [
      "/home/takaya/xmitgcm/xmitgcm/mds_store.py:721: UserWarning: Couldn't find available_diagnostics.log in /swot/SUM02/takaya/channelMOC-Darwin/100kmMLI_GMR3000. Using default version.\n",
      "  \"in %s. Using default version.\" % data_dir)\n",
      "/home/takaya/xmitgcm/xmitgcm/utils.py:314: UserWarning: Not sure what to do with rlev = L\n",
      "  warnings.warn(\"Not sure what to do with rlev = \" + rlev)\n"
     ]
    },
    {
     "data": {
      "text/plain": [
       "<xarray.Dataset>\n",
       "Dimensions:   (XC: 10, XG: 10, YC: 20, YG: 20, Z: 40, Zl: 40, Zp1: 41, Zu: 40, time: 7920)\n",
       "Coordinates:\n",
       "  * XC        (XC) >f4 50000.0 150000.0 250000.0 ... 750000.0 850000.0 950000.0\n",
       "  * YC        (YC) >f4 50000.0 150000.0 250000.0 ... 1850000.0 1950000.0\n",
       "  * XG        (XG) >f4 0.0 100000.0 200000.0 ... 700000.0 800000.0 900000.0\n",
       "  * YG        (YG) >f4 0.0 100000.0 200000.0 ... 1700000.0 1800000.0 1900000.0\n",
       "  * Z         (Z) >f4 -5.0 -15.0 -25.0 -36.0 ... -2624.5 -2727.5 -2830.5 -2933.5\n",
       "  * Zp1       (Zp1) >f4 0.0 -10.0 -20.0 -30.0 ... -2779.0 -2882.0 -2985.0\n",
       "  * Zu        (Zu) >f4 -10.0 -20.0 -30.0 -42.0 ... -2779.0 -2882.0 -2985.0\n",
       "  * Zl        (Zl) >f4 0.0 -10.0 -20.0 -30.0 ... -2573.0 -2676.0 -2779.0 -2882.0\n",
       "    rA        (YC, XC) >f4 dask.array<shape=(20, 10), chunksize=(20, 10)>\n",
       "    dxG       (YG, XC) >f4 dask.array<shape=(20, 10), chunksize=(20, 10)>\n",
       "    dyG       (YC, XG) >f4 dask.array<shape=(20, 10), chunksize=(20, 10)>\n",
       "    Depth     (YC, XC) >f4 dask.array<shape=(20, 10), chunksize=(20, 10)>\n",
       "    rAz       (YG, XG) >f4 dask.array<shape=(20, 10), chunksize=(20, 10)>\n",
       "    dxC       (YC, XG) >f4 dask.array<shape=(20, 10), chunksize=(20, 10)>\n",
       "    dyC       (YG, XC) >f4 dask.array<shape=(20, 10), chunksize=(20, 10)>\n",
       "    rAw       (YC, XG) >f4 dask.array<shape=(20, 10), chunksize=(20, 10)>\n",
       "    rAs       (YG, XC) >f4 dask.array<shape=(20, 10), chunksize=(20, 10)>\n",
       "    drC       (Zp1) float64 dask.array<shape=(41,), chunksize=(41,)>\n",
       "    drF       (Z) >f4 dask.array<shape=(40,), chunksize=(40,)>\n",
       "    PHrefC    (Z) >f4 dask.array<shape=(40,), chunksize=(40,)>\n",
       "    PHrefF    (Zp1) >f4 dask.array<shape=(41,), chunksize=(41,)>\n",
       "    hFacC     (Z, YC, XC) >f4 dask.array<shape=(40, 20, 10), chunksize=(40, 20, 10)>\n",
       "    hFacW     (Z, YC, XG) >f4 dask.array<shape=(40, 20, 10), chunksize=(40, 20, 10)>\n",
       "    hFacS     (Z, YG, XC) >f4 dask.array<shape=(40, 20, 10), chunksize=(40, 20, 10)>\n",
       "    iter      (time) int64 dask.array<shape=(7920,), chunksize=(1,)>\n",
       "  * time      (time) float64 2.592e+06 5.184e+06 ... 2.053e+10 2.053e+10\n",
       "Data variables:\n",
       "    uVeltave  (time, Z, YC, XG) float32 dask.array<shape=(7920, 40, 20, 10), chunksize=(1, 40, 20, 10)>\n",
       "    Ttave     (time, Z, YC, XC) float32 dask.array<shape=(7920, 40, 20, 10), chunksize=(1, 40, 20, 10)>"
      ]
     },
     "execution_count": 132,
     "metadata": {},
     "output_type": "execute_result"
    }
   ],
   "source": [
    "dsave = open_mdsdataset(op.join(bdir,'100kmMLI_GMR3000'), \n",
    "                       grid_dir=op.join(bdir,'100km_grid'), \n",
    "                       iters=range(ts+540,te+540,540),\n",
    "#                        iters=range(int(360*86400*ys/8e2 + 0e0*360*86400/12e2 + 112e0*360*86400/36e2 \n",
    "#                                       + 177*360*86400/dt)+1440,\n",
    "#                                   int(360*86400*ys/8e2 + 0e0*360*86400/12e2 + 112e0*360*86400/36e2 \n",
    "#                                      + 177*360*86400/dt+360*86400*17/dt)+1440,1440),\n",
    "                       prefix=['Ttave','uVeltave'\n",
    "#                                'wVeltave',\n",
    "#                               'PTRtave03'\n",
    "#                               ,'PtrFlux03'\n",
    "                              ], delta_t=dt\n",
    "                      )\n",
    "dsave"
   ]
  },
  {
   "cell_type": "code",
   "execution_count": 133,
   "metadata": {},
   "outputs": [],
   "source": [
    "grid = Grid(dsave, periodic=['X'])\n",
    "f0 = -1.1e-4\n",
    "beta = 1.4e-11\n",
    "g = 9.81\n",
    "r0 = 1e3\n",
    "alpha = 2e-4"
   ]
  },
  {
   "cell_type": "code",
   "execution_count": 134,
   "metadata": {},
   "outputs": [
    {
     "data": {
      "text/plain": [
       "[<matplotlib.lines.Line2D at 0x7fca0223b240>]"
      ]
     },
     "execution_count": 134,
     "metadata": {},
     "output_type": "execute_result"
    },
    {
     "data": {
      "image/png": "[encoded data removed]",
      "text/plain": [
       "<Figure size 432x288 with 1 Axes>"
      ]
     },
     "metadata": {},
     "output_type": "display_data"
    }
   ],
   "source": [
    "(dsave.Ttave).mean(['Z','YC','XC']).plot()"
   ]
  },
  {
   "cell_type": "code",
   "execution_count": 135,
   "metadata": {},
   "outputs": [
    {
     "data": {
      "text/plain": [
       "[<matplotlib.lines.Line2D at 0x7fc9eea10518>]"
      ]
     },
     "execution_count": 135,
     "metadata": {},
     "output_type": "execute_result"
    },
    {
     "data": {
      "image/png": "[encoded data removed]",
      "text/plain": [
       "<Figure size 432x288 with 1 Axes>"
      ]
     },
     "metadata": {},
     "output_type": "display_data"
    }
   ],
   "source": [
    "(dsave.Ttave*dsave.drF).mean(['Z','YC','XC']).plot()"
   ]
  },
  {
   "cell_type": "code",
   "execution_count": 136,
   "metadata": {},
   "outputs": [
    {
     "data": {
      "text/plain": [
       "<matplotlib.contour.QuadContourSet at 0x7fcb0c2172b0>"
      ]
     },
     "execution_count": 136,
     "metadata": {},
     "output_type": "execute_result"
    },
    {
     "data": {
      "image/png": "[encoded data removed]",
      "text/plain": [
       "<Figure size 648x432 with 2 Axes>"
      ]
     },
     "metadata": {},
     "output_type": "display_data"
    }
   ],
   "source": [
    "fig,ax = plt.subplots(figsize=(9,6))\n",
    "# (dsave.PTRtave03.mean(['time','XC'])*1e3).plot.contourf(ax=ax, levels=np.linspace(0,.4,11),\n",
    "#                                                         cmap='gist_heat_r')\n",
    "dsave.Ttave[-120:].mean(['time','XC']).plot.contourf(ax=ax, levels=np.linspace(0,8,11),\n",
    "                                                    cmap='gist_heat_r')"
   ]
  },
  {
   "cell_type": "code",
   "execution_count": 137,
   "metadata": {},
   "outputs": [
    {
     "name": "stdout",
     "output_type": "stream",
     "text": [
      "[########################################] | 100% Completed |  0.3s\n"
     ]
    },
    {
     "name": "stderr",
     "output_type": "stream",
     "text": [
      "/home/takaya/miniconda3/envs/uptodate/lib/python3.6/site-packages/dask/local.py:253: RuntimeWarning: invalid value encountered in true_divide\n",
      "  return func(*args2)\n"
     ]
    },
    {
     "data": {
      "text/plain": [
       "<xarray.DataArray (YC: 20)>\n",
       "array([       nan, -2787.1658, -2765.682 , -2716.0352, -2640.6494, -2545.8071,\n",
       "       -2447.9614, -2358.866 , -2288.6414, -2242.5964, -2222.0242, -2226.0906,\n",
       "       -2248.794 , -2286.3965, -2328.931 , -2344.7073, -2340.817 , -2336.4648,\n",
       "       -2333.5864, -2332.8271], dtype=float32)\n",
       "Coordinates:\n",
       "  * YC       (YC) >f4 50000.0 150000.0 250000.0 ... 1850000.0 1950000.0"
      ]
     },
     "execution_count": 137,
     "metadata": {},
     "output_type": "execute_result"
    }
   ],
   "source": [
    "Tave = dsave.Ttave[-120:].mean(['XC'])\n",
    "with ProgressBar():\n",
    "    hT = 2*((Tave.mean('time')*dsave.Z*dsave.drF).sum('Z')/(Tave.mean('time')*dsave.drF).sum('Z')).compute()\n",
    "hT"
   ]
  },
  {
   "cell_type": "code",
   "execution_count": 138,
   "metadata": {},
   "outputs": [
    {
     "data": {
      "text/plain": [
       "[<matplotlib.lines.Line2D at 0x7fca8c2e2eb8>]"
      ]
     },
     "execution_count": 138,
     "metadata": {},
     "output_type": "execute_result"
    },
    {
     "data": {
      "image/png": "[encoded data removed]",
      "text/plain": [
       "<Figure size 432x288 with 1 Axes>"
      ]
     },
     "metadata": {},
     "output_type": "display_data"
    }
   ],
   "source": [
    "hT.plot()"
   ]
  },
  {
   "cell_type": "code",
   "execution_count": 139,
   "metadata": {},
   "outputs": [],
   "source": [
    "Uave = dsave.uVeltave.mean(['XG'])\n",
    "# Uanom = Uave - grid.interp(ug.mean('XC'), 'Y', boundary='fill')\n",
    "# fig, (ax1,ax2) = plt.subplots(nrows=2, ncols=1, figsize=(10,8))\n",
    "# Uave[-120:].mean('time').plot(ax=ax1, vmax=.5)\n",
    "# Uanom[-120:].mean('time').plot(ax=ax2, vmax=.5)"
   ]
  },
  {
   "cell_type": "code",
   "execution_count": 140,
   "metadata": {},
   "outputs": [
    {
     "name": "stderr",
     "output_type": "stream",
     "text": [
      "/home/takaya/miniconda3/envs/uptodate/lib/python3.6/site-packages/xarray/core/dataarray.py:2170: FutureWarning: roll_coords will be set to False in the future. Explicitly set roll_coords to silence warning.\n",
      "  shifts=shifts, roll_coords=roll_coords, **shifts_kwargs)\n"
     ]
    },
    {
     "data": {
      "text/plain": [
       "<xarray.DataArray (time: 120)>\n",
       "dask.array<shape=(120,), dtype=float32, chunksize=(1,)>\n",
       "Coordinates:\n",
       "  * time     (time) float64 2.022e+10 2.022e+10 ... 2.053e+10 2.053e+10"
      ]
     },
     "execution_count": 140,
     "metadata": {},
     "output_type": "execute_result"
    }
   ],
   "source": [
    "uC = g*alpha * ((grid.diff(Tave * grid.interp(dsave.dxC,'X').mean('XC'),\n",
    "                          'Y', boundary='fill')*dsave.rAs.mean('XC')**-1 * dsave.Z\n",
    "                ).sum('Z') * dsave.dyC.mean('XC')).sum('YG') * f0**-1\n",
    "uC"
   ]
  },
  {
   "cell_type": "code",
   "execution_count": 141,
   "metadata": {},
   "outputs": [
    {
     "name": "stdout",
     "output_type": "stream",
     "text": [
      "[########################################] | 100% Completed | 34.9s\n"
     ]
    }
   ],
   "source": [
    "with ProgressBar():\n",
    "    uT = (Uave*dsave.drF*dsave.dyG.mean(['XG'])).sum(['Z','YC']).compute()\n",
    "# with ProgressBar():\n",
    "#     uC = (Uanom*dsave.drF*dsave.dyG.mean(['XG'])).sum(['Z','YC']).compute()\n",
    "# uC"
   ]
  },
  {
   "cell_type": "code",
   "execution_count": 142,
   "metadata": {},
   "outputs": [
    {
     "data": {
      "text/plain": [
       "<matplotlib.legend.Legend at 0x7fcacc2d02b0>"
      ]
     },
     "execution_count": 142,
     "metadata": {},
     "output_type": "execute_result"
    },
    {
     "data": {
      "image/png": "[encoded data removed]",
      "text/plain": [
       "<Figure size 432x288 with 2 Axes>"
      ]
     },
     "metadata": {},
     "output_type": "display_data"
    }
   ],
   "source": [
    "fig, ax = plt.subplots()\n",
    "ax2 = ax.twinx()\n",
    "(uT[-18:-6]*1e-6).plot(ax=ax, c='k', label=r'total')\n",
    "(uC[-18:-6]*1e-6).plot(ax=ax2, c='r', label=r'clinic')\n",
    "ax2.legend(loc='upper right')\n",
    "ax.legend(loc='upper left')\n",
    "# ax2.set_yticks([1.852,1.854,1.856,1.858])\n",
    "# ax2.set_yticklabels([1.852,1.854,1.856,1.858], color='r')"
   ]
  },
  {
   "cell_type": "code",
   "execution_count": 103,
   "metadata": {},
   "outputs": [
    {
     "name": "stderr",
     "output_type": "stream",
     "text": [
      "/home/takaya/xmitgcm/xmitgcm/utils.py:314: UserWarning: Not sure what to do with rlev = L\n",
      "  warnings.warn(\"Not sure what to do with rlev = \" + rlev)\n",
      "/home/takaya/xmitgcm/xmitgcm/mds_store.py:235: FutureWarning: iteration over an xarray.Dataset will change in xarray v0.11 to only include data variables, not coordinates. Iterate over the Dataset.variables property instead to preserve existing behavior in a forwards compatible manner.\n",
      "  for vname in ds:\n"
     ]
    },
    {
     "data": {
      "text/plain": [
       "<xarray.Dataset>\n",
       "Dimensions:   (XC: 10, XG: 10, YC: 20, YG: 20, Z: 40, Zl: 40, Zp1: 41, Zu: 40, time: 1800)\n",
       "Coordinates:\n",
       "  * XC        (XC) >f4 50000.0 150000.0 250000.0 350000.0 450000.0 550000.0 ...\n",
       "  * YC        (YC) >f4 50000.0 150000.0 250000.0 350000.0 450000.0 550000.0 ...\n",
       "  * XG        (XG) >f4 0.0 100000.0 200000.0 300000.0 400000.0 500000.0 ...\n",
       "  * YG        (YG) >f4 0.0 100000.0 200000.0 300000.0 400000.0 500000.0 ...\n",
       "  * Z         (Z) >f4 -5.0 -15.0 -25.0 -36.0 -49.0 -64.0 -81.5 -102.0 -126.0 ...\n",
       "  * Zp1       (Zp1) >f4 0.0 -10.0 -20.0 -30.0 -42.0 -56.0 -72.0 -91.0 -113.0 ...\n",
       "  * Zu        (Zu) >f4 -10.0 -20.0 -30.0 -42.0 -56.0 -72.0 -91.0 -113.0 ...\n",
       "  * Zl        (Zl) >f4 0.0 -10.0 -20.0 -30.0 -42.0 -56.0 -72.0 -91.0 -113.0 ...\n",
       "    rA        (YC, XC) >f4 dask.array<shape=(20, 10), chunksize=(20, 10)>\n",
       "    dxG       (YG, XC) >f4 dask.array<shape=(20, 10), chunksize=(20, 10)>\n",
       "    dyG       (YC, XG) >f4 dask.array<shape=(20, 10), chunksize=(20, 10)>\n",
       "    Depth     (YC, XC) >f4 dask.array<shape=(20, 10), chunksize=(20, 10)>\n",
       "    rAz       (YG, XG) >f4 dask.array<shape=(20, 10), chunksize=(20, 10)>\n",
       "    dxC       (YC, XG) >f4 dask.array<shape=(20, 10), chunksize=(20, 10)>\n",
       "    dyC       (YG, XC) >f4 dask.array<shape=(20, 10), chunksize=(20, 10)>\n",
       "    rAw       (YC, XG) >f4 dask.array<shape=(20, 10), chunksize=(20, 10)>\n",
       "    rAs       (YG, XC) >f4 dask.array<shape=(20, 10), chunksize=(20, 10)>\n",
       "    drC       (Zp1) float64 dask.array<shape=(41,), chunksize=(41,)>\n",
       "    drF       (Z) >f4 dask.array<shape=(40,), chunksize=(40,)>\n",
       "    PHrefC    (Z) >f4 dask.array<shape=(40,), chunksize=(40,)>\n",
       "    PHrefF    (Zp1) >f4 dask.array<shape=(41,), chunksize=(41,)>\n",
       "    hFacC     (Z, YC, XC) >f4 dask.array<shape=(40, 20, 10), chunksize=(40, 20, 10)>\n",
       "    hFacW     (Z, YC, XG) >f4 dask.array<shape=(40, 20, 10), chunksize=(40, 20, 10)>\n",
       "    hFacS     (Z, YG, XC) >f4 dask.array<shape=(40, 20, 10), chunksize=(40, 20, 10)>\n",
       "    iter      (time) int64 dask.array<shape=(1800,), chunksize=(1,)>\n",
       "  * time      (time) float64 1.026e+10 1.026e+10 1.026e+10 1.026e+10 ...\n",
       "Data variables:\n",
       "    UVEL      (time, Z, YC, XG) float32 dask.array<shape=(1800, 40, 20, 10), chunksize=(1, 40, 20, 10)>\n",
       "    VVEL      (time, Z, YG, XC) float32 dask.array<shape=(1800, 40, 20, 10), chunksize=(1, 40, 20, 10)>\n",
       "    WVEL      (time, Zl, YC, XC) float32 dask.array<shape=(1800, 40, 20, 10), chunksize=(1, 40, 20, 10)>\n",
       "    PHIHYD    (time, Z, YC, XC) float32 dask.array<shape=(1800, 40, 20, 10), chunksize=(1, 40, 20, 10)>\n",
       "    THETA     (time, Z, YC, XC) float32 dask.array<shape=(1800, 40, 20, 10), chunksize=(1, 40, 20, 10)>\n",
       "    KPPhbl    (time, YC, XC) float32 dask.array<shape=(1800, 20, 10), chunksize=(1, 20, 10)>\n",
       "    TRAC08    (time, Z, YC, XC) float32 dask.array<shape=(1800, 40, 20, 10), chunksize=(1, 40, 20, 10)>\n",
       "    TRAC12    (time, Z, YC, XC) float32 dask.array<shape=(1800, 40, 20, 10), chunksize=(1, 40, 20, 10)>\n",
       "    TRAC22    (time, Z, YC, XC) float32 dask.array<shape=(1800, 40, 20, 10), chunksize=(1, 40, 20, 10)>\n",
       "    TRAC23    (time, Z, YC, XC) float32 dask.array<shape=(1800, 40, 20, 10), chunksize=(1, 40, 20, 10)>\n",
       "    TRAC26    (time, Z, YC, XC) float32 dask.array<shape=(1800, 40, 20, 10), chunksize=(1, 40, 20, 10)>\n",
       "    PP        (time, Z, YC, XC) float32 dask.array<shape=(1800, 40, 20, 10), chunksize=(1, 40, 20, 10)>\n",
       "    TRAC03    (time, Z, YC, XC) float32 dask.array<shape=(1800, 40, 20, 10), chunksize=(1, 40, 20, 10)>\n",
       "    VTRAC03   (time, Z, YG, XC) float32 dask.array<shape=(1800, 40, 20, 10), chunksize=(1, 40, 20, 10)>\n",
       "    WTRAC03   (time, Z, YC, XC) float32 dask.array<shape=(1800, 40, 20, 10), chunksize=(1, 40, 20, 10)>\n",
       "    ADVyTr03  (time, Z, YG, XC) float32 dask.array<shape=(1800, 40, 20, 10), chunksize=(1, 40, 20, 10)>\n",
       "    ADVrTr03  (time, Zl, YC, XC) float32 dask.array<shape=(1800, 40, 20, 10), chunksize=(1, 40, 20, 10)>\n",
       "    DFxETr03  (time, Z, YC, XG) float32 dask.array<shape=(1800, 40, 20, 10), chunksize=(1, 40, 20, 10)>\n",
       "    DFyETr03  (time, Z, YG, XC) float32 dask.array<shape=(1800, 40, 20, 10), chunksize=(1, 40, 20, 10)>\n",
       "    DFrETr03  (time, Zl, YC, XC) float32 dask.array<shape=(1800, 40, 20, 10), chunksize=(1, 40, 20, 10)>\n",
       "    DFrITr03  (time, Zl, YC, XC) float32 dask.array<shape=(1800, 40, 20, 10), chunksize=(1, 40, 20, 10)>\n",
       "    KPPgTr03  (time, Zl, YC, XC) float32 dask.array<shape=(1800, 40, 20, 10), chunksize=(1, 40, 20, 10)>\n",
       "    FeTbgc    (time, Z, YC, XC) float32 dask.array<shape=(1800, 40, 20, 10), chunksize=(1, 40, 20, 10)>"
      ]
     },
     "execution_count": 103,
     "metadata": {},
     "output_type": "execute_result"
    }
   ],
   "source": [
    "ds = open_mdsdataset(op.join(bdir,'100kmMLI_fmR1000diag'), \n",
    "                    grid_dir=op.join(bdir,'100km_grid'), \n",
    "                    iters=range(ts+18,te+18,18),\n",
    "                    prefix=['MOMtave','FeTtave','BIOtave',\n",
    "                           'KPPboundary'\n",
    "                           ], delta_t=dt\n",
    "                    )\n",
    "ds"
   ]
  },
  {
   "cell_type": "code",
   "execution_count": 106,
   "metadata": {},
   "outputs": [],
   "source": [
    "grid = Grid(ds, periodic=['X'])"
   ]
  },
  {
   "cell_type": "code",
   "execution_count": 113,
   "metadata": {},
   "outputs": [
    {
     "data": {
      "text/plain": [
       "<xarray.DataArray (day: 360, YC: 20)>\n",
       "array([[   0. , 2933.5,   30. , ...,   30. ,   30. ,   30. ],\n",
       "       [   0. , 2933.5,   30. , ...,   30. ,   30. ,   30. ],\n",
       "       [   0. , 2933.5,   30. , ...,   30. ,   30. ,   30. ],\n",
       "       ...,\n",
       "       [   0. , 2933.5,   30. , ...,   30. ,   30. ,   30. ],\n",
       "       [   0. , 2933.5,   30. , ...,   30. ,   30. ,   30. ],\n",
       "       [   0. , 2933.5,   30. , ...,   30. ,   30. ,   30. ]])\n",
       "Coordinates:\n",
       "  * YC       (YC) >f4 50000.0 150000.0 250000.0 350000.0 450000.0 550000.0 ...\n",
       "  * day      (day) int64 0 1 2 3 4 5 6 7 8 9 10 11 12 13 14 15 16 17 18 19 ..."
      ]
     },
     "execution_count": 113,
     "metadata": {},
     "output_type": "execute_result"
    }
   ],
   "source": [
    "hbl99 = xr.DataArray(np.percentile(ds.KPPhbl, 99, axis=-1), dims=['time','YC'],\n",
    "                    coords={'time':ds.time,'YC':ds.YC})\n",
    "hbl99.coords['day'] = ('time',np.tile(range(360),dy))\n",
    "hbl99.coords['seas'] = ('time',np.tile(np.repeat(range(4),90),dy))\n",
    "hbl99.coords['month'] = ('time',np.tile(np.repeat(range(12),30),dy))\n",
    "hbl99.to_dataset(name='hbl99').to_netcdf(op.join(bdir,'KPPhbl_99percentile_100kmMLI-02km_fmR1000.nc'))\n",
    "# hbl99 = xr.open_dataset(op.join(bdir,'KPPhbl_99percentile_20kmMLI-Ce007_Tau55-02km.nc'), \n",
    "#                         decode_times=False).hbl99\n",
    "with ProgressBar():\n",
    "    hbl99_day = hbl99.groupby('day').mean('time').compute()\n",
    "# #     hbl99_sea = hbl99.groupby('seas').mean('time').compute()\n",
    "# #     hbl99_mon = hbl99.groupby('month').mean('time').compute()\n",
    "hbl99_day"
   ]
  },
  {
   "cell_type": "code",
   "execution_count": 114,
   "metadata": {},
   "outputs": [
    {
     "data": {
      "text/plain": [
       "[<matplotlib.lines.Line2D at 0x7fd98015d7b8>]"
      ]
     },
     "execution_count": 114,
     "metadata": {},
     "output_type": "execute_result"
    },
    {
     "data": {
      "image/png": "[encoded data removed]",
      "text/plain": [
       "<Figure size 432x288 with 1 Axes>"
      ]
     },
     "metadata": {},
     "output_type": "display_data"
    }
   ],
   "source": [
    "(-hbl99).mean(['time']).plot()"
   ]
  },
  {
   "cell_type": "code",
   "execution_count": 107,
   "metadata": {},
   "outputs": [
    {
     "name": "stderr",
     "output_type": "stream",
     "text": [
      "/home/takaya/xmitgcm/xmitgcm/utils.py:314: UserWarning: Not sure what to do with rlev = L\n",
      "  warnings.warn(\"Not sure what to do with rlev = \" + rlev)\n",
      "/home/takaya/xmitgcm/xmitgcm/mds_store.py:235: FutureWarning: iteration over an xarray.Dataset will change in xarray v0.11 to only include data variables, not coordinates. Iterate over the Dataset.variables property instead to preserve existing behavior in a forwards compatible manner.\n",
      "  for vname in ds:\n"
     ]
    },
    {
     "name": "stdout",
     "output_type": "stream",
     "text": [
      "<xarray.DataArray 'W' (time: 120, Zl: 40, YC: 20, XC: 10)>\n",
      "dask.array<shape=(120, 40, 20, 10), dtype=float32, chunksize=(1, 40, 20, 10)>\n",
      "Coordinates:\n",
      "  * XC       (XC) >f4 50000.0 150000.0 250000.0 350000.0 450000.0 550000.0 ...\n",
      "  * YC       (YC) >f4 50000.0 150000.0 250000.0 350000.0 450000.0 550000.0 ...\n",
      "  * Zl       (Zl) >f4 0.0 -10.0 -20.0 -30.0 -42.0 -56.0 -72.0 -91.0 -113.0 ...\n",
      "    rA       (YC, XC) >f4 dask.array<shape=(20, 10), chunksize=(20, 10)>\n",
      "    Depth    (YC, XC) >f4 dask.array<shape=(20, 10), chunksize=(20, 10)>\n",
      "    iter     (time) int64 dask.array<shape=(120,), chunksize=(1,)>\n",
      "  * time     (time) float64 1.026e+10 1.027e+10 1.027e+10 1.027e+10 ...\n",
      "Attributes:\n",
      "    standard_name:  sea_water_z_velocity\n",
      "    long_name:      Vertical Component of Velocity\n",
      "    units:          m s-1 <xarray.DataArray 'wVeltave' (time: 60, Zl: 40, YC: 20, XC: 10)>\n",
      "dask.array<shape=(60, 40, 20, 10), dtype=float32, chunksize=(1, 40, 20, 10)>\n",
      "Coordinates:\n",
      "  * XC       (XC) >f4 50000.0 150000.0 250000.0 350000.0 450000.0 550000.0 ...\n",
      "  * YC       (YC) >f4 50000.0 150000.0 250000.0 350000.0 450000.0 550000.0 ...\n",
      "  * Zl       (Zl) >f4 0.0 -10.0 -20.0 -30.0 -42.0 -56.0 -72.0 -91.0 -113.0 ...\n",
      "    rA       (YC, XC) >f4 dask.array<shape=(20, 10), chunksize=(20, 10)>\n",
      "    Depth    (YC, XC) >f4 dask.array<shape=(20, 10), chunksize=(20, 10)>\n",
      "    iter     (time) int64 dask.array<shape=(60,), chunksize=(1,)>\n",
      "  * time     (time) float64 1.027e+10 1.027e+10 1.027e+10 1.027e+10 ...\n",
      "Attributes:\n",
      "    standard_name:  sea_water_z_velocity\n",
      "    long_name:      Vertical Component of Velocity\n",
      "    units:          m s-1\n"
     ]
    }
   ],
   "source": [
    "dsnap = open_mdsdataset(op.join(bdir,'100kmMLI_fmR1000diag'), \n",
    "                       grid_dir=op.join(bdir,'100km_grid'), iters=range(ts,te,270),\n",
    "                       prefix=['W','PTRACER03',\n",
    "#                               'PTRACER26'\n",
    "                              ], delta_t=dt\n",
    "                       )\n",
    "dsmon = open_mdsdataset(op.join(bdir,'100kmMLI_fmR1000diag'), \n",
    "                       grid_dir=op.join(bdir,'100km_grid'), iters=range(ts+540,te+540,540),\n",
    "                       prefix=['wVeltave','PTRtave03',\n",
    "#                               'PTRtave26'\n",
    "                              ], delta_t=dt\n",
    "                       )\n",
    "wsp = dsnap.W\n",
    "Fesp = dsnap.PTRACER03\n",
    "# POCsp = dsnap.PTRACER26\n",
    "wm = dsmon.wVeltave\n",
    "Fem = dsmon.PTRtave03\n",
    "# POCm = dsmon.PTRtave26\n",
    "print(wsp,wm)"
   ]
  },
  {
   "cell_type": "code",
   "execution_count": 108,
   "metadata": {},
   "outputs": [],
   "source": [
    "diff = ds.DFrITr03+ds.DFrETr03\n",
    "advW = ds.ADVrTr03\n",
    "dfz_cons = diff/(ds.rA)\n",
    "adz_cons = advW/(ds.rA)\n",
    "dfz_cons.coords['day'] = ('time',np.tile(range(360),dy))\n",
    "adz_cons.coords['day'] = ('time',np.tile(range(360),dy))\n",
    "wsp.coords['seas'] = ('time',np.tile(np.repeat(range(4),6),dy))\n",
    "Fesp.coords['seas'] = ('time',np.tile(np.repeat(range(4),6),dy))\n",
    "wm.coords['seas'] = ('time',np.tile(np.repeat(range(4),3),dy))\n",
    "Fem.coords['seas'] = ('time',np.tile(np.repeat(range(4),3),dy))\n",
    "# POCsp.coords['seas'] = ('time',np.tile(np.repeat(range(4),6),dy))\n",
    "# POCm.coords['seas'] = ('time',np.tile(np.repeat(range(4),3),dy))\n",
    "wp = wsp.groupby('seas') - wm.groupby('seas').mean(['time','XC'])\n",
    "Fep = Fesp.groupby('seas') - Fem.groupby('seas').mean(['time','XC'])\n",
    "# POCp = POCsp.groupby('seas') - POCm.groupby('seas').mean(['time','XC'])"
   ]
  },
  {
   "cell_type": "code",
   "execution_count": 109,
   "metadata": {},
   "outputs": [
    {
     "name": "stdout",
     "output_type": "stream",
     "text": [
      "[########################################] | 100% Completed | 14.9s\n",
      "[########################################] | 100% Completed |  3.0s\n"
     ]
    }
   ],
   "source": [
    "wpFep = wp*grid.interp(Fep,'Z',boundary='fill')\n",
    "wpFep.coords['day'] = ('time',np.tile(range(24),dy))\n",
    "with ProgressBar():\n",
    "    dfz_c = dfz_cons.sel(YC=slice(6e5,14e5)).groupby('day').mean(['time','YC','XC']).compute()\n",
    "#     adz_c = adz_cons.sel(YC=slice(6e5,14e5)).groupby('day').mean(['time','YC','XC']).compute()\n",
    "    wpFep_d = wpFep.sel(YC=slice(6e5,14e5)).groupby('day').mean(['time','YC','XC']).compute()"
   ]
  },
  {
   "cell_type": "code",
   "execution_count": 112,
   "metadata": {},
   "outputs": [
    {
     "name": "stderr",
     "output_type": "stream",
     "text": [
      "/home/takaya/xmitgcm/xmitgcm/utils.py:314: UserWarning: Not sure what to do with rlev = L\n",
      "  warnings.warn(\"Not sure what to do with rlev = \" + rlev)\n",
      "/home/takaya/xmitgcm/xmitgcm/mds_store.py:235: FutureWarning: iteration over an xarray.Dataset will change in xarray v0.11 to only include data variables, not coordinates. Iterate over the Dataset.variables property instead to preserve existing behavior in a forwards compatible manner.\n",
      "  for vname in ds:\n"
     ]
    },
    {
     "data": {
      "text/plain": [
       "<xarray.Dataset>\n",
       "Dimensions:  (XC: 10, XG: 10, YC: 20, YG: 20, Z: 40, Zl: 40, Zp1: 41, Zu: 40, time: 120)\n",
       "Coordinates:\n",
       "  * XC       (XC) >f4 50000.0 150000.0 250000.0 350000.0 450000.0 550000.0 ...\n",
       "  * YC       (YC) >f4 50000.0 150000.0 250000.0 350000.0 450000.0 550000.0 ...\n",
       "  * XG       (XG) >f4 0.0 100000.0 200000.0 300000.0 400000.0 500000.0 ...\n",
       "  * YG       (YG) >f4 0.0 100000.0 200000.0 300000.0 400000.0 500000.0 ...\n",
       "  * Z        (Z) >f4 -5.0 -15.0 -25.0 -36.0 -49.0 -64.0 -81.5 -102.0 -126.0 ...\n",
       "  * Zp1      (Zp1) >f4 0.0 -10.0 -20.0 -30.0 -42.0 -56.0 -72.0 -91.0 -113.0 ...\n",
       "  * Zu       (Zu) >f4 -10.0 -20.0 -30.0 -42.0 -56.0 -72.0 -91.0 -113.0 ...\n",
       "  * Zl       (Zl) >f4 0.0 -10.0 -20.0 -30.0 -42.0 -56.0 -72.0 -91.0 -113.0 ...\n",
       "    rA       (YC, XC) >f4 dask.array<shape=(20, 10), chunksize=(20, 10)>\n",
       "    dxG      (YG, XC) >f4 dask.array<shape=(20, 10), chunksize=(20, 10)>\n",
       "    dyG      (YC, XG) >f4 dask.array<shape=(20, 10), chunksize=(20, 10)>\n",
       "    Depth    (YC, XC) >f4 dask.array<shape=(20, 10), chunksize=(20, 10)>\n",
       "    rAz      (YG, XG) >f4 dask.array<shape=(20, 10), chunksize=(20, 10)>\n",
       "    dxC      (YC, XG) >f4 dask.array<shape=(20, 10), chunksize=(20, 10)>\n",
       "    dyC      (YG, XC) >f4 dask.array<shape=(20, 10), chunksize=(20, 10)>\n",
       "    rAw      (YC, XG) >f4 dask.array<shape=(20, 10), chunksize=(20, 10)>\n",
       "    rAs      (YG, XC) >f4 dask.array<shape=(20, 10), chunksize=(20, 10)>\n",
       "    drC      (Zp1) float64 dask.array<shape=(41,), chunksize=(41,)>\n",
       "    drF      (Z) >f4 dask.array<shape=(40,), chunksize=(40,)>\n",
       "    PHrefC   (Z) >f4 dask.array<shape=(40,), chunksize=(40,)>\n",
       "    PHrefF   (Zp1) >f4 dask.array<shape=(41,), chunksize=(41,)>\n",
       "    hFacC    (Z, YC, XC) >f4 dask.array<shape=(40, 20, 10), chunksize=(40, 20, 10)>\n",
       "    hFacW    (Z, YC, XG) >f4 dask.array<shape=(40, 20, 10), chunksize=(40, 20, 10)>\n",
       "    hFacS    (Z, YG, XC) >f4 dask.array<shape=(40, 20, 10), chunksize=(40, 20, 10)>\n",
       "    iter     (time) int64 dask.array<shape=(120,), chunksize=(1,)>\n",
       "  * time     (time) float64 1.026e+10 1.027e+10 1.027e+10 1.027e+10 ...\n",
       "Data variables:\n",
       "    GM_PsiX  (time, Zl, YC, XG) float32 dask.array<shape=(120, 40, 20, 10), chunksize=(1, 40, 20, 10)>\n",
       "    GM_PsiY  (time, Zl, YG, XC) float32 dask.array<shape=(120, 40, 20, 10), chunksize=(1, 40, 20, 10)>"
      ]
     },
     "execution_count": 112,
     "metadata": {},
     "output_type": "execute_result"
    }
   ],
   "source": [
    "dsGM = open_mdsdataset(op.join(bdir,'100kmMLI_fmR1000diag'),\n",
    "                      grid_dir=op.join(bdir,'100km_grid'), iters=range(ts,te,270),\n",
    "                      prefix=['GMpsi15D',\n",
    "                             ], delta_t=dt\n",
    "                      )\n",
    "dsGM"
   ]
  },
  {
   "cell_type": "code",
   "execution_count": 115,
   "metadata": {},
   "outputs": [
    {
     "name": "stderr",
     "output_type": "stream",
     "text": [
      "/home/takaya/xrft/xrft/xrft.py:272: FutureWarning: xarray.DataArray.__contains__ currently checks membership in DataArray.coords, but in xarray v0.11 will change to check membership in array values.\n",
      "  elif d in da:\n"
     ]
    },
    {
     "name": "stdout",
     "output_type": "stream",
     "text": [
      "[########################################] | 100% Completed |  0.1s\n",
      "[########################################] | 100% Completed |  0.1s\n",
      "[########################################] | 100% Completed |  0.1s\n",
      "[########################################] | 100% Completed |  4.7s\n"
     ]
    },
    {
     "data": {
      "text/plain": [
       "<xarray.DataArray (time: 120, Zl: 40, YC: 20, XC: 10)>\n",
       "array([[[[ 0.000000e+00, ...,  0.000000e+00],\n",
       "         ...,\n",
       "         [ 0.000000e+00, ...,  0.000000e+00]],\n",
       "\n",
       "        ...,\n",
       "\n",
       "        [[ 0.000000e+00, ...,  0.000000e+00],\n",
       "         ...,\n",
       "         [-1.537683e-22, ...,  1.625427e-22]]],\n",
       "\n",
       "\n",
       "       ...,\n",
       "\n",
       "\n",
       "       [[[ 0.000000e+00, ...,  0.000000e+00],\n",
       "         ...,\n",
       "         [ 0.000000e+00, ...,  0.000000e+00]],\n",
       "\n",
       "        ...,\n",
       "\n",
       "        [[ 0.000000e+00, ...,  0.000000e+00],\n",
       "         ...,\n",
       "         [-1.566334e-22, ...,  1.605094e-22]]]])\n",
       "Coordinates:\n",
       "  * time     (time) float64 1.026e+10 1.027e+10 1.027e+10 1.027e+10 ...\n",
       "  * Zl       (Zl) >f4 0.0 -10.0 -20.0 -30.0 -42.0 -56.0 -72.0 -91.0 -113.0 ...\n",
       "  * YC       (YC) >f4 50000.0 150000.0 250000.0 350000.0 450000.0 550000.0 ...\n",
       "  * XC       (XC) >f4 50000.0 150000.0 250000.0 350000.0 450000.0 550000.0 ..."
      ]
     },
     "execution_count": 115,
     "metadata": {},
     "output_type": "execute_result"
    }
   ],
   "source": [
    "gridGM = Grid(dsGM, periodic=['X'])\n",
    "Psiyk = xrft.dft(dsGM.GM_PsiY, dim=['XC'], shift=False)\n",
    "Psiy_x = dsar.fft.ifft((Psiyk*1j*2*np.pi*Psiyk.freq_XC).data, axis=-1).compute()\n",
    "Psiy_x = gridGM.interp(xr.DataArray(Psiy_x.real, dims=dsGM.GM_PsiY.dims, coords=dsGM.GM_PsiY.coords),\n",
    "                      'Y', boundary='fill')\n",
    "with ProgressBar():\n",
    "    wGM = (Psiy_x - gridGM.interp(gridGM.interp(gridGM.diff(dsGM.GM_PsiX*dsGM.dxC,'Y',boundary='fill')\n",
    "                                               / dsGM.rAz,\n",
    "                                               'Y',boundary='fill'),\n",
    "                                 'X')\n",
    "          ).compute()\n",
    "wGM"
   ]
  },
  {
   "cell_type": "code",
   "execution_count": 118,
   "metadata": {},
   "outputs": [
    {
     "name": "stdout",
     "output_type": "stream",
     "text": [
      "[########################################] | 100% Completed |  2.0s\n"
     ]
    },
    {
     "data": {
      "text/plain": [
       "<xarray.DataArray (day: 24, Zl: 40)>\n",
       "array([[ 0.000000e+00,  3.269743e-28,  3.557881e-28, ...,  5.246065e-32,\n",
       "        -1.472229e-30,  3.895495e-29],\n",
       "       [ 0.000000e+00,  2.457812e-28,  2.683803e-28, ...,  7.327837e-32,\n",
       "        -1.543009e-30,  3.985594e-29],\n",
       "       [ 0.000000e+00,  1.989412e-28,  2.161544e-28, ..., -6.983207e-23,\n",
       "        -3.256840e-23,  4.013157e-29],\n",
       "       ...,\n",
       "       [ 0.000000e+00, -2.587591e-28, -2.113350e-28, ...,  7.910733e-32,\n",
       "        -1.101674e-30,  3.534682e-29],\n",
       "       [ 0.000000e+00,  1.039500e-28,  1.131621e-28, ..., -1.240878e-22,\n",
       "        -1.218253e-30,  3.630360e-29],\n",
       "       [ 0.000000e+00,  3.650989e-28,  3.954498e-28, ...,  4.996253e-32,\n",
       "         5.707681e-22,  3.760013e-29]])\n",
       "Coordinates:\n",
       "  * Zl       (Zl) >f4 0.0 -10.0 -20.0 -30.0 -42.0 -56.0 -72.0 -91.0 -113.0 ...\n",
       "  * day      (day) int64 0 1 2 3 4 5 6 7 8 9 10 11 12 13 14 15 16 17 18 19 ..."
      ]
     },
     "execution_count": 118,
     "metadata": {},
     "output_type": "execute_result"
    }
   ],
   "source": [
    "wGMFe_adv = wGM*grid.interp(Fesp,'Z',boundary='fill')\n",
    "wGMFe_adv.coords['day'] = ('time',np.tile(range(24),dy))\n",
    "with ProgressBar():\n",
    "    wGMFe_advd = wGMFe_adv.sel(YC=slice(6e5,14e5)).groupby('day').mean(['time','YC','XC']).compute()\n",
    "wGMFe_advd"
   ]
  },
  {
   "cell_type": "code",
   "execution_count": 120,
   "metadata": {},
   "outputs": [
    {
     "name": "stdout",
     "output_type": "stream",
     "text": [
      "[########################################] | 100% Completed | 13.7s\n"
     ]
    },
    {
     "data": {
      "text/plain": [
       "<xarray.DataArray 'TRAC03' (day: 360, Z: 40)>\n",
       "array([[3.429686e-06, 3.402950e-06, 3.380198e-06, ..., 2.393328e-04,\n",
       "        2.404354e-04, 2.414382e-04],\n",
       "       [3.535343e-06, 3.508910e-06, 3.486158e-06, ..., 2.393319e-04,\n",
       "        2.404361e-04, 2.414429e-04],\n",
       "       [3.643385e-06, 3.617279e-06, 3.594594e-06, ..., 2.393311e-04,\n",
       "        2.404369e-04, 2.414477e-04],\n",
       "       ...,\n",
       "       [3.128503e-06, 3.100509e-06, 3.077802e-06, ..., 2.389915e-04,\n",
       "        2.400879e-04, 2.410772e-04],\n",
       "       [3.224618e-06, 3.197052e-06, 3.174221e-06, ..., 2.389905e-04,\n",
       "        2.400884e-04, 2.410816e-04],\n",
       "       [3.324016e-06, 3.296863e-06, 3.274007e-06, ..., 2.389896e-04,\n",
       "        2.400889e-04, 2.410862e-04]], dtype=float32)\n",
       "Coordinates:\n",
       "  * Z        (Z) >f4 -5.0 -15.0 -25.0 -36.0 -49.0 -64.0 -81.5 -102.0 -126.0 ...\n",
       "    drF      (Z) >f4 10.0 10.0 10.0 12.0 14.0 16.0 19.0 22.0 26.0 30.0 36.0 ...\n",
       "    PHrefC   (Z) >f4 49.05 147.15 245.25 353.16 480.69 627.84 799.515 ...\n",
       "  * day      (day) int64 0 1 2 3 4 5 6 7 8 9 10 11 12 13 14 15 16 17 18 19 ..."
      ]
     },
     "execution_count": 120,
     "metadata": {},
     "output_type": "execute_result"
    }
   ],
   "source": [
    "Fe1D = ds.TRAC03\n",
    "Fe1D.coords['day'] = ('time',np.tile(np.roll(range(360),0),dy))\n",
    "with ProgressBar():\n",
    "    Fe_c = Fe1D.sel(YC=slice(6e5,14e5)).groupby('day').mean(['time','YC','XC']).compute()\n",
    "Fe_c"
   ]
  },
  {
   "cell_type": "code",
   "execution_count": 122,
   "metadata": {},
   "outputs": [
    {
     "name": "stderr",
     "output_type": "stream",
     "text": [
      "/home/takaya/miniconda3/envs/uptodate/lib/python3.6/site-packages/matplotlib/figure.py:2299: UserWarning: This figure includes Axes that are not compatible with tight_layout, so results might be incorrect.\n",
      "  warnings.warn(\"This figure includes Axes that are not compatible \"\n"
     ]
    },
    {
     "data": {
      "image/png": "[encoded data removed]",
      "text/plain": [
       "<Figure size 1008x288 with 6 Axes>"
      ]
     },
     "metadata": {},
     "output_type": "display_data"
    }
   ],
   "source": [
    "month = ['J','F','M','A','M','J','J','A','S','O','N','D']\n",
    "\n",
    "fig, (ax1,ax2,ax3) = plt.subplots(nrows=1, ncols=3, figsize=(14,4))\n",
    "fig.set_tight_layout(True)\n",
    "im1 = ax1.contourf(range(0,346,15), wpFep_d.Zl, wpFep_d.roll(day=-12).T*1e3*360*86400, \n",
    "                  levels=np.linspace(-.9,.9,20), \n",
    "                   cmap='RdBu_r', extend='both')\n",
    "ax1.contourf(range(14,360,15), wpFep_d.Zl, wpFep_d.roll(day=-13).T*1e3*360*86400, \n",
    "            levels=np.linspace(-.9,.9,20), \n",
    "             cmap='RdBu_r', extend='both')\n",
    "im2 = ax2.contourf(range(0,346,15), wGMFe_advd.Zl, wGMFe_advd.roll(day=-12).T*1e3*360*86400,\n",
    "                  levels=1e-0*np.linspace(-.1,.1,20), \n",
    "                  extend='both', cmap='RdBu_r')\n",
    "ax2.contourf(range(14,360,15), wGMFe_advd.Zl, wGMFe_advd.roll(day=-13).T*1e3*360*86400,\n",
    "            levels=1e-0*np.linspace(-.1,.1,20), \n",
    "            extend='both', cmap='RdBu_r')\n",
    "# im3 = ax3.contourf(range(360), Fe_c.Z, Fe_c.roll(day=-180).T*1e3, \n",
    "#                   levels=np.linspace(0,.3,11), cmap='OrRd', extend='max')\n",
    "im3 = ax3.contourf(range(360), dfz_c.Zl, dfz_c.T.roll(day=-180)*1e3*(360*86400), \n",
    "                  levels=np.linspace(-36,36,20), \n",
    "                  cmap='RdBu_r', extend='both')\n",
    "ax1.plot(range(360), -hbl99_day.sel(YC=slice(6e5,14e5)).mean(['YC']).roll(day=-180), \n",
    "       ls=':', lw=3, color='k')\n",
    "ax2.plot(range(360), -hbl99_day.sel(YC=slice(6e5,14e5)).mean(['YC']).roll(day=-180), \n",
    "       ls=':', lw=3, color='k')\n",
    "ax3.plot(range(360), -hbl99_day.sel(YC=slice(6e5,14e5)).mean(['YC']).roll(day=-180), \n",
    "       ls=':', lw=3, color='k')\n",
    "ax1.set_title(r\"w'Fe'\", fontsize=15)\n",
    "ax2.set_title(r\"w$_{GM}$Fe\", fontsize=15)\n",
    "ax3.set_title(r\"F$_{diff}$\", fontsize=15)\n",
    "ax1.set_ylabel(r\"Depth [m]\", fontsize=12)\n",
    "ax2.set_xlabel(r\"Month\", fontsize=12)\n",
    "ax1.set_xticks(np.linspace(14,344,12))\n",
    "ax1.set_xticklabels(np.roll(np.array(month),-6), fontsize=12)\n",
    "ax1.set_ylim([-400,0])\n",
    "ax2.set_xticks(np.linspace(14,344,12))\n",
    "ax2.set_xticklabels(np.roll(np.array(month),-6), fontsize=12)\n",
    "ax2.set_ylim([-400,0])\n",
    "ax3.set_xticks(np.linspace(14,344,12))\n",
    "ax3.set_xticklabels(np.roll(np.array(month),-6), fontsize=12)\n",
    "ax3.set_ylim([-400,0])\n",
    "# fig.colorbar(im1, ax=ax1, ticks=[-10,-7.5,-5.,-2.5,0,2.5,5.,7.5,10])\n",
    "# fig.colorbar(im2, ax=ax2, ticks=[-.8,-.6,-.4,-.2,0,.2,.4,.6,.8])\n",
    "# cbar = fig.colorbar(im3, ax=ax3, ticks=[0,6,12,18,24,30])\n",
    "# fig.subplots_adjust(right=0.85)\n",
    "# cbar_ax = fig.add_axes([0.88, 0.16, 0.014, 0.68])\n",
    "# cbar = fig.colorbar(im3, cax=cbar_ax, ticks=[-10,-8,-6,-4,-2,0,2,4,6,8,10])\n",
    "# cbar.set_label(r'[$\\mu$mol Fe m$^{-2}$ yr$^{-1}$]', fontsize=12)\n",
    "cbar1 = fig.colorbar(im1, ax=ax1, \n",
    "                    ticks=[-.9,-.6,-.3,0,.3,.6,.9]\n",
    "                    )\n",
    "cbar2 = fig.colorbar(im2, ax=ax2, \n",
    "                    ticks=[-.1,-.75,-.5,-.25,0,.25,.5,.75,.1]\n",
    "                    )\n",
    "cbar3 = fig.colorbar(im3, ax=ax3, \n",
    "                    ticks=[-36,-27,-18,-9,0,9,18,27,36]\n",
    "                    )\n",
    "cbar1.set_label(r\"[$\\mu$mol Fe m$^{-2}$ yr$^{-1}$]\", fontsize=12)\n",
    "cbar2.set_label(r\"[$\\mu$mol Fe m$^{-2}$ yr$^{-1}$]\", fontsize=12)\n",
    "cbar3.set_label(r\"[$\\mu$mol Fe m$^{-2}$ yr$^{-1}$]\", fontsize=12)\n",
    "# plt.savefig(op.join(bdir,'Figures/VerticalFeflux_20kmMLI-02km_fm200.pdf'))"
   ]
  },
  {
   "cell_type": "code",
   "execution_count": null,
   "metadata": {},
   "outputs": [],
   "source": []
  }
 ],
 "metadata": {
  "kernelspec": {
   "display_name": "Python 3 (uptodate)",
   "language": "python",
   "name": "uptodate"
  },
  "language_info": {
   "codemirror_mode": {
    "name": "ipython",
    "version": 3
   },
   "file_extension": ".py",
   "mimetype": "text/x-python",
   "name": "python",
   "nbconvert_exporter": "python",
   "pygments_lexer": "ipython3",
   "version": "3.6.7"
  }
 },
 "nbformat": 4,
 "nbformat_minor": 2
}
