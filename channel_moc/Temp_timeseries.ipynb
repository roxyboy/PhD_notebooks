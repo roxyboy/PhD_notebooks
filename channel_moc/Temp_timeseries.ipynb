{
 "cells": [
  {
   "cell_type": "code",
   "execution_count": 5,
   "metadata": {},
   "outputs": [],
   "source": [
    "import numpy as np\n",
    "import xarray as xr\n",
    "from xmitgcm import open_mdsdataset\n",
    "from scipy.interpolate import interp2d\n",
    "import os.path as op\n",
    "import matplotlib.pyplot as plt\n",
    "%matplotlib inline"
   ]
  },
  {
   "cell_type": "code",
   "execution_count": 2,
   "metadata": {},
   "outputs": [],
   "source": [
    "ddir = '/swot/SUM05/takaya/MITgcm/channel/runs'"
   ]
  },
  {
   "cell_type": "code",
   "execution_count": 3,
   "metadata": {},
   "outputs": [
    {
     "name": "stdout",
     "output_type": "stream",
     "text": [
      "2073888 3110688\n"
     ]
    },
    {
     "name": "stderr",
     "output_type": "stream",
     "text": [
      "/home/takaya/xmitgcm/xmitgcm/utils.py:314: UserWarning: Not sure what to do with rlev = L\n",
      "  warnings.warn(\"Not sure what to do with rlev = \" + rlev)\n",
      "/home/takaya/xmitgcm/xmitgcm/utils.py:314: UserWarning: Not sure what to do with rlev = X\n",
      "  warnings.warn(\"Not sure what to do with rlev = \" + rlev)\n",
      "/home/takaya/xmitgcm/xmitgcm/mds_store.py:235: FutureWarning: iteration over an xarray.Dataset will change in xarray v0.11 to only include data variables, not coordinates. Iterate over the Dataset.variables property instead to preserve existing behavior in a forwards compatible manner.\n",
      "  for vname in ds:\n"
     ]
    },
    {
     "data": {
      "text/plain": [
       "<xarray.Dataset>\n",
       "Dimensions:  (XC: 200, XG: 200, YC: 400, YG: 400, Z: 76, Zl: 76, Zp1: 77, Zu: 76, time: 120)\n",
       "Coordinates:\n",
       "  * XC       (XC) >f4 2500.0 7500.0 12500.0 17500.0 22500.0 27500.0 32500.0 ...\n",
       "  * YC       (YC) >f4 2500.0 7500.0 12500.0 17500.0 22500.0 27500.0 32500.0 ...\n",
       "  * XG       (XG) >f4 0.0 5000.0 10000.0 15000.0 20000.0 25000.0 30000.0 ...\n",
       "  * YG       (YG) >f4 0.0 5000.0 10000.0 15000.0 20000.0 25000.0 30000.0 ...\n",
       "  * Z        (Z) >f4 -0.5 -1.57 -2.79 -4.185 -5.78 -7.595 -9.66 -12.01 ...\n",
       "  * Zp1      (Zp1) >f4 0.0 -1.0 -2.14 -3.44 -4.93 -6.63 -8.56 -10.76 -13.26 ...\n",
       "  * Zu       (Zu) >f4 -1.0 -2.14 -3.44 -4.93 -6.63 -8.56 -10.76 -13.26 -16.1 ...\n",
       "  * Zl       (Zl) >f4 0.0 -1.0 -2.14 -3.44 -4.93 -6.63 -8.56 -10.76 -13.26 ...\n",
       "    rA       (YC, XC) >f4 dask.array<shape=(400, 200), chunksize=(400, 200)>\n",
       "    dxG      (YG, XC) >f4 dask.array<shape=(400, 200), chunksize=(400, 200)>\n",
       "    dyG      (YC, XG) >f4 dask.array<shape=(400, 200), chunksize=(400, 200)>\n",
       "    Depth    (YC, XC) >f4 dask.array<shape=(400, 200), chunksize=(400, 200)>\n",
       "    rAz      (YG, XG) >f4 dask.array<shape=(400, 200), chunksize=(400, 200)>\n",
       "    dxC      (YC, XG) >f4 dask.array<shape=(400, 200), chunksize=(400, 200)>\n",
       "    dyC      (YG, XC) >f4 dask.array<shape=(400, 200), chunksize=(400, 200)>\n",
       "    rAw      (YC, XG) >f4 dask.array<shape=(400, 200), chunksize=(400, 200)>\n",
       "    rAs      (YG, XC) >f4 dask.array<shape=(400, 200), chunksize=(400, 200)>\n",
       "    drC      (Zp1) >f4 dask.array<shape=(77,), chunksize=(77,)>\n",
       "    drF      (Z) >f4 dask.array<shape=(76,), chunksize=(76,)>\n",
       "    PHrefC   (Z) >f4 dask.array<shape=(76,), chunksize=(76,)>\n",
       "    PHrefF   (Zp1) >f4 dask.array<shape=(77,), chunksize=(77,)>\n",
       "    hFacC    (Z, YC, XC) >f4 dask.array<shape=(76, 400, 200), chunksize=(76, 400, 200)>\n",
       "    hFacW    (Z, YC, XG) >f4 dask.array<shape=(76, 400, 200), chunksize=(76, 400, 200)>\n",
       "    hFacS    (Z, YG, XC) >f4 dask.array<shape=(76, 400, 200), chunksize=(76, 400, 200)>\n",
       "    iter     (time) int64 dask.array<shape=(120,), chunksize=(1,)>\n",
       "  * time     (time) float64 6.247e+08 6.273e+08 6.299e+08 6.324e+08 6.35e+08 ...\n",
       "Data variables:\n",
       "    Ttave    (time, Z, YC, XC) float32 dask.array<shape=(120, 76, 400, 200), chunksize=(1, 76, 400, 200)>"
      ]
     },
     "execution_count": 3,
     "metadata": {},
     "output_type": "execute_result"
    }
   ],
   "source": [
    "ys, dy = (20,10)\n",
    "dt = 3e2\n",
    "ts = int(360*86400*ys/dt+288)\n",
    "te = int(360*86400*(ys+dy)/dt+288)\n",
    "print(ts,te)\n",
    "ds = open_mdsdataset(op.join(ddir,'deepML-2mon_5kmTtave'), grid_dir=op.join(ddir,'5km_grid'),\n",
    "                     iters=range(ts-288+8640,te,8640),\n",
    "                     prefix=['Ttave'], delta_t=dt\n",
    "                    )\n",
    "ds"
   ]
  },
  {
   "cell_type": "code",
   "execution_count": 4,
   "metadata": {},
   "outputs": [
    {
     "data": {
      "text/plain": [
       "<matplotlib.collections.QuadMesh at 0x7f440c9f1e80>"
      ]
     },
     "execution_count": 4,
     "metadata": {},
     "output_type": "execute_result"
    },
    {
     "data": {
      "image/png": "[encoded data removed]",
      "text/plain": [
       "<matplotlib.figure.Figure at 0x7f440c902240>"
      ]
     },
     "metadata": {},
     "output_type": "display_data"
    }
   ],
   "source": [
    "Tclim = ds.Ttave.mean(['time','XC'])\n",
    "Tclim.plot()"
   ]
  },
  {
   "cell_type": "code",
   "execution_count": 6,
   "metadata": {},
   "outputs": [],
   "source": [
    "Tclim.to_dataset(name='theta').to_netcdf(op.join(ddir,'ZeroRes_temp_5km_20-29yrs.nc'))"
   ]
  },
  {
   "cell_type": "code",
   "execution_count": null,
   "metadata": {},
   "outputs": [],
   "source": []
  }
 ],
 "metadata": {
  "kernelspec": {
   "display_name": "Python 3 (uptodate)",
   "language": "python",
   "name": "uptodate"
  },
  "language_info": {
   "codemirror_mode": {
    "name": "ipython",
    "version": 3
   },
   "file_extension": ".py",
   "mimetype": "text/x-python",
   "name": "python",
   "nbconvert_exporter": "python",
   "pygments_lexer": "ipython3",
   "version": "3.6.4"
  }
 },
 "nbformat": 4,
 "nbformat_minor": 2
}
