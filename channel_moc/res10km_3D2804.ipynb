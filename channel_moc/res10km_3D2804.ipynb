{
 "cells": [
  {
   "cell_type": "code",
   "execution_count": 2,
   "metadata": {
    "collapsed": true
   },
   "outputs": [],
   "source": [
    "import numpy as np\n",
    "import xarray as xr\n",
    "import os.path as op\n",
    "import xgcm.grid as xgd\n",
    "from xmitgcm import open_mdsdataset\n",
    "import matplotlib.pyplot as plt\n",
    "%matplotlib inline"
   ]
  },
  {
   "cell_type": "code",
   "execution_count": 3,
   "metadata": {
    "collapsed": true
   },
   "outputs": [],
   "source": [
    "ddir = '/swot/SUM05/takaya/MITgcm/channel/runs/res10km_2804/'"
   ]
  },
  {
   "cell_type": "code",
   "execution_count": 6,
   "metadata": {},
   "outputs": [
    {
     "name": "stderr",
     "output_type": "stream",
     "text": [
      "/home/takaya/xmitgcm/xmitgcm/utils.py:314: UserWarning: Not sure what to do with rlev = L\n",
      "  warnings.warn(\"Not sure what to do with rlev = \" + rlev)\n",
      "/home/takaya/xmitgcm/xmitgcm/mds_store.py:235: FutureWarning: iteration over an xarray.Dataset will change in xarray v0.11 to only include data variables, not coordinates. Iterate over the Dataset.variables property instead to preserve existing behavior in a forwards compatible manner.\n",
      "  for vname in ds:\n"
     ]
    },
    {
     "data": {
      "text/plain": [
       "<xarray.Dataset>\n",
       "Dimensions:   (XC: 100, XG: 100, YC: 200, YG: 200, Z: 40, Zl: 40, Zp1: 41, Zu: 40, time: 3950)\n",
       "Coordinates:\n",
       "  * XC        (XC) >f4 5000.0 15000.0 25000.0 35000.0 45000.0 55000.0 ...\n",
       "  * YC        (YC) >f4 5000.0 15000.0 25000.0 35000.0 45000.0 55000.0 ...\n",
       "  * XG        (XG) >f4 0.0 10000.0 20000.0 30000.0 40000.0 50000.0 60000.0 ...\n",
       "  * YG        (YG) >f4 0.0 10000.0 20000.0 30000.0 40000.0 50000.0 60000.0 ...\n",
       "  * Z         (Z) >f4 -5.0 -15.0 -25.0 -36.0 -49.0 -64.0 -81.5 -102.0 -126.0 ...\n",
       "  * Zp1       (Zp1) >f4 0.0 -10.0 -20.0 -30.0 -42.0 -56.0 -72.0 -91.0 -113.0 ...\n",
       "  * Zu        (Zu) >f4 -10.0 -20.0 -30.0 -42.0 -56.0 -72.0 -91.0 -113.0 ...\n",
       "  * Zl        (Zl) >f4 0.0 -10.0 -20.0 -30.0 -42.0 -56.0 -72.0 -91.0 -113.0 ...\n",
       "    rA        (YC, XC) >f4 dask.array<shape=(200, 100), chunksize=(200, 100)>\n",
       "    dxG       (YG, XC) >f4 dask.array<shape=(200, 100), chunksize=(200, 100)>\n",
       "    dyG       (YC, XG) >f4 dask.array<shape=(200, 100), chunksize=(200, 100)>\n",
       "    Depth     (YC, XC) >f4 dask.array<shape=(200, 100), chunksize=(200, 100)>\n",
       "    rAz       (YG, XG) >f4 dask.array<shape=(200, 100), chunksize=(200, 100)>\n",
       "    dxC       (YC, XG) >f4 dask.array<shape=(200, 100), chunksize=(200, 100)>\n",
       "    dyC       (YG, XC) >f4 dask.array<shape=(200, 100), chunksize=(200, 100)>\n",
       "    rAw       (YC, XG) >f4 dask.array<shape=(200, 100), chunksize=(200, 100)>\n",
       "    rAs       (YG, XC) >f4 dask.array<shape=(200, 100), chunksize=(200, 100)>\n",
       "    drC       (Zp1) float64 dask.array<shape=(41,), chunksize=(41,)>\n",
       "    drF       (Z) >f4 dask.array<shape=(40,), chunksize=(40,)>\n",
       "    PHrefC    (Z) >f4 dask.array<shape=(40,), chunksize=(40,)>\n",
       "    PHrefF    (Zp1) >f4 dask.array<shape=(41,), chunksize=(41,)>\n",
       "    hFacC     (Z, YC, XC) >f4 dask.array<shape=(40, 200, 100), chunksize=(40, 200, 100)>\n",
       "    hFacW     (Z, YC, XG) >f4 dask.array<shape=(40, 200, 100), chunksize=(40, 200, 100)>\n",
       "    hFacS     (Z, YG, XC) >f4 dask.array<shape=(40, 200, 100), chunksize=(40, 200, 100)>\n",
       "    iter      (time) int64 dask.array<shape=(3950,), chunksize=(1,)>\n",
       "  * time      (time) float64 1.556e+08 1.557e+08 1.558e+08 1.559e+08 ...\n",
       "Data variables:\n",
       "    TRAC03    (time, Z, YC, XC) float32 dask.array<shape=(3950, 40, 200, 100), chunksize=(1, 40, 200, 100)>\n",
       "    UTRAC03   (time, Z, YC, XG) float32 dask.array<shape=(3950, 40, 200, 100), chunksize=(1, 40, 200, 100)>\n",
       "    VTRAC03   (time, Z, YG, XC) float32 dask.array<shape=(3950, 40, 200, 100), chunksize=(1, 40, 200, 100)>\n",
       "    WTRAC03   (time, Z, YC, XC) float32 dask.array<shape=(3950, 40, 200, 100), chunksize=(1, 40, 200, 100)>\n",
       "    DFrITr03  (time, Zl, YC, XC) float32 dask.array<shape=(3950, 40, 200, 100), chunksize=(1, 40, 200, 100)>"
      ]
     },
     "execution_count": 6,
     "metadata": {},
     "output_type": "execute_result"
    }
   ],
   "source": [
    "dsFe = open_mdsdataset(ddir, grid_dir=op.join(ddir, '../'), \n",
    "                       iters=range(259344,828144,144),\n",
    "                       prefix=['FeT_tave'], delta_t=6e2\n",
    "                      )\n",
    "dsFe"
   ]
  },
  {
   "cell_type": "code",
   "execution_count": 7,
   "metadata": {},
   "outputs": [
    {
     "data": {
      "text/plain": [
       "<xgcm.Grid>\n",
       "X Axis (not periodic):\n",
       "  * center   XC (100) --> left\n",
       "  * left     XG (100) --> center\n",
       "Y Axis (not periodic):\n",
       "  * center   YC (200) --> left\n",
       "  * left     YG (200) --> center\n",
       "Z Axis (not periodic):\n",
       "  * center   Z (40) --> left\n",
       "  * left     Zl (40) --> center\n",
       "  * outer    Zp1 (41) --> center\n",
       "  * right    Zu (40) --> center\n",
       "T Axis (not periodic):\n",
       "  * center   time (3950)"
      ]
     },
     "execution_count": 7,
     "metadata": {},
     "output_type": "execute_result"
    }
   ],
   "source": [
    "grid = xgd.Grid(dsFe, periodic=['x'])\n",
    "grid"
   ]
  },
  {
   "cell_type": "code",
   "execution_count": 8,
   "metadata": {},
   "outputs": [
    {
     "data": {
      "text/plain": [
       "<xarray.DataArray 'TRAC03' (time: 3950, Z: 40, YC: 200, XC: 100)>\n",
       "dask.array<shape=(3950, 40, 200, 100), dtype=float32, chunksize=(1, 40, 200, 100)>\n",
       "Coordinates:\n",
       "  * XC       (XC) >f4 5000.0 15000.0 25000.0 35000.0 45000.0 55000.0 65000.0 ...\n",
       "  * YC       (YC) >f4 5000.0 15000.0 25000.0 35000.0 45000.0 55000.0 65000.0 ...\n",
       "  * Z        (Z) >f4 -5.0 -15.0 -25.0 -36.0 -49.0 -64.0 -81.5 -102.0 -126.0 ...\n",
       "    rA       (YC, XC) >f4 dask.array<shape=(200, 100), chunksize=(200, 100)>\n",
       "    Depth    (YC, XC) >f4 dask.array<shape=(200, 100), chunksize=(200, 100)>\n",
       "    drF      (Z) >f4 dask.array<shape=(40,), chunksize=(40,)>\n",
       "    PHrefC   (Z) >f4 dask.array<shape=(40,), chunksize=(40,)>\n",
       "    hFacC    (Z, YC, XC) >f4 dask.array<shape=(40, 200, 100), chunksize=(40, 200, 100)>\n",
       "    iter     (time) int64 dask.array<shape=(3950,), chunksize=(1,)>\n",
       "  * time     (time) float64 1.556e+08 1.557e+08 1.558e+08 1.559e+08 1.56e+08 ...\n",
       "Attributes:\n",
       "    standard_name:  TRAC03\n",
       "    long_name:      FeT concentration\n",
       "    units:          mM/m^3"
      ]
     },
     "execution_count": 8,
     "metadata": {},
     "output_type": "execute_result"
    }
   ],
   "source": [
    "fe = dsFe.TRAC03\n",
    "fe.attrs = dsFe.TRAC03.attrs\n",
    "fe"
   ]
  },
  {
   "cell_type": "code",
   "execution_count": 9,
   "metadata": {},
   "outputs": [
    {
     "data": {
      "text/plain": [
       "<xarray.DataArray (time: 3950, Zl: 39, YC: 200, XC: 100)>\n",
       "dask.array<shape=(3950, 39, 200, 100), dtype=float64, chunksize=(1, 39, 200, 100)>\n",
       "Coordinates:\n",
       "  * time     (time) float64 1.556e+08 1.557e+08 1.558e+08 1.559e+08 1.56e+08 ...\n",
       "  * Zl       (Zl) >f4 -10.0 -20.0 -30.0 -42.0 -56.0 -72.0 -91.0 -113.0 ...\n",
       "  * YC       (YC) >f4 5000.0 15000.0 25000.0 35000.0 45000.0 55000.0 65000.0 ...\n",
       "  * XC       (XC) >f4 5000.0 15000.0 25000.0 35000.0 45000.0 55000.0 65000.0 ..."
      ]
     },
     "execution_count": 9,
     "metadata": {},
     "output_type": "execute_result"
    }
   ],
   "source": [
    "dfedz = grid.diff(fe, 'Z', **{'boundary':'extend'}\n",
    "                 )[:,1:]/dsFe.drC[1:-1].data[np.newaxis,:,np.newaxis,np.newaxis]\n",
    "dfedz"
   ]
  },
  {
   "cell_type": "code",
   "execution_count": 10,
   "metadata": {
    "collapsed": true
   },
   "outputs": [],
   "source": [
    "dfedz.attrs['unit'] = 'mM m^-4'\n",
    "saveds = dfedz.to_dataset(name='dfedz')"
   ]
  },
  {
   "cell_type": "code",
   "execution_count": 11,
   "metadata": {
    "collapsed": true
   },
   "outputs": [],
   "source": [
    "nzFe = np.nanargmax(dfedz, axis=1)"
   ]
  },
  {
   "cell_type": "code",
   "execution_count": 12,
   "metadata": {},
   "outputs": [
    {
     "data": {
      "text/plain": [
       "<xarray.Dataset>\n",
       "Dimensions:      (XC: 100, YC: 200, Zl: 39, time: 3950)\n",
       "Coordinates:\n",
       "  * time         (time) float64 1.556e+08 1.557e+08 1.558e+08 1.559e+08 ...\n",
       "  * Zl           (Zl) >f4 -10.0 -20.0 -30.0 -42.0 -56.0 -72.0 -91.0 -113.0 ...\n",
       "  * YC           (YC) >f4 5000.0 15000.0 25000.0 35000.0 45000.0 55000.0 ...\n",
       "  * XC           (XC) >f4 5000.0 15000.0 25000.0 35000.0 45000.0 55000.0 ...\n",
       "Data variables:\n",
       "    dfedz        (time, Zl, YC, XC) float64 dask.array<shape=(3950, 39, 200, 100), chunksize=(1, 39, 200, 100)>\n",
       "    nzFerriCore  (time, YC, XC) int64 0 0 0 0 0 0 0 0 0 0 0 0 0 0 0 0 0 0 0 ..."
      ]
     },
     "execution_count": 12,
     "metadata": {},
     "output_type": "execute_result"
    }
   ],
   "source": [
    "saveds['nzFerriCore'] = xr.DataArray(nzFe,dims=['time','YC','XC'],\n",
    "                                    coords={'time':dfedz.time.data,\n",
    "                                           'YC':dfedz.YC.data,\n",
    "                                           'XC':dfedz.XC.data}\n",
    "                                    )\n",
    "saveds"
   ]
  },
  {
   "cell_type": "code",
   "execution_count": 13,
   "metadata": {
    "collapsed": true
   },
   "outputs": [],
   "source": [
    "saveds.to_netcdf(op.join(ddir,'Vertical-differentiation_Fe_6-15yr.nc'))"
   ]
  },
  {
   "cell_type": "code",
   "execution_count": 23,
   "metadata": {},
   "outputs": [
    {
     "data": {
      "text/plain": [
       "<xarray.DataArray (time: 3950, Z: 40, YC: 200, XC: 100)>\n",
       "dask.array<shape=(3950, 40, 200, 100), dtype=float32, chunksize=(1, 40, 200, 100)>\n",
       "Coordinates:\n",
       "  * XC       (XC) >f4 5000.0 15000.0 25000.0 35000.0 45000.0 55000.0 65000.0 ...\n",
       "  * YC       (YC) >f4 5000.0 15000.0 25000.0 35000.0 45000.0 55000.0 65000.0 ...\n",
       "  * Z        (Z) >f4 -5.0 -15.0 -25.0 -36.0 -49.0 -64.0 -81.5 -102.0 -126.0 ...\n",
       "    rA       (YC, XC) >f4 dask.array<shape=(200, 100), chunksize=(200, 100)>\n",
       "    Depth    (YC, XC) >f4 dask.array<shape=(200, 100), chunksize=(200, 100)>\n",
       "    drF      (Z) >f4 dask.array<shape=(40,), chunksize=(40,)>\n",
       "    PHrefC   (Z) >f4 dask.array<shape=(40,), chunksize=(40,)>\n",
       "    hFacC    (Z, YC, XC) >f4 dask.array<shape=(40, 200, 100), chunksize=(40, 200, 100)>\n",
       "    iter     (time) int64 dask.array<shape=(3950,), chunksize=(1,)>\n",
       "  * time     (time) float64 1.556e+08 1.557e+08 1.558e+08 1.559e+08 1.56e+08 ..."
      ]
     },
     "execution_count": 23,
     "metadata": {},
     "output_type": "execute_result"
    }
   ],
   "source": [
    "temporary = fe * dsFe.hFacC * dsFe.drF\n",
    "temporary"
   ]
  },
  {
   "cell_type": "code",
   "execution_count": null,
   "metadata": {
    "collapsed": true
   },
   "outputs": [],
   "source": [
    "N = nzFe.shape\n",
    "iron_abv_zFe = np.zeros_like(nzFe)\n",
    "\n",
    "for t in range(N[0]):\n",
    "    for y in range(N[1]):\n",
    "        for x in range(N[2]):\n",
    "            iron_abv_zFe[t,y,x] = temporary[t,:int(nzFe[t,y,x]+1),y,x].sum(['Z']).data\n",
    "            \n",
    "iron_abv_zFe = xr.DataArray(iron_abv_zFe, dims=fe[:,0].dims, coords=fe[:,0].coords)\n",
    "iron_abv_zFe"
   ]
  },
  {
   "cell_type": "code",
   "execution_count": null,
   "metadata": {
    "collapsed": true
   },
   "outputs": [],
   "source": [
    "iron_abv_mon = xr.DataArray(iron_abv_zFe.data[:3600].reshape((10,360,200,100)),\n",
    "                           dims=['iYEAR','iDAY','YC','XC'],\n",
    "                           coords={'iYEAR':range(10),'iDAY':range(360),\n",
    "                                  'YC':fe.YC.data,'XC':fe.XC.data}\n",
    "                           )\n",
    "t_bin = range(0,390,30)\n",
    "iron_abv_mon = iron_abv_mon.groupby_bins('iDAY', t_bin, right=False\n",
    "                                        ).mean(['iDAY','iYEAR']).compute()\n",
    "iron_abv_mon"
   ]
  },
  {
   "cell_type": "code",
   "execution_count": 25,
   "metadata": {},
   "outputs": [
    {
     "ename": "NameError",
     "evalue": "name 'iron_abv_mon' is not defined",
     "output_type": "error",
     "traceback": [
      "\u001b[0;31m---------------------------------------------------------------------------\u001b[0m",
      "\u001b[0;31mNameError\u001b[0m                                 Traceback (most recent call last)",
      "\u001b[0;32m<ipython-input-25-bd0530df9c54>\u001b[0m in \u001b[0;36m<module>\u001b[0;34m()\u001b[0m\n\u001b[1;32m      1\u001b[0m \u001b[0mfig\u001b[0m\u001b[0;34m,\u001b[0m \u001b[0maxes\u001b[0m \u001b[0;34m=\u001b[0m \u001b[0mplt\u001b[0m\u001b[0;34m.\u001b[0m\u001b[0msubplots\u001b[0m\u001b[0;34m(\u001b[0m\u001b[0mncols\u001b[0m\u001b[0;34m=\u001b[0m\u001b[0;36m3\u001b[0m\u001b[0;34m,\u001b[0m \u001b[0mnrows\u001b[0m\u001b[0;34m=\u001b[0m\u001b[0;36m4\u001b[0m\u001b[0;34m,\u001b[0m \u001b[0mfigsize\u001b[0m\u001b[0;34m=\u001b[0m\u001b[0;34m(\u001b[0m\u001b[0;36m14\u001b[0m\u001b[0;34m,\u001b[0m\u001b[0;36m14\u001b[0m\u001b[0;34m)\u001b[0m\u001b[0;34m)\u001b[0m\u001b[0;34m\u001b[0m\u001b[0m\n\u001b[0;32m----> 2\u001b[0;31m cax = axes[0,0].pcolormesh(iron_abv_mon.lon, iron_abv_mon.lat, iron_abv_mon[0], \n\u001b[0m\u001b[1;32m      3\u001b[0m                      \u001b[0mvmin\u001b[0m\u001b[0;34m=\u001b[0m\u001b[0;36m0.\u001b[0m\u001b[0;34m,\u001b[0m \u001b[0mvmax\u001b[0m\u001b[0;34m=\u001b[0m\u001b[0;36m1e-4\u001b[0m\u001b[0;34m,\u001b[0m\u001b[0;34m\u001b[0m\u001b[0m\n\u001b[1;32m      4\u001b[0m                      rasterized=True)\n\u001b[1;32m      5\u001b[0m axes[0,1].pcolormesh(iron_abv_mon.lon, iron_abv_mon.lat, iron_abv_mon[1], \n",
      "\u001b[0;31mNameError\u001b[0m: name 'iron_abv_mon' is not defined"
     ]
    },
    {
     "data": {
      "image/png": "[encoded data removed]",
      "text/plain": [
       "<matplotlib.figure.Figure at 0x7f0c90e76240>"
      ]
     },
     "metadata": {},
     "output_type": "display_data"
    }
   ],
   "source": [
    "fig, axes = plt.subplots(ncols=3, nrows=4, figsize=(14,14))\n",
    "cax = axes[0,0].pcolormesh(iron_abv_mon.lon, iron_abv_mon.lat, iron_abv_mon[0], \n",
    "                     vmin=0., vmax=1e-4, \n",
    "                     rasterized=True)\n",
    "axes[0,1].pcolormesh(iron_abv_mon.lon, iron_abv_mon.lat, iron_abv_mon[1], \n",
    "                     vmin=0., vmax=1e-4, \n",
    "                     rasterized=True)\n",
    "axes[0,2].pcolormesh(iron_abv_mon.lon, iron_abv_mon.lat, iron_abv_mon[2], \n",
    "                     vmin=0., vmax=1e-4, \n",
    "                     rasterized=True)\n",
    "\n",
    "axes[1,0].pcolormesh(iron_abv_mon.lon, iron_abv_mon.lat, iron_abv_mon[3], \n",
    "                     vmin=0., vmax=1e-4, \n",
    "                     rasterized=True)\n",
    "axes[1,1].pcolormesh(iron_abv_mon.lon, iron_abv_mon.lat, iron_abv_mon[4], \n",
    "                     vmin=0., vmax=1e-4, \n",
    "                     rasterized=True)\n",
    "axes[1,2].pcolormesh(iron_abv_mon.lon, iron_abv_mon.lat, iron_abv_mon[5], \n",
    "                     vmin=0., vmax=1e-4, \n",
    "                     rasterized=True)\n",
    "\n",
    "axes[2,0].pcolormesh(iron_abv_mon.lon, iron_abv_mon.lat, iron_abv_mon[6], \n",
    "                     vmin=0., vmax=1e-4, \n",
    "                     rasterized=True)\n",
    "axes[2,1].pcolormesh(iron_abv_mon.lon, iron_abv_mon.lat, iron_abv_mon[7], \n",
    "                     vmin=0., vmax=1e-4, \n",
    "                     rasterized=True)\n",
    "axes[2,2].pcolormesh(iron_abv_mon.lon, iron_abv_mon.lat, iron_abv_mon[8], \n",
    "                     vmin=0., vmax=1e-4, \n",
    "                     rasterized=True)\n",
    "\n",
    "axes[3,0].pcolormesh(iron_abv_mon.lon, iron_abv_mon.lat, iron_abv_mon[9], \n",
    "                     vmin=0., vmax=1e-4, \n",
    "                     rasterized=True)\n",
    "axes[3,1].pcolormesh(iron_abv_mon.lon, iron_abv_mon.lat, iron_abv_mon[10], \n",
    "                     vmin=0., vmax=1e-4, \n",
    "                     rasterized=True)\n",
    "axes[3,2].pcolormesh(iron_abv_mon.lon, iron_abv_mon.lat, iron_abv_mon[11], \n",
    "                     vmin=0., vmax=1e-4, \n",
    "                     rasterized=True)\n",
    "\n",
    "axes[0,0].set_title('Jan',fontsize=14)\n",
    "axes[0,1].set_title('Feb',fontsize=14)\n",
    "axes[0,2].set_title('Mar',fontsize=14)\n",
    "axes[1,0].set_title('Apr',fontsize=14)\n",
    "axes[1,1].set_title('May',fontsize=14)\n",
    "axes[1,2].set_title('Jun',fontsize=14)\n",
    "axes[2,0].set_title('Jul',fontsize=14)\n",
    "axes[2,1].set_title('Aug',fontsize=14)\n",
    "axes[2,2].set_title('Sep',fontsize=14)\n",
    "axes[3,0].set_title('Oct',fontsize=14)\n",
    "axes[3,1].set_title('Nov',fontsize=14)\n",
    "axes[3,2].set_title('Dec',fontsize=14)\n",
    "\n",
    "fig.subplots_adjust(right=0.8)\n",
    "cbar_ax = fig.add_axes([0.84, 0.2, 0.03, 0.6])\n",
    "cbar = fig.colorbar(cax, cax=cbar_ax)\n",
    "cbar.set_label(r'[mol Fe/m$^2$]',fontsize=12)\n",
    "\n",
    "fig.text(0.06, 0.5, 'Latitude', \n",
    "         va='center', rotation='vertical', fontsize=15)\n",
    "fig.text(0.5, 0.09, 'Longitude', \n",
    "         va='center', rotation='horizontal', fontsize=15)\n",
    "\n",
    "plt.savefig(op.join(ddir,'surfaceironconcentration_3D2804-monthlyclim.pdf'))"
   ]
  },
  {
   "cell_type": "code",
   "execution_count": null,
   "metadata": {
    "collapsed": true
   },
   "outputs": [],
   "source": []
  }
 ],
 "metadata": {
  "anaconda-cloud": {},
  "kernelspec": {
   "display_name": "Python 3 (uptodate)",
   "language": "python",
   "name": "uptodate"
  },
  "language_info": {
   "codemirror_mode": {
    "name": "ipython",
    "version": 3
   },
   "file_extension": ".py",
   "mimetype": "text/x-python",
   "name": "python",
   "nbconvert_exporter": "python",
   "pygments_lexer": "ipython3",
   "version": "3.6.4"
  }
 },
 "nbformat": 4,
 "nbformat_minor": 2
}
