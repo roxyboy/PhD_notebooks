{
 "cells": [
  {
   "cell_type": "code",
   "execution_count": 26,
   "metadata": {},
   "outputs": [],
   "source": [
    "import numpy as np\n",
    "import xarray as xr\n",
    "import xrft\n",
    "import os.path as op\n",
    "from dask.diagnostics import ProgressBar\n",
    "from xmitgcm import open_mdsdataset\n",
    "from xgcm.grid import Grid\n",
    "import matplotlib.pyplot as plt\n",
    "import matplotlib.colors as clr\n",
    "%matplotlib inline"
   ]
  },
  {
   "cell_type": "code",
   "execution_count": 2,
   "metadata": {},
   "outputs": [],
   "source": [
    "ddir = '/swot/SUM05/takaya/MITgcm/channel/runs/'"
   ]
  },
  {
   "cell_type": "code",
   "execution_count": 3,
   "metadata": {},
   "outputs": [
    {
     "name": "stdout",
     "output_type": "stream",
     "text": [
      "6013440 6842880\n"
     ]
    },
    {
     "name": "stderr",
     "output_type": "stream",
     "text": [
      "/home/takaya/xmitgcm/xmitgcm/mds_store.py:721: UserWarning: Couldn't find available_diagnostics.log in /swot/SUM05/takaya/MITgcm/channel/runs/deepML_5km_consTauMOM. Using default version.\n",
      "  \"in %s. Using default version.\" % data_dir)\n",
      "/home/takaya/xmitgcm/xmitgcm/utils.py:314: UserWarning: Not sure what to do with rlev = L\n",
      "  warnings.warn(\"Not sure what to do with rlev = \" + rlev)\n",
      "/home/takaya/xmitgcm/xmitgcm/mds_store.py:235: FutureWarning: iteration over an xarray.Dataset will change in xarray v0.11 to only include data variables, not coordinates. Iterate over the Dataset.variables property instead to preserve existing behavior in a forwards compatible manner.\n",
      "  for vname in ds:\n"
     ]
    },
    {
     "data": {
      "text/plain": [
       "<xarray.Dataset>\n",
       "Dimensions:  (XC: 200, XG: 200, YC: 400, YG: 400, Z: 76, Zl: 76, Zp1: 77, Zu: 76, time: 192)\n",
       "Coordinates:\n",
       "  * XC       (XC) >f4 2500.0 7500.0 12500.0 17500.0 22500.0 27500.0 32500.0 ...\n",
       "  * YC       (YC) >f4 2500.0 7500.0 12500.0 17500.0 22500.0 27500.0 32500.0 ...\n",
       "  * XG       (XG) >f4 0.0 5000.0 10000.0 15000.0 20000.0 25000.0 30000.0 ...\n",
       "  * YG       (YG) >f4 0.0 5000.0 10000.0 15000.0 20000.0 25000.0 30000.0 ...\n",
       "  * Z        (Z) >f4 -0.5 -1.57 -2.79 -4.185 -5.78 -7.595 -9.66 -12.01 ...\n",
       "  * Zp1      (Zp1) >f4 0.0 -1.0 -2.14 -3.44 -4.93 -6.63 -8.56 -10.76 -13.26 ...\n",
       "  * Zu       (Zu) >f4 -1.0 -2.14 -3.44 -4.93 -6.63 -8.56 -10.76 -13.26 -16.1 ...\n",
       "  * Zl       (Zl) >f4 0.0 -1.0 -2.14 -3.44 -4.93 -6.63 -8.56 -10.76 -13.26 ...\n",
       "    rA       (YC, XC) >f4 dask.array<shape=(400, 200), chunksize=(400, 200)>\n",
       "    dxG      (YG, XC) >f4 dask.array<shape=(400, 200), chunksize=(400, 200)>\n",
       "    dyG      (YC, XG) >f4 dask.array<shape=(400, 200), chunksize=(400, 200)>\n",
       "    Depth    (YC, XC) >f4 dask.array<shape=(400, 200), chunksize=(400, 200)>\n",
       "    rAz      (YG, XG) >f4 dask.array<shape=(400, 200), chunksize=(400, 200)>\n",
       "    dxC      (YC, XG) >f4 dask.array<shape=(400, 200), chunksize=(400, 200)>\n",
       "    dyC      (YG, XC) >f4 dask.array<shape=(400, 200), chunksize=(400, 200)>\n",
       "    rAw      (YC, XG) >f4 dask.array<shape=(400, 200), chunksize=(400, 200)>\n",
       "    rAs      (YG, XC) >f4 dask.array<shape=(400, 200), chunksize=(400, 200)>\n",
       "    drC      (Zp1) >f4 dask.array<shape=(77,), chunksize=(77,)>\n",
       "    drF      (Z) >f4 dask.array<shape=(76,), chunksize=(76,)>\n",
       "    PHrefC   (Z) >f4 dask.array<shape=(76,), chunksize=(76,)>\n",
       "    PHrefF   (Zp1) >f4 dask.array<shape=(77,), chunksize=(77,)>\n",
       "    hFacC    (Z, YC, XC) >f4 dask.array<shape=(76, 400, 200), chunksize=(76, 400, 200)>\n",
       "    hFacW    (Z, YC, XG) >f4 dask.array<shape=(76, 400, 200), chunksize=(76, 400, 200)>\n",
       "    hFacS    (Z, YG, XC) >f4 dask.array<shape=(76, 400, 200), chunksize=(76, 400, 200)>\n",
       "    iter     (time) int64 dask.array<shape=(192,), chunksize=(1,)>\n",
       "  * time     (time) float64 1.804e+09 1.805e+09 1.807e+09 1.808e+09 ...\n",
       "Data variables:\n",
       "    UVEL     (time, Z, YC, XG) float32 dask.array<shape=(192, 76, 400, 200), chunksize=(1, 76, 400, 200)>\n",
       "    VVEL     (time, Z, YG, XC) float32 dask.array<shape=(192, 76, 400, 200), chunksize=(1, 76, 400, 200)>\n",
       "    WVEL     (time, Zl, YC, XC) float32 dask.array<shape=(192, 76, 400, 200), chunksize=(1, 76, 400, 200)>\n",
       "    PHIHYD   (time, Z, YC, XC) float32 dask.array<shape=(192, 76, 400, 200), chunksize=(1, 76, 400, 200)>"
      ]
     },
     "execution_count": 3,
     "metadata": {},
     "output_type": "execute_result"
    }
   ],
   "source": [
    "ys, dy = (58,8)\n",
    "dt = 3e2\n",
    "ts = int((ys*360*86400)/dt)\n",
    "te = int(((ys+dy)*360*86400)/dt)\n",
    "print(ts,te)\n",
    "\n",
    "dsnap = open_mdsdataset(op.join(ddir,'deepML_5km_consTauMOM'), grid_dir=op.join(ddir,'5km_grid'),\n",
    "                       iters=range(ts,te,4320), prefix=['MOMsnap'], delta_t=dt\n",
    "                       )\n",
    "dsnap"
   ]
  },
  {
   "cell_type": "code",
   "execution_count": 4,
   "metadata": {},
   "outputs": [],
   "source": [
    "grid = Grid(dsnap, periodic=['X'])"
   ]
  },
  {
   "cell_type": "code",
   "execution_count": 5,
   "metadata": {},
   "outputs": [
    {
     "name": "stdout",
     "output_type": "stream",
     "text": [
      "6013440 6842880\n"
     ]
    },
    {
     "name": "stderr",
     "output_type": "stream",
     "text": [
      "/home/takaya/xmitgcm/xmitgcm/mds_store.py:721: UserWarning: Couldn't find available_diagnostics.log in /swot/SUM05/takaya/MITgcm/channel/runs/deepML_5km_consTauMOM. Using default version.\n",
      "  \"in %s. Using default version.\" % data_dir)\n",
      "/home/takaya/xmitgcm/xmitgcm/utils.py:314: UserWarning: Not sure what to do with rlev = L\n",
      "  warnings.warn(\"Not sure what to do with rlev = \" + rlev)\n",
      "/home/takaya/xmitgcm/xmitgcm/mds_store.py:235: FutureWarning: iteration over an xarray.Dataset will change in xarray v0.11 to only include data variables, not coordinates. Iterate over the Dataset.variables property instead to preserve existing behavior in a forwards compatible manner.\n",
      "  for vname in ds:\n"
     ]
    },
    {
     "data": {
      "text/plain": [
       "<xarray.Dataset>\n",
       "Dimensions:  (XC: 200, XG: 200, YC: 400, YG: 400, Z: 76, Zl: 76, Zp1: 77, Zu: 76, time: 96)\n",
       "Coordinates:\n",
       "  * XC       (XC) >f4 2500.0 7500.0 12500.0 17500.0 22500.0 27500.0 32500.0 ...\n",
       "  * YC       (YC) >f4 2500.0 7500.0 12500.0 17500.0 22500.0 27500.0 32500.0 ...\n",
       "  * XG       (XG) >f4 0.0 5000.0 10000.0 15000.0 20000.0 25000.0 30000.0 ...\n",
       "  * YG       (YG) >f4 0.0 5000.0 10000.0 15000.0 20000.0 25000.0 30000.0 ...\n",
       "  * Z        (Z) >f4 -0.5 -1.57 -2.79 -4.185 -5.78 -7.595 -9.66 -12.01 ...\n",
       "  * Zp1      (Zp1) >f4 0.0 -1.0 -2.14 -3.44 -4.93 -6.63 -8.56 -10.76 -13.26 ...\n",
       "  * Zu       (Zu) >f4 -1.0 -2.14 -3.44 -4.93 -6.63 -8.56 -10.76 -13.26 -16.1 ...\n",
       "  * Zl       (Zl) >f4 0.0 -1.0 -2.14 -3.44 -4.93 -6.63 -8.56 -10.76 -13.26 ...\n",
       "    rA       (YC, XC) >f4 dask.array<shape=(400, 200), chunksize=(400, 200)>\n",
       "    dxG      (YG, XC) >f4 dask.array<shape=(400, 200), chunksize=(400, 200)>\n",
       "    dyG      (YC, XG) >f4 dask.array<shape=(400, 200), chunksize=(400, 200)>\n",
       "    Depth    (YC, XC) >f4 dask.array<shape=(400, 200), chunksize=(400, 200)>\n",
       "    rAz      (YG, XG) >f4 dask.array<shape=(400, 200), chunksize=(400, 200)>\n",
       "    dxC      (YC, XG) >f4 dask.array<shape=(400, 200), chunksize=(400, 200)>\n",
       "    dyC      (YG, XC) >f4 dask.array<shape=(400, 200), chunksize=(400, 200)>\n",
       "    rAw      (YC, XG) >f4 dask.array<shape=(400, 200), chunksize=(400, 200)>\n",
       "    rAs      (YG, XC) >f4 dask.array<shape=(400, 200), chunksize=(400, 200)>\n",
       "    drC      (Zp1) >f4 dask.array<shape=(77,), chunksize=(77,)>\n",
       "    drF      (Z) >f4 dask.array<shape=(76,), chunksize=(76,)>\n",
       "    PHrefC   (Z) >f4 dask.array<shape=(76,), chunksize=(76,)>\n",
       "    PHrefF   (Zp1) >f4 dask.array<shape=(77,), chunksize=(77,)>\n",
       "    hFacC    (Z, YC, XC) >f4 dask.array<shape=(76, 400, 200), chunksize=(76, 400, 200)>\n",
       "    hFacW    (Z, YC, XG) >f4 dask.array<shape=(76, 400, 200), chunksize=(76, 400, 200)>\n",
       "    hFacS    (Z, YG, XC) >f4 dask.array<shape=(76, 400, 200), chunksize=(76, 400, 200)>\n",
       "    iter     (time) int64 dask.array<shape=(96,), chunksize=(1,)>\n",
       "  * time     (time) float64 1.807e+09 1.809e+09 1.812e+09 1.814e+09 ...\n",
       "Data variables:\n",
       "    UVEL     (time, Z, YC, XG) float32 dask.array<shape=(96, 76, 400, 200), chunksize=(1, 76, 400, 200)>\n",
       "    VVEL     (time, Z, YG, XC) float32 dask.array<shape=(96, 76, 400, 200), chunksize=(1, 76, 400, 200)>\n",
       "    WVEL     (time, Zl, YC, XC) float32 dask.array<shape=(96, 76, 400, 200), chunksize=(1, 76, 400, 200)>\n",
       "    PHIHYD   (time, Z, YC, XC) float32 dask.array<shape=(96, 76, 400, 200), chunksize=(1, 76, 400, 200)>"
      ]
     },
     "execution_count": 5,
     "metadata": {},
     "output_type": "execute_result"
    }
   ],
   "source": [
    "ys, dy = (58,8)\n",
    "ts = int((ys*360*86400)/dt)\n",
    "te = int(((ys+dy)*360*86400)/dt)\n",
    "print(ts,te)\n",
    "\n",
    "dsave = open_mdsdataset(op.join(ddir,'deepML_5km_consTauMOM'), grid_dir=op.join(ddir,'5km_grid'),\n",
    "                       iters=range(ts+8640,te+8640,8640), prefix=['MOMtave'], delta_t=dt\n",
    "                       )\n",
    "dsave"
   ]
  },
  {
   "cell_type": "code",
   "execution_count": 6,
   "metadata": {},
   "outputs": [
    {
     "name": "stdout",
     "output_type": "stream",
     "text": [
      "6013440 6842880\n"
     ]
    },
    {
     "name": "stderr",
     "output_type": "stream",
     "text": [
      "/home/takaya/xmitgcm/xmitgcm/mds_store.py:721: UserWarning: Couldn't find available_diagnostics.log in /swot/SUM05/takaya/MITgcm/channel/runs/deepML_5km_consTauKPP. Using default version.\n",
      "  \"in %s. Using default version.\" % data_dir)\n",
      "/home/takaya/xmitgcm/xmitgcm/utils.py:314: UserWarning: Not sure what to do with rlev = L\n",
      "  warnings.warn(\"Not sure what to do with rlev = \" + rlev)\n",
      "/home/takaya/xmitgcm/xmitgcm/mds_store.py:235: FutureWarning: iteration over an xarray.Dataset will change in xarray v0.11 to only include data variables, not coordinates. Iterate over the Dataset.variables property instead to preserve existing behavior in a forwards compatible manner.\n",
      "  for vname in ds:\n"
     ]
    },
    {
     "data": {
      "text/plain": [
       "<xarray.Dataset>\n",
       "Dimensions:   (XC: 200, XG: 200, YC: 400, YG: 400, Z: 76, Zl: 76, Zp1: 77, Zu: 76, time: 96)\n",
       "Coordinates:\n",
       "  * XC        (XC) >f4 2500.0 7500.0 12500.0 17500.0 22500.0 27500.0 32500.0 ...\n",
       "  * YC        (YC) >f4 2500.0 7500.0 12500.0 17500.0 22500.0 27500.0 32500.0 ...\n",
       "  * XG        (XG) >f4 0.0 5000.0 10000.0 15000.0 20000.0 25000.0 30000.0 ...\n",
       "  * YG        (YG) >f4 0.0 5000.0 10000.0 15000.0 20000.0 25000.0 30000.0 ...\n",
       "  * Z         (Z) >f4 -0.5 -1.57 -2.79 -4.185 -5.78 -7.595 -9.66 -12.01 ...\n",
       "  * Zp1       (Zp1) >f4 0.0 -1.0 -2.14 -3.44 -4.93 -6.63 -8.56 -10.76 -13.26 ...\n",
       "  * Zu        (Zu) >f4 -1.0 -2.14 -3.44 -4.93 -6.63 -8.56 -10.76 -13.26 ...\n",
       "  * Zl        (Zl) >f4 0.0 -1.0 -2.14 -3.44 -4.93 -6.63 -8.56 -10.76 -13.26 ...\n",
       "    rA        (YC, XC) >f4 dask.array<shape=(400, 200), chunksize=(400, 200)>\n",
       "    dxG       (YG, XC) >f4 dask.array<shape=(400, 200), chunksize=(400, 200)>\n",
       "    dyG       (YC, XG) >f4 dask.array<shape=(400, 200), chunksize=(400, 200)>\n",
       "    Depth     (YC, XC) >f4 dask.array<shape=(400, 200), chunksize=(400, 200)>\n",
       "    rAz       (YG, XG) >f4 dask.array<shape=(400, 200), chunksize=(400, 200)>\n",
       "    dxC       (YC, XG) >f4 dask.array<shape=(400, 200), chunksize=(400, 200)>\n",
       "    dyC       (YG, XC) >f4 dask.array<shape=(400, 200), chunksize=(400, 200)>\n",
       "    rAw       (YC, XG) >f4 dask.array<shape=(400, 200), chunksize=(400, 200)>\n",
       "    rAs       (YG, XC) >f4 dask.array<shape=(400, 200), chunksize=(400, 200)>\n",
       "    drC       (Zp1) >f4 dask.array<shape=(77,), chunksize=(77,)>\n",
       "    drF       (Z) >f4 dask.array<shape=(76,), chunksize=(76,)>\n",
       "    PHrefC    (Z) >f4 dask.array<shape=(76,), chunksize=(76,)>\n",
       "    PHrefF    (Zp1) >f4 dask.array<shape=(77,), chunksize=(77,)>\n",
       "    hFacC     (Z, YC, XC) >f4 dask.array<shape=(76, 400, 200), chunksize=(76, 400, 200)>\n",
       "    hFacW     (Z, YC, XG) >f4 dask.array<shape=(76, 400, 200), chunksize=(76, 400, 200)>\n",
       "    hFacS     (Z, YG, XC) >f4 dask.array<shape=(76, 400, 200), chunksize=(76, 400, 200)>\n",
       "    iter      (time) int64 dask.array<shape=(96,), chunksize=(1,)>\n",
       "  * time      (time) float64 1.807e+09 1.809e+09 1.812e+09 1.814e+09 ...\n",
       "Data variables:\n",
       "    KPPhbl    (time, YC, XC) float32 dask.array<shape=(96, 400, 200), chunksize=(1, 400, 200)>\n",
       "    MXLDEPTH  (time, YC, XC) float32 dask.array<shape=(96, 400, 200), chunksize=(1, 400, 200)>"
      ]
     },
     "execution_count": 6,
     "metadata": {},
     "output_type": "execute_result"
    }
   ],
   "source": [
    "ys, dy = (58,8)\n",
    "ts = int((ys*360*86400)/dt)\n",
    "te = int(((ys+dy)*360*86400)/dt)\n",
    "print(ts,te)\n",
    "\n",
    "dskpp = open_mdsdataset(op.join(ddir,'deepML_5km_consTauKPP'), grid_dir=op.join(ddir,'5km_grid'),\n",
    "                       iters=range(ts+8640,te+8640,8640), prefix=['KPPboundary'], delta_t=dt\n",
    "                       )\n",
    "dskpp"
   ]
  },
  {
   "cell_type": "code",
   "execution_count": 7,
   "metadata": {},
   "outputs": [
    {
     "data": {
      "text/plain": [
       "<xarray.DataArray 'MXLDEPTH' (time: 96, YC: 400, XC: 200)>\n",
       "dask.array<shape=(96, 400, 200), dtype=float32, chunksize=(1, 400, 200)>\n",
       "Coordinates:\n",
       "  * XC       (XC) >f4 2500.0 7500.0 12500.0 17500.0 22500.0 27500.0 32500.0 ...\n",
       "  * YC       (YC) >f4 2500.0 7500.0 12500.0 17500.0 22500.0 27500.0 32500.0 ...\n",
       "    rA       (YC, XC) >f4 dask.array<shape=(400, 200), chunksize=(400, 200)>\n",
       "    Depth    (YC, XC) >f4 dask.array<shape=(400, 200), chunksize=(400, 200)>\n",
       "    iter     (time) int64 dask.array<shape=(96,), chunksize=(1,)>\n",
       "  * time     (time) float64 1.807e+09 1.809e+09 1.812e+09 1.814e+09 ...\n",
       "Attributes:\n",
       "    standard_name:  MXLDEPTH\n",
       "    long_name:      Mixed-Layer Depth (>0)\n",
       "    units:          m"
      ]
     },
     "execution_count": 7,
     "metadata": {},
     "output_type": "execute_result"
    }
   ],
   "source": [
    "MXLD = dskpp.MXLDEPTH\n",
    "MXLD"
   ]
  },
  {
   "cell_type": "code",
   "execution_count": 8,
   "metadata": {},
   "outputs": [
    {
     "name": "stdout",
     "output_type": "stream",
     "text": [
      "[########################################] | 100% Completed |  0.1s\n",
      "[########################################] | 100% Completed |  0.1s\n",
      "[########################################] | 100% Completed |  0.1s\n",
      "[########################################] | 100% Completed |  0.1s\n",
      "[########################################] | 100% Completed |  0.1s\n",
      "[########################################] | 100% Completed |  0.1s\n",
      "[########################################] | 100% Completed |  0.1s\n",
      "[########################################] | 100% Completed |  0.1s\n",
      "[########################################] | 100% Completed |  0.1s\n",
      "[########################################] | 100% Completed |  0.1s\n",
      "[########################################] | 100% Completed |  0.1s\n",
      "[########################################] | 100% Completed |  0.1s\n",
      "[########################################] | 100% Completed |  0.1s\n",
      "[########################################] | 100% Completed |  0.1s\n",
      "[########################################] | 100% Completed |  0.1s\n",
      "[########################################] | 100% Completed |  0.1s\n",
      "[########################################] | 100% Completed | 34.5s\n",
      "[########################################] | 100% Completed |  0.1s\n",
      "[########################################] | 100% Completed |  0.1s\n",
      "[########################################] | 100% Completed |  0.1s\n",
      "[########################################] | 100% Completed |  0.1s\n",
      "[########################################] | 100% Completed |  0.1s\n",
      "[########################################] | 100% Completed |  0.1s\n",
      "[########################################] | 100% Completed |  0.1s\n",
      "[########################################] | 100% Completed |  0.1s\n",
      "[########################################] | 100% Completed |  0.1s\n",
      "[########################################] | 100% Completed |  0.1s\n",
      "[########################################] | 100% Completed |  0.1s\n",
      "[########################################] | 100% Completed |  0.1s\n",
      "[########################################] | 100% Completed |  0.1s\n",
      "[########################################] | 100% Completed |  0.1s\n",
      "[########################################] | 100% Completed |  0.1s\n",
      "[########################################] | 100% Completed |  0.1s\n",
      "[########################################] | 100% Completed |  0.1s\n",
      "[########################################] | 100% Completed |  0.1s\n",
      "[########################################] | 100% Completed |  0.1s\n",
      "[########################################] | 100% Completed |  0.1s\n",
      "[########################################] | 100% Completed |  0.1s\n",
      "[########################################] | 100% Completed |  0.1s\n",
      "[########################################] | 100% Completed |  0.1s\n",
      "[########################################] | 100% Completed |  0.1s\n",
      "[########################################] | 100% Completed |  0.1s\n",
      "[########################################] | 100% Completed |  0.1s\n",
      "[########################################] | 100% Completed |  0.1s\n",
      "[########################################] | 100% Completed |  0.1s\n",
      "[########################################] | 100% Completed |  0.1s\n",
      "[########################################] | 100% Completed |  0.1s\n",
      "[########################################] | 100% Completed |  0.1s\n",
      "[########################################] | 100% Completed |  0.1s\n",
      "[########################################] | 100% Completed |  0.1s\n",
      "[########################################] | 100% Completed |  0.1s\n",
      "[########################################] | 100% Completed |  0.1s\n",
      "[########################################] | 100% Completed |  0.1s\n",
      "[########################################] | 100% Completed |  0.1s\n",
      "[########################################] | 100% Completed |  0.1s\n",
      "[########################################] | 100% Completed |  0.1s\n",
      "[########################################] | 100% Completed |  0.1s\n",
      "[########################################] | 100% Completed |  0.1s\n",
      "[########################################] | 100% Completed |  0.1s\n",
      "[########################################] | 100% Completed |  0.1s\n",
      "[########################################] | 100% Completed |  0.1s\n",
      "[########################################] | 100% Completed |  0.1s\n",
      "[########################################] | 100% Completed |  0.1s\n",
      "[########################################] | 100% Completed |  0.1s\n",
      "[########################################] | 100% Completed |  0.1s\n",
      "[########################################] | 100% Completed |  6.3s\n",
      "[########################################] | 100% Completed |  3.9s\n"
     ]
    },
    {
     "data": {
      "text/plain": [
       "<xarray.Dataset>\n",
       "Dimensions:  (YC: 400, YG: 400, Z: 76, Zl: 76, Zp1: 77, Zu: 76, seas: 4)\n",
       "Coordinates:\n",
       "  * YC       (YC) >f4 2500.0 7500.0 12500.0 17500.0 22500.0 27500.0 32500.0 ...\n",
       "  * YG       (YG) >f4 0.0 5000.0 10000.0 15000.0 20000.0 25000.0 30000.0 ...\n",
       "  * Z        (Z) >f4 -0.5 -1.57 -2.79 -4.185 -5.78 -7.595 -9.66 -12.01 ...\n",
       "  * Zp1      (Zp1) >f4 0.0 -1.0 -2.14 -3.44 -4.93 -6.63 -8.56 -10.76 -13.26 ...\n",
       "  * Zu       (Zu) >f4 -1.0 -2.14 -3.44 -4.93 -6.63 -8.56 -10.76 -13.26 -16.1 ...\n",
       "  * Zl       (Zl) >f4 0.0 -1.0 -2.14 -3.44 -4.93 -6.63 -8.56 -10.76 -13.26 ...\n",
       "    drC      (Zp1) >f4 0.5 1.07 1.22 1.395 1.595 1.815 2.065 2.35 2.67 3.025 ...\n",
       "    drF      (Z) >f4 1.0 1.14 1.3 1.49 1.7 1.93 2.2 2.5 2.84 3.21 3.63 4.1 ...\n",
       "    PHrefC   (Z) >f4 4.905 15.4017 27.3699 41.05485 56.7018 74.50695 94.7646 ...\n",
       "    PHrefF   (Zp1) >f4 0.0 9.81 20.9934 33.7464 48.3633 65.0403 83.9736 ...\n",
       "  * seas     (seas) int64 0 1 2 3\n",
       "Data variables:\n",
       "    UVEL     (seas, Z, YC) float32 0.0 0.006746654 0.0075139077 ...\n",
       "    VVEL     (seas, Z, YG) float32 0.0 0.0 -0.0010829848 -0.00024058843 ...\n",
       "    WVEL     (seas, Zl, YC) float32 0.0 3.1698671e-10 3.054296e-10 ...\n",
       "    PHIHYD   (seas, Z, YC) float32 0.01962 -19.22777 -19.223856 -19.222054 ..."
      ]
     },
     "execution_count": 8,
     "metadata": {},
     "output_type": "execute_result"
    }
   ],
   "source": [
    "seas = ('time',np.tile(np.repeat(range(4),3),dy))\n",
    "months = ('time',np.tile(np.repeat(range(12),1),dy))\n",
    "dsave.coords['seas'] = seas\n",
    "dsave.coords['months'] = months\n",
    "MXLD.coords['months'] = months\n",
    "with ProgressBar():\n",
    "    dsave_seas = dsave.groupby('seas').mean(['time','XC','XG']).load()\n",
    "    dsave_mon = dsave.groupby('months').mean(['time','XC','XG']).load()\n",
    "    MXLD_mon = MXLD.groupby('months').mean(['time','XC']).load()\n",
    "dsave_seas"
   ]
  },
  {
   "cell_type": "code",
   "execution_count": 9,
   "metadata": {},
   "outputs": [
    {
     "data": {
      "text/plain": [
       "[<matplotlib.lines.Line2D at 0x7fcc1840f828>]"
      ]
     },
     "execution_count": 9,
     "metadata": {},
     "output_type": "execute_result"
    },
    {
     "data": {
      "image/png": "[encoded data removed]",
      "text/plain": [
       "<matplotlib.figure.Figure at 0x7fcc3bf0bcc0>"
      ]
     },
     "metadata": {},
     "output_type": "display_data"
    }
   ],
   "source": [
    "fig, ax = plt.subplots()\n",
    "ax.plot(MXLD_mon.YC*1e-3, -MXLD_mon[1], 'r')\n",
    "ax.plot(MXLD_mon.YC*1e-3, -MXLD_mon[7], 'b')"
   ]
  },
  {
   "cell_type": "code",
   "execution_count": 10,
   "metadata": {},
   "outputs": [
    {
     "name": "stdout",
     "output_type": "stream",
     "text": [
      "[########################################] | 100% Completed |  2min 35.0s\n",
      "[########################################] | 100% Completed | 27.6s\n"
     ]
    },
    {
     "data": {
      "text/plain": [
       "<xarray.Dataset>\n",
       "Dimensions:  (XC: 200, XG: 200, YC: 400, YG: 400, Z: 76, Zl: 76, Zp1: 77, Zu: 76, time: 192)\n",
       "Coordinates:\n",
       "  * XC       (XC) >f4 2500.0 7500.0 12500.0 17500.0 22500.0 27500.0 32500.0 ...\n",
       "  * YC       (YC) >f4 2500.0 7500.0 12500.0 17500.0 22500.0 27500.0 32500.0 ...\n",
       "  * XG       (XG) >f4 0.0 5000.0 10000.0 15000.0 20000.0 25000.0 30000.0 ...\n",
       "  * YG       (YG) >f4 0.0 5000.0 10000.0 15000.0 20000.0 25000.0 30000.0 ...\n",
       "  * Z        (Z) >f4 -0.5 -1.57 -2.79 -4.185 -5.78 -7.595 -9.66 -12.01 ...\n",
       "  * Zp1      (Zp1) >f4 0.0 -1.0 -2.14 -3.44 -4.93 -6.63 -8.56 -10.76 -13.26 ...\n",
       "  * Zu       (Zu) >f4 -1.0 -2.14 -3.44 -4.93 -6.63 -8.56 -10.76 -13.26 -16.1 ...\n",
       "  * Zl       (Zl) >f4 0.0 -1.0 -2.14 -3.44 -4.93 -6.63 -8.56 -10.76 -13.26 ...\n",
       "    rA       (YC, XC) >f4 25000000.0 25000000.0 25000000.0 25000000.0 ...\n",
       "    dxG      (YG, XC) >f4 5000.0 5000.0 5000.0 5000.0 5000.0 5000.0 5000.0 ...\n",
       "    dyG      (YC, XG) >f4 5000.0 5000.0 5000.0 5000.0 5000.0 5000.0 5000.0 ...\n",
       "    Depth    (YC, XC) >f4 0.0 0.0 0.0 0.0 0.0 0.0 0.0 0.0 0.0 0.0 0.0 0.0 ...\n",
       "    rAz      (YG, XG) >f4 25000000.0 25000000.0 25000000.0 25000000.0 ...\n",
       "    dxC      (YC, XG) >f4 5000.0 5000.0 5000.0 5000.0 5000.0 5000.0 5000.0 ...\n",
       "    dyC      (YG, XC) >f4 5000.0 5000.0 5000.0 5000.0 5000.0 5000.0 5000.0 ...\n",
       "    rAw      (YC, XG) >f4 25000000.0 25000000.0 25000000.0 25000000.0 ...\n",
       "    rAs      (YG, XC) >f4 25000000.0 25000000.0 25000000.0 25000000.0 ...\n",
       "    drC      (Zp1) >f4 0.5 1.07 1.22 1.395 1.595 1.815 2.065 2.35 2.67 3.025 ...\n",
       "    drF      (Z) >f4 1.0 1.14 1.3 1.49 1.7 1.93 2.2 2.5 2.84 3.21 3.63 4.1 ...\n",
       "    PHrefC   (Z) >f4 4.905 15.4017 27.3699 41.05485 56.7018 74.50695 94.7646 ...\n",
       "    PHrefF   (Zp1) >f4 0.0 9.81 20.9934 33.7464 48.3633 65.0403 83.9736 ...\n",
       "    hFacC    (Z, YC, XC) >f4 0.0 0.0 0.0 0.0 0.0 0.0 0.0 0.0 0.0 0.0 0.0 0.0 ...\n",
       "    hFacW    (Z, YC, XG) >f4 0.0 0.0 0.0 0.0 0.0 0.0 0.0 0.0 0.0 0.0 0.0 0.0 ...\n",
       "    hFacS    (Z, YG, XC) >f4 0.0 0.0 0.0 0.0 0.0 0.0 0.0 0.0 0.0 0.0 0.0 0.0 ...\n",
       "    iter     (time) int64 6013440 6017760 6022080 6026400 6030720 6035040 ...\n",
       "  * time     (time) float64 1.804e+09 1.805e+09 1.807e+09 1.808e+09 ...\n",
       "    seas     (time) int64 0 0 0 0 0 0 1 1 1 1 1 1 2 2 2 2 2 2 3 3 3 3 3 3 0 ...\n",
       "    months   (time) int64 0 0 1 1 2 2 3 3 4 4 5 5 6 6 7 7 8 8 9 9 10 10 11 ...\n",
       "Data variables:\n",
       "    UVEL     (time, Z, YC, XG) float32 0.0 0.0 0.0 0.0 0.0 0.0 0.0 0.0 0.0 ...\n",
       "    VVEL     (time, Z, YG, XC) float32 0.0 0.0 0.0 0.0 0.0 0.0 0.0 0.0 0.0 ...\n",
       "    WVEL     (time, Zl, YC, XC) float32 0.0 0.0 0.0 0.0 0.0 0.0 0.0 0.0 0.0 ...\n",
       "    PHIHYD   (time, Z, YC, XC) float32 0.0 0.0 0.0 0.0 0.0 0.0 0.0 0.0 0.0 ..."
      ]
     },
     "execution_count": 10,
     "metadata": {},
     "output_type": "execute_result"
    }
   ],
   "source": [
    "seas = ('time',np.tile(np.repeat(range(4),6),dy))\n",
    "months = ('time',np.tile(np.repeat(range(12),2),dy))\n",
    "dsnap.coords['seas'] = seas\n",
    "dsnap.coords['months'] = months\n",
    "dsanom = dsnap.groupby('seas') - dsave_seas\n",
    "dsanomon = dsnap.groupby('months') - dsave_mon\n",
    "with ProgressBar():\n",
    "    dsanom.load()\n",
    "    dsanomon.load()\n",
    "dsanom"
   ]
  },
  {
   "cell_type": "code",
   "execution_count": 11,
   "metadata": {},
   "outputs": [
    {
     "data": {
      "text/plain": [
       "<xarray.DataArray (time: 192, Zl: 76, YC: 400, XC: 200)>\n",
       "array([[[[-0.000000e+00, ..., -0.000000e+00],\n",
       "         ...,\n",
       "         [ 6.723970e-12, ...,  1.116289e-11]],\n",
       "\n",
       "        ...,\n",
       "\n",
       "        [[ 0.000000e+00, ...,  0.000000e+00],\n",
       "         ...,\n",
       "         [ 1.375474e-11, ...,  1.668123e-11]]],\n",
       "\n",
       "\n",
       "       ...,\n",
       "\n",
       "\n",
       "       [[[-0.000000e+00, ..., -0.000000e+00],\n",
       "         ...,\n",
       "         [ 4.824653e-11, ...,  8.222198e-11]],\n",
       "\n",
       "        ...,\n",
       "\n",
       "        [[ 0.000000e+00, ...,  0.000000e+00],\n",
       "         ...,\n",
       "         [-6.874696e-12, ..., -1.302006e-11]]]], dtype=float32)\n",
       "Coordinates:\n",
       "  * XC       (XC) >f4 2500.0 7500.0 12500.0 17500.0 22500.0 27500.0 32500.0 ...\n",
       "  * YC       (YC) >f4 2500.0 7500.0 12500.0 17500.0 22500.0 27500.0 32500.0 ...\n",
       "  * Zl       (Zl) >f4 0.0 -1.0 -2.14 -3.44 -4.93 -6.63 -8.56 -10.76 -13.26 ...\n",
       "    rA       (YC, XC) >f4 25000000.0 25000000.0 25000000.0 25000000.0 ...\n",
       "    Depth    (YC, XC) >f4 0.0 0.0 0.0 0.0 0.0 0.0 0.0 0.0 0.0 0.0 0.0 0.0 ...\n",
       "    iter     (time) int64 6013440 6017760 6022080 6026400 6030720 6035040 ...\n",
       "  * time     (time) float64 1.804e+09 1.805e+09 1.807e+09 1.808e+09 ...\n",
       "    seas     (time) int64 0 0 0 0 0 0 1 1 1 1 1 1 2 2 2 2 2 2 3 3 3 3 3 3 0 ...\n",
       "    months   (time) int64 0 0 1 1 2 2 3 3 4 4 5 5 6 6 7 7 8 8 9 9 10 10 11 ..."
      ]
     },
     "execution_count": 11,
     "metadata": {},
     "output_type": "execute_result"
    }
   ],
   "source": [
    "up = dsanom.UVEL\n",
    "vp = dsanom.VVEL\n",
    "wp = dsanom.WVEL\n",
    "phip = dsanom.PHIHYD\n",
    "\n",
    "bp = grid.diff(phip,'Z',boundary='fill')/grid.diff(phip.Z,'Z',boundary='fill')\n",
    "wpbp = wp*bp\n",
    "wpbp"
   ]
  },
  {
   "cell_type": "code",
   "execution_count": 13,
   "metadata": {},
   "outputs": [
    {
     "data": {
      "text/plain": [
       "<xarray.DataArray (time: 192, Z: 76, YC: 400, XC: 200)>\n",
       "array([[[[0.000000e+00, ..., 0.000000e+00],\n",
       "         ...,\n",
       "         [1.439200e-04, ..., 1.477081e-04]],\n",
       "\n",
       "        ...,\n",
       "\n",
       "        [[0.000000e+00, ..., 0.000000e+00],\n",
       "         ...,\n",
       "         [2.956493e-05, ..., 4.018554e-05]]],\n",
       "\n",
       "\n",
       "       ...,\n",
       "\n",
       "\n",
       "       [[[0.000000e+00, ..., 0.000000e+00],\n",
       "         ...,\n",
       "         [5.622942e-07, ..., 1.268288e-07]],\n",
       "\n",
       "        ...,\n",
       "\n",
       "        [[0.000000e+00, ..., 0.000000e+00],\n",
       "         ...,\n",
       "         [6.704579e-05, ..., 6.579985e-05]]]], dtype=float32)\n",
       "Coordinates:\n",
       "  * time     (time) float64 1.804e+09 1.805e+09 1.807e+09 1.808e+09 ...\n",
       "  * Z        (Z) >f4 -0.5 -1.57 -2.79 -4.185 -5.78 -7.595 -9.66 -12.01 ...\n",
       "  * YC       (YC) >f4 2500.0 7500.0 12500.0 17500.0 22500.0 27500.0 32500.0 ...\n",
       "  * XC       (XC) >f4 2500.0 7500.0 12500.0 17500.0 22500.0 27500.0 32500.0 ..."
      ]
     },
     "execution_count": 13,
     "metadata": {},
     "output_type": "execute_result"
    },
    {
     "data": {
      "image/png": "[encoded data removed]",
      "text/plain": [
       "<matplotlib.figure.Figure at 0x7fcc3c558940>"
      ]
     },
     "metadata": {},
     "output_type": "display_data"
    }
   ],
   "source": [
    "eke = .5 * (grid.interp(up,'X')**2 + grid.interp(vp,'Y',boundary='fill')**2)\n",
    "eke[:,0].sel(YC=slice(6e5,1.4e6)).mean(['YC','XC']).plot(figsize=(10,4),color='k',lw=2)\n",
    "eke"
   ]
  },
  {
   "cell_type": "code",
   "execution_count": 12,
   "metadata": {},
   "outputs": [
    {
     "name": "stderr",
     "output_type": "stream",
     "text": [
      "/home/takaya/xmitgcm/xmitgcm/mds_store.py:721: UserWarning: Couldn't find available_diagnostics.log in /swot/SUM05/takaya/MITgcm/channel/runs/deepML_5km_consTausurf. Using default version.\n",
      "  \"in %s. Using default version.\" % data_dir)\n",
      "/home/takaya/xmitgcm/xmitgcm/utils.py:314: UserWarning: Not sure what to do with rlev = L\n",
      "  warnings.warn(\"Not sure what to do with rlev = \" + rlev)\n",
      "/home/takaya/xmitgcm/xmitgcm/mds_store.py:235: FutureWarning: iteration over an xarray.Dataset will change in xarray v0.11 to only include data variables, not coordinates. Iterate over the Dataset.variables property instead to preserve existing behavior in a forwards compatible manner.\n",
      "  for vname in ds:\n"
     ]
    },
    {
     "data": {
      "text/plain": [
       "<xarray.Dataset>\n",
       "Dimensions:  (XC: 200, XG: 200, YC: 400, YG: 400, Z: 76, Zl: 76, Zp1: 77, Zu: 76, time: 96)\n",
       "Coordinates:\n",
       "  * XC       (XC) >f4 2500.0 7500.0 12500.0 17500.0 22500.0 27500.0 32500.0 ...\n",
       "  * YC       (YC) >f4 2500.0 7500.0 12500.0 17500.0 22500.0 27500.0 32500.0 ...\n",
       "  * XG       (XG) >f4 0.0 5000.0 10000.0 15000.0 20000.0 25000.0 30000.0 ...\n",
       "  * YG       (YG) >f4 0.0 5000.0 10000.0 15000.0 20000.0 25000.0 30000.0 ...\n",
       "  * Z        (Z) >f4 -0.5 -1.57 -2.79 -4.185 -5.78 -7.595 -9.66 -12.01 ...\n",
       "  * Zp1      (Zp1) >f4 0.0 -1.0 -2.14 -3.44 -4.93 -6.63 -8.56 -10.76 -13.26 ...\n",
       "  * Zu       (Zu) >f4 -1.0 -2.14 -3.44 -4.93 -6.63 -8.56 -10.76 -13.26 -16.1 ...\n",
       "  * Zl       (Zl) >f4 0.0 -1.0 -2.14 -3.44 -4.93 -6.63 -8.56 -10.76 -13.26 ...\n",
       "    rA       (YC, XC) >f4 dask.array<shape=(400, 200), chunksize=(400, 200)>\n",
       "    dxG      (YG, XC) >f4 dask.array<shape=(400, 200), chunksize=(400, 200)>\n",
       "    dyG      (YC, XG) >f4 dask.array<shape=(400, 200), chunksize=(400, 200)>\n",
       "    Depth    (YC, XC) >f4 dask.array<shape=(400, 200), chunksize=(400, 200)>\n",
       "    rAz      (YG, XG) >f4 dask.array<shape=(400, 200), chunksize=(400, 200)>\n",
       "    dxC      (YC, XG) >f4 dask.array<shape=(400, 200), chunksize=(400, 200)>\n",
       "    dyC      (YG, XC) >f4 dask.array<shape=(400, 200), chunksize=(400, 200)>\n",
       "    rAw      (YC, XG) >f4 dask.array<shape=(400, 200), chunksize=(400, 200)>\n",
       "    rAs      (YG, XC) >f4 dask.array<shape=(400, 200), chunksize=(400, 200)>\n",
       "    drC      (Zp1) >f4 dask.array<shape=(77,), chunksize=(77,)>\n",
       "    drF      (Z) >f4 dask.array<shape=(76,), chunksize=(76,)>\n",
       "    PHrefC   (Z) >f4 dask.array<shape=(76,), chunksize=(76,)>\n",
       "    PHrefF   (Zp1) >f4 dask.array<shape=(77,), chunksize=(77,)>\n",
       "    hFacC    (Z, YC, XC) >f4 dask.array<shape=(76, 400, 200), chunksize=(76, 400, 200)>\n",
       "    hFacW    (Z, YC, XG) >f4 dask.array<shape=(76, 400, 200), chunksize=(76, 400, 200)>\n",
       "    hFacS    (Z, YG, XC) >f4 dask.array<shape=(76, 400, 200), chunksize=(76, 400, 200)>\n",
       "    iter     (time) int64 dask.array<shape=(96,), chunksize=(1,)>\n",
       "  * time     (time) float64 1.807e+09 1.809e+09 1.812e+09 1.814e+09 ...\n",
       "Data variables:\n",
       "    TFLUX    (time, YC, XC) float32 dask.array<shape=(96, 400, 200), chunksize=(1, 400, 200)>\n",
       "    oceTAUX  (time, YC, XG) float32 dask.array<shape=(96, 400, 200), chunksize=(1, 400, 200)>"
      ]
     },
     "execution_count": 12,
     "metadata": {},
     "output_type": "execute_result"
    }
   ],
   "source": [
    "dsurf = open_mdsdataset(op.join(ddir,'deepML_5km_consTausurf'), grid_dir=op.join(ddir,'5km_grid'),\n",
    "                        iters=range(ts+8640,te+8640,8640), prefix=['SurfForc'], delta_t=dt\n",
    "                       )\n",
    "dsurf"
   ]
  },
  {
   "cell_type": "code",
   "execution_count": 14,
   "metadata": {},
   "outputs": [
    {
     "data": {
      "text/plain": [
       "<xarray.DataArray (months: 12)>\n",
       "array([0.006389, 0.007206, 0.003969, 0.00324 , 0.005125, 0.004028, 0.003915,\n",
       "       0.004401, 0.003968, 0.006769, 0.005241, 0.004662])\n",
       "Coordinates:\n",
       "    Z        float32 -0.5\n",
       "  * months   (months) int64 0 1 2 3 4 5 6 7 8 9 10 11"
      ]
     },
     "execution_count": 14,
     "metadata": {},
     "output_type": "execute_result"
    }
   ],
   "source": [
    "eke.coords['months'] = months\n",
    "eke_std = eke[:,0].sel(YC=slice(6e5,1.4e6)).mean(['YC','XC']).groupby('months').std('time')\n",
    "eke_mean = eke[:,0].sel(YC=slice(6e5,1.4e6)).groupby('months').mean(['time','XC','YC'])\n",
    "eke_std"
   ]
  },
  {
   "cell_type": "code",
   "execution_count": 15,
   "metadata": {},
   "outputs": [
    {
     "name": "stderr",
     "output_type": "stream",
     "text": [
      "/home/takaya/miniconda3/envs/uptodate/lib/python3.6/site-packages/matplotlib/figure.py:2022: UserWarning: This figure includes Axes that are not compatible with tight_layout, so results might be incorrect.\n",
      "  warnings.warn(\"This figure includes Axes that are not compatible \"\n"
     ]
    },
    {
     "data": {
      "image/png": "[encoded data removed]",
      "text/plain": [
       "<matplotlib.figure.Figure at 0x7fcc3bbb2198>"
      ]
     },
     "metadata": {},
     "output_type": "display_data"
    }
   ],
   "source": [
    "tau = dsurf.oceTAUX\n",
    "tau.coords['months'] = ('time',np.tile(np.repeat(range(12),1),dy))\n",
    "Q = dsurf.TFLUX\n",
    "Q.coords['months'] = ('time',np.tile(np.repeat(range(12),1),dy))\n",
    "eke.coords['months'] = ('time',np.tile(np.repeat(range(12),2),dy))\n",
    "wpbp.coords['months'] = ('time',np.tile(np.repeat(range(12),2),dy))\n",
    "# tau = 0.15 - 0.05*np.sin(np.pi/3.*np.arange(2,14))\n",
    "\n",
    "fig, ax = plt.subplots(figsize=(8,3))\n",
    "fig.set_tight_layout(True)\n",
    "ax2 = ax.twinx()\n",
    "ax3 = ax.twinx()\n",
    "ax4 = ax.twinx()\n",
    "ax3.spines[\"right\"].set_position((\"axes\", 1.15))\n",
    "ax4.spines[\"right\"].set_position((\"axes\", 1.32))\n",
    "im1, = ax.plot(eke_mean, 'k.-')\n",
    "ax.fill_between(range(12), eke_mean-eke_std, eke_mean+eke_std, color='k', alpha=0.2)\n",
    "im2, = ax2.plot(wpbp[:,22].sel(YC=slice(6e5,1.4e6)).groupby('months').mean(['time','XC','YC']), 'k--')\n",
    "im3, = ax3.plot(range(12), tau.sel(YC=slice(6e5,1.4e6)).groupby('months').mean(['time','XG','YC']), 'b--')\n",
    "im4, = ax4.plot(range(12), Q.sel(YC=slice(6e5,1.4e6)).groupby('months').mean(['time','XC','YC']), 'r--')\n",
    "\n",
    "ax3.yaxis.label.set_color(im3.get_color())\n",
    "ax4.yaxis.label.set_color(im4.get_color())\n",
    "\n",
    "ax2.spines[\"right\"].set_edgecolor(im2.get_color())\n",
    "ax3.spines[\"right\"].set_edgecolor(im3.get_color())\n",
    "ax4.spines[\"right\"].set_edgecolor(im4.get_color())\n",
    "\n",
    "ax2.tick_params(axis='y', colors=im2.get_color())\n",
    "ax3.tick_params(axis='y', colors=im3.get_color())\n",
    "ax4.tick_params(axis='y', colors=im4.get_color())\n",
    "ax.set_xticks(range(12))\n",
    "ax.set_xticklabels(['J','F','M','A','M','J','J','A','S','O','N','D'], fontsize=12)\n",
    "ax.set_xlabel(r'Month', fontsize=14)\n",
    "ax.set_ylabel(r'EKE [m$^2$ s$^{-2}$]', fontsize=14)\n",
    "ax2.set_ylabel(r\"w$'$b$'$ [m$^{2}$ s$^{-3}$]\", fontsize=14)\n",
    "ax3.set_ylabel(r'$\\tau$ [N m$^{-2}$]', fontsize=14)\n",
    "ax4.set_ylabel(r'Q [W m$^{-2}$]', fontsize=14)\n",
    "ax.set_ylim([0.0475,0.06])\n",
    "ax2.set_ylim([0.2e-8,1.1e-8])\n",
    "ax3.set_ylim([0.09,0.17])\n",
    "ax4.set_ylim([-24,24])\n",
    "plt.savefig(op.join(ddir,'Figures/EKEconsTau_Q_tau.pdf'))"
   ]
  },
  {
   "cell_type": "code",
   "execution_count": null,
   "metadata": {},
   "outputs": [
    {
     "name": "stderr",
     "output_type": "stream",
     "text": [
      "/home/takaya/xrft/xrft/xrft.py:272: FutureWarning: xarray.DataArray.__contains__ currently checks membership in DataArray.coords, but in xarray v0.11 will change to check membership in array values.\n",
      "  elif d in da:\n",
      "/home/takaya/xrft/xrft/xrft.py:272: FutureWarning: xarray.DataArray.__contains__ currently checks membership in DataArray.coords, but in xarray v0.11 will change to check membership in array values.\n",
      "  elif d in da:\n"
     ]
    },
    {
     "name": "stdout",
     "output_type": "stream",
     "text": [
      "[#######                                 ] | 17% Completed |  1hr  1min  7.9s"
     ]
    }
   ],
   "source": [
    "uk = xrft.dft(grid.interp(up,'X').sel(YC=slice(6e5,1.4e6))[:,::2].chunk(chunks={'time':1,'Z':1,'YC':1,'XC':200}),\n",
    "             dim=['XC'], detrend='constant')\n",
    "vk = xrft.dft(grid.interp(vp,'Y',boundary='fill').sel(YC=slice(6e5,1.4e6)\n",
    "                                                     )[:,::2].chunk(chunks={'time':1,'Z':1,'YC':1,'XC':200}),\n",
    "             dim=['XC'], detrend='constant')\n",
    "with ProgressBar():\n",
    "    ekek = (uk*np.conj(uk) + vk*np.conj(vk)).real.compute()"
   ]
  },
  {
   "cell_type": "code",
   "execution_count": 17,
   "metadata": {},
   "outputs": [
    {
     "data": {
      "text/plain": [
       "<xarray.DataArray (time: 192, Z: 38, YC: 160, freq_XC: 200)>\n",
       "array([[[[2.441688e-04, ..., 3.024612e-04],\n",
       "         ...,\n",
       "         [2.075678e-04, ..., 1.043056e-04]],\n",
       "\n",
       "        ...,\n",
       "\n",
       "        [[4.821467e-08, ..., 3.562728e-08],\n",
       "         ...,\n",
       "         [1.730682e-08, ..., 8.456407e-10]]],\n",
       "\n",
       "\n",
       "       ...,\n",
       "\n",
       "\n",
       "       [[[1.082834e-03, ..., 5.220697e-04],\n",
       "         ...,\n",
       "         [1.332236e-05, ..., 3.194382e-05]],\n",
       "\n",
       "        ...,\n",
       "\n",
       "        [[3.244247e-09, ..., 3.112435e-08],\n",
       "         ...,\n",
       "         [2.925221e-08, ..., 1.447708e-08]]]])\n",
       "Coordinates:\n",
       "  * time             (time) float64 1.804e+09 1.805e+09 1.807e+09 1.808e+09 ...\n",
       "  * Z                (Z) >f4 -0.5 -2.79 -5.78 -9.66 -14.68 -21.125 -29.345 ...\n",
       "  * YC               (YC) >f4 602500.0 607500.0 612500.0 617500.0 622500.0 ...\n",
       "  * freq_XC          (freq_XC) float64 -0.0001 -9.9e-05 -9.8e-05 -9.7e-05 ...\n",
       "    freq_XC_spacing  float64 1e-06"
      ]
     },
     "execution_count": 17,
     "metadata": {},
     "output_type": "execute_result"
    }
   ],
   "source": [
    "ekek"
   ]
  },
  {
   "cell_type": "code",
   "execution_count": 18,
   "metadata": {},
   "outputs": [
    {
     "data": {
      "text/plain": [
       "<xarray.DataArray (seas: 4, Z: 38, YC: 160, freq_XC: 200)>\n",
       "array([[[[1.727936e-04, ..., 2.575319e-04],\n",
       "         ...,\n",
       "         [1.690379e-04, ..., 1.323121e-04]],\n",
       "\n",
       "        ...,\n",
       "\n",
       "        [[6.310583e-08, ..., 3.956266e-08],\n",
       "         ...,\n",
       "         [6.005468e-08, ..., 8.370218e-08]]],\n",
       "\n",
       "\n",
       "       ...,\n",
       "\n",
       "\n",
       "       [[[3.047298e-04, ..., 1.906324e-04],\n",
       "         ...,\n",
       "         [1.993777e-04, ..., 2.138279e-04]],\n",
       "\n",
       "        ...,\n",
       "\n",
       "        [[5.051369e-08, ..., 3.410665e-08],\n",
       "         ...,\n",
       "         [3.912906e-08, ..., 4.631936e-08]]]])\n",
       "Coordinates:\n",
       "  * Z                (Z) >f4 -0.5 -2.79 -5.78 -9.66 -14.68 -21.125 -29.345 ...\n",
       "  * YC               (YC) >f4 602500.0 607500.0 612500.0 617500.0 622500.0 ...\n",
       "  * freq_XC          (freq_XC) float64 -0.0001 -9.9e-05 -9.8e-05 -9.7e-05 ...\n",
       "    freq_XC_spacing  float64 1e-06\n",
       "  * seas             (seas) int64 0 1 2 3"
      ]
     },
     "execution_count": 18,
     "metadata": {},
     "output_type": "execute_result"
    }
   ],
   "source": [
    "ekek.coords['seas'] = ('time',np.tile(np.repeat(range(4),6),dy))\n",
    "ekek.to_dataset(name='eke').to_netcdf(op.join(ddir,'EKEk_5kmrun_constTau.nc'))\n",
    "ekek_seas = ekek.groupby('seas').mean(['time'])\n",
    "ekek_seas"
   ]
  },
  {
   "cell_type": "code",
   "execution_count": 19,
   "metadata": {},
   "outputs": [
    {
     "data": {
      "text/plain": [
       "<xarray.DataArray 'eke' (seas: 4, Z: 38, YC: 160, freq_XC: 200)>\n",
       "array([[[[1.527042e-04, ..., 2.379453e-04],\n",
       "         ...,\n",
       "         [2.304828e-04, ..., 1.758618e-04]],\n",
       "\n",
       "        ...,\n",
       "\n",
       "        [[4.445745e-07, ..., 4.154123e-07],\n",
       "         ...,\n",
       "         [1.957877e-07, ..., 2.346225e-07]]],\n",
       "\n",
       "\n",
       "       ...,\n",
       "\n",
       "\n",
       "       [[[9.438372e-05, ..., 1.526109e-04],\n",
       "         ...,\n",
       "         [3.696256e-04, ..., 4.285281e-04]],\n",
       "\n",
       "        ...,\n",
       "\n",
       "        [[9.495256e-08, ..., 9.261221e-08],\n",
       "         ...,\n",
       "         [7.443882e-08, ..., 7.214509e-08]]]])\n",
       "Coordinates:\n",
       "  * Z                (Z) float32 -0.5 -2.79 -5.78 -9.66 -14.68 -21.125 ...\n",
       "  * YC               (YC) float32 602500.0 607500.0 612500.0 617500.0 ...\n",
       "  * freq_XC          (freq_XC) float64 -0.0001 -9.9e-05 -9.8e-05 -9.7e-05 ...\n",
       "    freq_XC_spacing  float64 ...\n",
       "  * seas             (seas) int64 0 1 2 3"
      ]
     },
     "execution_count": 19,
     "metadata": {},
     "output_type": "execute_result"
    }
   ],
   "source": [
    "dsT = xr.open_dataset(op.join(ddir,'EKEk_5kmrun_constSST.nc'))\n",
    "ekek_SST = dsT.eke\n",
    "ekekSST_seas = ekek_SST.groupby('seas').mean(['time'])\n",
    "ekekSST_seas"
   ]
  },
  {
   "cell_type": "code",
   "execution_count": 20,
   "metadata": {},
   "outputs": [],
   "source": [
    "dsAVI = xr.open_dataset('/home/takaya/AVISO/AVISO_EKE_56-61S.nc')\n",
    "eke_AVISO = dsAVI.eke.mean('latitude')\n",
    "k_AVISO = dsAVI.kx.mean('lat')\n",
    "N = eke_AVISO.shape"
   ]
  },
  {
   "cell_type": "code",
   "execution_count": 21,
   "metadata": {},
   "outputs": [
    {
     "data": {
      "text/plain": [
       "<xarray.DataArray 'eke' (DinY: 4, freq_longitude: 1440)>\n",
       "array([[2.506621e-06, 2.485474e-06, 2.434433e-06, ..., 2.443550e-06,\n",
       "        2.434433e-06, 2.485474e-06],\n",
       "       [2.412033e-06, 2.408242e-06, 2.433481e-06, ..., 2.460021e-06,\n",
       "        2.433481e-06, 2.408242e-06],\n",
       "       [2.058867e-05, 2.087148e-05, 2.099281e-05, ..., 2.072719e-05,\n",
       "        2.099281e-05, 2.087148e-05],\n",
       "       [2.714788e-05, 2.721186e-05, 2.647504e-05, ..., 2.768460e-05,\n",
       "        2.647504e-05, 2.721186e-05]])\n",
       "Coordinates:\n",
       "  * freq_longitude          (freq_longitude) float64 -2.0 -1.997 -1.994 ...\n",
       "    freq_longitude_spacing  float64 ...\n",
       "  * DinY                    (DinY) int64 0 1 2 3"
      ]
     },
     "execution_count": 21,
     "metadata": {},
     "output_type": "execute_result"
    }
   ],
   "source": [
    "seas = np.array([0,0,0,0,0,0,1,1,1,1,1,1,1,2,2,2,2,2,2,3,3,3,3,3,3,3])\n",
    "eke_AVISO_yrs = eke_AVISO[:598]\n",
    "eke_AVISO_yrs.coords['DinY'] = ('days',np.tile(seas,23))\n",
    "eke_AVISO_seas = eke_AVISO_yrs.groupby('DinY').mean('days')\n",
    "eke_AVISO_seas"
   ]
  },
  {
   "cell_type": "code",
   "execution_count": 22,
   "metadata": {},
   "outputs": [
    {
     "name": "stderr",
     "output_type": "stream",
     "text": [
      "/home/takaya/miniconda3/envs/uptodate/lib/python3.6/site-packages/matplotlib/figure.py:2022: UserWarning: This figure includes Axes that are not compatible with tight_layout, so results might be incorrect.\n",
      "  warnings.warn(\"This figure includes Axes that are not compatible \"\n"
     ]
    },
    {
     "data": {
      "image/png": "[encoded data removed]",
      "text/plain": [
       "<matplotlib.figure.Figure at 0x7fcc3bdc20b8>"
      ]
     },
     "metadata": {},
     "output_type": "display_data"
    }
   ],
   "source": [
    "seasons = ['JFM','AMJ','JAS','OND']\n",
    "colors = ['r','brown','b','g']\n",
    "\n",
    "fig, ax = plt.subplots(figsize=(7,5))\n",
    "fig.set_tight_layout(True)\n",
    "ax2 = ax.twinx()\n",
    "# ax.plot(ekek10.freq_XC[1:]*1e3, ekek10[:,0].sel(YC=slice(10e5,12e5)).mean(['time','YC'])*ekek10.freq_XC[1:]**-1,\n",
    "#        'k', lw=2, label='10 km')\n",
    "\n",
    "# ax.plot(ekek.freq_XC[100:]*1e3, ekek[:,0,:,100:].sel(YC=slice(10e5,12e5)).mean(['time','YC'])*ekek.freq_XC[100:]**-1,\n",
    "#        'k--', lw=2, label='5 km')\n",
    "ax.plot(ekek.freq_XC[100:]*1e3, ekek_seas[2,0,:,100:].sel(YC=slice(10e5,12e5)).mean(['YC'])*ekek.freq_XC[100:]**-1,\n",
    "       'b--', lw=2, label=r'5 km (JAS, $\\tau_{const}$)')\n",
    "ax.plot(ekek.freq_XC[100:]*1e3, ekek_seas[0,0,:,100:].sel(YC=slice(10e5,12e5)).mean(['YC'])*ekek.freq_XC[100:]**-1,\n",
    "       'r--', lw=2, label=r'5 km (JFM, $\\tau_{const}$)')\n",
    "ax.plot(ekek.freq_XC[100:]*1e3, ekekSST_seas[2,0,:,100:].sel(YC=slice(10e5,12e5)).mean(['YC'])*ekek.freq_XC[100:]**-1,\n",
    "       'b:', lw=2, label=r'5 km (JAS, SST$_{const}$)')\n",
    "ax.plot(ekek.freq_XC[100:]*1e3, ekekSST_seas[0,0,:,100:].sel(YC=slice(10e5,12e5)).mean(['YC'])*ekek.freq_XC[100:]**-1,\n",
    "       'r:', lw=2, label=r'5 km (JFM, SST$_{const}$)')\n",
    "\n",
    "# ax.plot(k_AVISO[20:]*1e3, eke_AVISO[:,int(.5*N[1])+20:].mean('days').data*k_AVISO[20:]**-1,\n",
    "#        'k:', lw=2, label='AVISO')\n",
    "# ax.plot(k_AVISO[20:]*1e3, eke_AVISO_seas[2,int(.5*N[1])+20:].data*k_AVISO[20:]**-1,\n",
    "#        'b:', lw=2, label='AVISO (JAS)')\n",
    "# ax.plot(k_AVISO[20:]*1e3, eke_AVISO_seas[0,int(.5*N[1])+20:].data*k_AVISO[20:]**-1,\n",
    "#        'r:', lw=2, label='AVISO (JFM)')\n",
    "\n",
    "im, = ax2.plot(ekek.freq_XC[101:]*1e3, (ekek_seas[2,0,:,101:]/ekek_seas[0,0,:,101:]).sel(YC=slice(10e5,12e5)).mean(['YC']),\n",
    "            'g--', lw=2, label=r'5 km ($\\tau_{const}$)')\n",
    "ax2.plot(ekek.freq_XC[101:]*1e3, (ekekSST_seas[2,0,:,101:]/ekekSST_seas[0,0,:,101:]).sel(YC=slice(10e5,12e5)).mean(['YC']),\n",
    "        'g:', lw=2, label=r'5 km (SST$_{const}$)')\n",
    "# ax2.plot(k_AVISO[20:-50][::5]*1e3, (eke_AVISO_seas[2,int(.5*N[1])+20:-50]/eke_AVISO_seas[0,int(.5*N[1])+20:-50])[::5],\n",
    "#         'g:', lw=2, label='AVISO')\n",
    "\n",
    "ax.set_xscale('log')\n",
    "ax.set_yscale('log')\n",
    "ax2.set_xscale('log')\n",
    "ax2.set_ylim([0.6,3.5])\n",
    "ax2.yaxis.label.set_color(im.get_color())\n",
    "ax2.tick_params(axis='y', colors=im.get_color())\n",
    "ax.set_xlabel(r'$k$ [cpkm]', fontsize=14)\n",
    "ax.set_ylabel(r'[m$^3$ s$^{-2}$]', fontsize=14)\n",
    "ax2.set_ylabel(r'JAS/JFM', fontsize=14)\n",
    "ax.legend(loc='lower left', fontsize=12)\n",
    "ax2.legend(loc='upper right', fontsize=12)\n",
    "# cbar = fig.colorbar(im, ax=ax)\n",
    "# cbar.set_label(r\"[m$^3$ s$^{-2}$]\", fontsize=12)\n",
    "# plt.xticks(fontsize=14)\n",
    "# plt.yticks(fontsize=14)\n",
    "plt.savefig(op.join(ddir,'Figures/EKEclim_consTau&SST.pdf'))"
   ]
  },
  {
   "cell_type": "code",
   "execution_count": null,
   "metadata": {},
   "outputs": [],
   "source": []
  },
  {
   "cell_type": "code",
   "execution_count": null,
   "metadata": {},
   "outputs": [],
   "source": []
  }
 ],
 "metadata": {
  "kernelspec": {
   "display_name": "Python 3 (uptodate)",
   "language": "python",
   "name": "uptodate"
  },
  "language_info": {
   "codemirror_mode": {
    "name": "ipython",
    "version": 3
   },
   "file_extension": ".py",
   "mimetype": "text/x-python",
   "name": "python",
   "nbconvert_exporter": "python",
   "pygments_lexer": "ipython3",
   "version": "3.6.4"
  }
 },
 "nbformat": 4,
 "nbformat_minor": 2
}
