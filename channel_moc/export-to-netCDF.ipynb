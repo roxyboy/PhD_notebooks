{
 "cells": [
  {
   "cell_type": "code",
   "execution_count": 1,
   "metadata": {},
   "outputs": [],
   "source": [
    "import numpy as np\n",
    "import xarray as xr\n",
    "import os.path as op\n",
    "from xmitgcm import open_mdsdataset\n",
    "from xgcm.grid import Grid"
   ]
  },
  {
   "cell_type": "code",
   "execution_count": 2,
   "metadata": {},
   "outputs": [],
   "source": [
    "ddir = '/swot/SUM05/takaya/MITgcm/channel/runs/'"
   ]
  },
  {
   "cell_type": "code",
   "execution_count": 3,
   "metadata": {},
   "outputs": [
    {
     "name": "stdout",
     "output_type": "stream",
     "text": [
      "13478544 13737744\n"
     ]
    }
   ],
   "source": [
    "ys, dy = (260,5)\n",
    "ts = int(360*86400*ys/6e2+144)\n",
    "te = int(360*86400*(ys+dy)/6e2+144)\n",
    "print(ts,te)"
   ]
  },
  {
   "cell_type": "code",
   "execution_count": 6,
   "metadata": {},
   "outputs": [
    {
     "name": "stderr",
     "output_type": "stream",
     "text": [
      "/home/takaya/xmitgcm/xmitgcm/utils.py:314: UserWarning: Not sure what to do with rlev = L\n",
      "  warnings.warn(\"Not sure what to do with rlev = \" + rlev)\n",
      "/home/takaya/xmitgcm/xmitgcm/mds_store.py:235: FutureWarning: iteration over an xarray.Dataset will change in xarray v0.11 to only include data variables, not coordinates. Iterate over the Dataset.variables property instead to preserve existing behavior in a forwards compatible manner.\n",
      "  for vname in ds:\n"
     ]
    },
    {
     "data": {
      "text/plain": [
       "<xarray.Dataset>\n",
       "Dimensions:              (XC: 100, XG: 100, YC: 200, YG: 200, Z: 40, Zl: 40, Zp1: 41, Zu: 40, layer_1TH_bounds: 43, layer_1TH_center: 42, layer_1TH_interface: 41, time: 1800)\n",
       "Coordinates:\n",
       "  * XC                   (XC) >f4 5000.0 15000.0 25000.0 35000.0 45000.0 ...\n",
       "  * YC                   (YC) >f4 5000.0 15000.0 25000.0 35000.0 45000.0 ...\n",
       "  * XG                   (XG) >f4 0.0 10000.0 20000.0 30000.0 40000.0 ...\n",
       "  * YG                   (YG) >f4 0.0 10000.0 20000.0 30000.0 40000.0 ...\n",
       "  * Z                    (Z) >f4 -5.0 -15.0 -25.0 -36.0 -49.0 -64.0 -81.5 ...\n",
       "  * Zp1                  (Zp1) >f4 0.0 -10.0 -20.0 -30.0 -42.0 -56.0 -72.0 ...\n",
       "  * Zu                   (Zu) >f4 -10.0 -20.0 -30.0 -42.0 -56.0 -72.0 -91.0 ...\n",
       "  * Zl                   (Zl) >f4 0.0 -10.0 -20.0 -30.0 -42.0 -56.0 -72.0 ...\n",
       "    rA                   (YC, XC) >f4 dask.array<shape=(200, 100), chunksize=(200, 100)>\n",
       "    dxG                  (YG, XC) >f4 dask.array<shape=(200, 100), chunksize=(200, 100)>\n",
       "    dyG                  (YC, XG) >f4 dask.array<shape=(200, 100), chunksize=(200, 100)>\n",
       "    Depth                (YC, XC) >f4 dask.array<shape=(200, 100), chunksize=(200, 100)>\n",
       "    rAz                  (YG, XG) >f4 dask.array<shape=(200, 100), chunksize=(200, 100)>\n",
       "    dxC                  (YC, XG) >f4 dask.array<shape=(200, 100), chunksize=(200, 100)>\n",
       "    dyC                  (YG, XC) >f4 dask.array<shape=(200, 100), chunksize=(200, 100)>\n",
       "    rAw                  (YC, XG) >f4 dask.array<shape=(200, 100), chunksize=(200, 100)>\n",
       "    rAs                  (YG, XC) >f4 dask.array<shape=(200, 100), chunksize=(200, 100)>\n",
       "    drC                  (Zp1) float64 dask.array<shape=(41,), chunksize=(41,)>\n",
       "    drF                  (Z) >f4 dask.array<shape=(40,), chunksize=(40,)>\n",
       "    PHrefC               (Z) >f4 dask.array<shape=(40,), chunksize=(40,)>\n",
       "    PHrefF               (Zp1) >f4 dask.array<shape=(41,), chunksize=(41,)>\n",
       "    hFacC                (Z, YC, XC) >f4 dask.array<shape=(40, 200, 100), chunksize=(40, 200, 100)>\n",
       "    hFacW                (Z, YC, XG) >f4 dask.array<shape=(40, 200, 100), chunksize=(40, 200, 100)>\n",
       "    hFacS                (Z, YG, XC) >f4 dask.array<shape=(40, 200, 100), chunksize=(40, 200, 100)>\n",
       "  * layer_1TH_bounds     (layer_1TH_bounds) >f4 -0.2 0.0 0.2 0.4 0.6 0.8 1.0 ...\n",
       "  * layer_1TH_center     (layer_1TH_center) float32 -0.1 0.1 0.3 0.5 ...\n",
       "  * layer_1TH_interface  (layer_1TH_interface) >f4 0.0 0.2 0.4 0.6 0.8 1.0 ...\n",
       "    iter                 (time) int64 dask.array<shape=(1800,), chunksize=(1,)>\n",
       "  * time                 (time) float64 8.087e+09 8.087e+09 8.087e+09 ...\n",
       "Data variables:\n",
       "    TRAC03               (time, Z, YC, XC) float32 dask.array<shape=(1800, 40, 200, 100), chunksize=(1, 40, 200, 100)>\n",
       "    VTRAC03              (time, Z, YG, XC) float32 dask.array<shape=(1800, 40, 200, 100), chunksize=(1, 40, 200, 100)>\n",
       "    WTRAC03              (time, Z, YC, XC) float32 dask.array<shape=(1800, 40, 200, 100), chunksize=(1, 40, 200, 100)>\n",
       "    ADVyTr03             (time, Z, YG, XC) float32 dask.array<shape=(1800, 40, 200, 100), chunksize=(1, 40, 200, 100)>\n",
       "    ADVrTr03             (time, Zl, YC, XC) float32 dask.array<shape=(1800, 40, 200, 100), chunksize=(1, 40, 200, 100)>\n",
       "    DFrITr03             (time, Zl, YC, XC) float32 dask.array<shape=(1800, 40, 200, 100), chunksize=(1, 40, 200, 100)>\n",
       "    KPPgTr03             (time, Zl, YC, XC) float32 dask.array<shape=(1800, 40, 200, 100), chunksize=(1, 40, 200, 100)>\n",
       "    TRAC23               (time, Z, YC, XC) float32 dask.array<shape=(1800, 40, 200, 100), chunksize=(1, 40, 200, 100)>\n",
       "    VTRAC23              (time, Z, YG, XC) float32 dask.array<shape=(1800, 40, 200, 100), chunksize=(1, 40, 200, 100)>\n",
       "    WTRAC23              (time, Z, YC, XC) float32 dask.array<shape=(1800, 40, 200, 100), chunksize=(1, 40, 200, 100)>\n",
       "    ADVyTr23             (time, Z, YG, XC) float32 dask.array<shape=(1800, 40, 200, 100), chunksize=(1, 40, 200, 100)>\n",
       "    ADVrTr23             (time, Zl, YC, XC) float32 dask.array<shape=(1800, 40, 200, 100), chunksize=(1, 40, 200, 100)>\n",
       "    DFrITr23             (time, Zl, YC, XC) float32 dask.array<shape=(1800, 40, 200, 100), chunksize=(1, 40, 200, 100)>\n",
       "    KPPgTr23             (time, Zl, YC, XC) float32 dask.array<shape=(1800, 40, 200, 100), chunksize=(1, 40, 200, 100)>\n",
       "    TRAC22               (time, Z, YC, XC) float32 dask.array<shape=(1800, 40, 200, 100), chunksize=(1, 40, 200, 100)>\n",
       "    VTRAC22              (time, Z, YG, XC) float32 dask.array<shape=(1800, 40, 200, 100), chunksize=(1, 40, 200, 100)>\n",
       "    WTRAC22              (time, Z, YC, XC) float32 dask.array<shape=(1800, 40, 200, 100), chunksize=(1, 40, 200, 100)>\n",
       "    ADVyTr22             (time, Z, YG, XC) float32 dask.array<shape=(1800, 40, 200, 100), chunksize=(1, 40, 200, 100)>\n",
       "    ADVrTr22             (time, Zl, YC, XC) float32 dask.array<shape=(1800, 40, 200, 100), chunksize=(1, 40, 200, 100)>\n",
       "    DFrITr22             (time, Zl, YC, XC) float32 dask.array<shape=(1800, 40, 200, 100), chunksize=(1, 40, 200, 100)>\n",
       "    KPPgTr22             (time, Zl, YC, XC) float32 dask.array<shape=(1800, 40, 200, 100), chunksize=(1, 40, 200, 100)>"
      ]
     },
     "execution_count": 6,
     "metadata": {},
     "output_type": "execute_result"
    }
   ],
   "source": [
    "ds = open_mdsdataset(op.join(ddir,'zerores_-2monDML_BGC'), iters=range(ts,te,144),\n",
    "                     prefix=['P1Ptave','P2Ptave','FeTtave'],\n",
    "                     delta_t=6e2\n",
    "                    )\n",
    "ds"
   ]
  },
  {
   "cell_type": "code",
   "execution_count": 9,
   "metadata": {},
   "outputs": [],
   "source": [
    "Fe = ds.TRAC03\n",
    "dsave = Fe.to_dataset(name='Fe')\n",
    "dsave['P1'] = ds.TRAC22\n",
    "dsave['P2'] = ds.TRAC23\n",
    "dsave.to_netcdf(op.join(ddir,'Iron-and-biomass.nc'))"
   ]
  },
  {
   "cell_type": "code",
   "execution_count": null,
   "metadata": {},
   "outputs": [],
   "source": []
  }
 ],
 "metadata": {
  "kernelspec": {
   "display_name": "Python 3 (uptodate)",
   "language": "python",
   "name": "uptodate"
  },
  "language_info": {
   "codemirror_mode": {
    "name": "ipython",
    "version": 3
   },
   "file_extension": ".py",
   "mimetype": "text/x-python",
   "name": "python",
   "nbconvert_exporter": "python",
   "pygments_lexer": "ipython3",
   "version": "3.6.4"
  }
 },
 "nbformat": 4,
 "nbformat_minor": 2
}
