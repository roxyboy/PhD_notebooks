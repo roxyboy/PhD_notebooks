{
 "cells": [
  {
   "cell_type": "code",
   "execution_count": 1,
   "metadata": {},
   "outputs": [],
   "source": [
    "import numpy as np\n",
    "import xarray as xr\n",
    "import os.path as op\n",
    "import dask.array as dsar\n",
    "from dask.diagnostics import ProgressBar\n",
    "from scipy.io import loadmat\n",
    "from scipy.interpolate import PchipInterpolator as pchip\n",
    "from xmitgcm import open_mdsdataset\n",
    "from xgcm.grid import Grid\n",
    "import xrft\n",
    "from matplotlib.colors import SymLogNorm\n",
    "from matplotlib import colors\n",
    "import matplotlib.pyplot as plt\n",
    "%matplotlib inline"
   ]
  },
  {
   "cell_type": "code",
   "execution_count": 2,
   "metadata": {},
   "outputs": [],
   "source": [
    "bdir = '/swot/SUM02/takaya/channelMOC-Darwin/'\n",
    "pdir = '/swot/SUM05/takaya/MITgcm/channel/runs/'"
   ]
  },
  {
   "cell_type": "code",
   "execution_count": 95,
   "metadata": {},
   "outputs": [
    {
     "data": {
      "text/plain": [
       "<xarray.Dataset>\n",
       "Dimensions:               (T: 961)\n",
       "Coordinates:\n",
       "  * T                     (T) float64 7.776e+09 7.779e+09 7.781e+09 ...\n",
       "Data variables:\n",
       "    time_tsnumber         (T) int32 ...\n",
       "    time_secondsf         (T) float64 ...\n",
       "    dynstat_eta_max       (T) float64 ...\n",
       "    dynstat_eta_min       (T) float64 ...\n",
       "    dynstat_eta_mean      (T) float64 ...\n",
       "    dynstat_eta_sd        (T) float64 ...\n",
       "    dynstat_eta_del2      (T) float64 ...\n",
       "    dynstat_uvel_max      (T) float64 ...\n",
       "    dynstat_uvel_min      (T) float64 ...\n",
       "    dynstat_uvel_mean     (T) float64 ...\n",
       "    dynstat_uvel_sd       (T) float64 ...\n",
       "    dynstat_uvel_del2     (T) float64 ...\n",
       "    dynstat_vvel_max      (T) float64 ...\n",
       "    dynstat_vvel_min      (T) float64 ...\n",
       "    dynstat_vvel_mean     (T) float64 ...\n",
       "    dynstat_vvel_sd       (T) float64 ...\n",
       "    dynstat_vvel_del2     (T) float64 ...\n",
       "    dynstat_wvel_max      (T) float64 ...\n",
       "    dynstat_wvel_min      (T) float64 ...\n",
       "    dynstat_wvel_mean     (T) float64 ...\n",
       "    dynstat_wvel_sd       (T) float64 ...\n",
       "    dynstat_wvel_del2     (T) float64 ...\n",
       "    dynstat_theta_max     (T) float64 ...\n",
       "    dynstat_theta_min     (T) float64 ...\n",
       "    dynstat_theta_mean    (T) float64 ...\n",
       "    dynstat_theta_sd      (T) float64 ...\n",
       "    dynstat_theta_del2    (T) float64 ...\n",
       "    dynstat_salt_max      (T) float64 ...\n",
       "    dynstat_salt_min      (T) float64 ...\n",
       "    dynstat_salt_mean     (T) float64 ...\n",
       "    dynstat_salt_sd       (T) float64 ...\n",
       "    dynstat_salt_del2     (T) float64 ...\n",
       "    dynstat_sst_max       (T) float64 ...\n",
       "    dynstat_sst_min       (T) float64 ...\n",
       "    dynstat_sst_mean      (T) float64 ...\n",
       "    dynstat_sst_sd        (T) float64 ...\n",
       "    dynstat_sst_del2      (T) float64 ...\n",
       "    dynstat_sss_max       (T) float64 ...\n",
       "    dynstat_sss_min       (T) float64 ...\n",
       "    dynstat_sss_mean      (T) float64 ...\n",
       "    dynstat_sss_sd        (T) float64 ...\n",
       "    dynstat_sss_del2      (T) float64 ...\n",
       "    forcing_qnet_max      (T) float64 ...\n",
       "    forcing_qnet_min      (T) float64 ...\n",
       "    forcing_qnet_mean     (T) float64 ...\n",
       "    forcing_qnet_sd       (T) float64 ...\n",
       "    forcing_qnet_del2     (T) float64 ...\n",
       "    forcing_qsw_max       (T) float64 ...\n",
       "    forcing_qsw_min       (T) float64 ...\n",
       "    forcing_qsw_mean      (T) float64 ...\n",
       "    forcing_qsw_sd        (T) float64 ...\n",
       "    forcing_qsw_del2      (T) float64 ...\n",
       "    forcing_empmr_max     (T) float64 ...\n",
       "    forcing_empmr_min     (T) float64 ...\n",
       "    forcing_empmr_mean    (T) float64 ...\n",
       "    forcing_empmr_sd      (T) float64 ...\n",
       "    forcing_empmr_del2    (T) float64 ...\n",
       "    forcing_fu_max        (T) float64 ...\n",
       "    forcing_fu_min        (T) float64 ...\n",
       "    forcing_fu_mean       (T) float64 ...\n",
       "    forcing_fu_sd         (T) float64 ...\n",
       "    forcing_fu_del2       (T) float64 ...\n",
       "    forcing_fv_max        (T) float64 ...\n",
       "    forcing_fv_min        (T) float64 ...\n",
       "    forcing_fv_mean       (T) float64 ...\n",
       "    forcing_fv_sd         (T) float64 ...\n",
       "    forcing_fv_del2       (T) float64 ...\n",
       "    advcfl_uvel_max       (T) float64 ...\n",
       "    advcfl_vvel_max       (T) float64 ...\n",
       "    advcfl_wvel_max       (T) float64 ...\n",
       "    advcfl_W_hf_max       (T) float64 ...\n",
       "    pe_b_mean             (T) float64 ...\n",
       "    ke_max                (T) float64 ...\n",
       "    ke_mean               (T) float64 ...\n",
       "    ke_vol                (T) float64 ...\n",
       "    vort_r_min            (T) float64 ...\n",
       "    vort_r_max            (T) float64 ...\n",
       "    vort_a_mean           (T) float64 ...\n",
       "    vort_a_sd             (T) float64 ...\n",
       "    vort_p_mean           (T) float64 ...\n",
       "    vort_p_sd             (T) float64 ...\n",
       "    surfExpan_theta_mean  (T) float64 ...\n",
       "    surfExpan_salt_mean   (T) float64 ...\n",
       "Attributes:\n",
       "    MITgcm_version:  checkpoint63n\n",
       "    build_user:      tu2140\n",
       "    build_host:      node189\n",
       "    build_date:      Wed Feb 27 15:34:52 EST 2019\n",
       "    MITgcm_URL:      http://mitgcm.org\n",
       "    MITgcm_tag_id:   1.1664 2012/06/04\n",
       "    MITgcm_mnc_ver:  0.9\n",
       "    tile_number:     1\n",
       "    bi:              1\n",
       "    bj:              1\n",
       "    sNx:             10\n",
       "    sNy:             20\n",
       "    OLx:             4\n",
       "    OLy:             4\n",
       "    nSx:             1\n",
       "    nSy:             1\n",
       "    nPx:             1\n",
       "    nPy:             1\n",
       "    Nx:              10\n",
       "    Ny:              20\n",
       "    Nr:              40"
      ]
     },
     "execution_count": 95,
     "metadata": {},
     "output_type": "execute_result"
    }
   ],
   "source": [
    "mon = xr.open_dataset(op.join(bdir,'monitor.0001944000.t001.nc'))\n",
    "mon"
   ]
  },
  {
   "cell_type": "code",
   "execution_count": 98,
   "metadata": {},
   "outputs": [
    {
     "data": {
      "text/plain": [
       "[<matplotlib.lines.Line2D at 0x7fd879c70668>]"
      ]
     },
     "execution_count": 98,
     "metadata": {},
     "output_type": "execute_result"
    },
    {
     "data": {
      "image/png": "[encoded data removed]",
      "text/plain": [
       "<Figure size 432x288 with 1 Axes>"
      ]
     },
     "metadata": {},
     "output_type": "display_data"
    }
   ],
   "source": [
    "mon.advcfl_uvel_max.plot()"
   ]
  },
  {
   "cell_type": "code",
   "execution_count": 3,
   "metadata": {},
   "outputs": [
    {
     "name": "stdout",
     "output_type": "stream",
     "text": [
      "2138400 2170800\n"
     ]
    }
   ],
   "source": [
    "dt = 4.8e3\n",
    "ys,dy = (330,5) # 330 yrs of spin up\n",
    "ts = int(ys*360*86400/dt)\n",
    "te = int(ts+dy*360*86400/dt)\n",
    "print(ts,te)"
   ]
  },
  {
   "cell_type": "code",
   "execution_count": 4,
   "metadata": {},
   "outputs": [
    {
     "name": "stderr",
     "output_type": "stream",
     "text": [
      "/home/takaya/xmitgcm/xmitgcm/utils.py:314: UserWarning: Not sure what to do with rlev = L\n",
      "  warnings.warn(\"Not sure what to do with rlev = \" + rlev)\n"
     ]
    },
    {
     "data": {
      "text/plain": [
       "<xarray.Dataset>\n",
       "Dimensions:    (XC: 10, XG: 10, YC: 20, YG: 20, Z: 40, Zl: 40, Zp1: 41, Zu: 40, time: 60)\n",
       "Coordinates:\n",
       "  * XC         (XC) >f4 50000.0 150000.0 250000.0 ... 750000.0 850000.0 950000.0\n",
       "  * YC         (YC) >f4 50000.0 150000.0 250000.0 ... 1850000.0 1950000.0\n",
       "  * XG         (XG) >f4 0.0 100000.0 200000.0 ... 700000.0 800000.0 900000.0\n",
       "  * YG         (YG) >f4 0.0 100000.0 200000.0 ... 1700000.0 1800000.0 1900000.0\n",
       "  * Z          (Z) >f4 -5.0 -15.0 -25.0 -36.0 ... -2727.5 -2830.5 -2933.5\n",
       "  * Zp1        (Zp1) >f4 0.0 -10.0 -20.0 -30.0 ... -2779.0 -2882.0 -2985.0\n",
       "  * Zu         (Zu) >f4 -10.0 -20.0 -30.0 -42.0 ... -2779.0 -2882.0 -2985.0\n",
       "  * Zl         (Zl) >f4 0.0 -10.0 -20.0 -30.0 ... -2676.0 -2779.0 -2882.0\n",
       "    rA         (YC, XC) >f4 dask.array<shape=(20, 10), chunksize=(20, 10)>\n",
       "    dxG        (YG, XC) >f4 dask.array<shape=(20, 10), chunksize=(20, 10)>\n",
       "    dyG        (YC, XG) >f4 dask.array<shape=(20, 10), chunksize=(20, 10)>\n",
       "    Depth      (YC, XC) >f4 dask.array<shape=(20, 10), chunksize=(20, 10)>\n",
       "    rAz        (YG, XG) >f4 dask.array<shape=(20, 10), chunksize=(20, 10)>\n",
       "    dxC        (YC, XG) >f4 dask.array<shape=(20, 10), chunksize=(20, 10)>\n",
       "    dyC        (YG, XC) >f4 dask.array<shape=(20, 10), chunksize=(20, 10)>\n",
       "    rAw        (YC, XG) >f4 dask.array<shape=(20, 10), chunksize=(20, 10)>\n",
       "    rAs        (YG, XC) >f4 dask.array<shape=(20, 10), chunksize=(20, 10)>\n",
       "    drC        (Zp1) float64 dask.array<shape=(41,), chunksize=(41,)>\n",
       "    drF        (Z) >f4 dask.array<shape=(40,), chunksize=(40,)>\n",
       "    PHrefC     (Z) >f4 dask.array<shape=(40,), chunksize=(40,)>\n",
       "    PHrefF     (Zp1) >f4 dask.array<shape=(41,), chunksize=(41,)>\n",
       "    hFacC      (Z, YC, XC) >f4 dask.array<shape=(40, 20, 10), chunksize=(40, 20, 10)>\n",
       "    hFacW      (Z, YC, XG) >f4 dask.array<shape=(40, 20, 10), chunksize=(40, 20, 10)>\n",
       "    hFacS      (Z, YG, XC) >f4 dask.array<shape=(40, 20, 10), chunksize=(40, 20, 10)>\n",
       "    iter       (time) int64 dask.array<shape=(60,), chunksize=(1,)>\n",
       "  * time       (time) float64 1.027e+10 1.027e+10 ... 1.042e+10 1.042e+10\n",
       "Data variables:\n",
       "    Ttave      (time, Z, YC, XC) float32 dask.array<shape=(60, 40, 20, 10), chunksize=(1, 40, 20, 10)>\n",
       "    PTRtave03  (time, Z, YC, XC) float32 dask.array<shape=(60, 40, 20, 10), chunksize=(1, 40, 20, 10)>"
      ]
     },
     "execution_count": 4,
     "metadata": {},
     "output_type": "execute_result"
    }
   ],
   "source": [
    "dsave = open_mdsdataset(op.join(bdir,'100kmMLI_fmR1000diag'), \n",
    "                       grid_dir=op.join(bdir,'100km_grid'), \n",
    "                       iters=range(ts+540,te+540,540),\n",
    "#                        iters=range(int(360*86400*ys/8e2 + 0e0*360*86400/12e2 + 112e0*360*86400/36e2 \n",
    "#                                       + 177*360*86400/dt)+1440,\n",
    "#                                   int(360*86400*ys/8e2 + 0e0*360*86400/12e2 + 112e0*360*86400/36e2 \n",
    "#                                      + 177*360*86400/dt+360*86400*17/dt)+1440,1440),\n",
    "                       prefix=['Ttave',\n",
    "#                                'wVeltave',\n",
    "                              'PTRtave03'\n",
    "#                               ,'PtrFlux03'\n",
    "                              ], delta_t=dt\n",
    "                      )\n",
    "dsave"
   ]
  },
  {
   "cell_type": "code",
   "execution_count": 5,
   "metadata": {},
   "outputs": [
    {
     "data": {
      "text/plain": [
       "<matplotlib.contour.QuadContourSet at 0x7f6b187f69b0>"
      ]
     },
     "execution_count": 5,
     "metadata": {},
     "output_type": "execute_result"
    },
    {
     "data": {
      "image/png": "[encoded data removed]",
      "text/plain": [
       "<Figure size 720x432 with 2 Axes>"
      ]
     },
     "metadata": {},
     "output_type": "display_data"
    }
   ],
   "source": [
    "fig,ax = plt.subplots(figsize=(10,6))\n",
    "# (dsave.PTRtave03.mean(['time','XC'])*1e3).plot.contourf(ax=ax, levels=np.linspace(0,.4,11),\n",
    "#                                                         cmap='gist_heat_r')\n",
    "dsave.Ttave.mean(['time','XC']).plot.contourf(ax=ax, levels=np.linspace(0,8,30),\n",
    "                                            cmap='gist_heat_r')"
   ]
  },
  {
   "cell_type": "code",
   "execution_count": 9,
   "metadata": {},
   "outputs": [
    {
     "data": {
      "text/plain": [
       "50.0"
      ]
     },
     "execution_count": 9,
     "metadata": {},
     "output_type": "execute_result"
    }
   ],
   "source": [
    "324000*4800/(360*86400)"
   ]
  },
  {
   "cell_type": "code",
   "execution_count": 7,
   "metadata": {},
   "outputs": [
    {
     "name": "stderr",
     "output_type": "stream",
     "text": [
      "/home/takaya/miniconda3/envs/uptodate/lib/python3.6/site-packages/matplotlib/figure.py:2369: UserWarning: This figure includes Axes that are not compatible with tight_layout, so results might be incorrect.\n",
      "  warnings.warn(\"This figure includes Axes that are not compatible \"\n"
     ]
    },
    {
     "data": {
      "image/png": "[encoded data removed]",
      "text/plain": [
       "<Figure size 360x216 with 2 Axes>"
      ]
     },
     "metadata": {},
     "output_type": "display_data"
    }
   ],
   "source": [
    "tlevs = np.array([0,.8,1,3,4,5])\n",
    "fig, ax = plt.subplots(figsize=(5,3))\n",
    "fig.set_tight_layout(True)\n",
    "im = ax.contourf(dsave.YC*1e-3, dsave.Z, dsave.PTRtave03[-60:].mean(['time','XC'])*1e3,\n",
    "               levels=np.linspace(0,.4,9), extend='max', cmap = 'gist_heat_r')\n",
    "cs = ax.contour(dsave.YC*1e-3, dsave.Z, dsave.Ttave[-60:].mean(['time','XC']), \n",
    "              levels=tlevs, cmap='binary')\n",
    "for c in im.collections:\n",
    "    c.set_rasterized(True)\n",
    "for c in cs.collections:\n",
    "    c.set_rasterized(True)\n",
    "ax.set_title(r\"Fe\", fontsize=13)\n",
    "ax.set_ylabel(r\"Depth [m]\", fontsize=12)\n",
    "ax.set_xlabel(r\"Y [km]\", fontsize=12)\n",
    "ax.set_ylim([dsave.Z[-1],0])\n",
    "plt.clabel(cs, inline=1, fontsize=11)\n",
    "cb = fig.colorbar(im, ax=ax)\n",
    "cb.set_label(r\"[$\\mu$mol Fe m$^{-3}$]\",fontsize=12)\n",
    "plt.savefig(op.join(bdir,'Figures/Fe-transect_100km-GM1000.pdf'))"
   ]
  },
  {
   "cell_type": "code",
   "execution_count": 104,
   "metadata": {},
   "outputs": [
    {
     "data": {
      "text/plain": [
       "[<matplotlib.lines.Line2D at 0x7fd85fdc7e80>]"
      ]
     },
     "execution_count": 104,
     "metadata": {},
     "output_type": "execute_result"
    },
    {
     "data": {
      "image/png": "[encoded data removed]",
      "text/plain": [
       "<Figure size 432x288 with 1 Axes>"
      ]
     },
     "metadata": {},
     "output_type": "display_data"
    }
   ],
   "source": [
    "(dsave.Ttave*dsave.drF).mean(['Z','YC','XC']).plot()"
   ]
  },
  {
   "cell_type": "code",
   "execution_count": 86,
   "metadata": {},
   "outputs": [
    {
     "name": "stderr",
     "output_type": "stream",
     "text": [
      "/home/takaya/miniconda3/envs/uptodate/lib/python3.6/site-packages/dask/array/numpy_compat.py:28: RuntimeWarning: invalid value encountered in true_divide\n",
      "  x = np.divide(x1, x2, out)\n"
     ]
    },
    {
     "data": {
      "text/plain": [
       "[<matplotlib.lines.Line2D at 0x7fd8a0691e80>]"
      ]
     },
     "execution_count": 86,
     "metadata": {},
     "output_type": "execute_result"
    },
    {
     "data": {
      "image/png": "[encoded data removed]",
      "text/plain": [
       "<Figure size 432x288 with 1 Axes>"
      ]
     },
     "metadata": {},
     "output_type": "display_data"
    }
   ],
   "source": [
    "(dsave.Ttave*dsave.drF).mean(['Z','YC','XC']).plot()"
   ]
  },
  {
   "cell_type": "code",
   "execution_count": 103,
   "metadata": {},
   "outputs": [
    {
     "name": "stderr",
     "output_type": "stream",
     "text": [
      "/home/takaya/xmitgcm/xmitgcm/utils.py:314: UserWarning: Not sure what to do with rlev = L\n",
      "  warnings.warn(\"Not sure what to do with rlev = \" + rlev)\n",
      "/home/takaya/xmitgcm/xmitgcm/mds_store.py:235: FutureWarning: iteration over an xarray.Dataset will change in xarray v0.11 to only include data variables, not coordinates. Iterate over the Dataset.variables property instead to preserve existing behavior in a forwards compatible manner.\n",
      "  for vname in ds:\n"
     ]
    },
    {
     "data": {
      "text/plain": [
       "<xarray.Dataset>\n",
       "Dimensions:   (XC: 10, XG: 10, YC: 20, YG: 20, Z: 40, Zl: 40, Zp1: 41, Zu: 40, time: 1800)\n",
       "Coordinates:\n",
       "  * XC        (XC) >f4 50000.0 150000.0 250000.0 350000.0 450000.0 550000.0 ...\n",
       "  * YC        (YC) >f4 50000.0 150000.0 250000.0 350000.0 450000.0 550000.0 ...\n",
       "  * XG        (XG) >f4 0.0 100000.0 200000.0 300000.0 400000.0 500000.0 ...\n",
       "  * YG        (YG) >f4 0.0 100000.0 200000.0 300000.0 400000.0 500000.0 ...\n",
       "  * Z         (Z) >f4 -5.0 -15.0 -25.0 -36.0 -49.0 -64.0 -81.5 -102.0 -126.0 ...\n",
       "  * Zp1       (Zp1) >f4 0.0 -10.0 -20.0 -30.0 -42.0 -56.0 -72.0 -91.0 -113.0 ...\n",
       "  * Zu        (Zu) >f4 -10.0 -20.0 -30.0 -42.0 -56.0 -72.0 -91.0 -113.0 ...\n",
       "  * Zl        (Zl) >f4 0.0 -10.0 -20.0 -30.0 -42.0 -56.0 -72.0 -91.0 -113.0 ...\n",
       "    rA        (YC, XC) >f4 dask.array<shape=(20, 10), chunksize=(20, 10)>\n",
       "    dxG       (YG, XC) >f4 dask.array<shape=(20, 10), chunksize=(20, 10)>\n",
       "    dyG       (YC, XG) >f4 dask.array<shape=(20, 10), chunksize=(20, 10)>\n",
       "    Depth     (YC, XC) >f4 dask.array<shape=(20, 10), chunksize=(20, 10)>\n",
       "    rAz       (YG, XG) >f4 dask.array<shape=(20, 10), chunksize=(20, 10)>\n",
       "    dxC       (YC, XG) >f4 dask.array<shape=(20, 10), chunksize=(20, 10)>\n",
       "    dyC       (YG, XC) >f4 dask.array<shape=(20, 10), chunksize=(20, 10)>\n",
       "    rAw       (YC, XG) >f4 dask.array<shape=(20, 10), chunksize=(20, 10)>\n",
       "    rAs       (YG, XC) >f4 dask.array<shape=(20, 10), chunksize=(20, 10)>\n",
       "    drC       (Zp1) float64 dask.array<shape=(41,), chunksize=(41,)>\n",
       "    drF       (Z) >f4 dask.array<shape=(40,), chunksize=(40,)>\n",
       "    PHrefC    (Z) >f4 dask.array<shape=(40,), chunksize=(40,)>\n",
       "    PHrefF    (Zp1) >f4 dask.array<shape=(41,), chunksize=(41,)>\n",
       "    hFacC     (Z, YC, XC) >f4 dask.array<shape=(40, 20, 10), chunksize=(40, 20, 10)>\n",
       "    hFacW     (Z, YC, XG) >f4 dask.array<shape=(40, 20, 10), chunksize=(40, 20, 10)>\n",
       "    hFacS     (Z, YG, XC) >f4 dask.array<shape=(40, 20, 10), chunksize=(40, 20, 10)>\n",
       "    iter      (time) int64 dask.array<shape=(1800,), chunksize=(1,)>\n",
       "  * time      (time) float64 1.026e+10 1.026e+10 1.026e+10 1.026e+10 ...\n",
       "Data variables:\n",
       "    UVEL      (time, Z, YC, XG) float32 dask.array<shape=(1800, 40, 20, 10), chunksize=(1, 40, 20, 10)>\n",
       "    VVEL      (time, Z, YG, XC) float32 dask.array<shape=(1800, 40, 20, 10), chunksize=(1, 40, 20, 10)>\n",
       "    WVEL      (time, Zl, YC, XC) float32 dask.array<shape=(1800, 40, 20, 10), chunksize=(1, 40, 20, 10)>\n",
       "    PHIHYD    (time, Z, YC, XC) float32 dask.array<shape=(1800, 40, 20, 10), chunksize=(1, 40, 20, 10)>\n",
       "    THETA     (time, Z, YC, XC) float32 dask.array<shape=(1800, 40, 20, 10), chunksize=(1, 40, 20, 10)>\n",
       "    KPPhbl    (time, YC, XC) float32 dask.array<shape=(1800, 20, 10), chunksize=(1, 20, 10)>\n",
       "    TRAC08    (time, Z, YC, XC) float32 dask.array<shape=(1800, 40, 20, 10), chunksize=(1, 40, 20, 10)>\n",
       "    TRAC12    (time, Z, YC, XC) float32 dask.array<shape=(1800, 40, 20, 10), chunksize=(1, 40, 20, 10)>\n",
       "    TRAC22    (time, Z, YC, XC) float32 dask.array<shape=(1800, 40, 20, 10), chunksize=(1, 40, 20, 10)>\n",
       "    TRAC23    (time, Z, YC, XC) float32 dask.array<shape=(1800, 40, 20, 10), chunksize=(1, 40, 20, 10)>\n",
       "    TRAC26    (time, Z, YC, XC) float32 dask.array<shape=(1800, 40, 20, 10), chunksize=(1, 40, 20, 10)>\n",
       "    PP        (time, Z, YC, XC) float32 dask.array<shape=(1800, 40, 20, 10), chunksize=(1, 40, 20, 10)>\n",
       "    TRAC03    (time, Z, YC, XC) float32 dask.array<shape=(1800, 40, 20, 10), chunksize=(1, 40, 20, 10)>\n",
       "    VTRAC03   (time, Z, YG, XC) float32 dask.array<shape=(1800, 40, 20, 10), chunksize=(1, 40, 20, 10)>\n",
       "    WTRAC03   (time, Z, YC, XC) float32 dask.array<shape=(1800, 40, 20, 10), chunksize=(1, 40, 20, 10)>\n",
       "    ADVyTr03  (time, Z, YG, XC) float32 dask.array<shape=(1800, 40, 20, 10), chunksize=(1, 40, 20, 10)>\n",
       "    ADVrTr03  (time, Zl, YC, XC) float32 dask.array<shape=(1800, 40, 20, 10), chunksize=(1, 40, 20, 10)>\n",
       "    DFxETr03  (time, Z, YC, XG) float32 dask.array<shape=(1800, 40, 20, 10), chunksize=(1, 40, 20, 10)>\n",
       "    DFyETr03  (time, Z, YG, XC) float32 dask.array<shape=(1800, 40, 20, 10), chunksize=(1, 40, 20, 10)>\n",
       "    DFrETr03  (time, Zl, YC, XC) float32 dask.array<shape=(1800, 40, 20, 10), chunksize=(1, 40, 20, 10)>\n",
       "    DFrITr03  (time, Zl, YC, XC) float32 dask.array<shape=(1800, 40, 20, 10), chunksize=(1, 40, 20, 10)>\n",
       "    KPPgTr03  (time, Zl, YC, XC) float32 dask.array<shape=(1800, 40, 20, 10), chunksize=(1, 40, 20, 10)>\n",
       "    FeTbgc    (time, Z, YC, XC) float32 dask.array<shape=(1800, 40, 20, 10), chunksize=(1, 40, 20, 10)>"
      ]
     },
     "execution_count": 103,
     "metadata": {},
     "output_type": "execute_result"
    }
   ],
   "source": [
    "ds = open_mdsdataset(op.join(bdir,'100kmMLI_fmR1000diag'), \n",
    "                    grid_dir=op.join(bdir,'100km_grid'), \n",
    "                    iters=range(ts+18,te+18,18),\n",
    "                    prefix=['MOMtave','FeTtave','BIOtave',\n",
    "                           'KPPboundary'\n",
    "                           ], delta_t=dt\n",
    "                    )\n",
    "ds"
   ]
  },
  {
   "cell_type": "code",
   "execution_count": 106,
   "metadata": {},
   "outputs": [],
   "source": [
    "grid = Grid(ds, periodic=['X'])"
   ]
  },
  {
   "cell_type": "code",
   "execution_count": 113,
   "metadata": {},
   "outputs": [
    {
     "data": {
      "text/plain": [
       "<xarray.DataArray (day: 360, YC: 20)>\n",
       "array([[   0. , 2933.5,   30. , ...,   30. ,   30. ,   30. ],\n",
       "       [   0. , 2933.5,   30. , ...,   30. ,   30. ,   30. ],\n",
       "       [   0. , 2933.5,   30. , ...,   30. ,   30. ,   30. ],\n",
       "       ...,\n",
       "       [   0. , 2933.5,   30. , ...,   30. ,   30. ,   30. ],\n",
       "       [   0. , 2933.5,   30. , ...,   30. ,   30. ,   30. ],\n",
       "       [   0. , 2933.5,   30. , ...,   30. ,   30. ,   30. ]])\n",
       "Coordinates:\n",
       "  * YC       (YC) >f4 50000.0 150000.0 250000.0 350000.0 450000.0 550000.0 ...\n",
       "  * day      (day) int64 0 1 2 3 4 5 6 7 8 9 10 11 12 13 14 15 16 17 18 19 ..."
      ]
     },
     "execution_count": 113,
     "metadata": {},
     "output_type": "execute_result"
    }
   ],
   "source": [
    "hbl99 = xr.DataArray(np.percentile(ds.KPPhbl, 99, axis=-1), dims=['time','YC'],\n",
    "                    coords={'time':ds.time,'YC':ds.YC})\n",
    "hbl99.coords['day'] = ('time',np.tile(range(360),dy))\n",
    "hbl99.coords['seas'] = ('time',np.tile(np.repeat(range(4),90),dy))\n",
    "hbl99.coords['month'] = ('time',np.tile(np.repeat(range(12),30),dy))\n",
    "hbl99.to_dataset(name='hbl99').to_netcdf(op.join(bdir,'KPPhbl_99percentile_100kmMLI-02km_fmR1000.nc'))\n",
    "# hbl99 = xr.open_dataset(op.join(bdir,'KPPhbl_99percentile_20kmMLI-Ce007_Tau55-02km.nc'), \n",
    "#                         decode_times=False).hbl99\n",
    "with ProgressBar():\n",
    "    hbl99_day = hbl99.groupby('day').mean('time').compute()\n",
    "# #     hbl99_sea = hbl99.groupby('seas').mean('time').compute()\n",
    "# #     hbl99_mon = hbl99.groupby('month').mean('time').compute()\n",
    "hbl99_day"
   ]
  },
  {
   "cell_type": "code",
   "execution_count": 114,
   "metadata": {},
   "outputs": [
    {
     "data": {
      "text/plain": [
       "[<matplotlib.lines.Line2D at 0x7fd98015d7b8>]"
      ]
     },
     "execution_count": 114,
     "metadata": {},
     "output_type": "execute_result"
    },
    {
     "data": {
      "image/png": "[encoded data removed]",
      "text/plain": [
       "<Figure size 432x288 with 1 Axes>"
      ]
     },
     "metadata": {},
     "output_type": "display_data"
    }
   ],
   "source": [
    "(-hbl99).mean(['time']).plot()"
   ]
  },
  {
   "cell_type": "code",
   "execution_count": 107,
   "metadata": {},
   "outputs": [
    {
     "name": "stderr",
     "output_type": "stream",
     "text": [
      "/home/takaya/xmitgcm/xmitgcm/utils.py:314: UserWarning: Not sure what to do with rlev = L\n",
      "  warnings.warn(\"Not sure what to do with rlev = \" + rlev)\n",
      "/home/takaya/xmitgcm/xmitgcm/mds_store.py:235: FutureWarning: iteration over an xarray.Dataset will change in xarray v0.11 to only include data variables, not coordinates. Iterate over the Dataset.variables property instead to preserve existing behavior in a forwards compatible manner.\n",
      "  for vname in ds:\n"
     ]
    },
    {
     "name": "stdout",
     "output_type": "stream",
     "text": [
      "<xarray.DataArray 'W' (time: 120, Zl: 40, YC: 20, XC: 10)>\n",
      "dask.array<shape=(120, 40, 20, 10), dtype=float32, chunksize=(1, 40, 20, 10)>\n",
      "Coordinates:\n",
      "  * XC       (XC) >f4 50000.0 150000.0 250000.0 350000.0 450000.0 550000.0 ...\n",
      "  * YC       (YC) >f4 50000.0 150000.0 250000.0 350000.0 450000.0 550000.0 ...\n",
      "  * Zl       (Zl) >f4 0.0 -10.0 -20.0 -30.0 -42.0 -56.0 -72.0 -91.0 -113.0 ...\n",
      "    rA       (YC, XC) >f4 dask.array<shape=(20, 10), chunksize=(20, 10)>\n",
      "    Depth    (YC, XC) >f4 dask.array<shape=(20, 10), chunksize=(20, 10)>\n",
      "    iter     (time) int64 dask.array<shape=(120,), chunksize=(1,)>\n",
      "  * time     (time) float64 1.026e+10 1.027e+10 1.027e+10 1.027e+10 ...\n",
      "Attributes:\n",
      "    standard_name:  sea_water_z_velocity\n",
      "    long_name:      Vertical Component of Velocity\n",
      "    units:          m s-1 <xarray.DataArray 'wVeltave' (time: 60, Zl: 40, YC: 20, XC: 10)>\n",
      "dask.array<shape=(60, 40, 20, 10), dtype=float32, chunksize=(1, 40, 20, 10)>\n",
      "Coordinates:\n",
      "  * XC       (XC) >f4 50000.0 150000.0 250000.0 350000.0 450000.0 550000.0 ...\n",
      "  * YC       (YC) >f4 50000.0 150000.0 250000.0 350000.0 450000.0 550000.0 ...\n",
      "  * Zl       (Zl) >f4 0.0 -10.0 -20.0 -30.0 -42.0 -56.0 -72.0 -91.0 -113.0 ...\n",
      "    rA       (YC, XC) >f4 dask.array<shape=(20, 10), chunksize=(20, 10)>\n",
      "    Depth    (YC, XC) >f4 dask.array<shape=(20, 10), chunksize=(20, 10)>\n",
      "    iter     (time) int64 dask.array<shape=(60,), chunksize=(1,)>\n",
      "  * time     (time) float64 1.027e+10 1.027e+10 1.027e+10 1.027e+10 ...\n",
      "Attributes:\n",
      "    standard_name:  sea_water_z_velocity\n",
      "    long_name:      Vertical Component of Velocity\n",
      "    units:          m s-1\n"
     ]
    }
   ],
   "source": [
    "dsnap = open_mdsdataset(op.join(bdir,'100kmMLI_fmR1000diag'), \n",
    "                       grid_dir=op.join(bdir,'100km_grid'), iters=range(ts,te,270),\n",
    "                       prefix=['W','PTRACER03',\n",
    "#                               'PTRACER26'\n",
    "                              ], delta_t=dt\n",
    "                       )\n",
    "dsmon = open_mdsdataset(op.join(bdir,'100kmMLI_fmR1000diag'), \n",
    "                       grid_dir=op.join(bdir,'100km_grid'), iters=range(ts+540,te+540,540),\n",
    "                       prefix=['wVeltave','PTRtave03',\n",
    "#                               'PTRtave26'\n",
    "                              ], delta_t=dt\n",
    "                       )\n",
    "wsp = dsnap.W\n",
    "Fesp = dsnap.PTRACER03\n",
    "# POCsp = dsnap.PTRACER26\n",
    "wm = dsmon.wVeltave\n",
    "Fem = dsmon.PTRtave03\n",
    "# POCm = dsmon.PTRtave26\n",
    "print(wsp,wm)"
   ]
  },
  {
   "cell_type": "code",
   "execution_count": 108,
   "metadata": {},
   "outputs": [],
   "source": [
    "diff = ds.DFrITr03+ds.DFrETr03\n",
    "advW = ds.ADVrTr03\n",
    "dfz_cons = diff/(ds.rA)\n",
    "adz_cons = advW/(ds.rA)\n",
    "dfz_cons.coords['day'] = ('time',np.tile(range(360),dy))\n",
    "adz_cons.coords['day'] = ('time',np.tile(range(360),dy))\n",
    "wsp.coords['seas'] = ('time',np.tile(np.repeat(range(4),6),dy))\n",
    "Fesp.coords['seas'] = ('time',np.tile(np.repeat(range(4),6),dy))\n",
    "wm.coords['seas'] = ('time',np.tile(np.repeat(range(4),3),dy))\n",
    "Fem.coords['seas'] = ('time',np.tile(np.repeat(range(4),3),dy))\n",
    "# POCsp.coords['seas'] = ('time',np.tile(np.repeat(range(4),6),dy))\n",
    "# POCm.coords['seas'] = ('time',np.tile(np.repeat(range(4),3),dy))\n",
    "wp = wsp.groupby('seas') - wm.groupby('seas').mean(['time','XC'])\n",
    "Fep = Fesp.groupby('seas') - Fem.groupby('seas').mean(['time','XC'])\n",
    "# POCp = POCsp.groupby('seas') - POCm.groupby('seas').mean(['time','XC'])"
   ]
  },
  {
   "cell_type": "code",
   "execution_count": 109,
   "metadata": {},
   "outputs": [
    {
     "name": "stdout",
     "output_type": "stream",
     "text": [
      "[########################################] | 100% Completed | 14.9s\n",
      "[########################################] | 100% Completed |  3.0s\n"
     ]
    }
   ],
   "source": [
    "wpFep = wp*grid.interp(Fep,'Z',boundary='fill')\n",
    "wpFep.coords['day'] = ('time',np.tile(range(24),dy))\n",
    "with ProgressBar():\n",
    "    dfz_c = dfz_cons.sel(YC=slice(6e5,14e5)).groupby('day').mean(['time','YC','XC']).compute()\n",
    "#     adz_c = adz_cons.sel(YC=slice(6e5,14e5)).groupby('day').mean(['time','YC','XC']).compute()\n",
    "    wpFep_d = wpFep.sel(YC=slice(6e5,14e5)).groupby('day').mean(['time','YC','XC']).compute()"
   ]
  },
  {
   "cell_type": "code",
   "execution_count": 112,
   "metadata": {},
   "outputs": [
    {
     "name": "stderr",
     "output_type": "stream",
     "text": [
      "/home/takaya/xmitgcm/xmitgcm/utils.py:314: UserWarning: Not sure what to do with rlev = L\n",
      "  warnings.warn(\"Not sure what to do with rlev = \" + rlev)\n",
      "/home/takaya/xmitgcm/xmitgcm/mds_store.py:235: FutureWarning: iteration over an xarray.Dataset will change in xarray v0.11 to only include data variables, not coordinates. Iterate over the Dataset.variables property instead to preserve existing behavior in a forwards compatible manner.\n",
      "  for vname in ds:\n"
     ]
    },
    {
     "data": {
      "text/plain": [
       "<xarray.Dataset>\n",
       "Dimensions:  (XC: 10, XG: 10, YC: 20, YG: 20, Z: 40, Zl: 40, Zp1: 41, Zu: 40, time: 120)\n",
       "Coordinates:\n",
       "  * XC       (XC) >f4 50000.0 150000.0 250000.0 350000.0 450000.0 550000.0 ...\n",
       "  * YC       (YC) >f4 50000.0 150000.0 250000.0 350000.0 450000.0 550000.0 ...\n",
       "  * XG       (XG) >f4 0.0 100000.0 200000.0 300000.0 400000.0 500000.0 ...\n",
       "  * YG       (YG) >f4 0.0 100000.0 200000.0 300000.0 400000.0 500000.0 ...\n",
       "  * Z        (Z) >f4 -5.0 -15.0 -25.0 -36.0 -49.0 -64.0 -81.5 -102.0 -126.0 ...\n",
       "  * Zp1      (Zp1) >f4 0.0 -10.0 -20.0 -30.0 -42.0 -56.0 -72.0 -91.0 -113.0 ...\n",
       "  * Zu       (Zu) >f4 -10.0 -20.0 -30.0 -42.0 -56.0 -72.0 -91.0 -113.0 ...\n",
       "  * Zl       (Zl) >f4 0.0 -10.0 -20.0 -30.0 -42.0 -56.0 -72.0 -91.0 -113.0 ...\n",
       "    rA       (YC, XC) >f4 dask.array<shape=(20, 10), chunksize=(20, 10)>\n",
       "    dxG      (YG, XC) >f4 dask.array<shape=(20, 10), chunksize=(20, 10)>\n",
       "    dyG      (YC, XG) >f4 dask.array<shape=(20, 10), chunksize=(20, 10)>\n",
       "    Depth    (YC, XC) >f4 dask.array<shape=(20, 10), chunksize=(20, 10)>\n",
       "    rAz      (YG, XG) >f4 dask.array<shape=(20, 10), chunksize=(20, 10)>\n",
       "    dxC      (YC, XG) >f4 dask.array<shape=(20, 10), chunksize=(20, 10)>\n",
       "    dyC      (YG, XC) >f4 dask.array<shape=(20, 10), chunksize=(20, 10)>\n",
       "    rAw      (YC, XG) >f4 dask.array<shape=(20, 10), chunksize=(20, 10)>\n",
       "    rAs      (YG, XC) >f4 dask.array<shape=(20, 10), chunksize=(20, 10)>\n",
       "    drC      (Zp1) float64 dask.array<shape=(41,), chunksize=(41,)>\n",
       "    drF      (Z) >f4 dask.array<shape=(40,), chunksize=(40,)>\n",
       "    PHrefC   (Z) >f4 dask.array<shape=(40,), chunksize=(40,)>\n",
       "    PHrefF   (Zp1) >f4 dask.array<shape=(41,), chunksize=(41,)>\n",
       "    hFacC    (Z, YC, XC) >f4 dask.array<shape=(40, 20, 10), chunksize=(40, 20, 10)>\n",
       "    hFacW    (Z, YC, XG) >f4 dask.array<shape=(40, 20, 10), chunksize=(40, 20, 10)>\n",
       "    hFacS    (Z, YG, XC) >f4 dask.array<shape=(40, 20, 10), chunksize=(40, 20, 10)>\n",
       "    iter     (time) int64 dask.array<shape=(120,), chunksize=(1,)>\n",
       "  * time     (time) float64 1.026e+10 1.027e+10 1.027e+10 1.027e+10 ...\n",
       "Data variables:\n",
       "    GM_PsiX  (time, Zl, YC, XG) float32 dask.array<shape=(120, 40, 20, 10), chunksize=(1, 40, 20, 10)>\n",
       "    GM_PsiY  (time, Zl, YG, XC) float32 dask.array<shape=(120, 40, 20, 10), chunksize=(1, 40, 20, 10)>"
      ]
     },
     "execution_count": 112,
     "metadata": {},
     "output_type": "execute_result"
    }
   ],
   "source": [
    "dsGM = open_mdsdataset(op.join(bdir,'100kmMLI_fmR1000diag'),\n",
    "                      grid_dir=op.join(bdir,'100km_grid'), iters=range(ts,te,270),\n",
    "                      prefix=['GMpsi15D',\n",
    "                             ], delta_t=dt\n",
    "                      )\n",
    "dsGM"
   ]
  },
  {
   "cell_type": "code",
   "execution_count": 115,
   "metadata": {},
   "outputs": [
    {
     "name": "stderr",
     "output_type": "stream",
     "text": [
      "/home/takaya/xrft/xrft/xrft.py:272: FutureWarning: xarray.DataArray.__contains__ currently checks membership in DataArray.coords, but in xarray v0.11 will change to check membership in array values.\n",
      "  elif d in da:\n"
     ]
    },
    {
     "name": "stdout",
     "output_type": "stream",
     "text": [
      "[########################################] | 100% Completed |  0.1s\n",
      "[########################################] | 100% Completed |  0.1s\n",
      "[########################################] | 100% Completed |  0.1s\n",
      "[########################################] | 100% Completed |  4.7s\n"
     ]
    },
    {
     "data": {
      "text/plain": [
       "<xarray.DataArray (time: 120, Zl: 40, YC: 20, XC: 10)>\n",
       "array([[[[ 0.000000e+00, ...,  0.000000e+00],\n",
       "         ...,\n",
       "         [ 0.000000e+00, ...,  0.000000e+00]],\n",
       "\n",
       "        ...,\n",
       "\n",
       "        [[ 0.000000e+00, ...,  0.000000e+00],\n",
       "         ...,\n",
       "         [-1.537683e-22, ...,  1.625427e-22]]],\n",
       "\n",
       "\n",
       "       ...,\n",
       "\n",
       "\n",
       "       [[[ 0.000000e+00, ...,  0.000000e+00],\n",
       "         ...,\n",
       "         [ 0.000000e+00, ...,  0.000000e+00]],\n",
       "\n",
       "        ...,\n",
       "\n",
       "        [[ 0.000000e+00, ...,  0.000000e+00],\n",
       "         ...,\n",
       "         [-1.566334e-22, ...,  1.605094e-22]]]])\n",
       "Coordinates:\n",
       "  * time     (time) float64 1.026e+10 1.027e+10 1.027e+10 1.027e+10 ...\n",
       "  * Zl       (Zl) >f4 0.0 -10.0 -20.0 -30.0 -42.0 -56.0 -72.0 -91.0 -113.0 ...\n",
       "  * YC       (YC) >f4 50000.0 150000.0 250000.0 350000.0 450000.0 550000.0 ...\n",
       "  * XC       (XC) >f4 50000.0 150000.0 250000.0 350000.0 450000.0 550000.0 ..."
      ]
     },
     "execution_count": 115,
     "metadata": {},
     "output_type": "execute_result"
    }
   ],
   "source": [
    "gridGM = Grid(dsGM, periodic=['X'])\n",
    "Psiyk = xrft.dft(dsGM.GM_PsiY, dim=['XC'], shift=False)\n",
    "Psiy_x = dsar.fft.ifft((Psiyk*1j*2*np.pi*Psiyk.freq_XC).data, axis=-1).compute()\n",
    "Psiy_x = gridGM.interp(xr.DataArray(Psiy_x.real, dims=dsGM.GM_PsiY.dims, coords=dsGM.GM_PsiY.coords),\n",
    "                      'Y', boundary='fill')\n",
    "with ProgressBar():\n",
    "    wGM = (Psiy_x - gridGM.interp(gridGM.interp(gridGM.diff(dsGM.GM_PsiX*dsGM.dxC,'Y',boundary='fill')\n",
    "                                               / dsGM.rAz,\n",
    "                                               'Y',boundary='fill'),\n",
    "                                 'X')\n",
    "          ).compute()\n",
    "wGM"
   ]
  },
  {
   "cell_type": "code",
   "execution_count": 118,
   "metadata": {},
   "outputs": [
    {
     "name": "stdout",
     "output_type": "stream",
     "text": [
      "[########################################] | 100% Completed |  2.0s\n"
     ]
    },
    {
     "data": {
      "text/plain": [
       "<xarray.DataArray (day: 24, Zl: 40)>\n",
       "array([[ 0.000000e+00,  3.269743e-28,  3.557881e-28, ...,  5.246065e-32,\n",
       "        -1.472229e-30,  3.895495e-29],\n",
       "       [ 0.000000e+00,  2.457812e-28,  2.683803e-28, ...,  7.327837e-32,\n",
       "        -1.543009e-30,  3.985594e-29],\n",
       "       [ 0.000000e+00,  1.989412e-28,  2.161544e-28, ..., -6.983207e-23,\n",
       "        -3.256840e-23,  4.013157e-29],\n",
       "       ...,\n",
       "       [ 0.000000e+00, -2.587591e-28, -2.113350e-28, ...,  7.910733e-32,\n",
       "        -1.101674e-30,  3.534682e-29],\n",
       "       [ 0.000000e+00,  1.039500e-28,  1.131621e-28, ..., -1.240878e-22,\n",
       "        -1.218253e-30,  3.630360e-29],\n",
       "       [ 0.000000e+00,  3.650989e-28,  3.954498e-28, ...,  4.996253e-32,\n",
       "         5.707681e-22,  3.760013e-29]])\n",
       "Coordinates:\n",
       "  * Zl       (Zl) >f4 0.0 -10.0 -20.0 -30.0 -42.0 -56.0 -72.0 -91.0 -113.0 ...\n",
       "  * day      (day) int64 0 1 2 3 4 5 6 7 8 9 10 11 12 13 14 15 16 17 18 19 ..."
      ]
     },
     "execution_count": 118,
     "metadata": {},
     "output_type": "execute_result"
    }
   ],
   "source": [
    "wGMFe_adv = wGM*grid.interp(Fesp,'Z',boundary='fill')\n",
    "wGMFe_adv.coords['day'] = ('time',np.tile(range(24),dy))\n",
    "with ProgressBar():\n",
    "    wGMFe_advd = wGMFe_adv.sel(YC=slice(6e5,14e5)).groupby('day').mean(['time','YC','XC']).compute()\n",
    "wGMFe_advd"
   ]
  },
  {
   "cell_type": "code",
   "execution_count": 120,
   "metadata": {},
   "outputs": [
    {
     "name": "stdout",
     "output_type": "stream",
     "text": [
      "[########################################] | 100% Completed | 13.7s\n"
     ]
    },
    {
     "data": {
      "text/plain": [
       "<xarray.DataArray 'TRAC03' (day: 360, Z: 40)>\n",
       "array([[3.429686e-06, 3.402950e-06, 3.380198e-06, ..., 2.393328e-04,\n",
       "        2.404354e-04, 2.414382e-04],\n",
       "       [3.535343e-06, 3.508910e-06, 3.486158e-06, ..., 2.393319e-04,\n",
       "        2.404361e-04, 2.414429e-04],\n",
       "       [3.643385e-06, 3.617279e-06, 3.594594e-06, ..., 2.393311e-04,\n",
       "        2.404369e-04, 2.414477e-04],\n",
       "       ...,\n",
       "       [3.128503e-06, 3.100509e-06, 3.077802e-06, ..., 2.389915e-04,\n",
       "        2.400879e-04, 2.410772e-04],\n",
       "       [3.224618e-06, 3.197052e-06, 3.174221e-06, ..., 2.389905e-04,\n",
       "        2.400884e-04, 2.410816e-04],\n",
       "       [3.324016e-06, 3.296863e-06, 3.274007e-06, ..., 2.389896e-04,\n",
       "        2.400889e-04, 2.410862e-04]], dtype=float32)\n",
       "Coordinates:\n",
       "  * Z        (Z) >f4 -5.0 -15.0 -25.0 -36.0 -49.0 -64.0 -81.5 -102.0 -126.0 ...\n",
       "    drF      (Z) >f4 10.0 10.0 10.0 12.0 14.0 16.0 19.0 22.0 26.0 30.0 36.0 ...\n",
       "    PHrefC   (Z) >f4 49.05 147.15 245.25 353.16 480.69 627.84 799.515 ...\n",
       "  * day      (day) int64 0 1 2 3 4 5 6 7 8 9 10 11 12 13 14 15 16 17 18 19 ..."
      ]
     },
     "execution_count": 120,
     "metadata": {},
     "output_type": "execute_result"
    }
   ],
   "source": [
    "Fe1D = ds.TRAC03\n",
    "Fe1D.coords['day'] = ('time',np.tile(np.roll(range(360),0),dy))\n",
    "with ProgressBar():\n",
    "    Fe_c = Fe1D.sel(YC=slice(6e5,14e5)).groupby('day').mean(['time','YC','XC']).compute()\n",
    "Fe_c"
   ]
  },
  {
   "cell_type": "code",
   "execution_count": 122,
   "metadata": {},
   "outputs": [
    {
     "name": "stderr",
     "output_type": "stream",
     "text": [
      "/home/takaya/miniconda3/envs/uptodate/lib/python3.6/site-packages/matplotlib/figure.py:2299: UserWarning: This figure includes Axes that are not compatible with tight_layout, so results might be incorrect.\n",
      "  warnings.warn(\"This figure includes Axes that are not compatible \"\n"
     ]
    },
    {
     "data": {
      "image/png": "[encoded data removed]",
      "text/plain": [
       "<Figure size 1008x288 with 6 Axes>"
      ]
     },
     "metadata": {},
     "output_type": "display_data"
    }
   ],
   "source": [
    "month = ['J','F','M','A','M','J','J','A','S','O','N','D']\n",
    "\n",
    "fig, (ax1,ax2,ax3) = plt.subplots(nrows=1, ncols=3, figsize=(14,4))\n",
    "fig.set_tight_layout(True)\n",
    "im1 = ax1.contourf(range(0,346,15), wpFep_d.Zl, wpFep_d.roll(day=-12).T*1e3*360*86400, \n",
    "                  levels=np.linspace(-.9,.9,20), \n",
    "                   cmap='RdBu_r', extend='both')\n",
    "ax1.contourf(range(14,360,15), wpFep_d.Zl, wpFep_d.roll(day=-13).T*1e3*360*86400, \n",
    "            levels=np.linspace(-.9,.9,20), \n",
    "             cmap='RdBu_r', extend='both')\n",
    "im2 = ax2.contourf(range(0,346,15), wGMFe_advd.Zl, wGMFe_advd.roll(day=-12).T*1e3*360*86400,\n",
    "                  levels=1e-0*np.linspace(-.1,.1,20), \n",
    "                  extend='both', cmap='RdBu_r')\n",
    "ax2.contourf(range(14,360,15), wGMFe_advd.Zl, wGMFe_advd.roll(day=-13).T*1e3*360*86400,\n",
    "            levels=1e-0*np.linspace(-.1,.1,20), \n",
    "            extend='both', cmap='RdBu_r')\n",
    "# im3 = ax3.contourf(range(360), Fe_c.Z, Fe_c.roll(day=-180).T*1e3, \n",
    "#                   levels=np.linspace(0,.3,11), cmap='OrRd', extend='max')\n",
    "im3 = ax3.contourf(range(360), dfz_c.Zl, dfz_c.T.roll(day=-180)*1e3*(360*86400), \n",
    "                  levels=np.linspace(-36,36,20), \n",
    "                  cmap='RdBu_r', extend='both')\n",
    "ax1.plot(range(360), -hbl99_day.sel(YC=slice(6e5,14e5)).mean(['YC']).roll(day=-180), \n",
    "       ls=':', lw=3, color='k')\n",
    "ax2.plot(range(360), -hbl99_day.sel(YC=slice(6e5,14e5)).mean(['YC']).roll(day=-180), \n",
    "       ls=':', lw=3, color='k')\n",
    "ax3.plot(range(360), -hbl99_day.sel(YC=slice(6e5,14e5)).mean(['YC']).roll(day=-180), \n",
    "       ls=':', lw=3, color='k')\n",
    "ax1.set_title(r\"w'Fe'\", fontsize=15)\n",
    "ax2.set_title(r\"w$_{GM}$Fe\", fontsize=15)\n",
    "ax3.set_title(r\"F$_{diff}$\", fontsize=15)\n",
    "ax1.set_ylabel(r\"Depth [m]\", fontsize=12)\n",
    "ax2.set_xlabel(r\"Month\", fontsize=12)\n",
    "ax1.set_xticks(np.linspace(14,344,12))\n",
    "ax1.set_xticklabels(np.roll(np.array(month),-6), fontsize=12)\n",
    "ax1.set_ylim([-400,0])\n",
    "ax2.set_xticks(np.linspace(14,344,12))\n",
    "ax2.set_xticklabels(np.roll(np.array(month),-6), fontsize=12)\n",
    "ax2.set_ylim([-400,0])\n",
    "ax3.set_xticks(np.linspace(14,344,12))\n",
    "ax3.set_xticklabels(np.roll(np.array(month),-6), fontsize=12)\n",
    "ax3.set_ylim([-400,0])\n",
    "# fig.colorbar(im1, ax=ax1, ticks=[-10,-7.5,-5.,-2.5,0,2.5,5.,7.5,10])\n",
    "# fig.colorbar(im2, ax=ax2, ticks=[-.8,-.6,-.4,-.2,0,.2,.4,.6,.8])\n",
    "# cbar = fig.colorbar(im3, ax=ax3, ticks=[0,6,12,18,24,30])\n",
    "# fig.subplots_adjust(right=0.85)\n",
    "# cbar_ax = fig.add_axes([0.88, 0.16, 0.014, 0.68])\n",
    "# cbar = fig.colorbar(im3, cax=cbar_ax, ticks=[-10,-8,-6,-4,-2,0,2,4,6,8,10])\n",
    "# cbar.set_label(r'[$\\mu$mol Fe m$^{-2}$ yr$^{-1}$]', fontsize=12)\n",
    "cbar1 = fig.colorbar(im1, ax=ax1, \n",
    "                    ticks=[-.9,-.6,-.3,0,.3,.6,.9]\n",
    "                    )\n",
    "cbar2 = fig.colorbar(im2, ax=ax2, \n",
    "                    ticks=[-.1,-.75,-.5,-.25,0,.25,.5,.75,.1]\n",
    "                    )\n",
    "cbar3 = fig.colorbar(im3, ax=ax3, \n",
    "                    ticks=[-36,-27,-18,-9,0,9,18,27,36]\n",
    "                    )\n",
    "cbar1.set_label(r\"[$\\mu$mol Fe m$^{-2}$ yr$^{-1}$]\", fontsize=12)\n",
    "cbar2.set_label(r\"[$\\mu$mol Fe m$^{-2}$ yr$^{-1}$]\", fontsize=12)\n",
    "cbar3.set_label(r\"[$\\mu$mol Fe m$^{-2}$ yr$^{-1}$]\", fontsize=12)\n",
    "# plt.savefig(op.join(bdir,'Figures/VerticalFeflux_20kmMLI-02km_fm200.pdf'))"
   ]
  },
  {
   "cell_type": "code",
   "execution_count": null,
   "metadata": {},
   "outputs": [],
   "source": []
  }
 ],
 "metadata": {
  "kernelspec": {
   "display_name": "Python 3 (uptodate)",
   "language": "python",
   "name": "uptodate"
  },
  "language_info": {
   "codemirror_mode": {
    "name": "ipython",
    "version": 3
   },
   "file_extension": ".py",
   "mimetype": "text/x-python",
   "name": "python",
   "nbconvert_exporter": "python",
   "pygments_lexer": "ipython3",
   "version": "3.8.1"
  }
 },
 "nbformat": 4,
 "nbformat_minor": 2
}
