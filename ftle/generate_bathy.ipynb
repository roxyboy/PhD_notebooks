{
 "cells": [
  {
   "cell_type": "code",
   "execution_count": 21,
   "metadata": {},
   "outputs": [],
   "source": [
    "import numpy as np\n",
    "import os.path as op\n",
    "import matplotlib.pyplot as plt\n",
    "from floater import generators\n",
    "%matplotlib inline"
   ]
  },
  {
   "cell_type": "code",
   "execution_count": 37,
   "metadata": {},
   "outputs": [],
   "source": [
    "outdir = '/swot/SUM01/takaya/ftle/input/'\n",
    "res = 1\n",
    "tp = '>f8'\n",
    "nx = 2000\n",
    "ny = 2000"
   ]
  },
  {
   "cell_type": "code",
   "execution_count": 38,
   "metadata": {},
   "outputs": [
    {
     "name": "stdout",
     "output_type": "stream",
     "text": [
      "[[ 0.  0.  0. ...  0.  0.  0.]\n",
      " [-1. -1. -1. ... -1. -1. -1.]\n",
      " [-1. -1. -1. ... -1. -1. -1.]\n",
      " ...\n",
      " [-1. -1. -1. ... -1. -1. -1.]\n",
      " [-1. -1. -1. ... -1. -1. -1.]\n",
      " [ 0.  0.  0. ...  0.  0.  0.]]\n"
     ]
    }
   ],
   "source": [
    "bathy = -1.*np.ones((ny,nx))\n",
    "bathy[0,:] = 0.\n",
    "bathy[-1,:] = 0.\n",
    "# bathy[:,0] = 0.\n",
    "# bathy[:,-1] = 0.\n",
    "print(bathy)\n",
    "bathy.astype(tp).tofile(outdir + 'BATHY_floater_%03dkm_x%04d-y%04d.bin' % (res,nx,ny))"
   ]
  },
  {
   "cell_type": "code",
   "execution_count": 39,
   "metadata": {},
   "outputs": [],
   "source": [
    "delta = 200.\n",
    "fs = generators.FloatSet(xlim=(.005e5,19.995e5), ylim=(.005e5,19.995e5), dx=delta, dy=delta)\n",
    "\n",
    "fs.to_mitgcm_format(op.join(outdir,'flt_initpo_%03dm_2d_x%04d-y%04d.bin' % (int(delta),nx,ny)), \n",
    "                    iup=0, mesh='rect', read_binary_prec=64)\n",
    "fs.to_pickle(op.join(outdir,'floatset_%03dm_2d_x%04d-y%04d.pkl' % (int(delta),nx,ny)))"
   ]
  },
  {
   "cell_type": "code",
   "execution_count": 40,
   "metadata": {},
   "outputs": [
    {
     "data": {
      "text/plain": [
       "(99900026, 9)"
      ]
     },
     "execution_count": 40,
     "metadata": {},
     "output_type": "execute_result"
    }
   ],
   "source": [
    "da = np.fromfile(op.join(outdir,'flt_initpo_%03dm_2d_x%04d-y%04d.bin' % (int(delta),nx,ny)), dtype='>f8')\n",
    "N0 = da.shape[0]\n",
    "da = da.reshape((int(N0/9),9))\n",
    "da.shape"
   ]
  },
  {
   "cell_type": "code",
   "execution_count": 17,
   "metadata": {},
   "outputs": [
    {
     "data": {
      "text/plain": [
       "array([0.000000e+00, 5.625000e+02, 6.875000e+02, ..., 5.991875e+05,\n",
       "       5.993125e+05, 5.994375e+05])"
      ]
     },
     "execution_count": 17,
     "metadata": {},
     "output_type": "execute_result"
    }
   ],
   "source": [
    "da[:,2]"
   ]
  },
  {
   "cell_type": "code",
   "execution_count": 18,
   "metadata": {},
   "outputs": [
    {
     "data": {
      "text/plain": [
       "array([     0. ,    562.5,    562.5, ..., 399437.5, 399437.5, 399437.5])"
      ]
     },
     "execution_count": 18,
     "metadata": {},
     "output_type": "execute_result"
    }
   ],
   "source": [
    "da[:,3]"
   ]
  },
  {
   "cell_type": "code",
   "execution_count": 19,
   "metadata": {},
   "outputs": [
    {
     "data": {
      "text/plain": [
       "array([0., 0., 0., ..., 0., 0., 0.])"
      ]
     },
     "execution_count": 19,
     "metadata": {},
     "output_type": "execute_result"
    }
   ],
   "source": [
    "da[:,6]"
   ]
  },
  {
   "cell_type": "code",
   "execution_count": 36,
   "metadata": {},
   "outputs": [
    {
     "data": {
      "text/plain": [
       "1999500.0"
      ]
     },
     "execution_count": 36,
     "metadata": {},
     "output_type": "execute_result"
    }
   ],
   "source": [
    "19.995e5"
   ]
  },
  {
   "cell_type": "code",
   "execution_count": null,
   "metadata": {},
   "outputs": [],
   "source": []
  }
 ],
 "metadata": {
  "kernelspec": {
   "display_name": "Python [conda env:ftle2]",
   "language": "python",
   "name": "conda-env-ftle2-py"
  },
  "language_info": {
   "codemirror_mode": {
    "name": "ipython",
    "version": 3
   },
   "file_extension": ".py",
   "mimetype": "text/x-python",
   "name": "python",
   "nbconvert_exporter": "python",
   "pygments_lexer": "ipython3",
   "version": "3.6.8"
  }
 },
 "nbformat": 4,
 "nbformat_minor": 2
}
